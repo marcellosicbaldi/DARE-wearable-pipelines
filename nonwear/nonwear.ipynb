{
 "cells": [
  {
   "cell_type": "code",
   "execution_count": 9,
   "metadata": {},
   "outputs": [],
   "source": [
    "import numpy as np\n",
    "import pandas as pd\n",
    "import matplotlib as mpl\n",
    "import matplotlib.pyplot as plt\n",
    "import os\n",
    "import glob\n",
    "\n",
    "%matplotlib inline\n",
    "#%matplotlib qt\n",
    "mpl.rcParams['lines.linewidth'] = 0.91\n",
    "plt.style.use('seaborn-v0_8-whitegrid')\n",
    "%matplotlib qt\n",
    "\n",
    "from avro.datafile import DataFileReader\n",
    "from avro.io import DatumReader"
   ]
  },
  {
   "cell_type": "code",
   "execution_count": 35,
   "metadata": {},
   "outputs": [
    {
     "name": "stdout",
     "output_type": "stream",
     "text": [
      "Processing day: 2024-05-20\n"
     ]
    }
   ],
   "source": [
    "import numpy as np\n",
    "import pandas as pd\n",
    "import os\n",
    "\n",
    "# Define path\n",
    "save_data_path = \"/Users/augenpro/Documents/Empatica/data_sara/data/parquet/\"\n",
    "\n",
    "# Define subject and device\n",
    "sub_ID = \"00007\"\n",
    "device_ID = \"3YK3J151VJ\"\n",
    "\n",
    "# Get all days (excluding hidden files)\n",
    "days = sorted([day for day in os.listdir(save_data_path) if day[0] != \".\"])\n",
    "\n",
    "acc_data = pd.DataFrame()\n",
    "temp_data = pd.DataFrame()\n",
    "\n",
    "for i, day in enumerate(days[0:1]):\n",
    "    print(f\"Processing day: {day}\")\n",
    "\n",
    "    # Load data (assuming timestamps are already in the index)\n",
    "    acc = pd.read_parquet(save_data_path + day + \"/acc.parquet\")#.sort_index()\n",
    "    ppg = pd.read_parquet(save_data_path + day + \"/ppg.parquet\")#.sort_index()\n",
    "    break\n",
    "\n",
    "    temp = pd.read_parquet(save_data_path + day + \"/temp.parquet\").sort_index()\n",
    "\n",
    "    # Concatenate data\n",
    "    acc_data = pd.concat([acc_data, acc])\n",
    "    temp_data = pd.concat([temp_data, temp])"
   ]
  },
  {
   "cell_type": "code",
   "execution_count": null,
   "metadata": {},
   "outputs": [],
   "source": [
    "acc"
   ]
  },
  {
   "cell_type": "code",
   "execution_count": 36,
   "metadata": {},
   "outputs": [
    {
     "data": {
      "text/plain": [
       "[<matplotlib.lines.Line2D at 0x30d6fda30>]"
      ]
     },
     "execution_count": 36,
     "metadata": {},
     "output_type": "execute_result"
    }
   ],
   "source": [
    "diff_t = acc.index.diff().dropna().total_seconds()\n",
    "diff_t_ppg = ppg.index.diff().dropna().total_seconds()\n",
    "\n",
    "plt.figure()\n",
    "plt.subplot(2, 1, 1)\n",
    "plt.plot(acc.index[1:], diff_t)\n",
    "plt.subplot(2, 1, 2, sharex=plt.subplot(2, 1, 1))\n",
    "plt.plot(ppg.index[1:], diff_t_ppg)"
   ]
  },
  {
   "cell_type": "code",
   "execution_count": 9,
   "metadata": {},
   "outputs": [
    {
     "data": {
      "text/plain": [
       "Timestamp('2024-05-20 13:02:55.538817')"
      ]
     },
     "execution_count": 9,
     "metadata": {},
     "output_type": "execute_result"
    }
   ],
   "source": [
    "acc_data.index[0]"
   ]
  },
  {
   "cell_type": "code",
   "execution_count": 5,
   "metadata": {},
   "outputs": [],
   "source": [
    "acc_data = acc_data.loc[pd.Timestamp(\"2024-05-22 23:20:00\"):pd.Timestamp(\"2024-05-25 13:30:00\")]\n",
    "temp_data = temp_data.loc[pd.Timestamp(\"2024-05-22 23:20:00\"):pd.Timestamp(\"2024-05-25 13:30:00\")]"
   ]
  },
  {
   "cell_type": "code",
   "execution_count": 31,
   "metadata": {},
   "outputs": [
    {
     "ename": "TypeError",
     "evalue": "Only valid with DatetimeIndex, TimedeltaIndex or PeriodIndex, but got an instance of 'RangeIndex'",
     "output_type": "error",
     "traceback": [
      "\u001b[0;31m---------------------------------------------------------------------------\u001b[0m",
      "\u001b[0;31mTypeError\u001b[0m                                 Traceback (most recent call last)",
      "Cell \u001b[0;32mIn[31], line 3\u001b[0m\n\u001b[1;32m      1\u001b[0m plt\u001b[38;5;241m.\u001b[39mfigure()\n\u001b[1;32m      2\u001b[0m plt\u001b[38;5;241m.\u001b[39msubplot(\u001b[38;5;241m2\u001b[39m, \u001b[38;5;241m1\u001b[39m, \u001b[38;5;241m1\u001b[39m)\n\u001b[0;32m----> 3\u001b[0m plt\u001b[38;5;241m.\u001b[39mplot(\u001b[43macc_data\u001b[49m\u001b[38;5;241;43m.\u001b[39;49m\u001b[43mresample\u001b[49m\u001b[43m(\u001b[49m\u001b[38;5;124;43m\"\u001b[39;49m\u001b[38;5;124;43m1 min\u001b[39;49m\u001b[38;5;124;43m\"\u001b[39;49m\u001b[43m)\u001b[49m\u001b[38;5;241m.\u001b[39mmean())\n\u001b[1;32m      4\u001b[0m plt\u001b[38;5;241m.\u001b[39msubplot(\u001b[38;5;241m2\u001b[39m, \u001b[38;5;241m1\u001b[39m, \u001b[38;5;241m2\u001b[39m, sharex \u001b[38;5;241m=\u001b[39m plt\u001b[38;5;241m.\u001b[39msubplot(\u001b[38;5;241m2\u001b[39m, \u001b[38;5;241m1\u001b[39m, \u001b[38;5;241m1\u001b[39m))\n\u001b[1;32m      5\u001b[0m plt\u001b[38;5;241m.\u001b[39mplot(temp_data\u001b[38;5;241m.\u001b[39mresample(\u001b[38;5;124m\"\u001b[39m\u001b[38;5;124m1 min\u001b[39m\u001b[38;5;124m\"\u001b[39m)\u001b[38;5;241m.\u001b[39mmean())\n",
      "File \u001b[0;32m/opt/anaconda3/envs/DARE/lib/python3.12/site-packages/pandas/core/generic.py:9771\u001b[0m, in \u001b[0;36mNDFrame.resample\u001b[0;34m(self, rule, axis, closed, label, convention, kind, on, level, origin, offset, group_keys)\u001b[0m\n\u001b[1;32m   9768\u001b[0m \u001b[38;5;28;01melse\u001b[39;00m:\n\u001b[1;32m   9769\u001b[0m     convention \u001b[38;5;241m=\u001b[39m \u001b[38;5;124m\"\u001b[39m\u001b[38;5;124mstart\u001b[39m\u001b[38;5;124m\"\u001b[39m\n\u001b[0;32m-> 9771\u001b[0m \u001b[38;5;28;01mreturn\u001b[39;00m \u001b[43mget_resampler\u001b[49m\u001b[43m(\u001b[49m\n\u001b[1;32m   9772\u001b[0m \u001b[43m    \u001b[49m\u001b[43mcast\u001b[49m\u001b[43m(\u001b[49m\u001b[38;5;124;43m\"\u001b[39;49m\u001b[38;5;124;43mSeries | DataFrame\u001b[39;49m\u001b[38;5;124;43m\"\u001b[39;49m\u001b[43m,\u001b[49m\u001b[43m \u001b[49m\u001b[38;5;28;43mself\u001b[39;49m\u001b[43m)\u001b[49m\u001b[43m,\u001b[49m\n\u001b[1;32m   9773\u001b[0m \u001b[43m    \u001b[49m\u001b[43mfreq\u001b[49m\u001b[38;5;241;43m=\u001b[39;49m\u001b[43mrule\u001b[49m\u001b[43m,\u001b[49m\n\u001b[1;32m   9774\u001b[0m \u001b[43m    \u001b[49m\u001b[43mlabel\u001b[49m\u001b[38;5;241;43m=\u001b[39;49m\u001b[43mlabel\u001b[49m\u001b[43m,\u001b[49m\n\u001b[1;32m   9775\u001b[0m \u001b[43m    \u001b[49m\u001b[43mclosed\u001b[49m\u001b[38;5;241;43m=\u001b[39;49m\u001b[43mclosed\u001b[49m\u001b[43m,\u001b[49m\n\u001b[1;32m   9776\u001b[0m \u001b[43m    \u001b[49m\u001b[43maxis\u001b[49m\u001b[38;5;241;43m=\u001b[39;49m\u001b[43maxis\u001b[49m\u001b[43m,\u001b[49m\n\u001b[1;32m   9777\u001b[0m \u001b[43m    \u001b[49m\u001b[43mkind\u001b[49m\u001b[38;5;241;43m=\u001b[39;49m\u001b[43mkind\u001b[49m\u001b[43m,\u001b[49m\n\u001b[1;32m   9778\u001b[0m \u001b[43m    \u001b[49m\u001b[43mconvention\u001b[49m\u001b[38;5;241;43m=\u001b[39;49m\u001b[43mconvention\u001b[49m\u001b[43m,\u001b[49m\n\u001b[1;32m   9779\u001b[0m \u001b[43m    \u001b[49m\u001b[43mkey\u001b[49m\u001b[38;5;241;43m=\u001b[39;49m\u001b[43mon\u001b[49m\u001b[43m,\u001b[49m\n\u001b[1;32m   9780\u001b[0m \u001b[43m    \u001b[49m\u001b[43mlevel\u001b[49m\u001b[38;5;241;43m=\u001b[39;49m\u001b[43mlevel\u001b[49m\u001b[43m,\u001b[49m\n\u001b[1;32m   9781\u001b[0m \u001b[43m    \u001b[49m\u001b[43morigin\u001b[49m\u001b[38;5;241;43m=\u001b[39;49m\u001b[43morigin\u001b[49m\u001b[43m,\u001b[49m\n\u001b[1;32m   9782\u001b[0m \u001b[43m    \u001b[49m\u001b[43moffset\u001b[49m\u001b[38;5;241;43m=\u001b[39;49m\u001b[43moffset\u001b[49m\u001b[43m,\u001b[49m\n\u001b[1;32m   9783\u001b[0m \u001b[43m    \u001b[49m\u001b[43mgroup_keys\u001b[49m\u001b[38;5;241;43m=\u001b[39;49m\u001b[43mgroup_keys\u001b[49m\u001b[43m,\u001b[49m\n\u001b[1;32m   9784\u001b[0m \u001b[43m\u001b[49m\u001b[43m)\u001b[49m\n",
      "File \u001b[0;32m/opt/anaconda3/envs/DARE/lib/python3.12/site-packages/pandas/core/resample.py:2050\u001b[0m, in \u001b[0;36mget_resampler\u001b[0;34m(obj, kind, **kwds)\u001b[0m\n\u001b[1;32m   2046\u001b[0m \u001b[38;5;250m\u001b[39m\u001b[38;5;124;03m\"\"\"\u001b[39;00m\n\u001b[1;32m   2047\u001b[0m \u001b[38;5;124;03mCreate a TimeGrouper and return our resampler.\u001b[39;00m\n\u001b[1;32m   2048\u001b[0m \u001b[38;5;124;03m\"\"\"\u001b[39;00m\n\u001b[1;32m   2049\u001b[0m tg \u001b[38;5;241m=\u001b[39m TimeGrouper(obj, \u001b[38;5;241m*\u001b[39m\u001b[38;5;241m*\u001b[39mkwds)  \u001b[38;5;66;03m# type: ignore[arg-type]\u001b[39;00m\n\u001b[0;32m-> 2050\u001b[0m \u001b[38;5;28;01mreturn\u001b[39;00m \u001b[43mtg\u001b[49m\u001b[38;5;241;43m.\u001b[39;49m\u001b[43m_get_resampler\u001b[49m\u001b[43m(\u001b[49m\u001b[43mobj\u001b[49m\u001b[43m,\u001b[49m\u001b[43m \u001b[49m\u001b[43mkind\u001b[49m\u001b[38;5;241;43m=\u001b[39;49m\u001b[43mkind\u001b[49m\u001b[43m)\u001b[49m\n",
      "File \u001b[0;32m/opt/anaconda3/envs/DARE/lib/python3.12/site-packages/pandas/core/resample.py:2272\u001b[0m, in \u001b[0;36mTimeGrouper._get_resampler\u001b[0;34m(self, obj, kind)\u001b[0m\n\u001b[1;32m   2263\u001b[0m \u001b[38;5;28;01melif\u001b[39;00m \u001b[38;5;28misinstance\u001b[39m(ax, TimedeltaIndex):\n\u001b[1;32m   2264\u001b[0m     \u001b[38;5;28;01mreturn\u001b[39;00m TimedeltaIndexResampler(\n\u001b[1;32m   2265\u001b[0m         obj,\n\u001b[1;32m   2266\u001b[0m         timegrouper\u001b[38;5;241m=\u001b[39m\u001b[38;5;28mself\u001b[39m,\n\u001b[0;32m   (...)\u001b[0m\n\u001b[1;32m   2269\u001b[0m         gpr_index\u001b[38;5;241m=\u001b[39max,\n\u001b[1;32m   2270\u001b[0m     )\n\u001b[0;32m-> 2272\u001b[0m \u001b[38;5;28;01mraise\u001b[39;00m \u001b[38;5;167;01mTypeError\u001b[39;00m(\n\u001b[1;32m   2273\u001b[0m     \u001b[38;5;124m\"\u001b[39m\u001b[38;5;124mOnly valid with DatetimeIndex, \u001b[39m\u001b[38;5;124m\"\u001b[39m\n\u001b[1;32m   2274\u001b[0m     \u001b[38;5;124m\"\u001b[39m\u001b[38;5;124mTimedeltaIndex or PeriodIndex, \u001b[39m\u001b[38;5;124m\"\u001b[39m\n\u001b[1;32m   2275\u001b[0m     \u001b[38;5;124mf\u001b[39m\u001b[38;5;124m\"\u001b[39m\u001b[38;5;124mbut got an instance of \u001b[39m\u001b[38;5;124m'\u001b[39m\u001b[38;5;132;01m{\u001b[39;00m\u001b[38;5;28mtype\u001b[39m(ax)\u001b[38;5;241m.\u001b[39m\u001b[38;5;18m__name__\u001b[39m\u001b[38;5;132;01m}\u001b[39;00m\u001b[38;5;124m'\u001b[39m\u001b[38;5;124m\"\u001b[39m\n\u001b[1;32m   2276\u001b[0m )\n",
      "\u001b[0;31mTypeError\u001b[0m: Only valid with DatetimeIndex, TimedeltaIndex or PeriodIndex, but got an instance of 'RangeIndex'"
     ]
    }
   ],
   "source": [
    "plt.figure()\n",
    "plt.subplot(2, 1, 1)\n",
    "plt.plot(acc_data.resample(\"1 min\").mean())\n",
    "plt.subplot(2, 1, 2, sharex = plt.subplot(2, 1, 1))\n",
    "plt.plot(temp_data.resample(\"1 min\").mean())"
   ]
  },
  {
   "cell_type": "code",
   "execution_count": 6,
   "metadata": {},
   "outputs": [],
   "source": [
    "from DETACH import nimbaldetach\n",
    "# * 1000 to convert to mg\n",
    "start_stop_nw, _ = nimbaldetach(acc_data['x'].values, acc_data['y'].values, acc_data['z'].values, temp_data[\"temp\"].values, accel_freq=64, temperature_freq=1, quiet=True)"
   ]
  },
  {
   "cell_type": "code",
   "execution_count": 7,
   "metadata": {},
   "outputs": [
    {
     "data": {
      "text/html": [
       "<div>\n",
       "<style scoped>\n",
       "    .dataframe tbody tr th:only-of-type {\n",
       "        vertical-align: middle;\n",
       "    }\n",
       "\n",
       "    .dataframe tbody tr th {\n",
       "        vertical-align: top;\n",
       "    }\n",
       "\n",
       "    .dataframe thead th {\n",
       "        text-align: right;\n",
       "    }\n",
       "</style>\n",
       "<table border=\"1\" class=\"dataframe\">\n",
       "  <thead>\n",
       "    <tr style=\"text-align: right;\">\n",
       "      <th></th>\n",
       "      <th>Start Datapoint</th>\n",
       "      <th>End Datapoint</th>\n",
       "    </tr>\n",
       "  </thead>\n",
       "  <tbody>\n",
       "    <tr>\n",
       "      <th>1</th>\n",
       "      <td>8768960</td>\n",
       "      <td>14323136</td>\n",
       "    </tr>\n",
       "  </tbody>\n",
       "</table>\n",
       "</div>"
      ],
      "text/plain": [
       "   Start Datapoint  End Datapoint\n",
       "1          8768960       14323136"
      ]
     },
     "execution_count": 7,
     "metadata": {},
     "output_type": "execute_result"
    }
   ],
   "source": [
    "start_stop_nw"
   ]
  },
  {
   "cell_type": "code",
   "execution_count": 8,
   "metadata": {},
   "outputs": [
    {
     "name": "stderr",
     "output_type": "stream",
     "text": [
      "2025-02-05 09:29:02.418 python[25861:387146] +[IMKClient subclass]: chose IMKClient_Modern\n"
     ]
    }
   ],
   "source": [
    "from DETACH import plot_nonwear\n",
    "\n",
    "plot_nonwear(\"01\", acc_data, temp_data, start_stop_nw)"
   ]
  },
  {
   "cell_type": "code",
   "execution_count": null,
   "metadata": {},
   "outputs": [],
   "source": []
  },
  {
   "cell_type": "code",
   "execution_count": null,
   "metadata": {},
   "outputs": [],
   "source": []
  },
  {
   "cell_type": "code",
   "execution_count": null,
   "metadata": {},
   "outputs": [],
   "source": []
  },
  {
   "cell_type": "code",
   "execution_count": null,
   "metadata": {},
   "outputs": [],
   "source": []
  },
  {
   "cell_type": "code",
   "execution_count": null,
   "metadata": {},
   "outputs": [],
   "source": []
  },
  {
   "cell_type": "code",
   "execution_count": null,
   "metadata": {},
   "outputs": [],
   "source": []
  },
  {
   "cell_type": "code",
   "execution_count": null,
   "metadata": {},
   "outputs": [],
   "source": []
  },
  {
   "cell_type": "code",
   "execution_count": null,
   "metadata": {},
   "outputs": [],
   "source": [
    "import numpy as np\n",
    "import pandas as pd\n",
    "import os\n",
    "\n",
    "# Define path\n",
    "save_data_path = \"/Users/marcellosicbaldi/Library/CloudStorage/OneDrive-AlmaMaterStudiorumUniversitàdiBologna/tesi_Sara/Empatica/data/parquet/\"\n",
    "\n",
    "# Define subject and device\n",
    "sub_ID = \"00007\"\n",
    "device_ID = \"3YK3J151VJ\"\n",
    "\n",
    "# Get all days (excluding hidden files)\n",
    "days = sorted([day for day in os.listdir(save_data_path) if day[0] != \".\"])\n",
    "\n",
    "# List to store processed data per day\n",
    "day_data = []\n",
    "\n",
    "for i, day in enumerate(days):\n",
    "    print(f\"Processing day: {day}\")\n",
    "\n",
    "    # Load data (assuming timestamps are already in the index)\n",
    "    ppg = pd.read_parquet(save_data_path + day + \"/ppg.parquet\").sort_index()\n",
    "    acc = pd.read_parquet(save_data_path + day + \"/acc.parquet\").sort_index()\n",
    "    sys_peaks = pd.read_parquet(save_data_path + day + \"/sys_peaks.parquet\")\n",
    "    sys_peaks.index = pd.to_datetime(sys_peaks[\"SysPeakTime\"].astype(str))\n",
    "    temp = pd.read_parquet(save_data_path + day + \"/temp.parquet\").sort_index()\n",
    "\n",
    "    # Find the first timestamp for this day's data\n",
    "    start_time = min(ppg.index.min(), acc.index.min(), sys_peaks[\"SysPeakTime\"].min(), temp.index.min())\n",
    "\n",
    "    # Define end time for this segment (24-hour window from start)\n",
    "    end_time = start_time + pd.Timedelta(hours=24)\n",
    "\n",
    "    # Append to list for processing\n",
    "    day_data.append({'start': start_time, 'end': end_time, 'day': day, \n",
    "                     'ppg': ppg, 'acc': acc, 'sys_peaks': sys_peaks, 'temp': temp})"
   ]
  },
  {
   "cell_type": "code",
   "execution_count": 3,
   "metadata": {},
   "outputs": [
    {
     "name": "stdout",
     "output_type": "stream",
     "text": [
      "Day 2024-05-20 - Start: 2024-05-20 13:02:55.523192, End: 2024-05-21 13:02:55.523192, PPG samples: 2998976, ACC samples: 2999168, SYS_Peaks samples: 52188\n",
      "Day 2024-05-21 - Start: 2024-05-21 02:03:49.754983750, End: 2024-05-22 02:03:49.754983750, PPG samples: 5529303, ACC samples: 5529111, SYS_Peaks samples: 95325\n",
      "Day 2024-05-22 - Start: 2024-05-22 02:05:41.135601500, End: 2024-05-23 02:05:41.135601500, PPG samples: 4556562, ACC samples: 4556690, SYS_Peaks samples: 76882\n",
      "Day 2024-05-23 - Start: 2024-05-23 02:16:15.441449750, End: 2024-05-24 02:16:15.441449750, PPG samples: 5529132, ACC samples: 5529132, SYS_Peaks samples: 97243\n",
      "Day 2024-05-24 - Start: 2024-05-24 02:18:41.385549500, End: 2024-05-25 02:18:41.385549500, PPG samples: 5529189, ACC samples: 5529203, SYS_Peaks samples: 83471\n",
      "Day 2024-05-25 - Start: 2024-05-25 02:21:49.608278500, End: 2024-05-26 02:21:49.608278500, PPG samples: 3620480, ACC samples: 3621088, SYS_Peaks samples: 53169\n",
      "Day 2024-05-26 - Start: 2024-05-26 02:13:50.864583, End: 2024-05-27 02:13:50.864583, PPG samples: 5528738, ACC samples: 5528652, SYS_Peaks samples: 99743\n",
      "Day 2024-05-27 - Start: 2024-05-27 02:17:55.248441500, End: 2024-05-27 11:08:56.666828, PPG samples: 2038784, ACC samples: 2038816, SYS_Peaks samples: 35819\n"
     ]
    }
   ],
   "source": [
    "# Adjust last day's end time to cover till the final available timestamp\n",
    "day_data[-1]['end'] = max(day_data[-1]['ppg'].index.max(),\n",
    "                          day_data[-1]['acc'].index.max(),\n",
    "                          day_data[-1]['sys_peaks'].values.max(),\n",
    "                          day_data[-1]['temp'].index.max())\n",
    "\n",
    "# Process and align data into 24-hour segments\n",
    "aligned_days = []\n",
    "for i, data in enumerate(day_data):\n",
    "    start, end = pd.to_datetime(data['start']), pd.to_datetime(data['end'])\n",
    "\n",
    "    # Filter data using index (since timestamps are already in the index)\n",
    "    ppg_filtered = data['ppg'].loc[start:end]\n",
    "    acc_filtered = data['acc'].loc[start:end]\n",
    "    sys_peaks_filtered = data['sys_peaks'].loc[start:end]\n",
    "    temp_filtered = data['temp'].loc[start:end]\n",
    "\n",
    "    aligned_days.append({'start': start, 'end': end, 'day': data['day'], \n",
    "                         'ppg': ppg_filtered, 'acc': acc_filtered, 'sys_peaks': sys_peaks_filtered,\n",
    "                         'temp': temp_filtered})\n",
    "\n",
    "# Print results\n",
    "for d in aligned_days:\n",
    "    print(f\"Day {d['day']} - Start: {d['start']}, End: {d['end']}, \"\n",
    "          f\"PPG samples: {len(d['ppg'])}, ACC samples: {len(d['acc'])}, SYS_Peaks samples: {len(d['sys_peaks'])}\")"
   ]
  },
  {
   "cell_type": "code",
   "execution_count": 6,
   "metadata": {},
   "outputs": [
    {
     "data": {
      "text/html": [
       "<div>\n",
       "<style scoped>\n",
       "    .dataframe tbody tr th:only-of-type {\n",
       "        vertical-align: middle;\n",
       "    }\n",
       "\n",
       "    .dataframe tbody tr th {\n",
       "        vertical-align: top;\n",
       "    }\n",
       "\n",
       "    .dataframe thead th {\n",
       "        text-align: right;\n",
       "    }\n",
       "</style>\n",
       "<table border=\"1\" class=\"dataframe\">\n",
       "  <thead>\n",
       "    <tr style=\"text-align: right;\">\n",
       "      <th></th>\n",
       "      <th>ppg</th>\n",
       "    </tr>\n",
       "  </thead>\n",
       "  <tbody>\n",
       "    <tr>\n",
       "      <th>2024-05-20 13:02:55.531981</th>\n",
       "      <td>0.000000</td>\n",
       "    </tr>\n",
       "    <tr>\n",
       "      <th>2024-05-20 13:02:55.547606</th>\n",
       "      <td>0.000008</td>\n",
       "    </tr>\n",
       "    <tr>\n",
       "      <th>2024-05-20 13:02:55.563231</th>\n",
       "      <td>0.000052</td>\n",
       "    </tr>\n",
       "    <tr>\n",
       "      <th>2024-05-20 13:02:55.578856</th>\n",
       "      <td>0.000184</td>\n",
       "    </tr>\n",
       "    <tr>\n",
       "      <th>2024-05-20 13:02:55.594481</th>\n",
       "      <td>0.000457</td>\n",
       "    </tr>\n",
       "    <tr>\n",
       "      <th>...</th>\n",
       "      <td>...</td>\n",
       "    </tr>\n",
       "    <tr>\n",
       "      <th>2024-05-21 02:03:54.339079</th>\n",
       "      <td>0.051028</td>\n",
       "    </tr>\n",
       "    <tr>\n",
       "      <th>2024-05-21 02:03:54.354704</th>\n",
       "      <td>0.046407</td>\n",
       "    </tr>\n",
       "    <tr>\n",
       "      <th>2024-05-21 02:03:54.370329</th>\n",
       "      <td>0.041619</td>\n",
       "    </tr>\n",
       "    <tr>\n",
       "      <th>2024-05-21 02:03:54.385954</th>\n",
       "      <td>0.036553</td>\n",
       "    </tr>\n",
       "    <tr>\n",
       "      <th>2024-05-21 02:03:54.401579</th>\n",
       "      <td>0.030989</td>\n",
       "    </tr>\n",
       "  </tbody>\n",
       "</table>\n",
       "<p>2998976 rows × 1 columns</p>\n",
       "</div>"
      ],
      "text/plain": [
       "                                 ppg\n",
       "2024-05-20 13:02:55.531981  0.000000\n",
       "2024-05-20 13:02:55.547606  0.000008\n",
       "2024-05-20 13:02:55.563231  0.000052\n",
       "2024-05-20 13:02:55.578856  0.000184\n",
       "2024-05-20 13:02:55.594481  0.000457\n",
       "...                              ...\n",
       "2024-05-21 02:03:54.339079  0.051028\n",
       "2024-05-21 02:03:54.354704  0.046407\n",
       "2024-05-21 02:03:54.370329  0.041619\n",
       "2024-05-21 02:03:54.385954  0.036553\n",
       "2024-05-21 02:03:54.401579  0.030989\n",
       "\n",
       "[2998976 rows x 1 columns]"
      ]
     },
     "execution_count": 6,
     "metadata": {},
     "output_type": "execute_result"
    }
   ],
   "source": [
    "aligned_days[0][\"ppg\"]"
   ]
  },
  {
   "cell_type": "code",
   "execution_count": 5,
   "metadata": {},
   "outputs": [],
   "source": [
    "# Save days\n",
    "for i, d in enumerate(aligned_days):\n",
    "    os.makedirs(save_data_path + \"day_\" + str(i+1), exist_ok=True)\n",
    "    # d['ppg'].to_parquet(save_data_path + \"day_\" + str(i+1) + \"/ppg.parquet\")\n",
    "    # d['acc'].to_parquet(save_data_path + \"day_\" + str(i+1) + \"/acc.parquet\")\n",
    "    # d['sys_peaks'].to_parquet(save_data_path + \"day_\" + str(i+1) + \"/sys_peaks.parquet\")\n",
    "    d['temp'].to_parquet(save_data_path + \"day_\" + str(i+1) + \"/temp.parquet\")"
   ]
  },
  {
   "cell_type": "code",
   "execution_count": null,
   "metadata": {},
   "outputs": [],
   "source": []
  }
 ],
 "metadata": {
  "kernelspec": {
   "display_name": "DARE",
   "language": "python",
   "name": "python3"
  },
  "language_info": {
   "codemirror_mode": {
    "name": "ipython",
    "version": 3
   },
   "file_extension": ".py",
   "mimetype": "text/x-python",
   "name": "python",
   "nbconvert_exporter": "python",
   "pygments_lexer": "ipython3",
   "version": "3.12.2"
  }
 },
 "nbformat": 4,
 "nbformat_minor": 2
}
