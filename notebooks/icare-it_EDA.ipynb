{
 "cells": [
  {
   "cell_type": "markdown",
   "metadata": {},
   "source": [
    "# AGE-it - Exploratory Data Analysis\n",
    "\n",
    "- Summary of the recordings - how many hours/days for each sensor?\n",
    "- How many hour/das do we consider to be enough for the analysis?"
   ]
  },
  {
   "cell_type": "markdown",
   "metadata": {},
   "source": [
    "### Import libraries"
   ]
  },
  {
   "cell_type": "code",
   "execution_count": 1,
   "metadata": {},
   "outputs": [],
   "source": [
    "import numpy as np\n",
    "import pandas as pd\n",
    "import matplotlib as mpl\n",
    "import matplotlib.pyplot as plt\n",
    "import os\n",
    "import glob\n",
    "\n",
    "%matplotlib inline\n",
    "#%matplotlib qt\n",
    "mpl.rcParams['lines.linewidth'] = 0.91\n",
    "plt.style.use('seaborn-v0_8-whitegrid')\n",
    "%matplotlib qt\n",
    "\n",
    "from avro.datafile import DataFileReader\n",
    "from avro.io import DatumReader\n",
    "\n",
    "from bokeh.plotting import figure, show\n",
    "from bokeh.io import output_notebook\n",
    "from bokeh.models import ColumnDataSource, HoverTool, Slider, Select\n",
    "from bokeh.layouts import gridplot\n",
    "from bokeh.models import Range1d\n",
    "from bokeh.io import export_png\n",
    "from bokeh.models import DatetimeTickFormatter"
   ]
  },
  {
   "cell_type": "markdown",
   "metadata": {},
   "source": [
    "## GENEActiv\n",
    "Files are already converted into .bin with the bin2parquet notebook"
   ]
  },
  {
   "cell_type": "code",
   "execution_count": 5,
   "metadata": {},
   "outputs": [
    {
     "name": "stdout",
     "output_type": "stream",
     "text": [
      "***** 08667 *****\n",
      "GeneActivPolso:  5 days 18:02:50\n",
      "GeneActivCaviglia:  5 days 23:59:02\n",
      "\n",
      "***** 20603 *****\n",
      "GeneActivPolso:  6 days 21:00:17\n",
      "GeneActivCaviglia:  6 days 20:59:56\n",
      "\n",
      "***** 36765 *****\n",
      "GeneActivPolso:  6 days 23:19:53\n",
      "GeneActivCaviglia:  6 days 23:20:35\n",
      "\n"
     ]
    }
   ],
   "source": [
    "data_path = \"/Users/augenpro/Documents/Age-IT/data/Bronze/\" # path to the folder containing the subjects\n",
    "participants = sorted([p for p in os.listdir(data_path) if not p.startswith(\".\")]) # list of the participants\n",
    "visit = \"T0 (baseline)\" # T0 (baseline), T1 (follow-up @ 6 months), T2 (follow-up @ 12 months)\n",
    "\n",
    "# participants = participants[5:6] # select the first participant\n",
    "participants = [\"08667\", \"20603\", \"36765\"]\n",
    "\n",
    "sensors = [\"GeneActivPolso\", \"GeneActivCaviglia\"]#, \"RootiRx\"]\n",
    "\n",
    "geneactiv = {}\n",
    "\n",
    "for participant in participants:\n",
    "    print(\"***** \" + participant + \" *****\")\n",
    "    for sensor in sensors:\n",
    "        # print(sensor)\n",
    "        # Load the data\n",
    "        path = os.path.join(data_path, participant, visit, sensor)\n",
    "        files = os.listdir(os.path.join(data_path, participant, visit, sensor))\n",
    "        # if there are already parquet files, skip\n",
    "        for f in files:\n",
    "            if f.endswith(\".parquet\"):\n",
    "                # print(f)\n",
    "                acc_df = pd.read_parquet(os.path.join(path, f))\n",
    "                geneactiv[sensor] = acc_df\n",
    "                if len(acc_df) == 0:\n",
    "                    print(f\"{sensor}: is empty\")\n",
    "                else:\n",
    "                    print(f\"{sensor}:  {acc_df.index[-1] - acc_df.index[0]}\".split(\".\")[0])\n",
    "\n",
    "    print(\"\")\n",
    "# # Plot the data\n",
    "# p = figure(plot_width=800, plot_height=400, x_axis_type=\"datetime\", title=f\"{participant} - {sensor} - {visit}\")\n",
    "# p.line(data[\"timestamp\"], data[\"x\"], line_width=2, legend_label=\"x\", color=\"blue\")\n",
    "# p.line(data[\"timestamp\"], data[\"y\"], line_width=2, legend_label=\"y\", color=\"green\")\n",
    "# p.line(data[\"timestamp\"], data[\"z\"], line_width=2, legend_label=\"z\", color=\"red\")\n",
    "# p.xaxis.formatter = DatetimeTickFormatter(days=\"%d/%m %H:%M\", hours=\"%H:%M\")\n",
    "# p.legend.location = \"top_left\"\n",
    "# p.legend.click_policy=\"hide\"\n",
    "# show(p)\n",
    "# export_png(p, filename=f\"{participant}_{sensor}_{visit}.png\")\n",
    "# print(f\"{participant}_{sensor}_{visit}.png\")\n",
    "# print(\"\")"
   ]
  },
  {
   "cell_type": "code",
   "execution_count": 6,
   "metadata": {},
   "outputs": [
    {
     "name": "stdout",
     "output_type": "stream",
     "text": [
      "GeneActivPolso: 6 days 23:19:53\n",
      "GeneActivCaviglia: 6 days 23:20:35\n"
     ]
    }
   ],
   "source": [
    "# Recording duration\n",
    "for sensor, data in geneactiv.items():\n",
    "    print(f\"{sensor}: {data.index[-1] - data.index[0]}\".split(\".\")[0])"
   ]
  },
  {
   "cell_type": "code",
   "execution_count": 10,
   "metadata": {},
   "outputs": [
    {
     "data": {
      "text/plain": [
       "<matplotlib.legend.Legend at 0x1723c48c0>"
      ]
     },
     "execution_count": 10,
     "metadata": {},
     "output_type": "execute_result"
    }
   ],
   "source": [
    "from utils.compute_acc_metrics import compute_acc_SMV\n",
    "\n",
    "# for sensor, data in geneactiv.items():\n",
    "#     data = compute_acc_SMV(data)\n",
    "#     geneactiv[sensor] = data\n",
    "\n",
    "plt.figure(figsize = (19,11))\n",
    "plt.subplot(2, 1, 1)\n",
    "plt.plot(geneactiv[\"GeneActivPolso\"].iloc[:1000000], label = \"GeneActivPolso\")\n",
    "plt.plot(geneactiv[\"GeneActivCaviglia\"].iloc[:1000000], label = \"GeneActivCaviglia\")\n",
    "plt.title(\"Recording Start\", fontsize = 21)\n",
    "plt.legend()\n",
    "plt.subplot(2, 1, 2)\n",
    "plt.plot(geneactiv[\"GeneActivPolso\"].iloc[-1000000:], label = \"GeneActivPolso\")\n",
    "plt.plot(geneactiv[\"GeneActivCaviglia\"].iloc[-1000000:], label = \"GeneActivCaviglia\")\n",
    "plt.title(\"Recording End\", fontsize = 21)\n",
    "plt.legend()"
   ]
  },
  {
   "cell_type": "markdown",
   "metadata": {},
   "source": [
    "## Verity Sense"
   ]
  },
  {
   "cell_type": "code",
   "execution_count": 2,
   "metadata": {},
   "outputs": [],
   "source": [
    "from data_io.veritysense.convert_polar import process_polar"
   ]
  },
  {
   "cell_type": "code",
   "execution_count": 3,
   "metadata": {},
   "outputs": [],
   "source": [
    "import fastavro\n",
    "\n",
    "def read_avro_veritysense(file_path, offset_vs = 946684800000000000+ 3600 * 1e9):\n",
    "    \"\"\"\n",
    "    Reads an Avro file and returns the data as a pandas DataFrame.\n",
    "    \"\"\"\n",
    "    with open(file_path, \"rb\") as avro_file:\n",
    "        # Use fastavro.reader to read the Avro file\n",
    "        reader = fastavro.reader(avro_file)\n",
    "        # Convert the records to a list\n",
    "        records = [record for record in reader]\n",
    "       # to dataframe\n",
    "        df = pd.DataFrame(records)\n",
    "        df.index = pd.to_datetime(df[\"timestamp\"] + offset_vs, unit=\"ns\") \n",
    "        df.drop(\"timestamp\", axis=1, inplace=True)\n",
    "    return df / 1000"
   ]
  },
  {
   "cell_type": "code",
   "execution_count": 4,
   "metadata": {},
   "outputs": [],
   "source": [
    "import re\n",
    "from datetime import datetime\n",
    "\n",
    "# Function to extract full datetime (including time) for sorting\n",
    "def extract_datetime(filename):\n",
    "    match = re.search(r'(\\w{3}) (\\w{3}) (\\d{2}) (\\d{2})-(\\d{2})-(\\d{2}) .* (\\d{4})', filename)\n",
    "    if match:\n",
    "        weekday, month, day, hour, minute, second, year = match.groups()\n",
    "        date_str = f\"{day} {month} {year} {hour}:{minute}:{second}\"\n",
    "        date_obj = datetime.strptime(date_str, \"%d %b %Y %H:%M:%S\")  # Convert to datetime object\n",
    "        return date_obj\n",
    "    return datetime.max  # Default to a max value if parsing fails"
   ]
  },
  {
   "cell_type": "code",
   "execution_count": 5,
   "metadata": {},
   "outputs": [
    {
     "name": "stdout",
     "output_type": "stream",
     "text": [
      "**************** 36920 ****************\n",
      "\n",
      " ***** Disconnections in ACC *****\n",
      "Disconnection 1:\n",
      "Start: 2025-01-30 10:25:24\n",
      "End: 2025-01-30 10:25:31\n",
      "Duration: 00 min and 07 s\n",
      "Disconnection 2:\n",
      "Start: 2025-01-30 12:21:21\n",
      "End: 2025-01-30 12:21:51\n",
      "Duration: 00 min and 29 s\n",
      "Disconnection 3:\n",
      "Start: 2025-01-30 12:39:58\n",
      "End: 2025-01-30 12:41:39\n",
      "Duration: 01 min and 41 s\n",
      "Disconnection 4:\n",
      "Start: 2025-01-30 15:02:10\n",
      "End: 2025-01-30 15:16:14\n",
      "Duration: 14 min and 03 s\n",
      "Disconnection 5:\n",
      "Start: 2025-01-30 15:16:28\n",
      "End: 2025-01-30 15:19:03\n",
      "Duration: 02 min and 35 s\n",
      "Disconnection 6:\n",
      "Start: 2025-01-30 16:19:34\n",
      "End: 2025-01-30 16:19:49\n",
      "Duration: 00 min and 15 s\n",
      "Disconnection 7:\n",
      "Start: 2025-01-30 16:33:11\n",
      "End: 2025-01-30 16:33:42\n",
      "Duration: 00 min and 31 s\n",
      "Disconnection 8:\n",
      "Start: 2025-01-30 17:21:11\n",
      "End: 2025-01-30 17:23:52\n",
      "Duration: 02 min and 41 s\n",
      "Disconnection 9:\n",
      "Start: 2025-01-30 17:46:52\n",
      "End: 2025-01-30 17:56:28\n",
      "Duration: 09 min and 35 s\n",
      "Disconnection 10:\n",
      "Start: 2025-01-30 17:58:54\n",
      "End: 2025-01-30 17:59:22\n",
      "Duration: 00 min and 27 s\n",
      "Disconnection 11:\n",
      "Start: 2025-01-30 17:59:45\n",
      "End: 2025-01-30 18:03:58\n",
      "Duration: 04 min and 12 s\n",
      "Disconnection 12:\n",
      "Start: 2025-01-30 18:15:20\n",
      "End: 2025-01-30 18:28:54\n",
      "Duration: 13 min and 34 s\n",
      "Disconnection 13:\n",
      "Start: 2025-01-30 18:30:17\n",
      "End: 2025-01-30 18:37:29\n",
      "Duration: 07 min and 12 s\n",
      "Disconnection 14:\n",
      "Start: 2025-01-30 19:16:39\n",
      "End: 2025-01-30 20:51:39\n",
      "Duration: 34 min and 59 s\n",
      "Disconnection 15:\n",
      "Start: 2025-01-31 00:13:47\n",
      "End: 2025-01-31 00:16:11\n",
      "Duration: 02 min and 23 s\n",
      "Disconnection 16:\n",
      "Start: 2025-01-31 07:30:46\n",
      "End: 2025-01-31 07:38:13\n",
      "Duration: 07 min and 26 s\n",
      "Disconnection 17:\n",
      "Start: 2025-01-31 07:38:28\n",
      "End: 2025-02-05 09:21:35\n",
      "Duration: 43 min and 06 s\n",
      "Number of disconnections: 17\n",
      "Total duration of disconnections: 04:25:25 (hours, minutes and seconds)\n",
      "ACC effective duration: 0 days 20:45:16\n",
      "\n",
      " ***** Disconnections in PPG *****\n",
      "Disconnection 1:\n",
      "Start: 2025-01-30 10:25:23\n",
      "End: 2025-01-30 10:25:32\n",
      "Duration: 00 min and 08 s\n",
      "Disconnection 2:\n",
      "Start: 2025-01-30 12:21:21\n",
      "End: 2025-01-30 12:21:51\n",
      "Duration: 00 min and 29 s\n",
      "Disconnection 3:\n",
      "Start: 2025-01-30 12:39:57\n",
      "End: 2025-01-30 12:41:40\n",
      "Duration: 01 min and 42 s\n",
      "Disconnection 4:\n",
      "Start: 2025-01-30 15:02:12\n",
      "End: 2025-01-30 15:16:14\n",
      "Duration: 14 min and 02 s\n",
      "Disconnection 5:\n",
      "Start: 2025-01-30 15:16:28\n",
      "End: 2025-01-30 15:19:03\n",
      "Duration: 02 min and 35 s\n",
      "Disconnection 6:\n",
      "Start: 2025-01-30 16:19:36\n",
      "End: 2025-01-30 16:19:49\n",
      "Duration: 00 min and 12 s\n",
      "Disconnection 7:\n",
      "Start: 2025-01-30 16:33:13\n",
      "End: 2025-01-30 16:33:42\n",
      "Duration: 00 min and 29 s\n",
      "Disconnection 8:\n",
      "Start: 2025-01-30 17:21:12\n",
      "End: 2025-01-30 17:23:52\n",
      "Duration: 02 min and 39 s\n",
      "Disconnection 9:\n",
      "Start: 2025-01-30 17:46:52\n",
      "End: 2025-01-30 17:56:29\n",
      "Duration: 09 min and 36 s\n",
      "Disconnection 10:\n",
      "Start: 2025-01-30 17:58:56\n",
      "End: 2025-01-30 17:59:25\n",
      "Duration: 00 min and 28 s\n",
      "Disconnection 11:\n",
      "Start: 2025-01-30 17:59:44\n",
      "End: 2025-01-30 18:03:59\n",
      "Duration: 04 min and 14 s\n",
      "Disconnection 12:\n",
      "Start: 2025-01-30 18:15:21\n",
      "End: 2025-01-30 18:28:55\n",
      "Duration: 13 min and 33 s\n",
      "Disconnection 13:\n",
      "Start: 2025-01-30 18:30:18\n",
      "End: 2025-01-30 18:37:29\n",
      "Duration: 07 min and 11 s\n",
      "Disconnection 14:\n",
      "Start: 2025-01-30 19:16:36\n",
      "End: 2025-01-30 20:51:39\n",
      "Duration: 35 min and 03 s\n",
      "Disconnection 15:\n",
      "Start: 2025-01-31 00:13:44\n",
      "End: 2025-01-31 00:16:12\n",
      "Duration: 02 min and 27 s\n",
      "Disconnection 16:\n",
      "Start: 2025-01-31 07:30:46\n",
      "End: 2025-01-31 07:38:13\n",
      "Duration: 07 min and 27 s\n",
      "Disconnection 17:\n",
      "Start: 2025-01-31 07:38:31\n",
      "End: 2025-02-05 09:21:35\n",
      "Duration: 43 min and 04 s\n",
      "Number of disconnections: 17\n",
      "Total duration of disconnections: 04:25:28 (hours, minutes and seconds)\n",
      "PPG effective duration: 0 days 20:45:12\n",
      "\n"
     ]
    }
   ],
   "source": [
    "data_path = \"/Users/augenpro/Documents/Age-IT/data/Bronze/\" # path to the folder containing the subjects\n",
    "participants = sorted([p for p in os.listdir(data_path) if not p.startswith(\".\")]) # list of the participants\n",
    "visit = \"T0 (baseline)\" # T0 (baseline), T1 (follow-up @ 6 months), T2 (follow-up @ 12 months)\n",
    "\n",
    "# participants = participants[0:1] # select the first participant\n",
    "\n",
    "participants = [\"97060\",]# \"20603\", \"36765\"]\n",
    "\n",
    "participants = [\"36920\"]\n",
    "\n",
    "sensor = \"VeritySense\"#, \"GeneActivPolso\", \"GeneActivCaviglia\", \"RootiRx\"]\n",
    "\n",
    "for participant in participants:\n",
    "    acc_df = pd.DataFrame()\n",
    "    ppg_df = pd.DataFrame()\n",
    "    # print(sensor)\n",
    "    path = os.path.join(data_path, participant, visit, sensor)\n",
    "    files_in_path = [f for f in os.listdir(path) if not f.startswith(\".\")]\n",
    "    if len(files_in_path) <= 2: # \"_\" and \"AVRO\"\n",
    "        continue\n",
    "\n",
    "    print(f\"**************** {participant} ****************\")\n",
    "    acc_path = os.path.join(path, \"AVRO/acc\")\n",
    "    ppg_path = os.path.join(path, \"AVRO/ppg\")\n",
    "    for f in sorted(os.listdir(acc_path), key=extract_datetime):\n",
    "        current_acc = read_avro_veritysense(os.path.join(acc_path, f))\n",
    "        acc_df = pd.concat([acc_df, current_acc])\n",
    "\n",
    "    for f in sorted(os.listdir(ppg_path), key=extract_datetime):\n",
    "        current_ppg = read_avro_veritysense(os.path.join(ppg_path, f))\n",
    "        ppg_df = pd.concat([ppg_df, current_ppg])\n",
    "\n",
    "    t_acc_rec = acc_df.index[acc_df.index.to_series().diff().dt.total_seconds() > 0.5]\n",
    "    t_acc_disc = acc_df.index[np.where(acc_df.index.to_series().diff().dt.total_seconds() > 0.5)[0]-1]\n",
    "    t_disc_rec_acc = pd.DataFrame({\"disc\": t_acc_disc, \"rec\": t_acc_rec})\n",
    "    total_duration_acc = acc_df.index[-1] - acc_df.index[0]\n",
    "    disconnetions_duration_acc = t_disc_rec_acc[\"rec\"] - t_disc_rec_acc[\"disc\"]\n",
    "    effective_duration_acc = total_duration_acc - disconnetions_duration_acc.sum()\n",
    "    if len(t_acc_disc) > 0:\n",
    "        print(\"\\n ***** Disconnections in ACC *****\")\n",
    "        for i in range(len(t_acc_disc)):\n",
    "            print(f\"Disconnection {i+1}:\")\n",
    "            print(f\"Start: {t_acc_disc[i].strftime('%Y-%m-%d %H:%M:%S')}\")\n",
    "            print(f\"End: {t_acc_rec[i].strftime('%Y-%m-%d %H:%M:%S')}\")\n",
    "            print(f\"Duration: {str(t_acc_rec[i] - t_acc_disc[i]).split(' ')[2][3:5]} min and {str(t_acc_rec[i] - t_acc_disc[i]).split(' ')[2][6:8]} s\")\n",
    "        print(\"Number of disconnections: \" + str(len(t_acc_disc)))\n",
    "        print(\"Total duration of disconnections: \" + str(np.sum([t_acc_rec[i] - t_acc_disc[i] for i in range(len(t_acc_disc))])).split(' ')[2][:8] + \" (hours, minutes and seconds)\")\n",
    "        print(f\"ACC effective duration: {effective_duration_acc}\".split(\".\")[0])\n",
    "    # Fill disconnection portions with NaNs and linearly interpolate\n",
    "    for start, end in zip(t_acc_disc, t_acc_rec):\n",
    "        acc_df.loc[start:end] = np.nan\n",
    "    acc_df = acc_df.interpolate(method='time')\n",
    "\n",
    "    t_ppg_rec = ppg_df.index[ppg_df.index.to_series().diff().dt.total_seconds() > 1]\n",
    "    t_ppg_disc = ppg_df.index[np.where(ppg_df.index.to_series().diff().dt.total_seconds() > 1)[0]-1]\n",
    "    t_disc_rec_ppg = pd.DataFrame({\"disc\": t_ppg_disc, \"rec\": t_ppg_rec})\n",
    "    total_duration_ppg = ppg_df.index[-1] - ppg_df.index[0]\n",
    "    disconnetions_duration_ppg = t_disc_rec_ppg[\"rec\"] - t_disc_rec_ppg[\"disc\"]\n",
    "    effective_duration_ppg = total_duration_ppg - disconnetions_duration_ppg.sum()\n",
    "    if len(t_ppg_disc) > 0:\n",
    "        print(\"\\n ***** Disconnections in PPG *****\")\n",
    "        for i in range(len(t_ppg_disc)):\n",
    "            print(f\"Disconnection {i+1}:\")\n",
    "            print(f\"Start: {t_ppg_disc[i].strftime('%Y-%m-%d %H:%M:%S')}\")\n",
    "            print(f\"End: {t_ppg_rec[i].strftime('%Y-%m-%d %H:%M:%S')}\")\n",
    "            print(f\"Duration: {str(t_ppg_rec[i] - t_ppg_disc[i]).split(' ')[2][3:5]} min and {str(t_ppg_rec[i] - t_ppg_disc[i]).split(' ')[2][6:8]} s\")\n",
    "        print(\"Number of disconnections: \" + str(len(t_ppg_disc)))\n",
    "        print(\"Total duration of disconnections: \" + str(np.sum([t_ppg_rec[i] - t_ppg_disc[i] for i in range(len(t_ppg_disc))])).split(' ')[2][:8] + \" (hours, minutes and seconds)\")\n",
    "        print(f\"PPG effective duration: {effective_duration_ppg}\".split(\".\")[0])\n",
    "        print(\"\")\n",
    "    # Fill disconnection portions with NaNs and linearly interpolate\n",
    "    for start, end in zip(t_ppg_disc, t_ppg_rec):\n",
    "        ppg_df.loc[start:end] = np.nan\n",
    "    ppg_df = ppg_df.interpolate(method='time')"
   ]
  },
  {
   "cell_type": "code",
   "execution_count": null,
   "metadata": {},
   "outputs": [],
   "source": []
  },
  {
   "cell_type": "code",
   "execution_count": null,
   "metadata": {},
   "outputs": [],
   "source": []
  },
  {
   "cell_type": "markdown",
   "metadata": {},
   "source": [
    "##### Soggetto 97060 ------- weird timestamps starting at 1970"
   ]
  },
  {
   "cell_type": "code",
   "execution_count": 8,
   "metadata": {},
   "outputs": [
    {
     "data": {
      "text/plain": [
       "(Timedelta('6 days 21:33:21.926823424'),\n",
       " Timedelta('2 days 14:54:02.761108992'),\n",
       " Timedelta('4 days 06:39:19.165714432'))"
      ]
     },
     "execution_count": 8,
     "metadata": {},
     "output_type": "execute_result"
    }
   ],
   "source": [
    "total_dur = acc_df.index[-1] - acc_df.index[0]\n",
    "disconnetions_dur = t_disc_rec_acc[\"rec\"] - t_disc_rec_acc[\"disc\"]\n",
    "effective_dur = total_dur - disconnetions_dur.sum()\n",
    "total_dur, disconnetions_dur.sum(), effective_dur"
   ]
  },
  {
   "cell_type": "code",
   "execution_count": null,
   "metadata": {},
   "outputs": [
    {
     "name": "stdout",
     "output_type": "stream",
     "text": [
      "2025-01-21 16:17:29.975070208 2025-01-21 16:20:03.052938240\n"
     ]
    },
    {
     "data": {
      "text/html": [
       "<div>\n",
       "<style scoped>\n",
       "    .dataframe tbody tr th:only-of-type {\n",
       "        vertical-align: middle;\n",
       "    }\n",
       "\n",
       "    .dataframe tbody tr th {\n",
       "        vertical-align: top;\n",
       "    }\n",
       "\n",
       "    .dataframe thead th {\n",
       "        text-align: right;\n",
       "    }\n",
       "</style>\n",
       "<table border=\"1\" class=\"dataframe\">\n",
       "  <thead>\n",
       "    <tr style=\"text-align: right;\">\n",
       "      <th></th>\n",
       "      <th>ppg1</th>\n",
       "      <th>ppg2</th>\n",
       "      <th>ppg3</th>\n",
       "      <th>ambient</th>\n",
       "    </tr>\n",
       "    <tr>\n",
       "      <th>timestamp</th>\n",
       "      <th></th>\n",
       "      <th></th>\n",
       "      <th></th>\n",
       "      <th></th>\n",
       "    </tr>\n",
       "  </thead>\n",
       "  <tbody>\n",
       "  </tbody>\n",
       "</table>\n",
       "</div>"
      ],
      "text/plain": [
       "Empty DataFrame\n",
       "Columns: [ppg1, ppg2, ppg3, ambient]\n",
       "Index: []"
      ]
     },
     "metadata": {},
     "output_type": "display_data"
    }
   ],
   "source": [
    "for start, end in zip(t_acc_disc, t_acc_rec):\n",
    "    print(start,end)\n",
    "    break\n",
    "\n",
    "ppg_df.loc[start:end]"
   ]
  },
  {
   "cell_type": "code",
   "execution_count": 13,
   "metadata": {},
   "outputs": [],
   "source": [
    "import neurokit2 as nk\n",
    "ppg_df[\"ppg_filt\"] = -nk.signal_filter(ppg_df[\"ppg1\"], lowcut=0.5, highcut=8, sampling_rate=55)"
   ]
  },
  {
   "cell_type": "code",
   "execution_count": null,
   "metadata": {},
   "outputs": [
    {
     "data": {
      "text/plain": [
       "Text(0.5, 1.0, 'PPG')"
      ]
     },
     "execution_count": 16,
     "metadata": {},
     "output_type": "execute_result"
    },
    {
     "ename": "",
     "evalue": "",
     "output_type": "error",
     "traceback": [
      "\u001b[1;31mThe Kernel crashed while executing code in the current cell or a previous cell. \n",
      "\u001b[1;31mPlease review the code in the cell(s) to identify a possible cause of the failure. \n",
      "\u001b[1;31mClick <a href='https://aka.ms/vscodeJupyterKernelCrash'>here</a> for more info. \n",
      "\u001b[1;31mView Jupyter <a href='command:jupyter.viewOutput'>log</a> for further details."
     ]
    }
   ],
   "source": [
    "plt.figure(figsize = (19,11))\n",
    "plt.subplot(2, 1, 1)\n",
    "plt.plot(acc_df)\n",
    "plt.title(\"Acceleration\")\n",
    "# plt.legend(acc_df.columns)\n",
    "plt.subplot(2, 1, 2, sharex = plt.subplot(2, 1, 1))\n",
    "plt.plot(ppg_df[\"ppg_filt\"])\n",
    "plt.title(\"PPG\")\n",
    "# plt.legend([\"ppg_filt\"])"
   ]
  },
  {
   "cell_type": "code",
   "execution_count": null,
   "metadata": {},
   "outputs": [
    {
     "name": "stdout",
     "output_type": "stream",
     "text": [
      "Overall duration of the recording (excluding gaps): 0 days 05:29:49.749643520\n"
     ]
    }
   ],
   "source": [
    "# Calculate the actual recording duration by summing up the differences between consecutive timestamps\n",
    "time_diffs = acc_df.index.to_series().diff().dropna()\n",
    "overall_duration = time_diffs.sum()\n",
    "print(f\"Overall duration of the recording (excluding gaps): {overall_duration}\")"
   ]
  },
  {
   "cell_type": "code",
   "execution_count": null,
   "metadata": {},
   "outputs": [
    {
     "data": {
      "text/plain": [
       "Timedelta('0 days 05:29:53.340454144')"
      ]
     },
     "metadata": {},
     "output_type": "display_data"
    }
   ],
   "source": [
    "ppg_df.index[-1] - ppg_df.index[0]"
   ]
  },
  {
   "cell_type": "markdown",
   "metadata": {},
   "source": [
    "## Rooti"
   ]
  },
  {
   "cell_type": "code",
   "execution_count": 36,
   "metadata": {},
   "outputs": [],
   "source": [
    "rooti_file_path1 = \"/Users/augenpro/Documents/Age-IT/data/Bronze/14219/T0 (baseline)/RootiRx/14219/measure/12483bd6-bee6-4975-9832-14b4772f2ecc/GSENSOR/1737113661.zip\"\n",
    "rooti_file_path2 = \"/Users/augenpro/Documents/Age-IT/data/Bronze/14219/T0 (baseline)/RootiRx/14219/measure/12483bd6-bee6-4975-9832-14b4772f2ecc/GSENSOR/1737117261.zip\"\n",
    "\n",
    "acc1 = pd.read_csv(rooti_file_path1, compression='zip', header = None, names = [\"timestamp\", \"packet\", \"acc_x\", \"acc_y\", \"acc_z\", \"idk\", \"idk2\"])\n",
    "\n",
    "acc2 = pd.read_csv(rooti_file_path2, compression='zip', header = None, names = [\"timestamp\", \"packet\", \"acc_x\", \"acc_y\", \"acc_z\", \"idk\", \"idk2\"])\n",
    "\n",
    "acc1_xyz = acc1[[\"acc_x\", \"acc_y\", \"acc_z\"]].values\n",
    "acc2_xyz = acc2[[\"acc_x\", \"acc_y\", \"acc_z\"]].values\n",
    "\n",
    "# concat the two dataframes\n",
    "acc_xyz = np.concatenate((acc1_xyz, acc2_xyz), axis = 0)\n",
    "\n",
    "# plt.figure(figsize = (19,11))\n",
    "# plt.plot(acc_xyz)"
   ]
  },
  {
   "cell_type": "code",
   "execution_count": 35,
   "metadata": {},
   "outputs": [
    {
     "data": {
      "text/plain": [
       "[<matplotlib.lines.Line2D at 0x118f64b30>]"
      ]
     },
     "execution_count": 35,
     "metadata": {},
     "output_type": "execute_result"
    }
   ],
   "source": [
    "plt.figure(figsize = (19,11))\n",
    "plt.plot(acc1[\"timestamp\"].diff().dropna()) "
   ]
  },
  {
   "cell_type": "code",
   "execution_count": 37,
   "metadata": {},
   "outputs": [
    {
     "data": {
      "text/plain": [
       "[<matplotlib.lines.Line2D at 0x11901dbe0>]"
      ]
     },
     "execution_count": 37,
     "metadata": {},
     "output_type": "execute_result"
    }
   ],
   "source": [
    "samples_per_sec = acc1.groupby(\"timestamp\").count()[\"packet\"]\n",
    "plt.figure(figsize = (19,11))\n",
    "plt.plot(samples_per_sec)"
   ]
  },
  {
   "cell_type": "code",
   "execution_count": null,
   "metadata": {},
   "outputs": [
    {
     "data": {
      "text/plain": [
       "array([1.73711006e+09, 1.73711006e+09, 1.73711006e+09, ...,\n",
       "       1.73711366e+09, 1.73711366e+09, 1.73711366e+09], shape=(112293,))"
      ]
     },
     "execution_count": 19,
     "metadata": {},
     "output_type": "execute_result"
    }
   ],
   "source": [
    "samples_per_sec = acc1.groupby(\"timestamp\").count()[\"packet\"]\n",
    "\n",
    "first_sec_interp = np.arange(samples_per_sec.index[0], samples_per_sec.index[1], 1/samples_per_sec.iloc[0])\n",
    "\n",
    "# Do the same for all the other seconds\n",
    "for i in range(1, len(samples_per_sec)-1):\n",
    "    sec_interp = np.arange(samples_per_sec.index[i], samples_per_sec.index[i+1], 1/samples_per_sec.iloc[i])\n",
    "    first_sec_interp = np.concatenate((first_sec_interp, sec_interp))\n",
    "\n",
    "# Do the same for the last second\n",
    "last_sec_interp = np.arange(samples_per_sec.index[-1], samples_per_sec.index[-1] + 1, 1/samples_per_sec.iloc[-1])\n",
    "\n",
    "# Concatenate all the seconds\n",
    "all_sec_interp = np.concatenate((first_sec_interp, last_sec_interp))"
   ]
  },
  {
   "cell_type": "code",
   "execution_count": null,
   "metadata": {},
   "outputs": [
    {
     "data": {
      "text/plain": [
       "[<matplotlib.lines.Line2D at 0x1198c4b00>]"
      ]
     },
     "execution_count": 25,
     "metadata": {},
     "output_type": "execute_result"
    }
   ],
   "source": [
    "acc_interp = pd.DataFrame(acc1[[\"acc_x\", \"acc_y\", \"acc_z\"]].values, index = pd.to_datetime(all_sec_interp, unit = \"s\"), columns = [\"acc_x\", \"acc_y\", \"acc_z\"])\n",
    "\n",
    "from utils.compute_acc_metrics import compute_acc_SMV\n",
    "\n",
    "acc_interp[\"acc_SMV\"] = compute_acc_SMV(acc_interp)\n",
    "\n",
    "plt.figure(figsize = (19,11))\n",
    "plt.plot(acc_interp[\"acc_SMV\"])"
   ]
  },
  {
   "cell_type": "code",
   "execution_count": 27,
   "metadata": {},
   "outputs": [
    {
     "data": {
      "text/plain": [
       "RangeIndex(start=0, stop=112293, step=1)"
      ]
     },
     "execution_count": 27,
     "metadata": {},
     "output_type": "execute_result"
    }
   ],
   "source": [
    "acc1.index"
   ]
  },
  {
   "cell_type": "code",
   "execution_count": 29,
   "metadata": {},
   "outputs": [
    {
     "data": {
      "text/plain": [
       "[<matplotlib.lines.Line2D at 0x13f674fb0>]"
      ]
     },
     "execution_count": 29,
     "metadata": {},
     "output_type": "execute_result"
    }
   ],
   "source": [
    "plt.figure(figsize = (19,11))\n",
    "plt.plot(acc_interp.index.diff().dropna().total_seconds())"
   ]
  },
  {
   "cell_type": "code",
   "execution_count": null,
   "metadata": {},
   "outputs": [
    {
     "name": "stdout",
     "output_type": "stream",
     "text": [
      "***** 14219 *****\n",
      "Total duration: 6 days 23:49:20\n",
      "\n"
     ]
    }
   ],
   "source": [
    "data_path = \"/Users/augenpro/Documents/Age-IT/data/Gold/\" # path to the folder containing the subjects\n",
    "participants = sorted([p for p in os.listdir(data_path) if not p.startswith(\".\")]) # list of the participants\n",
    "visit = \"T0 (baseline)\" # T0 (baseline), T1 (follow-up @ 6 months), T2 (follow-up @ 12 months)\n",
    "participants = [\"14219\"]\n",
    "# participants = participants[5:6] # select the first participant\n",
    "\n",
    "sensors = [\"RootiRx\"]#, \"RootiRx\"]\n",
    "\n",
    "sensor = sensors[0]\n",
    "\n",
    "for participant in participants:\n",
    "    path = os.path.join(data_path, participant, visit, sensor)\n",
    "    files = os.listdir(os.path.join(data_path, participant, visit, sensor))\n",
    "\n",
    "    files = [f for f in files if f == participant]\n",
    "\n",
    "    if len(files) == 0:\n",
    "        # print(\"No RootiRx data\")\n",
    "        continue\n",
    "    \n",
    "    print(\"***** \" + participant + \" *****\")\n",
    "    rooti_path = os.path.join(data_path, participant, visit, sensor, files[0], \"measure\")\n",
    "\n",
    "    raw_acc_path = [x[0] for x in os.walk(rooti_path) if x[0].endswith(\"/GSENSOR\")][0]\n",
    "\n",
    "    # print(raw_acc_path)\n",
    "\n",
    "    acc_files = sorted(os.listdir(raw_acc_path))\n",
    "\n",
    "    # print(len(acc_files))\n",
    "\n",
    "    acc = pd.DataFrame()\n",
    "\n",
    "    acc_first = pd.read_csv(raw_acc_path + '/' + acc_files[0], compression='zip', index_col = 0, header = None, names = [\"packet\", \"acc_x\", \"acc_y\", \"acc_z\", \"idk\", \"idk2\"])\n",
    "    acc_first_start = pd.to_datetime(acc_first.index[0], unit = \"s\")\n",
    "\n",
    "    acc_last = pd.read_csv(raw_acc_path + '/' + acc_files[-1], compression='zip', index_col = 0, header = None, names = [\"packet\", \"acc_x\", \"acc_y\", \"acc_z\", \"idk\", \"idk2\"])\n",
    "    acc_last_end = pd.to_datetime(acc_last.index[-1], unit = \"s\")\n",
    "\n",
    "    print(f\"Total duration: {acc_last_end - acc_first_start}\")\n",
    "\n",
    "    for i, acc_file in enumerate(acc_files):\n",
    "        acc1 = pd.read_csv(raw_acc_path + '/' + acc_file, compression='zip', header = None, names = [\"timestamp\", \"packet\", \"acc_x\", \"acc_y\", \"acc_z\", \"idk\", \"idk2\"])\n",
    "        acc1 = acc1[[\"acc_x\", \"acc_y\", \"acc_z\"]]\n",
    "        acc1.index = pd.date_range(start = pd.to_datetime(acc1.index[0], unit = \"s\"), periods = len(acc1), freq = \"0.032s\")\n",
    "        acc = pd.concat([acc, acc1])\n",
    "\n",
    "    # print(path)\n",
    "\n",
    "    print(\"\")\n",
    "    break\n",
    "\n",
    "    # print(files)"
   ]
  },
  {
   "cell_type": "code",
   "execution_count": 20,
   "metadata": {},
   "outputs": [
    {
     "data": {
      "text/plain": [
       "[<matplotlib.lines.Line2D at 0x1585d9730>]"
      ]
     },
     "execution_count": 20,
     "metadata": {},
     "output_type": "execute_result"
    }
   ],
   "source": [
    "plt.figure(figsize = (19,11))\n",
    "plt.plot(np.diff(acc.index).astype('timedelta64[s]'))"
   ]
  },
  {
   "cell_type": "code",
   "execution_count": null,
   "metadata": {},
   "outputs": [
    {
     "data": {
      "text/html": [
       "<div>\n",
       "<style scoped>\n",
       "    .dataframe tbody tr th:only-of-type {\n",
       "        vertical-align: middle;\n",
       "    }\n",
       "\n",
       "    .dataframe tbody tr th {\n",
       "        vertical-align: top;\n",
       "    }\n",
       "\n",
       "    .dataframe thead th {\n",
       "        text-align: right;\n",
       "    }\n",
       "</style>\n",
       "<table border=\"1\" class=\"dataframe\">\n",
       "  <thead>\n",
       "    <tr style=\"text-align: right;\">\n",
       "      <th></th>\n",
       "      <th>packet</th>\n",
       "      <th>acc_x</th>\n",
       "      <th>acc_y</th>\n",
       "      <th>acc_z</th>\n",
       "      <th>idk</th>\n",
       "      <th>idk2</th>\n",
       "    </tr>\n",
       "  </thead>\n",
       "  <tbody>\n",
       "    <tr>\n",
       "      <th>2025-01-17 10:34:21.000000</th>\n",
       "      <td>0</td>\n",
       "      <td>176</td>\n",
       "      <td>-191</td>\n",
       "      <td>1288</td>\n",
       "      <td>18</td>\n",
       "      <td>166</td>\n",
       "    </tr>\n",
       "    <tr>\n",
       "      <th>2025-01-17 10:34:21.003200</th>\n",
       "      <td>1</td>\n",
       "      <td>150</td>\n",
       "      <td>-183</td>\n",
       "      <td>1324</td>\n",
       "      <td>18</td>\n",
       "      <td>166</td>\n",
       "    </tr>\n",
       "    <tr>\n",
       "      <th>2025-01-17 10:34:21.006400</th>\n",
       "      <td>2</td>\n",
       "      <td>150</td>\n",
       "      <td>119</td>\n",
       "      <td>1187</td>\n",
       "      <td>18</td>\n",
       "      <td>166</td>\n",
       "    </tr>\n",
       "    <tr>\n",
       "      <th>2025-01-17 10:34:21.009600</th>\n",
       "      <td>3</td>\n",
       "      <td>115</td>\n",
       "      <td>-164</td>\n",
       "      <td>1379</td>\n",
       "      <td>18</td>\n",
       "      <td>166</td>\n",
       "    </tr>\n",
       "    <tr>\n",
       "      <th>2025-01-17 10:34:21.012800</th>\n",
       "      <td>4</td>\n",
       "      <td>60</td>\n",
       "      <td>-287</td>\n",
       "      <td>1468</td>\n",
       "      <td>18</td>\n",
       "      <td>166</td>\n",
       "    </tr>\n",
       "  </tbody>\n",
       "</table>\n",
       "</div>"
      ],
      "text/plain": [
       "                            packet  acc_x  acc_y  acc_z  idk  idk2\n",
       "2025-01-17 10:34:21.000000       0    176   -191   1288   18   166\n",
       "2025-01-17 10:34:21.003200       1    150   -183   1324   18   166\n",
       "2025-01-17 10:34:21.006400       2    150    119   1187   18   166\n",
       "2025-01-17 10:34:21.009600       3    115   -164   1379   18   166\n",
       "2025-01-17 10:34:21.012800       4     60   -287   1468   18   166"
      ]
     },
     "metadata": {},
     "output_type": "display_data"
    }
   ],
   "source": [
    "acc1.head()"
   ]
  },
  {
   "cell_type": "markdown",
   "metadata": {},
   "source": [
    "# Synch between GENEActiv and Rooti"
   ]
  },
  {
   "cell_type": "code",
   "execution_count": 12,
   "metadata": {},
   "outputs": [
    {
     "name": "stdout",
     "output_type": "stream",
     "text": [
      "***** 14219 *****\n"
     ]
    },
    {
     "name": "stderr",
     "output_type": "stream",
     "text": [
      "/var/folders/8x/dvs9gy2x1fq3xdz6r9lt_t_40000gp/T/ipykernel_85447/654349826.py:64: FutureWarning: The behavior of array concatenation with empty entries is deprecated. In a future version, this will no longer exclude empty items when determining the result dtype. To retain the old behavior, exclude the empty entries before the concat operation.\n",
      "  t_acc_rooti = pd.concat([t_acc_rooti, t_acc1.to_series()])\n"
     ]
    }
   ],
   "source": [
    "# data_path = \"/Users/augenpro/Documents/Age-IT/data/Bronze\" # path to the folder containing the subjects\n",
    "# participants = sorted([p for p in os.listdir(data_path) if not p.startswith(\".\")]) # list of the participants\n",
    "# visit = \"T0 (baseline)\" # T0 (baseline), T1 (follow-up @ 6 months), T2 (follow-up @ 12 months)\n",
    "\n",
    "# # participants = participants[5:6] # select the first participant\n",
    "\n",
    "# sensors = [\"GeneActivPolso\", \"GeneActivCaviglia\"]#, \"RootiRx\"]\n",
    "\n",
    "# geneactiv = {}\n",
    "\n",
    "# participants = [\"14219\"]\n",
    "\n",
    "# for participant in participants:\n",
    "#     print(participant)\n",
    "#     for sensor in sensors:\n",
    "#         path = os.path.join(data_path, participant, visit, sensor)\n",
    "#         files = os.listdir(os.path.join(data_path, participant, visit, sensor))\n",
    "#         # if there are already parquet files, skip\n",
    "#         for f in files:\n",
    "#             if f.endswith(\".parquet\"):\n",
    "#                 # print(f)\n",
    "#                 acc_gen = pd.read_parquet(os.path.join(path, f))\n",
    "#                 # geneactiv[sensor] = acc_gen\n",
    "#                 if len(acc_gen) == 0:\n",
    "#                     print(f\"{sensor}: is empty\")\n",
    "#                 else:\n",
    "#                     print(f\"{sensor}:  {acc_gen.index[-1] - acc_gen.index[0]}\".split(\".\")[0])\n",
    "#                 if sensor == \"GeneActivPolso\":\n",
    "#                     geneactiv[\"wrist\"] = acc_gen\n",
    "#                 elif sensor == \"GeneActivCaviglia\":\n",
    "#                     geneactiv[\"ankle\"] = acc_gen\n",
    "#                 del acc_gen\n",
    "#     print(\"\")\n",
    "\n",
    "# Rooti\n",
    "sensor = \"RootiRx\"\n",
    "for participant in participants:\n",
    "    path = os.path.join(data_path, participant, visit, sensor)\n",
    "    files = os.listdir(os.path.join(data_path, participant, visit, sensor))\n",
    "\n",
    "    files = [f for f in files if f == participant]\n",
    "\n",
    "    if len(files) == 0:\n",
    "        # print(\"No RootiRx data\")\n",
    "        continue\n",
    "    \n",
    "    print(\"***** \" + participant + \" *****\")\n",
    "    rooti_path = os.path.join(data_path, participant, visit, sensor, files[0], \"measure\")\n",
    "\n",
    "    raw_acc_path = [x[0] for x in os.walk(rooti_path) if x[0].endswith(\"/GSENSOR\")][0]\n",
    "    acc_files = sorted(os.listdir(raw_acc_path))\n",
    "    acc_rooti = pd.DataFrame()\n",
    "    t_acc_rooti = pd.Series()\n",
    "    first_acc_file = pd.read_csv(raw_acc_path + '/' + acc_files[0], compression='zip', index_col = 0, header = None)\n",
    "    t_start_rooti = pd.to_datetime(first_acc_file.index[0], unit = \"s\")\n",
    "    for i, acc_file in enumerate(acc_files):\n",
    "        acc1 = pd.read_csv(raw_acc_path + '/' + acc_files[i], compression='zip', index_col = 0, header = None) / 1000 # convert to g\n",
    "        t_acc_start = pd.to_datetime(acc1.index[0], unit = \"s\")\n",
    "        t_acc_end = pd.to_datetime(acc1.index[-1]+1, unit = \"s\")\n",
    "        acc1 = acc1.iloc[:, [1, 2, 3]].reset_index(drop = True)\n",
    "        acc1.columns = [\"acc_x\", \"acc_y\", \"acc_z\"]\n",
    "        t_acc1 = pd.date_range(start = t_acc_start, end = t_acc_end, periods=len(acc1)+1)[:-1]\n",
    "        acc_rooti = pd.concat([acc_rooti, acc1])\n",
    "        t_acc_rooti = pd.concat([t_acc_rooti, t_acc1.to_series()])\n",
    "\n",
    "    # ecg_filtered_path = [x[0] for x in os.walk(rooti_path) if x[0].endswith(\"/FilteredECG\")][0] + \"/250\"\n",
    "    # ecg_filtered_files = sorted(os.listdir(ecg_filtered_path))\n",
    "    # ecg_dataframes = []\n",
    "\n",
    "    # # Iterate through ecg filtered files\n",
    "    # for i, ecg_file in enumerate(ecg_filtered_files):\n",
    "    #     ecg_filtered_df = pd.read_csv(\n",
    "    #         ecg_filtered_path + '/' + ecg_file, \n",
    "    #         compression='zip', \n",
    "    #         header=None, \n",
    "    #         names=[\"ecg\", \"Rpeaks\"]\n",
    "    #     )\n",
    "    #     # t_start = pd.to_datetime(ecg_filtered_files[0].split(\".\")[0], unit = \"s\")\n",
    "    #     # ecg_filtered_df.index = pd.date_range(start = t_start, periods = len(ecg_filtered_df), freq = \"0.004s\")\n",
    "    #     ecg_dataframes.append(ecg_filtered_df)\n",
    "    # t_start_ecg = pd.to_datetime(int(ecg_filtered_files[0].split(\".\")[0]), unit = \"s\")\n",
    "    # ecg_filtered = pd.concat(ecg_dataframes, axis=0)\n",
    "    # ecg_filtered.index = pd.date_range(start = t_start_ecg, periods = len(ecg_filtered), freq = \"0.004s\")\n",
    "\n",
    "    # # print(path)\n",
    "\n",
    "    # print(\"\")"
   ]
  },
  {
   "cell_type": "markdown",
   "metadata": {},
   "source": [
    "### New for rooti"
   ]
  },
  {
   "cell_type": "code",
   "execution_count": 3,
   "metadata": {},
   "outputs": [
    {
     "name": "stdout",
     "output_type": "stream",
     "text": [
      "***** 14219 *****\n"
     ]
    }
   ],
   "source": [
    "sensor = \"RootiRx\"\n",
    "for participant in participants:\n",
    "    path = os.path.join(data_path, participant, visit, sensor)\n",
    "    files = os.listdir(os.path.join(data_path, participant, visit, sensor))\n",
    "\n",
    "    files = [f for f in files if f == participant]\n",
    "\n",
    "    if len(files) == 0:\n",
    "        # print(\"No RootiRx data\")\n",
    "        continue\n",
    "    \n",
    "    print(\"***** \" + participant + \" *****\")\n",
    "    rooti_path = os.path.join(data_path, participant, visit, sensor, files[0], \"measure\")\n",
    "\n",
    "    raw_acc_path = [x[0] for x in os.walk(rooti_path) if x[0].endswith(\"/GSENSOR\")][0]\n",
    "    acc_files = sorted(os.listdir(raw_acc_path))\n",
    "    acc_rooti = pd.DataFrame()\n",
    "    for i, acc_file in enumerate(acc_files):\n",
    "        acc1 = pd.read_csv(raw_acc_path + '/' + acc_files[i], compression='zip', index_col = 0, header = None) / 1000\n",
    "        acc1 = acc1.iloc[:, [1, 2, 3]].reset_index(drop = True) # Extract only ACC\n",
    "        acc1.columns = [\"acc_x\", \"acc_y\", \"acc_z\"]\n",
    "        acc_rooti = pd.concat([acc_rooti, acc1])"
   ]
  },
  {
   "cell_type": "code",
   "execution_count": 4,
   "metadata": {},
   "outputs": [],
   "source": [
    "acc_rooti.reset_index(drop = True, inplace = True)"
   ]
  },
  {
   "cell_type": "code",
   "execution_count": 13,
   "metadata": {},
   "outputs": [],
   "source": [
    "acc_rooti.index = t_acc_rooti.index + pd.Timedelta(\"1h\")"
   ]
  },
  {
   "cell_type": "code",
   "execution_count": 5,
   "metadata": {},
   "outputs": [
    {
     "data": {
      "application/vnd.microsoft.datawrangler.viewer.v0+json": {
       "columns": [
        {
         "name": "index",
         "rawType": "int64",
         "type": "integer"
        },
        {
         "name": "acc_x",
         "rawType": "float64",
         "type": "float"
        },
        {
         "name": "acc_y",
         "rawType": "float64",
         "type": "float"
        },
        {
         "name": "acc_z",
         "rawType": "float64",
         "type": "float"
        }
       ],
       "conversionMethod": "pd.DataFrame",
       "ref": "8a493e49-03d0-4af6-a51b-0f55749f9a9a",
       "rows": [
        [
         "0",
         "0.176",
         "-0.191",
         "1.288"
        ],
        [
         "1",
         "0.15",
         "-0.183",
         "1.324"
        ],
        [
         "2",
         "0.15",
         "0.119",
         "1.187"
        ],
        [
         "3",
         "0.115",
         "-0.164",
         "1.379"
        ],
        [
         "4",
         "0.06",
         "-0.287",
         "1.468"
        ]
       ],
       "shape": {
        "columns": 3,
        "rows": 5
       }
      },
      "text/html": [
       "<div>\n",
       "<style scoped>\n",
       "    .dataframe tbody tr th:only-of-type {\n",
       "        vertical-align: middle;\n",
       "    }\n",
       "\n",
       "    .dataframe tbody tr th {\n",
       "        vertical-align: top;\n",
       "    }\n",
       "\n",
       "    .dataframe thead th {\n",
       "        text-align: right;\n",
       "    }\n",
       "</style>\n",
       "<table border=\"1\" class=\"dataframe\">\n",
       "  <thead>\n",
       "    <tr style=\"text-align: right;\">\n",
       "      <th></th>\n",
       "      <th>acc_x</th>\n",
       "      <th>acc_y</th>\n",
       "      <th>acc_z</th>\n",
       "    </tr>\n",
       "  </thead>\n",
       "  <tbody>\n",
       "    <tr>\n",
       "      <th>0</th>\n",
       "      <td>0.176</td>\n",
       "      <td>-0.191</td>\n",
       "      <td>1.288</td>\n",
       "    </tr>\n",
       "    <tr>\n",
       "      <th>1</th>\n",
       "      <td>0.150</td>\n",
       "      <td>-0.183</td>\n",
       "      <td>1.324</td>\n",
       "    </tr>\n",
       "    <tr>\n",
       "      <th>2</th>\n",
       "      <td>0.150</td>\n",
       "      <td>0.119</td>\n",
       "      <td>1.187</td>\n",
       "    </tr>\n",
       "    <tr>\n",
       "      <th>3</th>\n",
       "      <td>0.115</td>\n",
       "      <td>-0.164</td>\n",
       "      <td>1.379</td>\n",
       "    </tr>\n",
       "    <tr>\n",
       "      <th>4</th>\n",
       "      <td>0.060</td>\n",
       "      <td>-0.287</td>\n",
       "      <td>1.468</td>\n",
       "    </tr>\n",
       "  </tbody>\n",
       "</table>\n",
       "</div>"
      ],
      "text/plain": [
       "   acc_x  acc_y  acc_z\n",
       "0  0.176 -0.191  1.288\n",
       "1  0.150 -0.183  1.324\n",
       "2  0.150  0.119  1.187\n",
       "3  0.115 -0.164  1.379\n",
       "4  0.060 -0.287  1.468"
      ]
     },
     "execution_count": 5,
     "metadata": {},
     "output_type": "execute_result"
    }
   ],
   "source": [
    "acc_rooti.head()"
   ]
  },
  {
   "cell_type": "code",
   "execution_count": 6,
   "metadata": {},
   "outputs": [
    {
     "data": {
      "text/plain": [
       "[<matplotlib.lines.Line2D at 0x15ada0080>]"
      ]
     },
     "execution_count": 6,
     "metadata": {},
     "output_type": "execute_result"
    },
    {
     "name": "stderr",
     "output_type": "stream",
     "text": [
      "2025-02-20 11:30:03.866 python[85447:6279091] +[IMKClient subclass]: chose IMKClient_Modern\n"
     ]
    }
   ],
   "source": [
    "plt.figure(figsize = (19,11))\n",
    "plt.plot(acc_rooti[\"acc_x\"].iloc[:5000000])"
   ]
  },
  {
   "cell_type": "code",
   "execution_count": null,
   "metadata": {},
   "outputs": [],
   "source": []
  },
  {
   "cell_type": "code",
   "execution_count": 14,
   "metadata": {},
   "outputs": [],
   "source": [
    "acc_gen = geneactiv[\"wrist\"]"
   ]
  },
  {
   "cell_type": "code",
   "execution_count": null,
   "metadata": {},
   "outputs": [],
   "source": [
    "from utils.compute_acc_metrics import compute_acc_SMV\n",
    "\n",
    "acc_rooti[\"acc_SMV\"] = compute_acc_SMV(acc_rooti)\n",
    "acc_gen[\"acc_SMV\"] = compute_acc_SMV(acc_gen)"
   ]
  },
  {
   "cell_type": "code",
   "execution_count": 9,
   "metadata": {},
   "outputs": [],
   "source": [
    "import seaborn as sns\n",
    "sns.set_context(\"talk\")"
   ]
  },
  {
   "cell_type": "code",
   "execution_count": 11,
   "metadata": {},
   "outputs": [
    {
     "data": {
      "text/plain": [
       "<matplotlib.legend.Legend at 0x47a2cb6b0>"
      ]
     },
     "execution_count": 11,
     "metadata": {},
     "output_type": "execute_result"
    }
   ],
   "source": [
    "plt.figure(figsize = (19,11))\n",
    "plt.plot(acc_gen[\"acc_SMV\"].iloc[:500000].values, label = \"GENEActiv\", linewidth = 0.91)\n",
    "plt.plot(acc_rooti[\"acc_SMV\"].iloc[:500000], label = \"RootiRx\", linewidth = 0.91)\n",
    "plt.legend(loc = \"upper right\")"
   ]
  },
  {
   "cell_type": "markdown",
   "metadata": {},
   "source": [
    "## Script that check for cross-correlations between different sensors, and adjust the start time accordingly\n",
    "\n",
    "Assumption: the rotations are done within the first hour of recording\n",
    "\n",
    "1. Resample the first hour of the signals to the same number of samples (for geneactiv 100 Hz)\n",
    "2. Segment signal in 20 second windows with an overlap of 10s (the rotations last 10 seconds)\n",
    "3. Compute the CCF for each of the windows \n",
    "4. Find the maximum and plot?"
   ]
  },
  {
   "cell_type": "code",
   "execution_count": 16,
   "metadata": {},
   "outputs": [],
   "source": [
    "# 1. Resample the overall Rooti signal to the same number of samples (for geneactiv 100 Hz)\n",
    "\n",
    "from utils.resample_signal import apply_resample\n",
    "\n",
    "t_acc_rooti_resampled, acc_rooti_resampled = apply_resample(time = acc_rooti.index.astype(np.int64).to_numpy(), time_rs = acc_gen.index.astype(np.int64).to_numpy(), \n",
    "                                     data = acc_rooti[\"acc_SMV\"].values)\n",
    "\n",
    "acc_rooti_resampled = pd.Series(acc_rooti_resampled[0], index = pd.to_datetime(t_acc_rooti_resampled))"
   ]
  },
  {
   "cell_type": "code",
   "execution_count": 17,
   "metadata": {},
   "outputs": [
    {
     "data": {
      "text/plain": [
       "((59925000,), (59925000, 6))"
      ]
     },
     "execution_count": 17,
     "metadata": {},
     "output_type": "execute_result"
    }
   ],
   "source": [
    "acc_rooti_resampled.shape, acc_gen.shape"
   ]
  },
  {
   "cell_type": "code",
   "execution_count": 20,
   "metadata": {},
   "outputs": [
    {
     "data": {
      "text/plain": [
       "1080000"
      ]
     },
     "execution_count": 20,
     "metadata": {},
     "output_type": "execute_result"
    }
   ],
   "source": [
    "3*60*60*100"
   ]
  },
  {
   "cell_type": "code",
   "execution_count": 22,
   "metadata": {},
   "outputs": [
    {
     "data": {
      "text/plain": [
       "<matplotlib.legend.Legend at 0x15d116a50>"
      ]
     },
     "execution_count": 22,
     "metadata": {},
     "output_type": "execute_result"
    }
   ],
   "source": [
    "plt.figure(figsize = (19,11))\n",
    "plt.plot(acc_rooti_resampled.iloc[:5*60*60*100].values, label = \"RootiRx\", linewidth = 0.91)\n",
    "plt.plot(acc_gen[\"acc_SMV\"].iloc[:5*60*60*100].values, label = \"GENEActiv\", linewidth = 0.91)\n",
    "plt.legend(loc = \"upper right\")"
   ]
  },
  {
   "cell_type": "code",
   "execution_count": 66,
   "metadata": {},
   "outputs": [],
   "source": [
    "# 1. Resample the first hour of the signals to the same number of samples (for geneactiv 100 Hz)\n",
    "\n",
    "from utils.resample_signal import apply_resample\n",
    "\n",
    "fs_res = 100\n",
    "\n",
    "acc_rooti_first_hour = acc_rooti.loc[:t_start_rooti + pd.Timedelta(\"4h\")][\"acc_SMV\"]\n",
    "acc_gen_first_hour = acc_gen.loc[:acc_gen.index[0] + pd.Timedelta(\"3h\")][\"acc_SMV\"]\n",
    "\n",
    "t_acc_rooti_resampled, acc_rooti_resampled = apply_resample(time = acc_rooti_first_hour.index.astype(np.int64).to_numpy(), time_rs = acc_gen_first_hour.index.astype(np.int64).to_numpy(), \n",
    "                                     data = acc_rooti_first_hour.values)\n",
    "\n",
    "acc_rooti_resampled = pd.Series(acc_rooti_resampled[0], index = pd.to_datetime(t_acc_rooti_resampled))"
   ]
  },
  {
   "cell_type": "code",
   "execution_count": 69,
   "metadata": {},
   "outputs": [],
   "source": [
    "# 2. Segment the signals into 20s windows with 50% overlap\n",
    "\n",
    "from utils.segment_signal import segment_signal\n",
    "\n",
    "acc_gen_segments = segment_signal(acc_gen_first_hour, window_size = 20*fs_res, overlap = 0.5)\n",
    "acc_rooti_segments = segment_signal(acc_rooti_resampled, window_size = 20*fs_res, overlap = 0.5)"
   ]
  },
  {
   "cell_type": "code",
   "execution_count": 68,
   "metadata": {},
   "outputs": [
    {
     "data": {
      "text/plain": [
       "[<matplotlib.lines.Line2D at 0x3b96f7e60>]"
      ]
     },
     "execution_count": 68,
     "metadata": {},
     "output_type": "execute_result"
    }
   ],
   "source": [
    "plt.figure()\n",
    "plt.plot(acc_rooti_resampled)"
   ]
  },
  {
   "cell_type": "code",
   "execution_count": 70,
   "metadata": {},
   "outputs": [],
   "source": [
    "# 3. Compute the crosscorrelation between the two signals for each window\n",
    "from utils.crosscorr import crosscorr\n",
    "\n",
    "offsets = []\n",
    "max_corr = []\n",
    "lags = np.arange(-400, 401, 1) # 400 samples = 4s, resolution of 1 samples = 0.01s\n",
    "for i, (gen, rooti) in enumerate(zip(acc_gen_segments, acc_rooti_segments)):\n",
    "    if len(gen) != len(rooti):\n",
    "        continue\n",
    "    ccf = [crosscorr(gen, rooti, lag) for lag in lags]\n",
    "    max_corr.append(np.max(ccf))\n",
    "    offset = np.argmax(ccf) - lags[-1]\n",
    "    offset_s = offset / fs_res\n",
    "    offsets.append(offset_s)"
   ]
  },
  {
   "cell_type": "code",
   "execution_count": 71,
   "metadata": {},
   "outputs": [
    {
     "data": {
      "text/plain": [
       "<matplotlib.legend.Legend at 0x3af0caea0>"
      ]
     },
     "execution_count": 71,
     "metadata": {},
     "output_type": "execute_result"
    }
   ],
   "source": [
    "plt.figure(figsize = (11,5))\n",
    "plt.subplot(2, 1, 1)\n",
    "plt.plot(max_corr, '-*', label = \"Max correlation\")\n",
    "plt.xlabel(\"Window\")\n",
    "plt.ylabel(\"Correlation\")\n",
    "plt.legend()\n",
    "plt.subplot(2, 1, 2, sharex = plt.subplot(2, 1, 1))\n",
    "plt.plot(offsets, '-*', label = \"Offset (s)\")\n",
    "plt.xlabel(\"Window\")\n",
    "plt.ylabel(\"Offset (s)\")\n",
    "plt.legend()"
   ]
  },
  {
   "cell_type": "code",
   "execution_count": 59,
   "metadata": {},
   "outputs": [
    {
     "data": {
      "text/plain": [
       "<matplotlib.legend.Legend at 0x3a7190e60>"
      ]
     },
     "execution_count": 59,
     "metadata": {},
     "output_type": "execute_result"
    }
   ],
   "source": [
    "# Find the maximum correlation and the corresponding offset\n",
    "max_corr = np.array(max_corr)\n",
    "offsets = np.array(offsets)\n",
    "max_corr_idx = np.argmax(max_corr)\n",
    "max_corr_val = max_corr[max_corr_idx]\n",
    "\n",
    "# Apply the offset to the RootiRx signal\n",
    "offset = offsets[max_corr_idx]\n",
    "\n",
    "acc_rooti_synched = acc_rooti.copy()\n",
    "acc_rooti_synched.index = acc_rooti_synched.index - pd.Timedelta(f\"{offset}s\")\n",
    "# Plot the signals\n",
    "plt.figure(figsize = (19,11))\n",
    "plt.plot(acc_gen[\"acc_SMV\"].iloc[:500000], label = \"GENEActiv ACC SMV\")\n",
    "plt.plot(acc_rooti_synched[\"acc_SMV\"].iloc[:500000], label = \"RootiRx ACC SMV\")\n",
    "plt.ylabel(\"Acceleration (g)\")\n",
    "plt.legend(loc = \"upper left\")"
   ]
  },
  {
   "cell_type": "markdown",
   "metadata": {},
   "source": [
    "## Do it for all GENEActiv"
   ]
  },
  {
   "cell_type": "code",
   "execution_count": 12,
   "metadata": {},
   "outputs": [
    {
     "data": {
      "text/plain": [
       "dict_keys(['wrist', 'ankle'])"
      ]
     },
     "execution_count": 12,
     "metadata": {},
     "output_type": "execute_result"
    }
   ],
   "source": [
    "geneactiv.keys()"
   ]
  },
  {
   "cell_type": "code",
   "execution_count": null,
   "metadata": {},
   "outputs": [],
   "source": [
    "from utils.compute_acc_metrics import compute_acc_SMV\n",
    "\n",
    "# Compute SMV for the GENEActiv signals\n",
    "geneactiv[\"wrist\"][\"acc_SMV\"] = compute_acc_SMV(geneactiv[\"wrist\"])\n",
    "geneactiv[\"ankle\"][\"acc_SMV\"] = compute_acc_SMV(geneactiv[\"ankle\"])"
   ]
  },
  {
   "cell_type": "code",
   "execution_count": 32,
   "metadata": {},
   "outputs": [],
   "source": [
    "acc_gen_wirst_first_hour = geneactiv[\"wrist\"].loc[:geneactiv[\"wrist\"].index[0] + pd.Timedelta(\"5min\")][\"acc_SMV\"]\n",
    "acc_gen_ankle_first_hour = geneactiv[\"ankle\"].loc[:geneactiv[\"ankle\"].index[0] + pd.Timedelta(\"5min\")][\"acc_SMV\"]\n",
    "\n",
    "# 1. Resample the first hour of the signals to the same number of samples (for geneactiv 100 Hz)\n",
    "fs_res = 100\n",
    "\n",
    "from utils.resample_signal import apply_resample\n",
    "\n",
    "t_acc_gen_ankle_resampled, acc_gen_ankle_resampled = apply_resample(time = acc_gen_ankle_first_hour.index.astype(np.int64).to_numpy(), time_rs = acc_gen_wirst_first_hour.index.astype(np.int64).to_numpy(), \n",
    "                                     data = acc_gen_ankle_first_hour.values)\n",
    "\n",
    "acc_gen_ankle_resampled = pd.Series(acc_gen_ankle_resampled[0], index = pd.to_datetime(t_acc_gen_ankle_resampled))\n",
    "\n",
    "# 2. Segment the signals into 20s windows with 50% overlap\n",
    "\n",
    "from utils.segment_signal import segment_signal\n",
    "\n",
    "acc_gen_wrist_segments = segment_signal(acc_gen_wirst_first_hour, window_size = 20*fs_res, overlap = 0.5)\n",
    "acc_gen_ankle_segments = segment_signal(acc_gen_ankle_resampled, window_size = 20*fs_res, overlap = 0.5)"
   ]
  },
  {
   "cell_type": "code",
   "execution_count": 33,
   "metadata": {},
   "outputs": [
    {
     "data": {
      "text/plain": [
       "2025-01-17 11:38:44.000000000    0.987872\n",
       "2025-01-17 11:38:44.009999990    1.025177\n",
       "2025-01-17 11:38:44.019999981    1.045466\n",
       "2025-01-17 11:38:44.029999971    1.076971\n",
       "2025-01-17 11:38:44.039999962    1.043428\n",
       "                                   ...   \n",
       "2025-01-17 11:43:43.960000038    1.005571\n",
       "2025-01-17 11:43:43.970000029    1.005720\n",
       "2025-01-17 11:43:43.980000019    1.012752\n",
       "2025-01-17 11:43:43.990000010    1.011449\n",
       "2025-01-17 11:43:44.000000000    1.015252\n",
       "Name: acc_SMV, Length: 30001, dtype: float64"
      ]
     },
     "execution_count": 33,
     "metadata": {},
     "output_type": "execute_result"
    }
   ],
   "source": [
    "acc_gen_wirst_first_hour"
   ]
  },
  {
   "cell_type": "code",
   "execution_count": 35,
   "metadata": {},
   "outputs": [
    {
     "data": {
      "text/plain": [
       "<matplotlib.legend.Legend at 0x3c7dac740>"
      ]
     },
     "execution_count": 35,
     "metadata": {},
     "output_type": "execute_result"
    }
   ],
   "source": [
    "# 3. Compute the crosscorrelation between the two signals for each window\n",
    "\n",
    "from utils.crosscorr import crosscorr\n",
    "\n",
    "offsets = []\n",
    "max_corr = []\n",
    "lags = np.arange(-400, 401, 1) # 400 samples = 4s, resolution of 1 samples = 0.01s\n",
    "for i, (wrist, ankle) in enumerate(zip(acc_gen_wrist_segments, acc_gen_ankle_segments)):\n",
    "    if len(wrist) != len(ankle):\n",
    "        continue\n",
    "    ccf = [crosscorr(wrist, ankle, lag) for lag in lags]\n",
    "    max_corr.append(np.max(ccf))\n",
    "    offset = np.argmax(ccf) - lags[-1]\n",
    "    offset_s = offset / fs_res\n",
    "    offsets.append(offset_s)\n",
    "\n",
    "plt.figure(figsize = (11,5))\n",
    "plt.subplot(2, 1, 1)\n",
    "plt.plot(max_corr, '-*', label = \"Max correlation\")\n",
    "plt.xlabel(\"Window\")\n",
    "plt.ylabel(\"Correlation\")\n",
    "plt.legend()\n",
    "plt.subplot(2, 1, 2, sharex = plt.subplot(2, 1, 1))\n",
    "plt.plot(offsets, '-*', label = \"Offset (s)\")\n",
    "plt.xlabel(\"Window\")\n",
    "plt.ylabel(\"Offset (s)\")\n",
    "plt.legend()"
   ]
  },
  {
   "cell_type": "code",
   "execution_count": null,
   "metadata": {},
   "outputs": [
    {
     "data": {
      "text/plain": [
       "<matplotlib.legend.Legend at 0x38d5156a0>"
      ]
     },
     "execution_count": 36,
     "metadata": {},
     "output_type": "execute_result"
    }
   ],
   "source": [
    "# Find the maximum correlation and the corresponding offset\n",
    "max_corr = np.array(max_corr)\n",
    "offsets = np.array(offsets)\n",
    "max_corr_idx = np.argmax(max_corr)\n",
    "max_corr_val = max_corr[max_corr_idx]\n",
    "offset = offsets[max_corr_idx]\n",
    "\n",
    "# Apply the offset to the GENEActiv ankle signal\n",
    "acc_gen_ankle_synched = geneactiv[\"ankle\"].copy()\n",
    "acc_gen_ankle_synched.index = acc_gen_ankle_synched.index - pd.Timedelta(f\"{offset}s\")\n",
    "\n",
    "# Plot the signals\n",
    "plt.figure(figsize = (19,11))\n",
    "plt.plot(geneactiv[\"wrist\"][\"acc_SMV\"].iloc[:500000], label = \"GENEActiv wrist ACC SMV\")\n",
    "plt.plot(acc_gen_ankle_synched[\"acc_SMV\"].iloc[:500000], label = \"GENEActiv ankle ACC SMV\")\n",
    "plt.ylabel(\"Acceleration (g)\")\n",
    "plt.legend(loc = \"upper left\")"
   ]
  },
  {
   "cell_type": "code",
   "execution_count": 37,
   "metadata": {},
   "outputs": [
    {
     "data": {
      "application/vnd.microsoft.datawrangler.viewer.v0+json": {
       "columns": [
        {
         "name": "index",
         "rawType": "datetime64[ns]",
         "type": "datetime"
        },
        {
         "name": "x",
         "rawType": "float64",
         "type": "float"
        },
        {
         "name": "y",
         "rawType": "float64",
         "type": "float"
        },
        {
         "name": "z",
         "rawType": "float64",
         "type": "float"
        },
        {
         "name": "acc_SMV",
         "rawType": "float64",
         "type": "float"
        }
       ],
       "conversionMethod": "pd.DataFrame",
       "ref": "738393fb-115d-4750-a357-7becef71638b",
       "rows": [
        [
         "2025-01-17 11:38:44",
         "-0.14322027166573995",
         "-0.9759112771793139",
         "0.05455548115177059",
         "0.9878720401273989"
        ],
        [
         "2025-01-17 11:38:44.009999990",
         "-0.13130510763364842",
         "-1.0156616448702152",
         "0.046677433332020325",
         "1.0251772485446702"
        ],
        [
         "2025-01-17 11:38:44.019999981",
         "-0.13130510763364842",
         "-1.0355368287156657",
         "0.058494505061645725",
         "1.0454660023356037"
        ],
        [
         "2025-01-17 11:38:44.029999971",
         "-0.12733338628961793",
         "-1.0633620860992965",
         "0.11364083979989759",
         "1.076971196405853"
        ],
        [
         "2025-01-17 11:38:44.039999962",
         "-0.11938994360155691",
         "-1.0315617919465756",
         "0.10182376807027219",
         "1.0434278935227108"
        ]
       ],
       "shape": {
        "columns": 4,
        "rows": 5
       }
      },
      "text/html": [
       "<div>\n",
       "<style scoped>\n",
       "    .dataframe tbody tr th:only-of-type {\n",
       "        vertical-align: middle;\n",
       "    }\n",
       "\n",
       "    .dataframe tbody tr th {\n",
       "        vertical-align: top;\n",
       "    }\n",
       "\n",
       "    .dataframe thead th {\n",
       "        text-align: right;\n",
       "    }\n",
       "</style>\n",
       "<table border=\"1\" class=\"dataframe\">\n",
       "  <thead>\n",
       "    <tr style=\"text-align: right;\">\n",
       "      <th></th>\n",
       "      <th>x</th>\n",
       "      <th>y</th>\n",
       "      <th>z</th>\n",
       "      <th>acc_SMV</th>\n",
       "    </tr>\n",
       "  </thead>\n",
       "  <tbody>\n",
       "    <tr>\n",
       "      <th>2025-01-17 11:38:44.000000000</th>\n",
       "      <td>-0.143220</td>\n",
       "      <td>-0.975911</td>\n",
       "      <td>0.054555</td>\n",
       "      <td>0.987872</td>\n",
       "    </tr>\n",
       "    <tr>\n",
       "      <th>2025-01-17 11:38:44.009999990</th>\n",
       "      <td>-0.131305</td>\n",
       "      <td>-1.015662</td>\n",
       "      <td>0.046677</td>\n",
       "      <td>1.025177</td>\n",
       "    </tr>\n",
       "    <tr>\n",
       "      <th>2025-01-17 11:38:44.019999981</th>\n",
       "      <td>-0.131305</td>\n",
       "      <td>-1.035537</td>\n",
       "      <td>0.058495</td>\n",
       "      <td>1.045466</td>\n",
       "    </tr>\n",
       "    <tr>\n",
       "      <th>2025-01-17 11:38:44.029999971</th>\n",
       "      <td>-0.127333</td>\n",
       "      <td>-1.063362</td>\n",
       "      <td>0.113641</td>\n",
       "      <td>1.076971</td>\n",
       "    </tr>\n",
       "    <tr>\n",
       "      <th>2025-01-17 11:38:44.039999962</th>\n",
       "      <td>-0.119390</td>\n",
       "      <td>-1.031562</td>\n",
       "      <td>0.101824</td>\n",
       "      <td>1.043428</td>\n",
       "    </tr>\n",
       "  </tbody>\n",
       "</table>\n",
       "</div>"
      ],
      "text/plain": [
       "                                      x         y         z   acc_SMV\n",
       "2025-01-17 11:38:44.000000000 -0.143220 -0.975911  0.054555  0.987872\n",
       "2025-01-17 11:38:44.009999990 -0.131305 -1.015662  0.046677  1.025177\n",
       "2025-01-17 11:38:44.019999981 -0.131305 -1.035537  0.058495  1.045466\n",
       "2025-01-17 11:38:44.029999971 -0.127333 -1.063362  0.113641  1.076971\n",
       "2025-01-17 11:38:44.039999962 -0.119390 -1.031562  0.101824  1.043428"
      ]
     },
     "execution_count": 37,
     "metadata": {},
     "output_type": "execute_result"
    }
   ],
   "source": [
    "geneactiv[\"wrist\"].head()"
   ]
  },
  {
   "cell_type": "code",
   "execution_count": null,
   "metadata": {},
   "outputs": [],
   "source": [
    "from nonwear.DETACH import nimbaldetach\n",
    "\n",
    "# Apply the non-wear detection algorithm to the GENEActiv wrist signal\n",
    "start_stop_nw, _ = nimbaldetach(acc['x'].values, acc['y'].values, acc['z'].values, temp[\"temp\"].values, accel_freq=64, temperature_freq=1, quiet=True)"
   ]
  },
  {
   "cell_type": "markdown",
   "metadata": {},
   "source": [
    "# Create the structure in the silver layer"
   ]
  },
  {
   "cell_type": "code",
   "execution_count": 2,
   "metadata": {},
   "outputs": [],
   "source": [
    "silver_layer_path = \"/Users/augenpro/Documents/Age-IT/data/Silver/\"\n",
    "\n",
    "# Create the same folder structure for the Silver data\n",
    "data_path = \"/Users/augenpro/Documents/Age-IT/data/Gold/\" # path to the folder containing the subjects\n",
    "\n",
    "participants = sorted([p for p in os.listdir(data_path) if not p.startswith(\".\")]) # list of the participants\n",
    "timeline = [\"T0 (baseline)\", \"T1 (6 mesi)\", \"T2 (12 mesi)\"]\n",
    "\n",
    "for participant in participants:\n",
    "    for visit in timeline:\n",
    "        path = os.path.join(silver_layer_path, participant, visit)\n",
    "        os.makedirs(path, exist_ok=True)\n",
    "        os.makedirs(os.path.join(path, \"GeneActivPolso\"), exist_ok=True)\n",
    "        os.makedirs(os.path.join(path, \"GeneActivCaviglia\"), exist_ok=True)\n",
    "        os.makedirs(os.path.join(path, \"RootiRx\"), exist_ok=True)\n",
    "        os.makedirs(os.path.join(path, \"VeritySense\"), exist_ok=True)\n",
    "        os.makedirs(os.path.join(path, \"Diario\"), exist_ok=True)"
   ]
  },
  {
   "cell_type": "markdown",
   "metadata": {},
   "source": [
    "# Process GGIR output"
   ]
  },
  {
   "cell_type": "code",
   "execution_count": 2,
   "metadata": {},
   "outputs": [],
   "source": [
    "from matplotlib.backends.backend_pdf import PdfPages\n",
    "from utils.compute_acc_metrics import compute_anglez\n",
    "import seaborn as sns\n",
    "sns.set_context(\"talk\")"
   ]
  },
  {
   "cell_type": "markdown",
   "metadata": {},
   "source": [
    "Diary legend:\n",
    "- 1 --> lights off\n",
    "- 2 --> lights on"
   ]
  },
  {
   "cell_type": "markdown",
   "metadata": {},
   "source": [
    "#### Generate PDF for report"
   ]
  },
  {
   "cell_type": "code",
   "execution_count": null,
   "metadata": {},
   "outputs": [
    {
     "ename": "SyntaxError",
     "evalue": "unmatched ')' (3601841548.py, line 85)",
     "output_type": "error",
     "traceback": [
      "\u001b[0;36m  Cell \u001b[0;32mIn[30], line 85\u001b[0;36m\u001b[0m\n\u001b[0;31m    SPT_HDCZA_and_diary.to_csv(os.path.join(silver_layer_path, participant, visit, \"GeneActivPolso\", \"SPT_HDCZA_and_diary.csv\")))\u001b[0m\n\u001b[0m                                                                                                                                ^\u001b[0m\n\u001b[0;31mSyntaxError\u001b[0m\u001b[0;31m:\u001b[0m unmatched ')'\n"
     ]
    }
   ],
   "source": [
    "ageit_path = \"/Users/augenpro/Documents/Age-IT/\"\n",
    "silver_layer_path = \"/Users/augenpro/Documents/Age-IT/data/Silver/\"\n",
    "bronze_layer_path = \"/Users/augenpro/Documents/Age-IT/data/Bronze/\"\n",
    "\n",
    "participants = sorted([p for p in os.listdir(silver_layer_path) if not p.startswith(\".\")]) # list of the participants\n",
    "timeline = [\"T0 (baseline)\", \"T1 (6 mesi)\", \"T2 (12 mesi)\"]\n",
    "visit = \"T0 (baseline)\"\n",
    "sensors = [\"GeneActivPolso\", \"GeneActivCaviglia\"]\n",
    "sensor = sensors[0]\n",
    "\n",
    "lights_off_events = [\"1) A letto\", \"1) A letto, luci spente\"]\n",
    "\n",
    "participants = [\"08667\", \"20603\", \"36765\"]\n",
    "# participants = [\"36765\"]\n",
    "\n",
    "GGIR_output_dir = \"output_icareit\"\n",
    "\n",
    "diary_df = pd.DataFrame()\n",
    "\n",
    "pdf_path = os.path.join(ageit_path, \"SleepReport_HDCZA_vs_Diary_wrist_newSubjects.pdf\")\n",
    "\n",
    "with PdfPages(pdf_path) as pdf:\n",
    "    for participant in participants:\n",
    "\n",
    "        print(f\"***** {participant} *****\")\n",
    "\n",
    "        ### Load the GENEActiv data (for debugging purposes only) ######\n",
    "        files = os.listdir(os.path.join(bronze_layer_path, participant, visit, sensor))\n",
    "        for f in files:\n",
    "            if f.endswith(\".parquet\"):\n",
    "                acc_gen = pd.read_parquet(os.path.join(bronze_layer_path, participant, visit, sensor, f))\n",
    "\n",
    "        ###### Load the GGIR output data ######\n",
    "        HDCZA_SPT = [] # start and end of SPT based on HDCZA (vanhees2018) \n",
    "        ggir_output_path = os.path.join(silver_layer_path, participant, visit, sensor, GGIR_output_dir)\n",
    "        if not os.path.exists(ggir_output_path): # Skip participants with no Data\n",
    "            continue\n",
    "        ggir_part4_output = pd.read_csv(ggir_output_path + \"/results/QC/part4_nightsummary_sleep_full.csv\")\n",
    "        for i, day_row in ggir_part4_output.iterrows():\n",
    "            # Stupid thing to get the correct datetime for segmenting signals into day and night (but no alternatives I guess)\n",
    "            if day_row[\"sleeponset_ts\"][0] == \"0\": # if the first digit is after midnight (00, 01, 02, ...)\n",
    "                sleep_onset = pd.to_datetime(str(pd.to_datetime(day_row[\"calendar_date\"]).date() + pd.Timedelta(\"1d\")) + \" \" + day_row[\"sleeponset_ts\"])\n",
    "            else:\n",
    "                sleep_onset = pd.to_datetime(str(pd.to_datetime(day_row[\"calendar_date\"]).date()) + \" \" + day_row[\"sleeponset_ts\"])\n",
    "            wake_onset = pd.to_datetime(str(pd.to_datetime(day_row[\"calendar_date\"]).date() + pd.Timedelta(\"1d\")) + \" \" + day_row[\"wakeup_ts\"])\n",
    "            day = pd.to_datetime(day_row[\"calendar_date\"]).date()\n",
    "            HDCZA_SPT.append((sleep_onset, wake_onset, day))\n",
    "        HDCZA_SPT = pd.DataFrame(HDCZA_SPT, columns = [\"sleep_onset_HDCZA\", \"wake_onset_HDCZA\", \"calendar_day\"])\n",
    "\n",
    "        ###### Load the diary data ######\n",
    "        diary_raw_path = os.path.join(bronze_layer_path, participant, visit, \"Diario\", f\"{participant}_{visit.split(\" \")[0]}_Diario.xlsx\")\n",
    "        if not os.path.exists(diary_raw_path): # Skip participants with no Data\n",
    "            continue\n",
    "        diary_raw = pd.read_excel(diary_raw_path, sheet_name=\"Ore\")\n",
    "        diary_raw = diary_raw.dropna(how = \"all\") # Drop empty rows\n",
    "        diary_raw = diary_raw[(diary_raw[\"Evento\"].apply(lambda x: x[:1]) == \"1\") | (diary_raw[\"Evento\"].apply(lambda x: x[:1]) == \"2\")].reset_index(drop = True)\n",
    "        diary_raw[\"Data\"] = diary_raw[\"Data\"].apply(lambda x: str(x).split(\" \")[0])\n",
    "        diary_raw[\"Ora inizio\"] = diary_raw[\"Ora inizio\"].apply(lambda x: str(x))\n",
    "        sleep_onset_diary = pd.to_datetime(diary_raw[diary_raw[\"Evento\"].apply(lambda x: x[:1]) == \"1\"][\"Data\"] + \" \" + diary_raw[diary_raw[\"Evento\"].apply(lambda x: x[:1]) == \"1\"][\"Ora inizio\"]).dropna().reset_index(drop = True)\n",
    "        wake_onset_diary = pd.to_datetime(diary_raw[diary_raw[\"Evento\"].apply(lambda x: x[:1]) == \"2\"][\"Data\"] + \" \" + diary_raw[diary_raw[\"Evento\"].apply(lambda x: x[:1]) == \"2\"][\"Ora inizio\"]).dropna().reset_index(drop = True)\n",
    "        diary_SPT = pd.DataFrame({\"sleep_onset_diary\": sleep_onset_diary, \"wake_onset_diary\": wake_onset_diary})\n",
    "        diary_SPT[\"calendar_day\"] = diary_SPT[\"sleep_onset_diary\"].apply(lambda x: (x - pd.Timedelta(days=1)).date() if x.hour < 12 else x.date())\n",
    "        # Fill the missing diary data\n",
    "        for i, row in HDCZA_SPT.iterrows():\n",
    "            if row[\"calendar_day\"] not in diary_SPT[\"calendar_day\"].values:\n",
    "                diary_SPT = pd.concat([diary_SPT, pd.DataFrame({\"sleep_onset_diary\": [np.nan], \"wake_onset_diary\": [np.nan], \"calendar_day\": [row[\"calendar_day\"]]})], ignore_index = True)\n",
    "        diary_SPT = diary_SPT.sort_values(by = \"calendar_day\").reset_index(drop = True)\n",
    "        HDCZA_SPT = HDCZA_SPT.sort_values(by = \"calendar_day\").reset_index(drop = True)\n",
    "\n",
    "        # Check the overlap between the HDCZA and diary SPT\n",
    "        overlap = []\n",
    "        for i, row in HDCZA_SPT.iterrows():\n",
    "            if row[\"calendar_day\"] in diary_SPT[\"calendar_day\"].values:\n",
    "                diary_row = diary_SPT[diary_SPT[\"calendar_day\"] == row[\"calendar_day\"]].iloc[0]\n",
    "                overlap.append((row[\"sleep_onset_HDCZA\"], row[\"wake_onset_HDCZA\"], diary_row[\"sleep_onset_diary\"], diary_row[\"wake_onset_diary\"], row[\"calendar_day\"]))\n",
    "        SPT_HDCZA_and_diary = pd.DataFrame(overlap, columns = [\"sleep_onset_HDCZA\", \"wake_onset_HDCZA\", \"sleep_onset_diary\", \"wake_onset_diary\", \"calendar_day\"])\n",
    "        SPT_HDCZA_and_diary[\"diff_sleep_onset\"] = (SPT_HDCZA_and_diary[\"sleep_onset_HDCZA\"] - SPT_HDCZA_and_diary[\"sleep_onset_diary\"]).dt.total_seconds() / 3600 # in hours\n",
    "        SPT_HDCZA_and_diary[\"diff_wake_onset\"] = (SPT_HDCZA_and_diary[\"wake_onset_HDCZA\"] - SPT_HDCZA_and_diary[\"wake_onset_diary\"]).dt.total_seconds() / 3600\n",
    "\n",
    "        # Flag if the difference between the HDCZA and diary SPT is more than 30 minutes\n",
    "        SPT_HDCZA_and_diary[\"flag_sleep_onset\"] = np.where(np.abs(SPT_HDCZA_and_diary[\"diff_sleep_onset\"]) > 30, 1, 0)\n",
    "        SPT_HDCZA_and_diary[\"flag_wake_onset\"] = np.where(np.abs(SPT_HDCZA_and_diary[\"diff_wake_onset\"]) > 30, 1, 0)\n",
    "        SPT_HDCZA_and_diary[\"participant\"] = participant\n",
    "\n",
    "        SPT_HDCZA_and_diary.to_csv(os.path.join(silver_layer_path, participant, visit, \"GeneActivPolso\", \"SPT_HDCZA_and_diary.csv\"))\n",
    "\n",
    "        diary_df = pd.concat([diary_df, SPT_HDCZA_and_diary])\n",
    "        # diary_df.to_csv(os.path.join(silver_layer_path, participant, visit, \"GeneActivPolso\", \"SPT_HDCZA_and_diary.csv\"))\n",
    "\n",
    "        ####### FIGURE AND PDF GENERATION #######\n",
    "\n",
    "        anglez = compute_anglez(acc_gen).to_frame()\n",
    "        anglez_output_path = os.path.join(silver_layer_path, participant, visit, sensor, \"anglez_wrist.parquet\")\n",
    "        # anglez = pd.read_parquet(os.path.join(silver_layer_path, participant, visit, sensor, \"anglez.parquet\"))\n",
    "\n",
    "        anglez.to_parquet(anglez_output_path)\n",
    "        diary_sub = diary_df[diary_df[\"participant\"] == participant]\n",
    "\n",
    "        plt.figure(figsize=(19,6))\n",
    "        plt.plot(anglez, linewidth = 0.79)\n",
    "        plt.ylabel(\"Angle Z (degrees)\")\n",
    "        plt.title(f\"Participant {participant}\")\n",
    "        for i, row in diary_sub.iterrows():\n",
    "            if participant not in [\"23483\", \"36920\", \"78936\"]:\n",
    "                plt.hlines(y = 95, xmin = row[\"sleep_onset_diary\"], xmax = row[\"wake_onset_diary\"], color = \"red\", linewidth = 9)     \n",
    "            else:\n",
    "                plt.title(f\"Participant {participant} - Sleep Diary Inconsistency\")\n",
    "            plt.axvspan(row[\"sleep_onset_HDCZA\"], row[\"wake_onset_HDCZA\"], color = \"blue\", alpha = 0.3)\n",
    "        # Put the legend out of the figure\n",
    "        if participant in [\"23483\", \"36920\", \"78936\"]:\n",
    "            plt.legend([\"Angle Z\", \"HDCZA SPT\"], frameon = True, fancybox = True, shadow = True, loc = \"lower right\", bbox_to_anchor=(1.12, 0.5))\n",
    "        else:\n",
    "            plt.legend([\"Angle Z\", \"Diary SPT\", \"HDCZA SPT\"], frameon = True, fancybox = True, shadow = True, loc = \"lower right\", bbox_to_anchor=(1.12, 0.5))\n",
    "\n",
    "        pdf.savefig()\n",
    "        plt.close()\n",
    "\n",
    "# Drop data of participant 78936\n",
    "# diary_df = diary_df[diary_df[\"participant\"] != \"78936\"]  "
   ]
  },
  {
   "cell_type": "code",
   "execution_count": 31,
   "metadata": {},
   "outputs": [
    {
     "name": "stdout",
     "output_type": "stream",
     "text": [
      "***** 08667 *****\n",
      "***** 20603 *****\n",
      "***** 36765 *****\n"
     ]
    }
   ],
   "source": [
    "ageit_path = \"/Users/augenpro/Documents/Age-IT/\"\n",
    "silver_layer_path = \"/Users/augenpro/Documents/Age-IT/data/Silver/\"\n",
    "bronze_layer_path = \"/Users/augenpro/Documents/Age-IT/data/Bronze/\"\n",
    "\n",
    "participants = sorted([p for p in os.listdir(silver_layer_path) if not p.startswith(\".\")]) # list of the participants\n",
    "timeline = [\"T0 (baseline)\", \"T1 (6 mesi)\", \"T2 (12 mesi)\"]\n",
    "visit = \"T0 (baseline)\"\n",
    "sensors = [\"GeneActivPolso\", \"GeneActivCaviglia\"]\n",
    "sensor = sensors[0]\n",
    "\n",
    "lights_off_events = [\"1) A letto\", \"1) A letto, luci spente\"]\n",
    "\n",
    "participants = [\"08667\", \"20603\", \"36765\"]\n",
    "# participants = [\"36765\"]\n",
    "\n",
    "GGIR_output_dir = \"output_icareit\"\n",
    "\n",
    "diary_df = pd.DataFrame()\n",
    "\n",
    "pdf_path = os.path.join(ageit_path, \"SleepReport_HDCZA_vs_Diary_wrist_newSubjects.pdf\")\n",
    "\n",
    "for participant in participants:\n",
    "\n",
    "    print(f\"***** {participant} *****\")\n",
    "\n",
    "    ### Load the GENEActiv data (for debugging purposes only) ######\n",
    "    files = os.listdir(os.path.join(bronze_layer_path, participant, visit, sensor))\n",
    "    for f in files:\n",
    "        if f.endswith(\".parquet\"):\n",
    "            acc_gen = pd.read_parquet(os.path.join(bronze_layer_path, participant, visit, sensor, f))\n",
    "\n",
    "    ###### Load the GGIR output data ######\n",
    "    HDCZA_SPT = [] # start and end of SPT based on HDCZA (vanhees2018) \n",
    "    ggir_output_path = os.path.join(silver_layer_path, participant, visit, sensor, GGIR_output_dir)\n",
    "    if not os.path.exists(ggir_output_path): # Skip participants with no Data\n",
    "        continue\n",
    "    ggir_part4_output = pd.read_csv(ggir_output_path + \"/results/QC/part4_nightsummary_sleep_full.csv\")\n",
    "    for i, day_row in ggir_part4_output.iterrows():\n",
    "        # Stupid thing to get the correct datetime for segmenting signals into day and night (but no alternatives I guess)\n",
    "        if day_row[\"sleeponset_ts\"][0] == \"0\": # if the first digit is after midnight (00, 01, 02, ...)\n",
    "            sleep_onset = pd.to_datetime(str(pd.to_datetime(day_row[\"calendar_date\"]).date() + pd.Timedelta(\"1d\")) + \" \" + day_row[\"sleeponset_ts\"])\n",
    "        else:\n",
    "            sleep_onset = pd.to_datetime(str(pd.to_datetime(day_row[\"calendar_date\"]).date()) + \" \" + day_row[\"sleeponset_ts\"])\n",
    "        wake_onset = pd.to_datetime(str(pd.to_datetime(day_row[\"calendar_date\"]).date() + pd.Timedelta(\"1d\")) + \" \" + day_row[\"wakeup_ts\"])\n",
    "        day = pd.to_datetime(day_row[\"calendar_date\"]).date()\n",
    "        HDCZA_SPT.append((sleep_onset, wake_onset, day))\n",
    "    HDCZA_SPT = pd.DataFrame(HDCZA_SPT, columns = [\"sleep_onset_HDCZA\", \"wake_onset_HDCZA\", \"calendar_day\"])\n",
    "\n",
    "    ###### Load the diary data ######\n",
    "    diary_raw_path = os.path.join(bronze_layer_path, participant, visit, \"Diario\", f\"{participant}_{visit.split(\" \")[0]}_Diario.xlsx\")\n",
    "    if not os.path.exists(diary_raw_path): # Skip participants with no Data\n",
    "        continue\n",
    "    diary_raw = pd.read_excel(diary_raw_path, sheet_name=\"Ore\")\n",
    "    diary_raw = diary_raw.dropna(how = \"all\") # Drop empty rows\n",
    "    diary_raw = diary_raw[(diary_raw[\"Evento\"].apply(lambda x: x[:1]) == \"1\") | (diary_raw[\"Evento\"].apply(lambda x: x[:1]) == \"2\")].reset_index(drop = True)\n",
    "    diary_raw[\"Data\"] = diary_raw[\"Data\"].apply(lambda x: str(x).split(\" \")[0])\n",
    "    diary_raw[\"Ora inizio\"] = diary_raw[\"Ora inizio\"].apply(lambda x: str(x))\n",
    "    sleep_onset_diary = pd.to_datetime(diary_raw[diary_raw[\"Evento\"].apply(lambda x: x[:1]) == \"1\"][\"Data\"] + \" \" + diary_raw[diary_raw[\"Evento\"].apply(lambda x: x[:1]) == \"1\"][\"Ora inizio\"]).dropna().reset_index(drop = True)\n",
    "    wake_onset_diary = pd.to_datetime(diary_raw[diary_raw[\"Evento\"].apply(lambda x: x[:1]) == \"2\"][\"Data\"] + \" \" + diary_raw[diary_raw[\"Evento\"].apply(lambda x: x[:1]) == \"2\"][\"Ora inizio\"]).dropna().reset_index(drop = True)\n",
    "    diary_SPT = pd.DataFrame({\"sleep_onset_diary\": sleep_onset_diary, \"wake_onset_diary\": wake_onset_diary})\n",
    "    diary_SPT[\"calendar_day\"] = diary_SPT[\"sleep_onset_diary\"].apply(lambda x: (x - pd.Timedelta(days=1)).date() if x.hour < 12 else x.date())\n",
    "    # Fill the missing diary data\n",
    "    for i, row in HDCZA_SPT.iterrows():\n",
    "        if row[\"calendar_day\"] not in diary_SPT[\"calendar_day\"].values:\n",
    "            diary_SPT = pd.concat([diary_SPT, pd.DataFrame({\"sleep_onset_diary\": [np.nan], \"wake_onset_diary\": [np.nan], \"calendar_day\": [row[\"calendar_day\"]]})], ignore_index = True)\n",
    "    diary_SPT = diary_SPT.sort_values(by = \"calendar_day\").reset_index(drop = True)\n",
    "    HDCZA_SPT = HDCZA_SPT.sort_values(by = \"calendar_day\").reset_index(drop = True)\n",
    "\n",
    "    # Check the overlap between the HDCZA and diary SPT\n",
    "    overlap = []\n",
    "    for i, row in HDCZA_SPT.iterrows():\n",
    "        if row[\"calendar_day\"] in diary_SPT[\"calendar_day\"].values:\n",
    "            diary_row = diary_SPT[diary_SPT[\"calendar_day\"] == row[\"calendar_day\"]].iloc[0]\n",
    "            overlap.append((row[\"sleep_onset_HDCZA\"], row[\"wake_onset_HDCZA\"], diary_row[\"sleep_onset_diary\"], diary_row[\"wake_onset_diary\"], row[\"calendar_day\"]))\n",
    "    SPT_HDCZA_and_diary = pd.DataFrame(overlap, columns = [\"sleep_onset_HDCZA\", \"wake_onset_HDCZA\", \"sleep_onset_diary\", \"wake_onset_diary\", \"calendar_day\"])\n",
    "    SPT_HDCZA_and_diary[\"diff_sleep_onset\"] = (SPT_HDCZA_and_diary[\"sleep_onset_HDCZA\"] - SPT_HDCZA_and_diary[\"sleep_onset_diary\"]).dt.total_seconds() / 3600 # in hours\n",
    "    SPT_HDCZA_and_diary[\"diff_wake_onset\"] = (SPT_HDCZA_and_diary[\"wake_onset_HDCZA\"] - SPT_HDCZA_and_diary[\"wake_onset_diary\"]).dt.total_seconds() / 3600\n",
    "\n",
    "    # Flag if the difference between the HDCZA and diary SPT is more than 30 minutes\n",
    "    SPT_HDCZA_and_diary[\"flag_sleep_onset\"] = np.where(np.abs(SPT_HDCZA_and_diary[\"diff_sleep_onset\"]) > 30, 1, 0)\n",
    "    SPT_HDCZA_and_diary[\"flag_wake_onset\"] = np.where(np.abs(SPT_HDCZA_and_diary[\"diff_wake_onset\"]) > 30, 1, 0)\n",
    "    SPT_HDCZA_and_diary[\"participant\"] = participant\n",
    "\n",
    "    SPT_HDCZA_and_diary.to_csv(os.path.join(silver_layer_path, participant, visit, \"GeneActivPolso\", \"SPT_HDCZA_and_diary.csv\"))\n",
    "\n",
    "# Drop data of participant 78936\n",
    "# diary_df = diary_df[diary_df[\"participant\"] != \"78936\"]  "
   ]
  },
  {
   "cell_type": "code",
   "execution_count": null,
   "metadata": {},
   "outputs": [
    {
     "name": "stdout",
     "output_type": "stream",
     "text": [
      "2025-01-21 22:00:00 2025-01-22 07:00:00\n",
      "2025-01-22 22:00:00 2025-01-23 07:00:00\n",
      "NaT NaT\n",
      "2025-01-25 00:15:00 2025-01-26 07:00:00\n",
      "NaT NaT\n",
      "2025-01-26 23:00:00 2025-01-27 07:00:00\n",
      "2025-01-27 23:00:00 2025-01-28 06:45:00\n"
     ]
    },
    {
     "data": {
      "text/plain": [
       "<matplotlib.legend.Legend at 0x136502150>"
      ]
     },
     "execution_count": 53,
     "metadata": {},
     "output_type": "execute_result"
    }
   ],
   "source": [
    "# anglez = compute_anglez(acc_gen)\n",
    "\n",
    "diary_sub = diary_df[diary_df[\"participant\"] == \"23483\"]\n",
    "\n",
    "plt.figure(figsize=(19,11))\n",
    "plt.plot(anglez, linewidth = 0.91)\n",
    "plt.ylabel(\"Angle Z (degrees)\")\n",
    "for i, row in diary_sub.iterrows():\n",
    "    plt.axvspan(row[\"sleep_onset_HDCZA\"], row[\"wake_onset_HDCZA\"], color = \"blue\", alpha = 0.3)\n",
    "    plt.hlines(y = 90, xmin = row[\"sleep_onset_diary\"], xmax = row[\"wake_onset_diary\"], color = \"red\")\n",
    "    print(row[\"sleep_onset_diary\"], row[\"wake_onset_diary\"])\n",
    "plt.legend([\"Angle Z\", \"HDCZA SPT\", \"Diary SPT\"], frameon = True, fancybox = True, shadow = True, loc = \"lower right\")"
   ]
  },
  {
   "cell_type": "code",
   "execution_count": 11,
   "metadata": {},
   "outputs": [
    {
     "data": {
      "text/plain": [
       "Text(0, 0.5, 'Frequency')"
      ]
     },
     "execution_count": 11,
     "metadata": {},
     "output_type": "execute_result"
    }
   ],
   "source": [
    "plt.figure(figsize = (11,5))\n",
    "plt.subplot(1, 2, 1)\n",
    "sns.histplot(diary_df[\"diff_sleep_onset\"], bins = 50)\n",
    "plt.axvline(x = 0, color = \"black\", linestyle = \"--\")\n",
    "plt.xlabel(\"Difference in sleep onset (hours), n=15 subjects\")\n",
    "plt.ylabel(\"Frequency\")\n",
    "plt.subplot(1, 2, 2)\n",
    "sns.histplot(diary_df[\"diff_wake_onset\"], bins = 50)\n",
    "plt.axvline(x = 0, color = \"black\", linestyle = \"--\")\n",
    "plt.xlabel(\"Difference in wake onset (hours), n=15 subjects\")\n",
    "plt.ylabel(\"Frequency\")"
   ]
  },
  {
   "cell_type": "code",
   "execution_count": null,
   "metadata": {},
   "outputs": [
    {
     "data": {
      "text/plain": [
       "<Axes: xlabel='diff_sleep_onset', ylabel='Count'>"
      ]
     },
     "execution_count": 50,
     "metadata": {},
     "output_type": "execute_result"
    }
   ],
   "source": [
    "# Check the overlap between the HDCZA and diary SPT\n",
    "overlap = []\n",
    "for i, row in HDCZA_SPT.iterrows():\n",
    "    if row[\"calendar_day\"] in diary_SPT[\"calendar_day\"].values:\n",
    "        diary_row = diary_SPT[diary_SPT[\"calendar_day\"] == row[\"calendar_day\"]].iloc[0]\n",
    "        overlap.append((row[\"sleep_onset_HDCZA\"], row[\"wake_onset_HDCZA\"], diary_row[\"sleep_onset_diary\"], diary_row[\"wake_onset_diary\"], row[\"calendar_day\"]))\n",
    "SPT_HDCZA_and_diary = pd.DataFrame(overlap, columns = [\"sleep_onset_HDCZA\", \"wake_onset_HDCZA\", \"sleep_onset_diary\", \"wake_onset_diary\", \"calendar_day\"])\n",
    "SPT_HDCZA_and_diary[\"diff_sleep_onset\"] = (SPT_HDCZA_and_diary[\"sleep_onset_HDCZA\"] - SPT_HDCZA_and_diary[\"sleep_onset_diary\"]).dt.total_seconds() / 60\n",
    "SPT_HDCZA_and_diary[\"diff_wake_onset\"] = (SPT_HDCZA_and_diary[\"wake_onset_HDCZA\"] - SPT_HDCZA_and_diary[\"wake_onset_diary\"]).dt.total_seconds() / 60\n",
    "\n",
    "# Flag if the difference between the HDCZA and diary SPT is more than 30 minutes\n",
    "SPT_HDCZA_and_diary[\"flag_sleep_onset\"] = np.where(np.abs(SPT_HDCZA_and_diary[\"diff_sleep_onset\"]) > 30, 1, 0)\n",
    "SPT_HDCZA_and_diary[\"flag_wake_onset\"] = np.where(np.abs(SPT_HDCZA_and_diary[\"diff_wake_onset\"]) > 30, 1, 0)\n",
    "\n",
    "# Plot the discrepancies between the HDCZA and diary SPT\n",
    "import seaborn as sns\n",
    "sns.set_context(\"talk\")\n",
    "plt.figure(figsize = (19,11))\n",
    "sns.histplot(SPT_HDCZA_and_diary[\"diff_sleep_onset\"]/60, bins = 50, color = \"blue\", kde = True, label = \"Sleep onset\")"
   ]
  },
  {
   "cell_type": "code",
   "execution_count": 51,
   "metadata": {},
   "outputs": [
    {
     "data": {
      "text/plain": [
       "0   -124.333333\n",
       "1     24.333333\n",
       "2     30.000000\n",
       "3   -250.333333\n",
       "4           NaN\n",
       "5           NaN\n",
       "6           NaN\n",
       "Name: diff_sleep_onset, dtype: float64"
      ]
     },
     "execution_count": 51,
     "metadata": {},
     "output_type": "execute_result"
    }
   ],
   "source": [
    "SPT_HDCZA_and_diary[\"diff_sleep_onset\"]"
   ]
  },
  {
   "cell_type": "markdown",
   "metadata": {},
   "source": [
    "#### Activity Counts"
   ]
  },
  {
   "cell_type": "code",
   "execution_count": 4,
   "metadata": {},
   "outputs": [
    {
     "name": "stdout",
     "output_type": "stream",
     "text": [
      "***** 08623 *****\n",
      "***** 08667 *****\n",
      "***** 14219 *****\n",
      "***** 20603 *****\n",
      "***** 23483 *****\n",
      "***** 36644 *****\n",
      "***** 36765 *****\n",
      "***** 36920 *****\n"
     ]
    },
    {
     "ename": "KeyboardInterrupt",
     "evalue": "",
     "output_type": "error",
     "traceback": [
      "\u001b[0;31m---------------------------------------------------------------------------\u001b[0m",
      "\u001b[0;31mKeyboardInterrupt\u001b[0m                         Traceback (most recent call last)",
      "Cell \u001b[0;32mIn[4], line 79\u001b[0m\n\u001b[1;32m     76\u001b[0m         ax1\u001b[38;5;241m.\u001b[39mgrid(\u001b[38;5;28;01mTrue\u001b[39;00m, linestyle\u001b[38;5;241m=\u001b[39m\u001b[38;5;124m'\u001b[39m\u001b[38;5;124m--\u001b[39m\u001b[38;5;124m'\u001b[39m, linewidth\u001b[38;5;241m=\u001b[39m\u001b[38;5;241m0.5\u001b[39m)\n\u001b[1;32m     77\u001b[0m         ax2\u001b[38;5;241m.\u001b[39mgrid(\u001b[38;5;28;01mTrue\u001b[39;00m, linestyle\u001b[38;5;241m=\u001b[39m\u001b[38;5;124m'\u001b[39m\u001b[38;5;124m--\u001b[39m\u001b[38;5;124m'\u001b[39m, linewidth\u001b[38;5;241m=\u001b[39m\u001b[38;5;241m0.5\u001b[39m)\n\u001b[0;32m---> 79\u001b[0m         \u001b[43mpdf\u001b[49m\u001b[38;5;241;43m.\u001b[39;49m\u001b[43msavefig\u001b[49m\u001b[43m(\u001b[49m\u001b[43m)\u001b[49m\n\u001b[1;32m     80\u001b[0m         plt\u001b[38;5;241m.\u001b[39mclose()\n\u001b[1;32m     82\u001b[0m \u001b[38;5;66;03m# Drop data of participant 78936\u001b[39;00m\n\u001b[1;32m     83\u001b[0m \u001b[38;5;66;03m# diary_df = diary_df[diary_df[\"participant\"] != \"78936\"]  \u001b[39;00m\n",
      "File \u001b[0;32m/opt/anaconda3/envs/DARE/lib/python3.12/site-packages/matplotlib/backends/backend_pdf.py:2766\u001b[0m, in \u001b[0;36mPdfPages.savefig\u001b[0;34m(self, figure, **kwargs)\u001b[0m\n\u001b[1;32m   2764\u001b[0m \u001b[38;5;66;03m# Force use of pdf backend, as PdfPages is tightly coupled with it.\u001b[39;00m\n\u001b[1;32m   2765\u001b[0m \u001b[38;5;28;01mwith\u001b[39;00m cbook\u001b[38;5;241m.\u001b[39m_setattr_cm(figure, canvas\u001b[38;5;241m=\u001b[39mFigureCanvasPdf(figure)):\n\u001b[0;32m-> 2766\u001b[0m     \u001b[43mfigure\u001b[49m\u001b[38;5;241;43m.\u001b[39;49m\u001b[43msavefig\u001b[49m\u001b[43m(\u001b[49m\u001b[38;5;28;43mself\u001b[39;49m\u001b[43m,\u001b[49m\u001b[43m \u001b[49m\u001b[38;5;28;43mformat\u001b[39;49m\u001b[38;5;241;43m=\u001b[39;49m\u001b[38;5;124;43m\"\u001b[39;49m\u001b[38;5;124;43mpdf\u001b[39;49m\u001b[38;5;124;43m\"\u001b[39;49m\u001b[43m,\u001b[49m\u001b[43m \u001b[49m\u001b[38;5;241;43m*\u001b[39;49m\u001b[38;5;241;43m*\u001b[39;49m\u001b[43mkwargs\u001b[49m\u001b[43m)\u001b[49m\n",
      "File \u001b[0;32m/opt/anaconda3/envs/DARE/lib/python3.12/site-packages/matplotlib/figure.py:3390\u001b[0m, in \u001b[0;36mFigure.savefig\u001b[0;34m(self, fname, transparent, **kwargs)\u001b[0m\n\u001b[1;32m   3388\u001b[0m     \u001b[38;5;28;01mfor\u001b[39;00m ax \u001b[38;5;129;01min\u001b[39;00m \u001b[38;5;28mself\u001b[39m\u001b[38;5;241m.\u001b[39maxes:\n\u001b[1;32m   3389\u001b[0m         _recursively_make_axes_transparent(stack, ax)\n\u001b[0;32m-> 3390\u001b[0m \u001b[38;5;28;43mself\u001b[39;49m\u001b[38;5;241;43m.\u001b[39;49m\u001b[43mcanvas\u001b[49m\u001b[38;5;241;43m.\u001b[39;49m\u001b[43mprint_figure\u001b[49m\u001b[43m(\u001b[49m\u001b[43mfname\u001b[49m\u001b[43m,\u001b[49m\u001b[43m \u001b[49m\u001b[38;5;241;43m*\u001b[39;49m\u001b[38;5;241;43m*\u001b[39;49m\u001b[43mkwargs\u001b[49m\u001b[43m)\u001b[49m\n",
      "File \u001b[0;32m/opt/anaconda3/envs/DARE/lib/python3.12/site-packages/matplotlib/backend_bases.py:2193\u001b[0m, in \u001b[0;36mFigureCanvasBase.print_figure\u001b[0;34m(self, filename, dpi, facecolor, edgecolor, orientation, format, bbox_inches, pad_inches, bbox_extra_artists, backend, **kwargs)\u001b[0m\n\u001b[1;32m   2189\u001b[0m \u001b[38;5;28;01mtry\u001b[39;00m:\n\u001b[1;32m   2190\u001b[0m     \u001b[38;5;66;03m# _get_renderer may change the figure dpi (as vector formats\u001b[39;00m\n\u001b[1;32m   2191\u001b[0m     \u001b[38;5;66;03m# force the figure dpi to 72), so we need to set it again here.\u001b[39;00m\n\u001b[1;32m   2192\u001b[0m     \u001b[38;5;28;01mwith\u001b[39;00m cbook\u001b[38;5;241m.\u001b[39m_setattr_cm(\u001b[38;5;28mself\u001b[39m\u001b[38;5;241m.\u001b[39mfigure, dpi\u001b[38;5;241m=\u001b[39mdpi):\n\u001b[0;32m-> 2193\u001b[0m         result \u001b[38;5;241m=\u001b[39m \u001b[43mprint_method\u001b[49m\u001b[43m(\u001b[49m\n\u001b[1;32m   2194\u001b[0m \u001b[43m            \u001b[49m\u001b[43mfilename\u001b[49m\u001b[43m,\u001b[49m\n\u001b[1;32m   2195\u001b[0m \u001b[43m            \u001b[49m\u001b[43mfacecolor\u001b[49m\u001b[38;5;241;43m=\u001b[39;49m\u001b[43mfacecolor\u001b[49m\u001b[43m,\u001b[49m\n\u001b[1;32m   2196\u001b[0m \u001b[43m            \u001b[49m\u001b[43medgecolor\u001b[49m\u001b[38;5;241;43m=\u001b[39;49m\u001b[43medgecolor\u001b[49m\u001b[43m,\u001b[49m\n\u001b[1;32m   2197\u001b[0m \u001b[43m            \u001b[49m\u001b[43morientation\u001b[49m\u001b[38;5;241;43m=\u001b[39;49m\u001b[43morientation\u001b[49m\u001b[43m,\u001b[49m\n\u001b[1;32m   2198\u001b[0m \u001b[43m            \u001b[49m\u001b[43mbbox_inches_restore\u001b[49m\u001b[38;5;241;43m=\u001b[39;49m\u001b[43m_bbox_inches_restore\u001b[49m\u001b[43m,\u001b[49m\n\u001b[1;32m   2199\u001b[0m \u001b[43m            \u001b[49m\u001b[38;5;241;43m*\u001b[39;49m\u001b[38;5;241;43m*\u001b[39;49m\u001b[43mkwargs\u001b[49m\u001b[43m)\u001b[49m\n\u001b[1;32m   2200\u001b[0m \u001b[38;5;28;01mfinally\u001b[39;00m:\n\u001b[1;32m   2201\u001b[0m     \u001b[38;5;28;01mif\u001b[39;00m bbox_inches \u001b[38;5;129;01mand\u001b[39;00m restore_bbox:\n",
      "File \u001b[0;32m/opt/anaconda3/envs/DARE/lib/python3.12/site-packages/matplotlib/backend_bases.py:2043\u001b[0m, in \u001b[0;36mFigureCanvasBase._switch_canvas_and_return_print_method.<locals>.<lambda>\u001b[0;34m(*args, **kwargs)\u001b[0m\n\u001b[1;32m   2039\u001b[0m     optional_kws \u001b[38;5;241m=\u001b[39m {  \u001b[38;5;66;03m# Passed by print_figure for other renderers.\u001b[39;00m\n\u001b[1;32m   2040\u001b[0m         \u001b[38;5;124m\"\u001b[39m\u001b[38;5;124mdpi\u001b[39m\u001b[38;5;124m\"\u001b[39m, \u001b[38;5;124m\"\u001b[39m\u001b[38;5;124mfacecolor\u001b[39m\u001b[38;5;124m\"\u001b[39m, \u001b[38;5;124m\"\u001b[39m\u001b[38;5;124medgecolor\u001b[39m\u001b[38;5;124m\"\u001b[39m, \u001b[38;5;124m\"\u001b[39m\u001b[38;5;124morientation\u001b[39m\u001b[38;5;124m\"\u001b[39m,\n\u001b[1;32m   2041\u001b[0m         \u001b[38;5;124m\"\u001b[39m\u001b[38;5;124mbbox_inches_restore\u001b[39m\u001b[38;5;124m\"\u001b[39m}\n\u001b[1;32m   2042\u001b[0m     skip \u001b[38;5;241m=\u001b[39m optional_kws \u001b[38;5;241m-\u001b[39m {\u001b[38;5;241m*\u001b[39minspect\u001b[38;5;241m.\u001b[39msignature(meth)\u001b[38;5;241m.\u001b[39mparameters}\n\u001b[0;32m-> 2043\u001b[0m     print_method \u001b[38;5;241m=\u001b[39m functools\u001b[38;5;241m.\u001b[39mwraps(meth)(\u001b[38;5;28;01mlambda\u001b[39;00m \u001b[38;5;241m*\u001b[39margs, \u001b[38;5;241m*\u001b[39m\u001b[38;5;241m*\u001b[39mkwargs: \u001b[43mmeth\u001b[49m\u001b[43m(\u001b[49m\n\u001b[1;32m   2044\u001b[0m \u001b[43m        \u001b[49m\u001b[38;5;241;43m*\u001b[39;49m\u001b[43margs\u001b[49m\u001b[43m,\u001b[49m\u001b[43m \u001b[49m\u001b[38;5;241;43m*\u001b[39;49m\u001b[38;5;241;43m*\u001b[39;49m\u001b[43m{\u001b[49m\u001b[43mk\u001b[49m\u001b[43m:\u001b[49m\u001b[43m \u001b[49m\u001b[43mv\u001b[49m\u001b[43m \u001b[49m\u001b[38;5;28;43;01mfor\u001b[39;49;00m\u001b[43m \u001b[49m\u001b[43mk\u001b[49m\u001b[43m,\u001b[49m\u001b[43m \u001b[49m\u001b[43mv\u001b[49m\u001b[43m \u001b[49m\u001b[38;5;129;43;01min\u001b[39;49;00m\u001b[43m \u001b[49m\u001b[43mkwargs\u001b[49m\u001b[38;5;241;43m.\u001b[39;49m\u001b[43mitems\u001b[49m\u001b[43m(\u001b[49m\u001b[43m)\u001b[49m\u001b[43m \u001b[49m\u001b[38;5;28;43;01mif\u001b[39;49;00m\u001b[43m \u001b[49m\u001b[43mk\u001b[49m\u001b[43m \u001b[49m\u001b[38;5;129;43;01mnot\u001b[39;49;00m\u001b[43m \u001b[49m\u001b[38;5;129;43;01min\u001b[39;49;00m\u001b[43m \u001b[49m\u001b[43mskip\u001b[49m\u001b[43m}\u001b[49m\u001b[43m)\u001b[49m)\n\u001b[1;32m   2045\u001b[0m \u001b[38;5;28;01melse\u001b[39;00m:  \u001b[38;5;66;03m# Let third-parties do as they see fit.\u001b[39;00m\n\u001b[1;32m   2046\u001b[0m     print_method \u001b[38;5;241m=\u001b[39m meth\n",
      "File \u001b[0;32m/opt/anaconda3/envs/DARE/lib/python3.12/site-packages/matplotlib/backends/backend_pdf.py:2807\u001b[0m, in \u001b[0;36mFigureCanvasPdf.print_pdf\u001b[0;34m(self, filename, bbox_inches_restore, metadata)\u001b[0m\n\u001b[1;32m   2802\u001b[0m file\u001b[38;5;241m.\u001b[39mnewPage(width, height)\n\u001b[1;32m   2803\u001b[0m renderer \u001b[38;5;241m=\u001b[39m MixedModeRenderer(\n\u001b[1;32m   2804\u001b[0m     \u001b[38;5;28mself\u001b[39m\u001b[38;5;241m.\u001b[39mfigure, width, height, dpi,\n\u001b[1;32m   2805\u001b[0m     RendererPdf(file, dpi, height, width),\n\u001b[1;32m   2806\u001b[0m     bbox_inches_restore\u001b[38;5;241m=\u001b[39mbbox_inches_restore)\n\u001b[0;32m-> 2807\u001b[0m \u001b[38;5;28;43mself\u001b[39;49m\u001b[38;5;241;43m.\u001b[39;49m\u001b[43mfigure\u001b[49m\u001b[38;5;241;43m.\u001b[39;49m\u001b[43mdraw\u001b[49m\u001b[43m(\u001b[49m\u001b[43mrenderer\u001b[49m\u001b[43m)\u001b[49m\n\u001b[1;32m   2808\u001b[0m renderer\u001b[38;5;241m.\u001b[39mfinalize()\n\u001b[1;32m   2809\u001b[0m \u001b[38;5;28;01mif\u001b[39;00m \u001b[38;5;129;01mnot\u001b[39;00m \u001b[38;5;28misinstance\u001b[39m(filename, PdfPages):\n",
      "File \u001b[0;32m/opt/anaconda3/envs/DARE/lib/python3.12/site-packages/matplotlib/artist.py:95\u001b[0m, in \u001b[0;36m_finalize_rasterization.<locals>.draw_wrapper\u001b[0;34m(artist, renderer, *args, **kwargs)\u001b[0m\n\u001b[1;32m     93\u001b[0m \u001b[38;5;129m@wraps\u001b[39m(draw)\n\u001b[1;32m     94\u001b[0m \u001b[38;5;28;01mdef\u001b[39;00m\u001b[38;5;250m \u001b[39m\u001b[38;5;21mdraw_wrapper\u001b[39m(artist, renderer, \u001b[38;5;241m*\u001b[39margs, \u001b[38;5;241m*\u001b[39m\u001b[38;5;241m*\u001b[39mkwargs):\n\u001b[0;32m---> 95\u001b[0m     result \u001b[38;5;241m=\u001b[39m \u001b[43mdraw\u001b[49m\u001b[43m(\u001b[49m\u001b[43martist\u001b[49m\u001b[43m,\u001b[49m\u001b[43m \u001b[49m\u001b[43mrenderer\u001b[49m\u001b[43m,\u001b[49m\u001b[43m \u001b[49m\u001b[38;5;241;43m*\u001b[39;49m\u001b[43margs\u001b[49m\u001b[43m,\u001b[49m\u001b[43m \u001b[49m\u001b[38;5;241;43m*\u001b[39;49m\u001b[38;5;241;43m*\u001b[39;49m\u001b[43mkwargs\u001b[49m\u001b[43m)\u001b[49m\n\u001b[1;32m     96\u001b[0m     \u001b[38;5;28;01mif\u001b[39;00m renderer\u001b[38;5;241m.\u001b[39m_rasterizing:\n\u001b[1;32m     97\u001b[0m         renderer\u001b[38;5;241m.\u001b[39mstop_rasterizing()\n",
      "File \u001b[0;32m/opt/anaconda3/envs/DARE/lib/python3.12/site-packages/matplotlib/artist.py:72\u001b[0m, in \u001b[0;36mallow_rasterization.<locals>.draw_wrapper\u001b[0;34m(artist, renderer)\u001b[0m\n\u001b[1;32m     69\u001b[0m     \u001b[38;5;28;01mif\u001b[39;00m artist\u001b[38;5;241m.\u001b[39mget_agg_filter() \u001b[38;5;129;01mis\u001b[39;00m \u001b[38;5;129;01mnot\u001b[39;00m \u001b[38;5;28;01mNone\u001b[39;00m:\n\u001b[1;32m     70\u001b[0m         renderer\u001b[38;5;241m.\u001b[39mstart_filter()\n\u001b[0;32m---> 72\u001b[0m     \u001b[38;5;28;01mreturn\u001b[39;00m \u001b[43mdraw\u001b[49m\u001b[43m(\u001b[49m\u001b[43martist\u001b[49m\u001b[43m,\u001b[49m\u001b[43m \u001b[49m\u001b[43mrenderer\u001b[49m\u001b[43m)\u001b[49m\n\u001b[1;32m     73\u001b[0m \u001b[38;5;28;01mfinally\u001b[39;00m:\n\u001b[1;32m     74\u001b[0m     \u001b[38;5;28;01mif\u001b[39;00m artist\u001b[38;5;241m.\u001b[39mget_agg_filter() \u001b[38;5;129;01mis\u001b[39;00m \u001b[38;5;129;01mnot\u001b[39;00m \u001b[38;5;28;01mNone\u001b[39;00m:\n",
      "File \u001b[0;32m/opt/anaconda3/envs/DARE/lib/python3.12/site-packages/matplotlib/figure.py:3154\u001b[0m, in \u001b[0;36mFigure.draw\u001b[0;34m(self, renderer)\u001b[0m\n\u001b[1;32m   3151\u001b[0m         \u001b[38;5;66;03m# ValueError can occur when resizing a window.\u001b[39;00m\n\u001b[1;32m   3153\u001b[0m \u001b[38;5;28mself\u001b[39m\u001b[38;5;241m.\u001b[39mpatch\u001b[38;5;241m.\u001b[39mdraw(renderer)\n\u001b[0;32m-> 3154\u001b[0m \u001b[43mmimage\u001b[49m\u001b[38;5;241;43m.\u001b[39;49m\u001b[43m_draw_list_compositing_images\u001b[49m\u001b[43m(\u001b[49m\n\u001b[1;32m   3155\u001b[0m \u001b[43m    \u001b[49m\u001b[43mrenderer\u001b[49m\u001b[43m,\u001b[49m\u001b[43m \u001b[49m\u001b[38;5;28;43mself\u001b[39;49m\u001b[43m,\u001b[49m\u001b[43m \u001b[49m\u001b[43martists\u001b[49m\u001b[43m,\u001b[49m\u001b[43m \u001b[49m\u001b[38;5;28;43mself\u001b[39;49m\u001b[38;5;241;43m.\u001b[39;49m\u001b[43msuppressComposite\u001b[49m\u001b[43m)\u001b[49m\n\u001b[1;32m   3157\u001b[0m \u001b[38;5;28;01mfor\u001b[39;00m sfig \u001b[38;5;129;01min\u001b[39;00m \u001b[38;5;28mself\u001b[39m\u001b[38;5;241m.\u001b[39msubfigs:\n\u001b[1;32m   3158\u001b[0m     sfig\u001b[38;5;241m.\u001b[39mdraw(renderer)\n",
      "File \u001b[0;32m/opt/anaconda3/envs/DARE/lib/python3.12/site-packages/matplotlib/image.py:132\u001b[0m, in \u001b[0;36m_draw_list_compositing_images\u001b[0;34m(renderer, parent, artists, suppress_composite)\u001b[0m\n\u001b[1;32m    130\u001b[0m \u001b[38;5;28;01mif\u001b[39;00m not_composite \u001b[38;5;129;01mor\u001b[39;00m \u001b[38;5;129;01mnot\u001b[39;00m has_images:\n\u001b[1;32m    131\u001b[0m     \u001b[38;5;28;01mfor\u001b[39;00m a \u001b[38;5;129;01min\u001b[39;00m artists:\n\u001b[0;32m--> 132\u001b[0m         \u001b[43ma\u001b[49m\u001b[38;5;241;43m.\u001b[39;49m\u001b[43mdraw\u001b[49m\u001b[43m(\u001b[49m\u001b[43mrenderer\u001b[49m\u001b[43m)\u001b[49m\n\u001b[1;32m    133\u001b[0m \u001b[38;5;28;01melse\u001b[39;00m:\n\u001b[1;32m    134\u001b[0m     \u001b[38;5;66;03m# Composite any adjacent images together\u001b[39;00m\n\u001b[1;32m    135\u001b[0m     image_group \u001b[38;5;241m=\u001b[39m []\n",
      "File \u001b[0;32m/opt/anaconda3/envs/DARE/lib/python3.12/site-packages/matplotlib/artist.py:72\u001b[0m, in \u001b[0;36mallow_rasterization.<locals>.draw_wrapper\u001b[0;34m(artist, renderer)\u001b[0m\n\u001b[1;32m     69\u001b[0m     \u001b[38;5;28;01mif\u001b[39;00m artist\u001b[38;5;241m.\u001b[39mget_agg_filter() \u001b[38;5;129;01mis\u001b[39;00m \u001b[38;5;129;01mnot\u001b[39;00m \u001b[38;5;28;01mNone\u001b[39;00m:\n\u001b[1;32m     70\u001b[0m         renderer\u001b[38;5;241m.\u001b[39mstart_filter()\n\u001b[0;32m---> 72\u001b[0m     \u001b[38;5;28;01mreturn\u001b[39;00m \u001b[43mdraw\u001b[49m\u001b[43m(\u001b[49m\u001b[43martist\u001b[49m\u001b[43m,\u001b[49m\u001b[43m \u001b[49m\u001b[43mrenderer\u001b[49m\u001b[43m)\u001b[49m\n\u001b[1;32m     73\u001b[0m \u001b[38;5;28;01mfinally\u001b[39;00m:\n\u001b[1;32m     74\u001b[0m     \u001b[38;5;28;01mif\u001b[39;00m artist\u001b[38;5;241m.\u001b[39mget_agg_filter() \u001b[38;5;129;01mis\u001b[39;00m \u001b[38;5;129;01mnot\u001b[39;00m \u001b[38;5;28;01mNone\u001b[39;00m:\n",
      "File \u001b[0;32m/opt/anaconda3/envs/DARE/lib/python3.12/site-packages/matplotlib/axes/_base.py:3070\u001b[0m, in \u001b[0;36m_AxesBase.draw\u001b[0;34m(self, renderer)\u001b[0m\n\u001b[1;32m   3067\u001b[0m \u001b[38;5;28;01mif\u001b[39;00m artists_rasterized:\n\u001b[1;32m   3068\u001b[0m     _draw_rasterized(\u001b[38;5;28mself\u001b[39m\u001b[38;5;241m.\u001b[39mfigure, artists_rasterized, renderer)\n\u001b[0;32m-> 3070\u001b[0m \u001b[43mmimage\u001b[49m\u001b[38;5;241;43m.\u001b[39;49m\u001b[43m_draw_list_compositing_images\u001b[49m\u001b[43m(\u001b[49m\n\u001b[1;32m   3071\u001b[0m \u001b[43m    \u001b[49m\u001b[43mrenderer\u001b[49m\u001b[43m,\u001b[49m\u001b[43m \u001b[49m\u001b[38;5;28;43mself\u001b[39;49m\u001b[43m,\u001b[49m\u001b[43m \u001b[49m\u001b[43martists\u001b[49m\u001b[43m,\u001b[49m\u001b[43m \u001b[49m\u001b[38;5;28;43mself\u001b[39;49m\u001b[38;5;241;43m.\u001b[39;49m\u001b[43mfigure\u001b[49m\u001b[38;5;241;43m.\u001b[39;49m\u001b[43msuppressComposite\u001b[49m\u001b[43m)\u001b[49m\n\u001b[1;32m   3073\u001b[0m renderer\u001b[38;5;241m.\u001b[39mclose_group(\u001b[38;5;124m'\u001b[39m\u001b[38;5;124maxes\u001b[39m\u001b[38;5;124m'\u001b[39m)\n\u001b[1;32m   3074\u001b[0m \u001b[38;5;28mself\u001b[39m\u001b[38;5;241m.\u001b[39mstale \u001b[38;5;241m=\u001b[39m \u001b[38;5;28;01mFalse\u001b[39;00m\n",
      "File \u001b[0;32m/opt/anaconda3/envs/DARE/lib/python3.12/site-packages/matplotlib/image.py:132\u001b[0m, in \u001b[0;36m_draw_list_compositing_images\u001b[0;34m(renderer, parent, artists, suppress_composite)\u001b[0m\n\u001b[1;32m    130\u001b[0m \u001b[38;5;28;01mif\u001b[39;00m not_composite \u001b[38;5;129;01mor\u001b[39;00m \u001b[38;5;129;01mnot\u001b[39;00m has_images:\n\u001b[1;32m    131\u001b[0m     \u001b[38;5;28;01mfor\u001b[39;00m a \u001b[38;5;129;01min\u001b[39;00m artists:\n\u001b[0;32m--> 132\u001b[0m         \u001b[43ma\u001b[49m\u001b[38;5;241;43m.\u001b[39;49m\u001b[43mdraw\u001b[49m\u001b[43m(\u001b[49m\u001b[43mrenderer\u001b[49m\u001b[43m)\u001b[49m\n\u001b[1;32m    133\u001b[0m \u001b[38;5;28;01melse\u001b[39;00m:\n\u001b[1;32m    134\u001b[0m     \u001b[38;5;66;03m# Composite any adjacent images together\u001b[39;00m\n\u001b[1;32m    135\u001b[0m     image_group \u001b[38;5;241m=\u001b[39m []\n",
      "File \u001b[0;32m/opt/anaconda3/envs/DARE/lib/python3.12/site-packages/matplotlib/artist.py:72\u001b[0m, in \u001b[0;36mallow_rasterization.<locals>.draw_wrapper\u001b[0;34m(artist, renderer)\u001b[0m\n\u001b[1;32m     69\u001b[0m     \u001b[38;5;28;01mif\u001b[39;00m artist\u001b[38;5;241m.\u001b[39mget_agg_filter() \u001b[38;5;129;01mis\u001b[39;00m \u001b[38;5;129;01mnot\u001b[39;00m \u001b[38;5;28;01mNone\u001b[39;00m:\n\u001b[1;32m     70\u001b[0m         renderer\u001b[38;5;241m.\u001b[39mstart_filter()\n\u001b[0;32m---> 72\u001b[0m     \u001b[38;5;28;01mreturn\u001b[39;00m \u001b[43mdraw\u001b[49m\u001b[43m(\u001b[49m\u001b[43martist\u001b[49m\u001b[43m,\u001b[49m\u001b[43m \u001b[49m\u001b[43mrenderer\u001b[49m\u001b[43m)\u001b[49m\n\u001b[1;32m     73\u001b[0m \u001b[38;5;28;01mfinally\u001b[39;00m:\n\u001b[1;32m     74\u001b[0m     \u001b[38;5;28;01mif\u001b[39;00m artist\u001b[38;5;241m.\u001b[39mget_agg_filter() \u001b[38;5;129;01mis\u001b[39;00m \u001b[38;5;129;01mnot\u001b[39;00m \u001b[38;5;28;01mNone\u001b[39;00m:\n",
      "File \u001b[0;32m/opt/anaconda3/envs/DARE/lib/python3.12/site-packages/matplotlib/patches.py:588\u001b[0m, in \u001b[0;36mPatch.draw\u001b[0;34m(self, renderer)\u001b[0m\n\u001b[1;32m    586\u001b[0m tpath \u001b[38;5;241m=\u001b[39m transform\u001b[38;5;241m.\u001b[39mtransform_path_non_affine(path)\n\u001b[1;32m    587\u001b[0m affine \u001b[38;5;241m=\u001b[39m transform\u001b[38;5;241m.\u001b[39mget_affine()\n\u001b[0;32m--> 588\u001b[0m \u001b[38;5;28;43mself\u001b[39;49m\u001b[38;5;241;43m.\u001b[39;49m\u001b[43m_draw_paths_with_artist_properties\u001b[49m\u001b[43m(\u001b[49m\n\u001b[1;32m    589\u001b[0m \u001b[43m    \u001b[49m\u001b[43mrenderer\u001b[49m\u001b[43m,\u001b[49m\n\u001b[1;32m    590\u001b[0m \u001b[43m    \u001b[49m\u001b[43m[\u001b[49m\u001b[43m(\u001b[49m\u001b[43mtpath\u001b[49m\u001b[43m,\u001b[49m\u001b[43m \u001b[49m\u001b[43maffine\u001b[49m\u001b[43m,\u001b[49m\n\u001b[1;32m    591\u001b[0m \u001b[43m      \u001b[49m\u001b[38;5;66;43;03m# Work around a bug in the PDF and SVG renderers, which\u001b[39;49;00m\n\u001b[1;32m    592\u001b[0m \u001b[43m      \u001b[49m\u001b[38;5;66;43;03m# do not draw the hatches if the facecolor is fully\u001b[39;49;00m\n\u001b[1;32m    593\u001b[0m \u001b[43m      \u001b[49m\u001b[38;5;66;43;03m# transparent, but do if it is None.\u001b[39;49;00m\n\u001b[1;32m    594\u001b[0m \u001b[43m      \u001b[49m\u001b[38;5;28;43mself\u001b[39;49m\u001b[38;5;241;43m.\u001b[39;49m\u001b[43m_facecolor\u001b[49m\u001b[43m \u001b[49m\u001b[38;5;28;43;01mif\u001b[39;49;00m\u001b[43m \u001b[49m\u001b[38;5;28;43mself\u001b[39;49m\u001b[38;5;241;43m.\u001b[39;49m\u001b[43m_facecolor\u001b[49m\u001b[43m[\u001b[49m\u001b[38;5;241;43m3\u001b[39;49m\u001b[43m]\u001b[49m\u001b[43m \u001b[49m\u001b[38;5;28;43;01melse\u001b[39;49;00m\u001b[43m \u001b[49m\u001b[38;5;28;43;01mNone\u001b[39;49;00m\u001b[43m)\u001b[49m\u001b[43m]\u001b[49m\u001b[43m)\u001b[49m\n",
      "File \u001b[0;32m/opt/anaconda3/envs/DARE/lib/python3.12/site-packages/matplotlib/patches.py:573\u001b[0m, in \u001b[0;36mPatch._draw_paths_with_artist_properties\u001b[0;34m(self, renderer, draw_path_args_list)\u001b[0m\n\u001b[1;32m    570\u001b[0m     renderer \u001b[38;5;241m=\u001b[39m PathEffectRenderer(\u001b[38;5;28mself\u001b[39m\u001b[38;5;241m.\u001b[39mget_path_effects(), renderer)\n\u001b[1;32m    572\u001b[0m \u001b[38;5;28;01mfor\u001b[39;00m draw_path_args \u001b[38;5;129;01min\u001b[39;00m draw_path_args_list:\n\u001b[0;32m--> 573\u001b[0m     \u001b[43mrenderer\u001b[49m\u001b[38;5;241;43m.\u001b[39;49m\u001b[43mdraw_path\u001b[49m\u001b[43m(\u001b[49m\u001b[43mgc\u001b[49m\u001b[43m,\u001b[49m\u001b[43m \u001b[49m\u001b[38;5;241;43m*\u001b[39;49m\u001b[43mdraw_path_args\u001b[49m\u001b[43m)\u001b[49m\n\u001b[1;32m    575\u001b[0m gc\u001b[38;5;241m.\u001b[39mrestore()\n\u001b[1;32m    576\u001b[0m renderer\u001b[38;5;241m.\u001b[39mclose_group(\u001b[38;5;124m'\u001b[39m\u001b[38;5;124mpatch\u001b[39m\u001b[38;5;124m'\u001b[39m)\n",
      "File \u001b[0;32m/opt/anaconda3/envs/DARE/lib/python3.12/site-packages/matplotlib/backends/backend_pdf.py:2020\u001b[0m, in \u001b[0;36mRendererPdf.draw_path\u001b[0;34m(self, gc, path, transform, rgbFace)\u001b[0m\n\u001b[1;32m   2018\u001b[0m \u001b[38;5;28;01mdef\u001b[39;00m\u001b[38;5;250m \u001b[39m\u001b[38;5;21mdraw_path\u001b[39m(\u001b[38;5;28mself\u001b[39m, gc, path, transform, rgbFace\u001b[38;5;241m=\u001b[39m\u001b[38;5;28;01mNone\u001b[39;00m):\n\u001b[1;32m   2019\u001b[0m     \u001b[38;5;66;03m# docstring inherited\u001b[39;00m\n\u001b[0;32m-> 2020\u001b[0m     \u001b[38;5;28;43mself\u001b[39;49m\u001b[38;5;241;43m.\u001b[39;49m\u001b[43mcheck_gc\u001b[49m\u001b[43m(\u001b[49m\u001b[43mgc\u001b[49m\u001b[43m,\u001b[49m\u001b[43m \u001b[49m\u001b[43mrgbFace\u001b[49m\u001b[43m)\u001b[49m\n\u001b[1;32m   2021\u001b[0m     \u001b[38;5;28mself\u001b[39m\u001b[38;5;241m.\u001b[39mfile\u001b[38;5;241m.\u001b[39mwritePath(\n\u001b[1;32m   2022\u001b[0m         path, transform,\n\u001b[1;32m   2023\u001b[0m         rgbFace \u001b[38;5;129;01mis\u001b[39;00m \u001b[38;5;28;01mNone\u001b[39;00m \u001b[38;5;129;01mand\u001b[39;00m gc\u001b[38;5;241m.\u001b[39mget_hatch_path() \u001b[38;5;129;01mis\u001b[39;00m \u001b[38;5;28;01mNone\u001b[39;00m,\n\u001b[1;32m   2024\u001b[0m         gc\u001b[38;5;241m.\u001b[39mget_sketch_params())\n\u001b[1;32m   2025\u001b[0m     \u001b[38;5;28mself\u001b[39m\u001b[38;5;241m.\u001b[39mfile\u001b[38;5;241m.\u001b[39moutput(\u001b[38;5;28mself\u001b[39m\u001b[38;5;241m.\u001b[39mgc\u001b[38;5;241m.\u001b[39mpaint())\n",
      "File \u001b[0;32m/opt/anaconda3/envs/DARE/lib/python3.12/site-packages/matplotlib/backends/backend_pdf.py:1977\u001b[0m, in \u001b[0;36mRendererPdf.check_gc\u001b[0;34m(self, gc, fillcolor)\u001b[0m\n\u001b[1;32m   1974\u001b[0m \u001b[38;5;28;01melse\u001b[39;00m:\n\u001b[1;32m   1975\u001b[0m     gc\u001b[38;5;241m.\u001b[39m_effective_alphas \u001b[38;5;241m=\u001b[39m (gc\u001b[38;5;241m.\u001b[39m_rgb[\u001b[38;5;241m3\u001b[39m], fillcolor[\u001b[38;5;241m3\u001b[39m])\n\u001b[0;32m-> 1977\u001b[0m delta \u001b[38;5;241m=\u001b[39m \u001b[38;5;28;43mself\u001b[39;49m\u001b[38;5;241;43m.\u001b[39;49m\u001b[43mgc\u001b[49m\u001b[38;5;241;43m.\u001b[39;49m\u001b[43mdelta\u001b[49m\u001b[43m(\u001b[49m\u001b[43mgc\u001b[49m\u001b[43m)\u001b[49m\n\u001b[1;32m   1978\u001b[0m \u001b[38;5;28;01mif\u001b[39;00m delta:\n\u001b[1;32m   1979\u001b[0m     \u001b[38;5;28mself\u001b[39m\u001b[38;5;241m.\u001b[39mfile\u001b[38;5;241m.\u001b[39moutput(\u001b[38;5;241m*\u001b[39mdelta)\n",
      "File \u001b[0;32m/opt/anaconda3/envs/DARE/lib/python3.12/site-packages/matplotlib/backends/backend_pdf.py:2626\u001b[0m, in \u001b[0;36mGraphicsContextPdf.delta\u001b[0;34m(self, other)\u001b[0m\n\u001b[1;32m   2624\u001b[0m     fill_performed \u001b[38;5;241m=\u001b[39m \u001b[38;5;28;01mTrue\u001b[39;00m\n\u001b[1;32m   2625\u001b[0m theirs \u001b[38;5;241m=\u001b[39m [\u001b[38;5;28mgetattr\u001b[39m(other, p) \u001b[38;5;28;01mfor\u001b[39;00m p \u001b[38;5;129;01min\u001b[39;00m params]\n\u001b[0;32m-> 2626\u001b[0m cmds\u001b[38;5;241m.\u001b[39mextend(\u001b[43mcmd\u001b[49m\u001b[43m(\u001b[49m\u001b[38;5;28;43mself\u001b[39;49m\u001b[43m,\u001b[49m\u001b[43m \u001b[49m\u001b[38;5;241;43m*\u001b[39;49m\u001b[43mtheirs\u001b[49m\u001b[43m)\u001b[49m)\n\u001b[1;32m   2627\u001b[0m \u001b[38;5;28;01mfor\u001b[39;00m p \u001b[38;5;129;01min\u001b[39;00m params:\n\u001b[1;32m   2628\u001b[0m     \u001b[38;5;28msetattr\u001b[39m(\u001b[38;5;28mself\u001b[39m, p, \u001b[38;5;28mgetattr\u001b[39m(other, p))\n",
      "File \u001b[0;32m/opt/anaconda3/envs/DARE/lib/python3.12/site-packages/matplotlib/backends/backend_pdf.py:2565\u001b[0m, in \u001b[0;36mGraphicsContextPdf.clip_cmd\u001b[0;34m(self, cliprect, clippath)\u001b[0m\n\u001b[1;32m   2562\u001b[0m \u001b[38;5;66;03m# Pop graphics state until we hit the right one or the stack is empty\u001b[39;00m\n\u001b[1;32m   2563\u001b[0m \u001b[38;5;28;01mwhile\u001b[39;00m ((\u001b[38;5;28mself\u001b[39m\u001b[38;5;241m.\u001b[39m_cliprect, \u001b[38;5;28mself\u001b[39m\u001b[38;5;241m.\u001b[39m_clippath) \u001b[38;5;241m!=\u001b[39m (cliprect, clippath)\n\u001b[1;32m   2564\u001b[0m         \u001b[38;5;129;01mand\u001b[39;00m \u001b[38;5;28mself\u001b[39m\u001b[38;5;241m.\u001b[39mparent \u001b[38;5;129;01mis\u001b[39;00m \u001b[38;5;129;01mnot\u001b[39;00m \u001b[38;5;28;01mNone\u001b[39;00m):\n\u001b[0;32m-> 2565\u001b[0m     cmds\u001b[38;5;241m.\u001b[39mextend(\u001b[38;5;28;43mself\u001b[39;49m\u001b[38;5;241;43m.\u001b[39;49m\u001b[43mpop\u001b[49m\u001b[43m(\u001b[49m\u001b[43m)\u001b[49m)\n\u001b[1;32m   2566\u001b[0m \u001b[38;5;66;03m# Unless we hit the right one, set the clip polygon\u001b[39;00m\n\u001b[1;32m   2567\u001b[0m \u001b[38;5;28;01mif\u001b[39;00m ((\u001b[38;5;28mself\u001b[39m\u001b[38;5;241m.\u001b[39m_cliprect, \u001b[38;5;28mself\u001b[39m\u001b[38;5;241m.\u001b[39m_clippath) \u001b[38;5;241m!=\u001b[39m (cliprect, clippath) \u001b[38;5;129;01mor\u001b[39;00m\n\u001b[1;32m   2568\u001b[0m         \u001b[38;5;28mself\u001b[39m\u001b[38;5;241m.\u001b[39mparent \u001b[38;5;129;01mis\u001b[39;00m \u001b[38;5;28;01mNone\u001b[39;00m):\n",
      "File \u001b[0;32m/opt/anaconda3/envs/DARE/lib/python3.12/site-packages/matplotlib/backends/backend_pdf.py:2555\u001b[0m, in \u001b[0;36mGraphicsContextPdf.pop\u001b[0;34m(self)\u001b[0m\n\u001b[1;32m   2553\u001b[0m \u001b[38;5;28;01mdef\u001b[39;00m\u001b[38;5;250m \u001b[39m\u001b[38;5;21mpop\u001b[39m(\u001b[38;5;28mself\u001b[39m):\n\u001b[1;32m   2554\u001b[0m     \u001b[38;5;28;01massert\u001b[39;00m \u001b[38;5;28mself\u001b[39m\u001b[38;5;241m.\u001b[39mparent \u001b[38;5;129;01mis\u001b[39;00m \u001b[38;5;129;01mnot\u001b[39;00m \u001b[38;5;28;01mNone\u001b[39;00m\n\u001b[0;32m-> 2555\u001b[0m     \u001b[38;5;28;43mself\u001b[39;49m\u001b[38;5;241;43m.\u001b[39;49m\u001b[43mcopy_properties\u001b[49m\u001b[43m(\u001b[49m\u001b[38;5;28;43mself\u001b[39;49m\u001b[38;5;241;43m.\u001b[39;49m\u001b[43mparent\u001b[49m\u001b[43m)\u001b[49m\n\u001b[1;32m   2556\u001b[0m     \u001b[38;5;28mself\u001b[39m\u001b[38;5;241m.\u001b[39mparent \u001b[38;5;241m=\u001b[39m \u001b[38;5;28mself\u001b[39m\u001b[38;5;241m.\u001b[39mparent\u001b[38;5;241m.\u001b[39mparent\n\u001b[1;32m   2557\u001b[0m     \u001b[38;5;28;01mreturn\u001b[39;00m [Op\u001b[38;5;241m.\u001b[39mgrestore]\n",
      "File \u001b[0;32m/opt/anaconda3/envs/DARE/lib/python3.12/site-packages/matplotlib/backends/backend_pdf.py:2636\u001b[0m, in \u001b[0;36mGraphicsContextPdf.copy_properties\u001b[0;34m(self, other)\u001b[0m\n\u001b[1;32m   2632\u001b[0m \u001b[38;5;250m\u001b[39m\u001b[38;5;124;03m\"\"\"\u001b[39;00m\n\u001b[1;32m   2633\u001b[0m \u001b[38;5;124;03mCopy properties of other into self.\u001b[39;00m\n\u001b[1;32m   2634\u001b[0m \u001b[38;5;124;03m\"\"\"\u001b[39;00m\n\u001b[1;32m   2635\u001b[0m \u001b[38;5;28msuper\u001b[39m()\u001b[38;5;241m.\u001b[39mcopy_properties(other)\n\u001b[0;32m-> 2636\u001b[0m fillcolor \u001b[38;5;241m=\u001b[39m \u001b[38;5;28;43mgetattr\u001b[39;49m\u001b[43m(\u001b[49m\u001b[43mother\u001b[49m\u001b[43m,\u001b[49m\u001b[43m \u001b[49m\u001b[38;5;124;43m'\u001b[39;49m\u001b[38;5;124;43m_fillcolor\u001b[39;49m\u001b[38;5;124;43m'\u001b[39;49m\u001b[43m,\u001b[49m\u001b[43m \u001b[49m\u001b[38;5;28;43mself\u001b[39;49m\u001b[38;5;241;43m.\u001b[39;49m\u001b[43m_fillcolor\u001b[49m\u001b[43m)\u001b[49m\n\u001b[1;32m   2637\u001b[0m effective_alphas \u001b[38;5;241m=\u001b[39m \u001b[38;5;28mgetattr\u001b[39m(other, \u001b[38;5;124m'\u001b[39m\u001b[38;5;124m_effective_alphas\u001b[39m\u001b[38;5;124m'\u001b[39m,\n\u001b[1;32m   2638\u001b[0m                            \u001b[38;5;28mself\u001b[39m\u001b[38;5;241m.\u001b[39m_effective_alphas)\n\u001b[1;32m   2639\u001b[0m \u001b[38;5;28mself\u001b[39m\u001b[38;5;241m.\u001b[39m_fillcolor \u001b[38;5;241m=\u001b[39m fillcolor\n",
      "\u001b[0;31mKeyboardInterrupt\u001b[0m: "
     ]
    },
    {
     "name": "stderr",
     "output_type": "stream",
     "text": [
      "2025-03-04 10:46:11.879 python[55162:12736317] +[IMKClient subclass]: chose IMKClient_Modern\n"
     ]
    }
   ],
   "source": [
    "from utils.compute_acc_metrics import compute_enmo\n",
    "from matplotlib.backends.backend_pdf import PdfPages\n",
    "import seaborn as sns\n",
    "sns.set_context(\"talk\")\n",
    "\n",
    "ageit_path = \"/Users/augenpro/Documents/Age-IT/\"\n",
    "silver_layer_path = \"/Users/augenpro/Documents/Age-IT/data/Silver/\"\n",
    "bronze_layer_path = \"/Users/augenpro/Documents/Age-IT/data/Bronze/\"\n",
    "\n",
    "participants = sorted([p for p in os.listdir(silver_layer_path) if not p.startswith(\".\")]) # list of the participants\n",
    "timeline = [\"T0 (baseline)\", \"T1 (6 mesi)\", \"T2 (12 mesi)\"]\n",
    "visit = \"T0 (baseline)\"\n",
    "sensors = [\"GeneActivPolso\", \"GeneActivCaviglia\"]\n",
    "# sensor = sensors[0] ##### Wrist\n",
    "\n",
    "# participants = [\"08667\", \"20603\", \"36765\"]\n",
    "\n",
    "pdf_path = os.path.join(ageit_path, \"ActivityCounts.pdf\")\n",
    "\n",
    "with PdfPages(pdf_path) as pdf:\n",
    "    \n",
    "    for participant in participants:\n",
    "\n",
    "        print(f\"***** {participant} *****\")\n",
    "\n",
    "        ###### Load the GGIR output data ######\n",
    "        diary = pd.read_csv(os.path.join(silver_layer_path, participant, visit, \"GeneActivPolso\", \"SPT_HDCZA_and_diary.csv\"))\n",
    "\n",
    "        ENMO_dict = {}\n",
    "\n",
    "        for sensor in sensors:\n",
    "\n",
    "            ### Load the GENEActiv data ######\n",
    "            files = os.listdir(os.path.join(bronze_layer_path, participant, visit, sensor))\n",
    "            for f in files:\n",
    "                if f.endswith(\"calibrated.parquet\"):\n",
    "                    acc_gen = pd.read_parquet(os.path.join(bronze_layer_path, participant, visit, sensor, f))\n",
    "                    enmo = compute_enmo(acc_gen)\n",
    "                    ENMO_dict[sensor] = enmo\n",
    "            if sensor not in ENMO_dict.keys():\n",
    "                ENMO_dict[sensor] = pd.Series()\n",
    "        #         break\n",
    "        #     break\n",
    "        # break\n",
    "\n",
    "        ####### FIGURE AND PDF GENERATION #######\n",
    "\n",
    "        f, (ax1, ax2) = plt.subplots(2, 1, figsize = (19, 11), sharex = True)\n",
    "\n",
    "        ax1.bar(ENMO_dict[\"GeneActivPolso\"].resample(\"1min\").mean().index, ENMO_dict[\"GeneActivPolso\"].resample(\"1min\").mean(), linewidth = 0.91, width=0.0009, color = \"black\")\n",
    "        for i, (sleep_onset, wake_onset) in enumerate(zip(diary[\"sleep_onset_HDCZA\"], diary[\"wake_onset_HDCZA\"])):\n",
    "            ax1.axvspan(sleep_onset, wake_onset, color = \"blue\", alpha = 0.1, lw = 0)\n",
    "            if i == 0:\n",
    "                ax1.legend([\"Sleep period time\", \"ENMO Wrist\"], frameon = True, fancybox = True, shadow = True, loc = \"lower right\", bbox_to_anchor=(1.06, 0.76))\n",
    "\n",
    "        ax2.bar(ENMO_dict[\"GeneActivCaviglia\"].resample(\"1min\").mean().index, ENMO_dict[\"GeneActivCaviglia\"].resample(\"1min\").mean(), linewidth = 0.91, width=0.0009, color = \"black\")\n",
    "        ax2.legend([\"ENMO Ankle\", \"__nolegend__\"], frameon = True, fancybox = True, shadow = True, loc = \"lower right\", bbox_to_anchor=(1.06, 0.76))\n",
    "\n",
    "        for sleep_onset, wake_onset in zip(diary[\"sleep_onset_HDCZA\"], diary[\"wake_onset_HDCZA\"]):\n",
    "            ax2.axvspan(sleep_onset, wake_onset, color = \"blue\", alpha = 0.1, lw = 0)\n",
    "\n",
    "\n",
    "        # remove top and right spines and rotate\n",
    "        for ax in [ax1, ax2]:\n",
    "            ax.spines['top'].set_visible(False)\n",
    "            ax.spines['right'].set_visible(False)\n",
    "            ax.set_ylabel(\"ENMO (mg)\")\n",
    "\n",
    "        # rotate xticks for the bottom plot by 19 degrees\n",
    "        plt.setp(ax2.get_xticklabels(), rotation=19)\n",
    "\n",
    "        # reduce the space between the plots\n",
    "        plt.subplots_adjust(hspace=0.05)\n",
    "\n",
    "        # Thinner grid \n",
    "        ax1.grid(True, linestyle='--', linewidth=0.5)\n",
    "        ax2.grid(True, linestyle='--', linewidth=0.5)\n",
    "\n",
    "        pdf.savefig()\n",
    "        plt.close()\n",
    "\n",
    "# Drop data of participant 78936\n",
    "# diary_df = diary_df[diary_df[\"participant\"] != \"78936\"]  "
   ]
  },
  {
   "cell_type": "code",
   "execution_count": null,
   "metadata": {},
   "outputs": [],
   "source": [
    "f, (ax1, ax2) = plt.subplots(2, 1, figsize = (19, 11), sharex = True)\n",
    "\n",
    "ax1.bar(ENMO_dict[\"GeneActivPolso\"].resample(\"5min\").mean().index, ENMO_dict[\"GeneActivPolso\"].resample(\"5min\").mean(), linewidth = 0.91, width=0.009, color = \"black\")\n",
    "for i, (sleep_onset, wake_onset) in enumerate(zip(diary[\"sleep_onset_HDCZA\"], diary[\"wake_onset_HDCZA\"])):\n",
    "    ax1.axvspan(sleep_onset, wake_onset, color = \"blue\", alpha = 0.1, lw = 0)\n",
    "    if i == 0:\n",
    "        ax1.legend([\"Sleep period time\", \"ENMO Wrist\"], frameon = True, fancybox = True, shadow = True, loc = \"lower right\", bbox_to_anchor=(1.06, 0.76))\n",
    "\n",
    "ax2.bar(ENMO_dict[\"GeneActivCaviglia\"].resample(\"5min\").mean().index, ENMO_dict[\"GeneActivCaviglia\"].resample(\"5min\").mean(), linewidth = 0.91, width=0.009, color = \"black\")\n",
    "ax2.legend([\"ENMO Ankle\", \"__nolegend__\"], frameon = True, fancybox = True, shadow = True, loc = \"lower right\", bbox_to_anchor=(1.06, 0.76))\n",
    "\n",
    "for sleep_onset, wake_onset in zip(diary[\"sleep_onset_HDCZA\"], diary[\"wake_onset_HDCZA\"]):\n",
    "    ax2.axvspan(sleep_onset, wake_onset, color = \"blue\", alpha = 0.1, lw = 0)\n",
    "\n",
    "# remove top and right spines and rotate\n",
    "for ax in [ax1, ax2]:\n",
    "    ax.spines['top'].set_visible(False)\n",
    "    ax.spines['right'].set_visible(False)\n",
    "    ax.set_ylabel(\"ENMO (mg)\")\n",
    "\n",
    "# rotate xticks for the bottom plot by 19 degrees\n",
    "plt.setp(ax2.get_xticklabels(), rotation=19)\n",
    "\n",
    "# reduce the space between the plots\n",
    "plt.subplots_adjust(hspace=0.05)\n",
    "\n",
    "# Thinner grid \n",
    "ax1.grid(True, linestyle='--', linewidth=0.5)\n",
    "ax2.grid(True, linestyle='--', linewidth=0.5)"
   ]
  },
  {
   "cell_type": "markdown",
   "metadata": {},
   "source": [
    "### Extract Sleep Parameters"
   ]
  },
  {
   "cell_type": "code",
   "execution_count": 17,
   "metadata": {},
   "outputs": [
    {
     "name": "stdout",
     "output_type": "stream",
     "text": [
      "***** 08623 *****\n",
      "***** 08667 *****\n",
      "***** 14219 *****\n",
      "***** 20603 *****\n",
      "***** 23483 *****\n",
      "***** 36644 *****\n",
      "***** 36765 *****\n",
      "***** 36920 *****\n",
      "***** 58319 *****\n",
      "***** 59794 *****\n",
      "***** 65381 *****\n",
      "***** 68503 *****\n",
      "***** 73496 *****\n",
      "***** 74003 *****\n",
      "***** 74913 *****\n",
      "***** 78936 *****\n",
      "***** 86693 *****\n",
      "***** 97060 *****\n"
     ]
    }
   ],
   "source": [
    "ageit_path = \"/Users/augenpro/Documents/Age-IT/\"\n",
    "silver_layer_path = \"/Users/augenpro/Documents/Age-IT/data/Silver/\"\n",
    "bronze_layer_path = \"/Users/augenpro/Documents/Age-IT/data/Bronze/\"\n",
    "\n",
    "participants = sorted([p for p in os.listdir(silver_layer_path) if not p.startswith(\".\")]) # list of the participants\n",
    "timeline = [\"T0 (baseline)\", \"T1 (6 mesi)\", \"T2 (12 mesi)\"]\n",
    "visit = \"T0 (baseline)\"\n",
    "sensors = [\"GeneActivPolso\", \"GeneActivCaviglia\"]\n",
    "sensor = sensors[0] ##### Wrist\n",
    "\n",
    "# participants = [\"08667\", \"20603\", \"36765\"]\n",
    "\n",
    "GGIR_output_dir = \"output_icareit\"\n",
    "\n",
    "sleep_summary = pd.DataFrame()\n",
    "\n",
    "for participant in participants:\n",
    "\n",
    "    print(f\"***** {participant} *****\")\n",
    "\n",
    "    ### Load the GENEActiv data (for debugging purposes only) ######\n",
    "    # files = os.listdir(os.path.join(bronze_layer_path, participant, visit, sensor))\n",
    "    # for f in files:\n",
    "    #     if f.endswith(\".parquet\"):\n",
    "    #         acc_gen = pd.read_parquet(os.path.join(bronze_layer_path, participant, visit, sensor, f))\n",
    "   \n",
    "    ggir_output_path = os.path.join(silver_layer_path, participant, visit, sensor, GGIR_output_dir)\n",
    "    if not os.path.exists(ggir_output_path): # Skip participants with no Data\n",
    "        continue\n",
    "    ggir_part4_output = pd.read_csv(ggir_output_path + \"/results/QC/part4_nightsummary_sleep_full.csv\")\n",
    "\n",
    "    sleep_parameters = {\n",
    "        \"night\": [],\n",
    "        \"calendar_date\" : [],\n",
    "        \"SPT_duration\": [],\n",
    "        \"TST\": [],\n",
    "        \"WASO\": [],\n",
    "        \"N_awakenings\": [],\n",
    "        \"SE\": [],\n",
    "    }\n",
    "\n",
    "    for i, day_row in ggir_part4_output.iterrows():\n",
    "        sleep_parameters[\"night\"].append(day_row[\"night\"])\n",
    "        sleep_parameters[\"calendar_date\"].append(day_row[\"calendar_date\"])\n",
    "        sleep_parameters[\"SPT_duration\"].append(day_row[\"guider_SptDuration\"])\n",
    "        sleep_parameters[\"TST\"].append(day_row[\"SleepDurationInSpt\"])\n",
    "        sleep_parameters[\"WASO\"].append(day_row[\"WASO\"]) # dSPT - aS - SO\n",
    "        sleep_parameters[\"N_awakenings\"].append(day_row[\"number_of_awakenings\"])\n",
    "        sleep_parameters[\"SE\"].append(day_row[\"SleepDurationInSpt\"] / (day_row[\"guider_SptDuration\"])) # aS / SPT\n",
    "\n",
    "    sleep_parameters = pd.DataFrame(sleep_parameters)\n",
    "\n",
    "    sleep_parameters[\"participant\"] = participant\n",
    "\n",
    "    sleep_summary = pd.concat([sleep_summary, sleep_parameters])"
   ]
  },
  {
   "cell_type": "code",
   "execution_count": 18,
   "metadata": {},
   "outputs": [],
   "source": [
    "cols = sleep_summary.columns.tolist()\n",
    "cols = cols[-1:] + cols[:-1]\n",
    "sleep_summary = sleep_summary[cols].round(2)\n",
    "save_path = \"/Users/augenpro/Documents/Age-IT/risultati_preliminari/\"\n",
    "\n",
    "sleep_summary.to_csv(save_path + \"sleep_summary_DAILY.csv\", index = False)"
   ]
  },
  {
   "cell_type": "code",
   "execution_count": null,
   "metadata": {},
   "outputs": [
    {
     "data": {
      "text/plain": [
       "Text(0, 0.5, 'TST (min)')"
      ]
     },
     "execution_count": 35,
     "metadata": {},
     "output_type": "execute_result"
    }
   ],
   "source": [
    "import seaborn as sns\n",
    "sns.set_context(\"talk\")\n",
    "sns.set_palette(\"Set2\")\n",
    "\n",
    "colors = sns.color_palette()\n",
    "\n",
    "for sleep_metric in [\"TST\", \"WASO\", \"N_awakenings\", \"SE\"]:\n",
    "\n",
    "    plt.figure(figsize = (11,5))\n",
    "    sns.boxplot(data = sleep_summary, x = \"night\", y = sleep_metric, showfliers = False, width=0.5)\n",
    "    # marker edge color black\n",
    "    sns.stripplot(data = sleep_summary, x = \"night\", y = sleep_metric, size = 6, color = colors[0], linewidth = 0.8, alpha = 0.8, edgecolor = \"black\")\n",
    "    # print the number of participants in each group\n",
    "    for i, night in enumerate(sleep_summary[\"night\"].unique()):\n",
    "        n_participants = sleep_summary[sleep_summary[\"night\"] == night].shape[0]\n",
    "        plt.text(i, plt.gca().get_ylim()[1] + 0.5, f\"n={n_participants}\", ha = \"center\", va = \"center\", fontsize = 12)\n",
    "    plt.ylabel(\"TST (min)\")"
   ]
  },
  {
   "cell_type": "code",
   "execution_count": null,
   "metadata": {},
   "outputs": [],
   "source": []
  },
  {
   "cell_type": "code",
   "execution_count": null,
   "metadata": {},
   "outputs": [],
   "source": []
  },
  {
   "cell_type": "code",
   "execution_count": null,
   "metadata": {},
   "outputs": [],
   "source": []
  },
  {
   "cell_type": "code",
   "execution_count": 1,
   "metadata": {},
   "outputs": [
    {
     "ename": "NameError",
     "evalue": "name 'sleep_summary' is not defined",
     "output_type": "error",
     "traceback": [
      "\u001b[0;31m---------------------------------------------------------------------------\u001b[0m",
      "\u001b[0;31mNameError\u001b[0m                                 Traceback (most recent call last)",
      "Cell \u001b[0;32mIn[1], line 1\u001b[0m\n\u001b[0;32m----> 1\u001b[0m sleep_summary[\u001b[38;5;124m\"\u001b[39m\u001b[38;5;124mn_nights\u001b[39m\u001b[38;5;124m\"\u001b[39m] \u001b[38;5;241m=\u001b[39m \u001b[43msleep_summary\u001b[49m\u001b[38;5;241m.\u001b[39mgroupby(\u001b[38;5;124m\"\u001b[39m\u001b[38;5;124mparticipant\u001b[39m\u001b[38;5;124m\"\u001b[39m)[\u001b[38;5;124m\"\u001b[39m\u001b[38;5;124mcalendar_date\u001b[39m\u001b[38;5;124m\"\u001b[39m]\u001b[38;5;241m.\u001b[39mtransform(\u001b[38;5;124m\"\u001b[39m\u001b[38;5;124mcount\u001b[39m\u001b[38;5;124m\"\u001b[39m)\u001b[38;5;241m.\u001b[39mastype(\u001b[38;5;28mint\u001b[39m)\n\u001b[1;32m      2\u001b[0m sleep_summary_total \u001b[38;5;241m=\u001b[39m sleep_summary\u001b[38;5;241m.\u001b[39mdrop(columns\u001b[38;5;241m=\u001b[39m[\u001b[38;5;124m\"\u001b[39m\u001b[38;5;124mcalendar_date\u001b[39m\u001b[38;5;124m\"\u001b[39m, \u001b[38;5;124m\"\u001b[39m\u001b[38;5;124mnight\u001b[39m\u001b[38;5;124m\"\u001b[39m])\u001b[38;5;241m.\u001b[39mgroupby(\u001b[38;5;124m\"\u001b[39m\u001b[38;5;124mparticipant\u001b[39m\u001b[38;5;124m\"\u001b[39m)\u001b[38;5;241m.\u001b[39mmean()\n\u001b[1;32m      3\u001b[0m \u001b[38;5;66;03m# Make \"n_nights\" the first column\u001b[39;00m\n",
      "\u001b[0;31mNameError\u001b[0m: name 'sleep_summary' is not defined"
     ]
    }
   ],
   "source": [
    "sleep_summary[\"n_nights\"] = sleep_summary.groupby(\"participant\")[\"calendar_date\"].transform(\"count\").astype(int)\n",
    "sleep_summary_total = sleep_summary.drop(columns=[\"calendar_date\", \"night\"]).groupby(\"participant\").mean()\n",
    "# Make \"n_nights\" the first column\n",
    "cols = sleep_summary_total.columns.tolist()\n",
    "cols = cols[-1:] + cols[:-1]\n",
    "sleep_summary_total = sleep_summary_total[cols]"
   ]
  },
  {
   "cell_type": "code",
   "execution_count": 25,
   "metadata": {},
   "outputs": [],
   "source": [
    "save_path = \"/Users/augenpro/Documents/Age-IT/risultati_preliminari/\"\n",
    "\n",
    "sleep_summary_total.round(2).to_csv(save_path + \"sleep_summary_TOTAL.csv\")"
   ]
  },
  {
   "cell_type": "code",
   "execution_count": 20,
   "metadata": {},
   "outputs": [
    {
     "name": "stdout",
     "output_type": "stream",
     "text": [
      "***** 08623 *****\n",
      "***** 08667 *****\n",
      "***** 14219 *****\n",
      "***** 20603 *****\n",
      "***** 23483 *****\n",
      "***** 36644 *****\n",
      "***** 36765 *****\n",
      "***** 36920 *****\n",
      "***** 58319 *****\n",
      "***** 59794 *****\n",
      "***** 65381 *****\n",
      "***** 68503 *****\n",
      "***** 73496 *****\n",
      "***** 74003 *****\n",
      "***** 74913 *****\n",
      "***** 78936 *****\n",
      "***** 86693 *****\n",
      "***** 97060 *****\n"
     ]
    }
   ],
   "source": [
    "from utils.compute_acc_metrics import compute_enmo\n",
    "from circadian.cosine_fit import cosine_fit\n",
    "\n",
    "ageit_path = \"/Users/augenpro/Documents/Age-IT/\"\n",
    "silver_layer_path = \"/Users/augenpro/Documents/Age-IT/data/Silver/\"\n",
    "bronze_layer_path = \"/Users/augenpro/Documents/Age-IT/data/Bronze/\"\n",
    "\n",
    "participants = sorted([p for p in os.listdir(silver_layer_path) if not p.startswith(\".\")]) # list of the participants\n",
    "timeline = [\"T0 (baseline)\", \"T1 (6 mesi)\", \"T2 (12 mesi)\"]\n",
    "visit = \"T0 (baseline)\"\n",
    "sensors = [\"GeneActivPolso\", \"GeneActivCaviglia\"]\n",
    "sensor = sensors[0] ##### Wrist\n",
    "\n",
    "GGIR_output_dir = \"output_icareit\"\n",
    "\n",
    "circadian_summary = pd.DataFrame()\n",
    "\n",
    "for participant in participants:\n",
    "\n",
    "    print(f\"***** {participant} *****\")\n",
    "\n",
    "    ggir_output_path = os.path.join(silver_layer_path, participant, visit, sensor, GGIR_output_dir)\n",
    "    if not os.path.exists(ggir_output_path): # Skip participants with no Data\n",
    "        continue\n",
    "    ggir_part2output = pd.read_csv(ggir_output_path + \"/results/part2_summary.csv\")\n",
    "\n",
    "    circadian_parameters = {\n",
    "        \"COSINOR_mesor\": [],\n",
    "        \"COSINOR_amplitude\": [],\n",
    "        \"COSINOR_acrophase\": [],\n",
    "        \"IS\": [],\n",
    "        \"IV\": [],\n",
    "    }\n",
    "\n",
    "    for i, day_row in ggir_part2output.iterrows():\n",
    "        try:\n",
    "            circadian_parameters[\"COSINOR_mesor\"].append(day_row[\"cosinor_mes\"])\n",
    "            circadian_parameters[\"COSINOR_amplitude\"].append(day_row[\"cosinor_amp\"])\n",
    "            circadian_parameters[\"COSINOR_acrophase\"].append(day_row[\"cosinor_acrophase\"])\n",
    "            circadian_parameters[\"IS\"].append(day_row[\"IS_interdailystability\"])\n",
    "            circadian_parameters[\"IV\"].append(day_row[\"IV_intradailyvariability\"])\n",
    "        except: # Not enough data for circadian analysis\n",
    "            circadian_parameters[\"COSINOR_mesor\"].append(np.nan)\n",
    "            circadian_parameters[\"COSINOR_amplitude\"].append(np.nan)\n",
    "            circadian_parameters[\"COSINOR_acrophase\"].append(np.nan)\n",
    "            circadian_parameters[\"IS\"].append(np.nan)\n",
    "            circadian_parameters[\"IV\"].append(np.nan)\n",
    "\n",
    "    circadian_parameters = pd.DataFrame(circadian_parameters)\n",
    "\n",
    "    circadian_parameters[\"participant\"] = participant\n",
    "\n",
    "    circadian_summary = pd.concat([circadian_summary, circadian_parameters])\n",
    "\n",
    "circadian_summary.index = circadian_summary[\"participant\"]\n",
    "circadian_summary.drop(columns = [\"participant\"], inplace = True)"
   ]
  },
  {
   "cell_type": "code",
   "execution_count": 23,
   "metadata": {},
   "outputs": [],
   "source": [
    "circadian_summary.astype(float).round(2).to_csv(save_path + \"circan_summary.csv\")"
   ]
  },
  {
   "cell_type": "code",
   "execution_count": null,
   "metadata": {},
   "outputs": [],
   "source": [
    "from utils.compute_acc_metrics import compute_enmo\n",
    "from circadian.cosine_fit import cosine_fit\n",
    "\n",
    "ageit_path = \"/Users/augenpro/Documents/Age-IT/\"\n",
    "silver_layer_path = \"/Users/augenpro/Documents/Age-IT/data/Silver/\"\n",
    "bronze_layer_path = \"/Users/augenpro/Documents/Age-IT/data/Bronze/\"\n",
    "\n",
    "participants = sorted([p for p in os.listdir(silver_layer_path) if not p.startswith(\".\")]) # list of the participants\n",
    "timeline = [\"T0 (baseline)\", \"T1 (6 mesi)\", \"T2 (12 mesi)\"]\n",
    "visit = \"T0 (baseline)\"\n",
    "sensors = [\"GeneActivPolso\", \"GeneActivCaviglia\"]\n",
    "sensor = sensors[0] ##### Wrist\n",
    "\n",
    "GGIR_output_dir = \"output_icareit\"\n",
    "\n",
    "sleep_summary = pd.DataFrame()\n",
    "\n",
    "for participant in participants:\n",
    "\n",
    "    print(f\"***** {participant} *****\")\n",
    "\n",
    "    ### Load the GENEActiv data (for debugging purposes only) ######\n",
    "    files = os.listdir(os.path.join(bronze_layer_path, participant, visit, sensor))\n",
    "    for f in files:\n",
    "        if f.endswith(\".parquet\"):\n",
    "            acc_gen = pd.read_parquet(os.path.join(bronze_layer_path, participant, visit, sensor, f))\n",
    "\n",
    "    enmo = compute_enmo(acc_gen)\n",
    "    enmo_for_cosinor = enmo.resample(\"1min\").mean()\n",
    "\n",
    "    time_enmo_for_cosinor = np.arange(len(enmo_for_cosinor))\n",
    "    # Fit a cosine curve to the ENMO signal\n",
    "    fitted_cosine, amplitude, phase = cosine_fit(enmo_for_cosinor.values, time_enmo_for_cosinor, 24*60)\n",
    "    offset = np.mean(enmo_for_cosinor.values)\n",
    "    break"
   ]
  },
  {
   "cell_type": "markdown",
   "metadata": {},
   "source": [
    "## Physical activity"
   ]
  },
  {
   "cell_type": "code",
   "execution_count": 5,
   "metadata": {},
   "outputs": [
    {
     "name": "stdout",
     "output_type": "stream",
     "text": [
      "***** 08623 *****\n",
      "***** 08667 *****\n",
      "***** 14219 *****\n",
      "***** 20603 *****\n",
      "***** 23483 *****\n",
      "***** 36644 *****\n",
      "***** 36765 *****\n",
      "***** 36920 *****\n",
      "***** 58319 *****\n",
      "***** 59794 *****\n",
      "***** 65381 *****\n",
      "***** 68503 *****\n",
      "***** 73496 *****\n",
      "***** 74003 *****\n",
      "***** 74913 *****\n",
      "***** 78936 *****\n",
      "***** 86693 *****\n",
      "***** 97060 *****\n"
     ]
    }
   ],
   "source": [
    "ageit_path = \"/Users/augenpro/Documents/Age-IT/\"\n",
    "silver_layer_path = \"/Users/augenpro/Documents/Age-IT/data/Silver/\"\n",
    "bronze_layer_path = \"/Users/augenpro/Documents/Age-IT/data/Bronze/\"\n",
    "\n",
    "participants = sorted([p for p in os.listdir(silver_layer_path) if not p.startswith(\".\")]) # list of the participants\n",
    "timeline = [\"T0 (baseline)\", \"T1 (6 mesi)\", \"T2 (12 mesi)\"]\n",
    "visit = \"T0 (baseline)\"\n",
    "sensors = [\"GeneActivPolso\", \"GeneActivCaviglia\"]\n",
    "sensor = sensors[0] ##### Wrist\n",
    "\n",
    "GGIR_output_dir = \"output_icareit\"\n",
    "\n",
    "PA_summary = pd.DataFrame()\n",
    "\n",
    "for participant in participants:\n",
    "\n",
    "    print(f\"***** {participant} *****\")\n",
    "\n",
    "    ### Load the GENEActiv data (for debugging purposes only) ######\n",
    "    # files = os.listdir(os.path.join(bronze_layer_path, participant, visit, sensor))\n",
    "    # for f in files:\n",
    "    #     if f.endswith(\".parquet\"):\n",
    "    #         acc_gen = pd.read_parquet(os.path.join(bronze_layer_path, participant, visit, sensor, f))\n",
    "   \n",
    "    PA_parameters = {\n",
    "        \"day\": [],\n",
    "        \"calendar_date\" : [],\n",
    "        \"inactivity\": [],\n",
    "        \"light\" : [],\n",
    "        \"moderate\": [],\n",
    "        \"vigorous\": [],\n",
    "    }\n",
    "\n",
    "    ggir_output_path = os.path.join(silver_layer_path, participant, visit, sensor, GGIR_output_dir)\n",
    "    if not os.path.exists(ggir_output_path): # Skip participants with no Data\n",
    "        continue\n",
    "    try:\n",
    "        ggir_part5_output = pd.read_csv(ggir_output_path + \"/results/part5_daysummary_MM_L40M100V400_T5A5.csv\") # Numbers need to be changed if the thresholds used as cut-points are different\n",
    "    except: # No PA data due to low number of valid days\n",
    "        PA_parameters[\"day\"].append(np.nan)\n",
    "        PA_parameters[\"calendar_date\"].append(np.nan)\n",
    "        PA_parameters[\"inactivity\"].append(np.nan)\n",
    "        PA_parameters[\"light\"].append(np.nan)\n",
    "        PA_parameters[\"moderate\"].append(np.nan)\n",
    "        PA_parameters[\"vigorous\"].append(np.nan)\n",
    "        continue\n",
    "\n",
    "    for i, day_row in ggir_part5_output.iterrows():\n",
    "        PA_parameters[\"day\"].append(day_row[\"window_number\"])\n",
    "        PA_parameters[\"calendar_date\"].append(day_row[\"calendar_date\"])\n",
    "        PA_parameters[\"inactivity\"].append(day_row[\"dur_day_total_IN_min\"])\n",
    "        PA_parameters[\"light\"].append(day_row[\"dur_day_total_LIG_min\"])\n",
    "        PA_parameters[\"moderate\"].append(day_row[\"dur_day_total_MOD_min\"])\n",
    "        PA_parameters[\"vigorous\"].append(day_row[\"dur_day_total_VIG_min\"])\n",
    "\n",
    "    PA_parameters = pd.DataFrame(PA_parameters)\n",
    "\n",
    "    PA_parameters[\"participant\"] = participant\n",
    "\n",
    "    PA_summary = pd.concat([PA_summary, PA_parameters])"
   ]
  },
  {
   "cell_type": "code",
   "execution_count": 29,
   "metadata": {},
   "outputs": [],
   "source": [
    "# cols = PA_summary.columns.tolist()\n",
    "# cols = cols[-1:] + cols[:-1]\n",
    "# PA_summary = PA_summary[cols].round(2)\n",
    "# save_path = \"/Users/augenpro/Documents/Age-IT/risultati_preliminari/\"\n",
    "\n",
    "PA_summary.to_csv(save_path + \"PA_summary_DAILY.csv\", index = False)\n",
    "# PA_summary"
   ]
  },
  {
   "cell_type": "code",
   "execution_count": 6,
   "metadata": {},
   "outputs": [],
   "source": [
    "PA_summary_total = PA_summary.drop(columns=[\"calendar_date\", \"day\"]).groupby(\"participant\").mean().round(2)"
   ]
  },
  {
   "cell_type": "code",
   "execution_count": 7,
   "metadata": {},
   "outputs": [],
   "source": [
    "total = pd.concat([sleep_summary_total.round(2), circadian_summary, PA_summary_total], axis = 1)\n",
    "# total.to_csv(save_path + \"total_summary.csv\")"
   ]
  },
  {
   "cell_type": "markdown",
   "metadata": {},
   "source": [
    "# Ankle gait"
   ]
  },
  {
   "cell_type": "code",
   "execution_count": 17,
   "metadata": {},
   "outputs": [
    {
     "data": {
      "text/plain": [
       "['65381', '68503', '73496', '74003', '74913', '78936', '86693', '97060']"
      ]
     },
     "execution_count": 17,
     "metadata": {},
     "output_type": "execute_result"
    }
   ],
   "source": [
    "from utils.compute_acc_metrics import compute_acc_SMV\n",
    "from nimbalwear import gait\n",
    "\n",
    "\n",
    "ageit_path = \"/Users/augenpro/Documents/Age-IT/\"\n",
    "silver_layer_path = \"/Users/augenpro/Documents/Age-IT/data/Silver/\"\n",
    "bronze_layer_path = \"/Users/augenpro/Documents/Age-IT/data/Bronze/\"\n",
    "\n",
    "participants = sorted([p for p in os.listdir(silver_layer_path) if not p.startswith(\".\")]) # list of the participants\n",
    "timeline = [\"T0 (baseline)\", \"T1 (6 mesi)\", \"T2 (12 mesi)\"]\n",
    "visit = \"T0 (baseline)\"\n",
    "sensors = [\"GeneActivPolso\", \"GeneActivCaviglia\"]\n",
    "sensor = sensors[1] ##### Ankle\n",
    "\n",
    "GGIR_output_dir = \"output_icareit\"\n",
    "\n",
    "steps_daily = {}\n",
    "\n",
    "participants[10:]"
   ]
  },
  {
   "cell_type": "code",
   "execution_count": 20,
   "metadata": {},
   "outputs": [
    {
     "data": {
      "text/plain": [
       "['_',\n",
       " '65381_right ankle_104577_2025-01-21 15-22-35.parquet',\n",
       " '65381_right ankle_104577_2025-01-21 15-22-35.bin']"
      ]
     },
     "execution_count": 20,
     "metadata": {},
     "output_type": "execute_result"
    }
   ],
   "source": [
    "files = os.listdir(os.path.join(bronze_layer_path, participant, visit, sensor))\n",
    "files"
   ]
  },
  {
   "cell_type": "code",
   "execution_count": 21,
   "metadata": {},
   "outputs": [
    {
     "name": "stdout",
     "output_type": "stream",
     "text": [
      "***** 68503 *****\n",
      "Finding steps: Right ankle, acceleration, state space controller.\n",
      "Pushoff Detection...\n"
     ]
    },
    {
     "name": "stderr",
     "output_type": "stream",
     "text": [
      "/Users/augenpro/Documents/DARE-wearable-pipelines/gait/nimbal_gait_accel.py:178: FutureWarning: 'S' is deprecated and will be removed in a future version, please use 's' instead.\n",
      "  timestamps = pd.date_range(start=start_time, periods=len(vert_accel), freq=f\"{round(1 / freq, 6)}S\")\n",
      "                                                                     \r"
     ]
    },
    {
     "name": "stdout",
     "output_type": "stream",
     "text": [
      "Pushoff Detection...\n"
     ]
    },
    {
     "name": "stderr",
     "output_type": "stream",
     "text": [
      "/Users/augenpro/Documents/DARE-wearable-pipelines/gait/nimbal_gait_accel.py:178: FutureWarning: 'S' is deprecated and will be removed in a future version, please use 's' instead.\n",
      "  timestamps = pd.date_range(start=start_time, periods=len(vert_accel), freq=f\"{round(1 / freq, 6)}S\")\n",
      "/Users/augenpro/Documents/DARE-wearable-pipelines/gait/nimbal_gait.py:224: FutureWarning: ChainedAssignmentError: behaviour will change in pandas 3.0!\n",
      "You are setting values through chained assignment. Currently this works in certain cases, but when using Copy-on-Write (which will become the default behaviour in pandas 3.0) this will never work to update the original DataFrame or Series, because the intermediate object on which we are setting values will behave as a copy.\n",
      "A typical example is when you are setting values in a column of a DataFrame, like:\n",
      "\n",
      "df[\"col\"][row_indexer] = value\n",
      "\n",
      "Use `df.loc[row_indexer, \"col\"] = values` instead, to perform the assignment in a single step and ensure this keeps updating the original `df`.\n",
      "\n",
      "See the caveats in the documentation: https://pandas.pydata.org/pandas-docs/stable/user_guide/indexing.html#returning-a-view-versus-a-copy\n",
      "\n",
      "  new_steps['gait_bout_num'][~new_steps['gait_bout_num'].isin(bout_index)] = 0\n",
      "/Users/augenpro/Documents/DARE-wearable-pipelines/gait/nimbal_gait.py:224: SettingWithCopyWarning: \n",
      "A value is trying to be set on a copy of a slice from a DataFrame\n",
      "\n",
      "See the caveats in the documentation: https://pandas.pydata.org/pandas-docs/stable/user_guide/indexing.html#returning-a-view-versus-a-copy\n",
      "  new_steps['gait_bout_num'][~new_steps['gait_bout_num'].isin(bout_index)] = 0\n"
     ]
    },
    {
     "name": "stdout",
     "output_type": "stream",
     "text": [
      "***** 73496 *****\n",
      "Finding steps: Right ankle, acceleration, state space controller.\n",
      "Pushoff Detection...\n"
     ]
    },
    {
     "name": "stderr",
     "output_type": "stream",
     "text": [
      "/Users/augenpro/Documents/DARE-wearable-pipelines/gait/nimbal_gait_accel.py:178: FutureWarning: 'S' is deprecated and will be removed in a future version, please use 's' instead.\n",
      "  timestamps = pd.date_range(start=start_time, periods=len(vert_accel), freq=f\"{round(1 / freq, 6)}S\")\n",
      "                                                                     \r"
     ]
    },
    {
     "name": "stdout",
     "output_type": "stream",
     "text": [
      "Pushoff Detection...\n"
     ]
    },
    {
     "name": "stderr",
     "output_type": "stream",
     "text": [
      "/Users/augenpro/Documents/DARE-wearable-pipelines/gait/nimbal_gait_accel.py:178: FutureWarning: 'S' is deprecated and will be removed in a future version, please use 's' instead.\n",
      "  timestamps = pd.date_range(start=start_time, periods=len(vert_accel), freq=f\"{round(1 / freq, 6)}S\")\n",
      "/Users/augenpro/Documents/DARE-wearable-pipelines/gait/nimbal_gait.py:224: FutureWarning: ChainedAssignmentError: behaviour will change in pandas 3.0!\n",
      "You are setting values through chained assignment. Currently this works in certain cases, but when using Copy-on-Write (which will become the default behaviour in pandas 3.0) this will never work to update the original DataFrame or Series, because the intermediate object on which we are setting values will behave as a copy.\n",
      "A typical example is when you are setting values in a column of a DataFrame, like:\n",
      "\n",
      "df[\"col\"][row_indexer] = value\n",
      "\n",
      "Use `df.loc[row_indexer, \"col\"] = values` instead, to perform the assignment in a single step and ensure this keeps updating the original `df`.\n",
      "\n",
      "See the caveats in the documentation: https://pandas.pydata.org/pandas-docs/stable/user_guide/indexing.html#returning-a-view-versus-a-copy\n",
      "\n",
      "  new_steps['gait_bout_num'][~new_steps['gait_bout_num'].isin(bout_index)] = 0\n",
      "/Users/augenpro/Documents/DARE-wearable-pipelines/gait/nimbal_gait.py:224: SettingWithCopyWarning: \n",
      "A value is trying to be set on a copy of a slice from a DataFrame\n",
      "\n",
      "See the caveats in the documentation: https://pandas.pydata.org/pandas-docs/stable/user_guide/indexing.html#returning-a-view-versus-a-copy\n",
      "  new_steps['gait_bout_num'][~new_steps['gait_bout_num'].isin(bout_index)] = 0\n"
     ]
    },
    {
     "name": "stdout",
     "output_type": "stream",
     "text": [
      "***** 74003 *****\n",
      "Finding steps: Right ankle, acceleration, state space controller.\n",
      "Pushoff Detection...\n"
     ]
    },
    {
     "name": "stderr",
     "output_type": "stream",
     "text": [
      "/Users/augenpro/Documents/DARE-wearable-pipelines/gait/nimbal_gait_accel.py:178: FutureWarning: 'S' is deprecated and will be removed in a future version, please use 's' instead.\n",
      "  timestamps = pd.date_range(start=start_time, periods=len(vert_accel), freq=f\"{round(1 / freq, 6)}S\")\n",
      "                                                                     \r"
     ]
    },
    {
     "name": "stdout",
     "output_type": "stream",
     "text": [
      "Pushoff Detection...\n"
     ]
    },
    {
     "name": "stderr",
     "output_type": "stream",
     "text": [
      "/Users/augenpro/Documents/DARE-wearable-pipelines/gait/nimbal_gait_accel.py:178: FutureWarning: 'S' is deprecated and will be removed in a future version, please use 's' instead.\n",
      "  timestamps = pd.date_range(start=start_time, periods=len(vert_accel), freq=f\"{round(1 / freq, 6)}S\")\n",
      "/Users/augenpro/Documents/DARE-wearable-pipelines/gait/nimbal_gait.py:224: FutureWarning: ChainedAssignmentError: behaviour will change in pandas 3.0!\n",
      "You are setting values through chained assignment. Currently this works in certain cases, but when using Copy-on-Write (which will become the default behaviour in pandas 3.0) this will never work to update the original DataFrame or Series, because the intermediate object on which we are setting values will behave as a copy.\n",
      "A typical example is when you are setting values in a column of a DataFrame, like:\n",
      "\n",
      "df[\"col\"][row_indexer] = value\n",
      "\n",
      "Use `df.loc[row_indexer, \"col\"] = values` instead, to perform the assignment in a single step and ensure this keeps updating the original `df`.\n",
      "\n",
      "See the caveats in the documentation: https://pandas.pydata.org/pandas-docs/stable/user_guide/indexing.html#returning-a-view-versus-a-copy\n",
      "\n",
      "  new_steps['gait_bout_num'][~new_steps['gait_bout_num'].isin(bout_index)] = 0\n",
      "/Users/augenpro/Documents/DARE-wearable-pipelines/gait/nimbal_gait.py:224: SettingWithCopyWarning: \n",
      "A value is trying to be set on a copy of a slice from a DataFrame\n",
      "\n",
      "See the caveats in the documentation: https://pandas.pydata.org/pandas-docs/stable/user_guide/indexing.html#returning-a-view-versus-a-copy\n",
      "  new_steps['gait_bout_num'][~new_steps['gait_bout_num'].isin(bout_index)] = 0\n"
     ]
    },
    {
     "name": "stdout",
     "output_type": "stream",
     "text": [
      "***** 74913 *****\n",
      "Finding steps: Right ankle, acceleration, state space controller.\n",
      "Pushoff Detection...\n"
     ]
    },
    {
     "name": "stderr",
     "output_type": "stream",
     "text": [
      "/Users/augenpro/Documents/DARE-wearable-pipelines/gait/nimbal_gait_accel.py:178: FutureWarning: 'S' is deprecated and will be removed in a future version, please use 's' instead.\n",
      "  timestamps = pd.date_range(start=start_time, periods=len(vert_accel), freq=f\"{round(1 / freq, 6)}S\")\n",
      "                                                                    \r"
     ]
    },
    {
     "name": "stdout",
     "output_type": "stream",
     "text": [
      "Pushoff Detection...\n"
     ]
    },
    {
     "name": "stderr",
     "output_type": "stream",
     "text": [
      "/Users/augenpro/Documents/DARE-wearable-pipelines/gait/nimbal_gait_accel.py:178: FutureWarning: 'S' is deprecated and will be removed in a future version, please use 's' instead.\n",
      "  timestamps = pd.date_range(start=start_time, periods=len(vert_accel), freq=f\"{round(1 / freq, 6)}S\")\n",
      "/Users/augenpro/Documents/DARE-wearable-pipelines/gait/nimbal_gait.py:224: FutureWarning: ChainedAssignmentError: behaviour will change in pandas 3.0!\n",
      "You are setting values through chained assignment. Currently this works in certain cases, but when using Copy-on-Write (which will become the default behaviour in pandas 3.0) this will never work to update the original DataFrame or Series, because the intermediate object on which we are setting values will behave as a copy.\n",
      "A typical example is when you are setting values in a column of a DataFrame, like:\n",
      "\n",
      "df[\"col\"][row_indexer] = value\n",
      "\n",
      "Use `df.loc[row_indexer, \"col\"] = values` instead, to perform the assignment in a single step and ensure this keeps updating the original `df`.\n",
      "\n",
      "See the caveats in the documentation: https://pandas.pydata.org/pandas-docs/stable/user_guide/indexing.html#returning-a-view-versus-a-copy\n",
      "\n",
      "  new_steps['gait_bout_num'][~new_steps['gait_bout_num'].isin(bout_index)] = 0\n",
      "/Users/augenpro/Documents/DARE-wearable-pipelines/gait/nimbal_gait.py:224: SettingWithCopyWarning: \n",
      "A value is trying to be set on a copy of a slice from a DataFrame\n",
      "\n",
      "See the caveats in the documentation: https://pandas.pydata.org/pandas-docs/stable/user_guide/indexing.html#returning-a-view-versus-a-copy\n",
      "  new_steps['gait_bout_num'][~new_steps['gait_bout_num'].isin(bout_index)] = 0\n"
     ]
    },
    {
     "name": "stdout",
     "output_type": "stream",
     "text": [
      "***** 78936 *****\n",
      "Finding steps: Right ankle, acceleration, state space controller.\n",
      "Pushoff Detection...\n"
     ]
    },
    {
     "name": "stderr",
     "output_type": "stream",
     "text": [
      "/Users/augenpro/Documents/DARE-wearable-pipelines/gait/nimbal_gait_accel.py:178: FutureWarning: 'S' is deprecated and will be removed in a future version, please use 's' instead.\n",
      "  timestamps = pd.date_range(start=start_time, periods=len(vert_accel), freq=f\"{round(1 / freq, 6)}S\")\n",
      "                                                                     \r"
     ]
    },
    {
     "name": "stdout",
     "output_type": "stream",
     "text": [
      "Pushoff Detection...\n"
     ]
    },
    {
     "name": "stderr",
     "output_type": "stream",
     "text": [
      "/Users/augenpro/Documents/DARE-wearable-pipelines/gait/nimbal_gait_accel.py:178: FutureWarning: 'S' is deprecated and will be removed in a future version, please use 's' instead.\n",
      "  timestamps = pd.date_range(start=start_time, periods=len(vert_accel), freq=f\"{round(1 / freq, 6)}S\")\n",
      "/Users/augenpro/Documents/DARE-wearable-pipelines/gait/nimbal_gait.py:224: FutureWarning: ChainedAssignmentError: behaviour will change in pandas 3.0!\n",
      "You are setting values through chained assignment. Currently this works in certain cases, but when using Copy-on-Write (which will become the default behaviour in pandas 3.0) this will never work to update the original DataFrame or Series, because the intermediate object on which we are setting values will behave as a copy.\n",
      "A typical example is when you are setting values in a column of a DataFrame, like:\n",
      "\n",
      "df[\"col\"][row_indexer] = value\n",
      "\n",
      "Use `df.loc[row_indexer, \"col\"] = values` instead, to perform the assignment in a single step and ensure this keeps updating the original `df`.\n",
      "\n",
      "See the caveats in the documentation: https://pandas.pydata.org/pandas-docs/stable/user_guide/indexing.html#returning-a-view-versus-a-copy\n",
      "\n",
      "  new_steps['gait_bout_num'][~new_steps['gait_bout_num'].isin(bout_index)] = 0\n",
      "/Users/augenpro/Documents/DARE-wearable-pipelines/gait/nimbal_gait.py:224: SettingWithCopyWarning: \n",
      "A value is trying to be set on a copy of a slice from a DataFrame\n",
      "\n",
      "See the caveats in the documentation: https://pandas.pydata.org/pandas-docs/stable/user_guide/indexing.html#returning-a-view-versus-a-copy\n",
      "  new_steps['gait_bout_num'][~new_steps['gait_bout_num'].isin(bout_index)] = 0\n"
     ]
    },
    {
     "name": "stdout",
     "output_type": "stream",
     "text": [
      "***** 86693 *****\n",
      "Finding steps: Right ankle, acceleration, state space controller.\n",
      "Pushoff Detection...\n"
     ]
    },
    {
     "name": "stderr",
     "output_type": "stream",
     "text": [
      "/Users/augenpro/Documents/DARE-wearable-pipelines/gait/nimbal_gait_accel.py:178: FutureWarning: 'S' is deprecated and will be removed in a future version, please use 's' instead.\n",
      "  timestamps = pd.date_range(start=start_time, periods=len(vert_accel), freq=f\"{round(1 / freq, 6)}S\")\n",
      "                                                                    \r"
     ]
    },
    {
     "name": "stdout",
     "output_type": "stream",
     "text": [
      "Pushoff Detection...\n"
     ]
    },
    {
     "name": "stderr",
     "output_type": "stream",
     "text": [
      "/Users/augenpro/Documents/DARE-wearable-pipelines/gait/nimbal_gait_accel.py:178: FutureWarning: 'S' is deprecated and will be removed in a future version, please use 's' instead.\n",
      "  timestamps = pd.date_range(start=start_time, periods=len(vert_accel), freq=f\"{round(1 / freq, 6)}S\")\n",
      "/Users/augenpro/Documents/DARE-wearable-pipelines/gait/nimbal_gait.py:224: FutureWarning: ChainedAssignmentError: behaviour will change in pandas 3.0!\n",
      "You are setting values through chained assignment. Currently this works in certain cases, but when using Copy-on-Write (which will become the default behaviour in pandas 3.0) this will never work to update the original DataFrame or Series, because the intermediate object on which we are setting values will behave as a copy.\n",
      "A typical example is when you are setting values in a column of a DataFrame, like:\n",
      "\n",
      "df[\"col\"][row_indexer] = value\n",
      "\n",
      "Use `df.loc[row_indexer, \"col\"] = values` instead, to perform the assignment in a single step and ensure this keeps updating the original `df`.\n",
      "\n",
      "See the caveats in the documentation: https://pandas.pydata.org/pandas-docs/stable/user_guide/indexing.html#returning-a-view-versus-a-copy\n",
      "\n",
      "  new_steps['gait_bout_num'][~new_steps['gait_bout_num'].isin(bout_index)] = 0\n",
      "/Users/augenpro/Documents/DARE-wearable-pipelines/gait/nimbal_gait.py:224: SettingWithCopyWarning: \n",
      "A value is trying to be set on a copy of a slice from a DataFrame\n",
      "\n",
      "See the caveats in the documentation: https://pandas.pydata.org/pandas-docs/stable/user_guide/indexing.html#returning-a-view-versus-a-copy\n",
      "  new_steps['gait_bout_num'][~new_steps['gait_bout_num'].isin(bout_index)] = 0\n"
     ]
    },
    {
     "name": "stdout",
     "output_type": "stream",
     "text": [
      "***** 97060 *****\n",
      "Finding steps: Right ankle, acceleration, state space controller.\n",
      "Pushoff Detection...\n"
     ]
    },
    {
     "name": "stderr",
     "output_type": "stream",
     "text": [
      "/Users/augenpro/Documents/DARE-wearable-pipelines/gait/nimbal_gait_accel.py:178: FutureWarning: 'S' is deprecated and will be removed in a future version, please use 's' instead.\n",
      "  timestamps = pd.date_range(start=start_time, periods=len(vert_accel), freq=f\"{round(1 / freq, 6)}S\")\n",
      "                                                                     \r"
     ]
    },
    {
     "name": "stdout",
     "output_type": "stream",
     "text": [
      "Pushoff Detection...\n"
     ]
    },
    {
     "name": "stderr",
     "output_type": "stream",
     "text": [
      "/Users/augenpro/Documents/DARE-wearable-pipelines/gait/nimbal_gait_accel.py:178: FutureWarning: 'S' is deprecated and will be removed in a future version, please use 's' instead.\n",
      "  timestamps = pd.date_range(start=start_time, periods=len(vert_accel), freq=f\"{round(1 / freq, 6)}S\")\n",
      "/Users/augenpro/Documents/DARE-wearable-pipelines/gait/nimbal_gait.py:224: FutureWarning: ChainedAssignmentError: behaviour will change in pandas 3.0!\n",
      "You are setting values through chained assignment. Currently this works in certain cases, but when using Copy-on-Write (which will become the default behaviour in pandas 3.0) this will never work to update the original DataFrame or Series, because the intermediate object on which we are setting values will behave as a copy.\n",
      "A typical example is when you are setting values in a column of a DataFrame, like:\n",
      "\n",
      "df[\"col\"][row_indexer] = value\n",
      "\n",
      "Use `df.loc[row_indexer, \"col\"] = values` instead, to perform the assignment in a single step and ensure this keeps updating the original `df`.\n",
      "\n",
      "See the caveats in the documentation: https://pandas.pydata.org/pandas-docs/stable/user_guide/indexing.html#returning-a-view-versus-a-copy\n",
      "\n",
      "  new_steps['gait_bout_num'][~new_steps['gait_bout_num'].isin(bout_index)] = 0\n",
      "/Users/augenpro/Documents/DARE-wearable-pipelines/gait/nimbal_gait.py:224: SettingWithCopyWarning: \n",
      "A value is trying to be set on a copy of a slice from a DataFrame\n",
      "\n",
      "See the caveats in the documentation: https://pandas.pydata.org/pandas-docs/stable/user_guide/indexing.html#returning-a-view-versus-a-copy\n",
      "  new_steps['gait_bout_num'][~new_steps['gait_bout_num'].isin(bout_index)] = 0\n"
     ]
    }
   ],
   "source": [
    "from utils.compute_acc_metrics import compute_acc_SMV\n",
    "from gait import nimbal_gait\n",
    "\n",
    "ageit_path = \"/Users/augenpro/Documents/Age-IT/\"\n",
    "silver_layer_path = \"/Users/augenpro/Documents/Age-IT/data/Silver/\"\n",
    "bronze_layer_path = \"/Users/augenpro/Documents/Age-IT/data/Bronze/\"\n",
    "\n",
    "participants = sorted([p for p in os.listdir(silver_layer_path) if not p.startswith(\".\")]) # list of the participants\n",
    "timeline = [\"T0 (baseline)\", \"T1 (6 mesi)\", \"T2 (12 mesi)\"]\n",
    "visit = \"T0 (baseline)\"\n",
    "sensors = [\"GeneActivPolso\", \"GeneActivCaviglia\"]\n",
    "sensor = sensors[1] ##### Ankle\n",
    "\n",
    "participants = participants[11:]\n",
    "# participants = [\"08667\", \"20603\", \"36765\"]\n",
    "\n",
    "GGIR_output_dir = \"output_icareit\"\n",
    "\n",
    "steps_daily = {}\n",
    "\n",
    "step_detect_type = 'accel'\n",
    "fs = 100\n",
    "start_time = 0\n",
    "location = \"ankle\"\n",
    "\n",
    "for participant in participants:\n",
    "\n",
    "    print(f\"***** {participant} *****\")\n",
    "\n",
    "    ### Load the GENEActiv data (for debugging purposes only) ######\n",
    "    files = os.listdir(os.path.join(bronze_layer_path, participant, visit, sensor))\n",
    "    for f in files:\n",
    "        if f.endswith(\".parquet\"):\n",
    "            acc_gen = pd.read_parquet(os.path.join(bronze_layer_path, participant, visit, sensor, f))[[\"x\", \"y\", \"z\"]]\n",
    "    acc_gen[\"acc_SMV\"] = compute_acc_SMV(acc_gen)\n",
    "\n",
    "    steps = nimbal_gait.detect_steps(left_data=None, right_data=acc_gen[\"acc_SMV\"].values, loc=location, data_type=step_detect_type,\n",
    "                             start_time=acc_gen.index[0], freq=fs, orient_signal=True, low_pass=12)\n",
    "    \n",
    "    steps2, bouts = nimbal_gait.define_bouts(steps=steps, freq=fs, start_time=acc_gen.index[0], max_break=3, min_steps=6,\n",
    "                                        remove_unbouted=False)\n",
    "    # Save to silver layer \n",
    "    steps2.to_csv(os.path.join(silver_layer_path, participant, visit, sensor, \"steps.csv\"))\n",
    "    bouts.to_csv(os.path.join(silver_layer_path, participant, visit, sensor, \"bouts.csv\"))\n",
    "\n",
    "    # daily steps\n",
    "    daily_steps = nimbal_gait.gait_stats(bouts, stat_type='daily', single_leg=False)\n",
    "    # Save to silver layer\n",
    "    daily_steps.to_csv(os.path.join(silver_layer_path, participant, visit, sensor, \"daily_steps.csv\"))\n",
    "\n",
    "    # steps_daily[participant] = daily_steps\n",
    "\n",
    "# steps_daily_df = pd.DataFrame()\n",
    "\n",
    "# for participant, steps_part in steps_daily.items():\n",
    "#     steps_part[\"participant\"] = participant\n",
    "#     steps_daily_df = pd.concat([steps_daily_df, steps_part])\n",
    "\n",
    "# steps_daily_df = steps_daily_df.reset_index(drop = True)\n",
    "# steps_daily_df[\"participant\"].unique()"
   ]
  },
  {
   "cell_type": "code",
   "execution_count": 22,
   "metadata": {},
   "outputs": [
    {
     "data": {
      "application/vnd.microsoft.datawrangler.viewer.v0+json": {
       "columns": [
        {
         "name": "index",
         "rawType": "int64",
         "type": "integer"
        },
        {
         "name": "step_num",
         "rawType": "int64",
         "type": "integer"
        },
        {
         "name": "step_time",
         "rawType": "datetime64[ns]",
         "type": "datetime"
        },
        {
         "name": "step_idx",
         "rawType": "int64",
         "type": "integer"
        },
        {
         "name": "step_state",
         "rawType": "object",
         "type": "string"
        },
        {
         "name": "swing_start_time",
         "rawType": "datetime64[ns]",
         "type": "datetime"
        },
        {
         "name": "mid_swing_time",
         "rawType": "datetime64[ns]",
         "type": "datetime"
        },
        {
         "name": "heel_strike_time",
         "rawType": "datetime64[ns]",
         "type": "datetime"
        },
        {
         "name": "swing_start_accel",
         "rawType": "float64",
         "type": "float"
        },
        {
         "name": "mid_swing_accel",
         "rawType": "float64",
         "type": "float"
        },
        {
         "name": "heel_strike_accel",
         "rawType": "float64",
         "type": "float"
        },
        {
         "name": "step_duration",
         "rawType": "float64",
         "type": "float"
        },
        {
         "name": "loc",
         "rawType": "object",
         "type": "string"
        },
        {
         "name": "side",
         "rawType": "object",
         "type": "string"
        },
        {
         "name": "data_type",
         "rawType": "object",
         "type": "string"
        },
        {
         "name": "alg",
         "rawType": "object",
         "type": "string"
        }
       ],
       "conversionMethod": "pd.DataFrame",
       "ref": "bf1ef0a3-90ad-4b59-b14f-847f315cbe44",
       "rows": [
        [
         "0",
         "1",
         "2025-01-21 17:00:24.810000",
         "181",
         "success",
         "2025-01-21 17:00:25.200000",
         "2025-01-21 17:00:25.330000",
         "2025-01-21 17:00:25.510000",
         "1.0737075312417255",
         "0.5159692210274878",
         "0.7683075769179193",
         "0.76",
         "ankle",
         "right",
         "accel",
         "ssc"
        ],
        [
         "1",
         "2",
         "2025-01-21 17:00:25.880000",
         "288",
         "success",
         "2025-01-21 17:00:26.270000",
         "2025-01-21 17:00:26.420000",
         "2025-01-21 17:00:26.540000",
         "1.0764044262088943",
         "0.9115170663627112",
         "1.1650447406107143",
         "0.72",
         "ankle",
         "right",
         "accel",
         "ssc"
        ],
        [
         "2",
         "3",
         "2025-01-21 17:00:26.620000",
         "362",
         "success",
         "2025-01-21 17:00:27.010000",
         "2025-01-21 17:00:27.250000",
         "2025-01-21 17:00:27.630000",
         "1.4024884561920543",
         "1.018390198518084",
         "1.277481124372332",
         "1.07",
         "ankle",
         "right",
         "accel",
         "ssc"
        ],
        [
         "3",
         "4",
         "2025-01-21 17:00:31.820000",
         "882",
         "success",
         "2025-01-21 17:00:32.210000",
         "2025-01-21 17:00:32.350000",
         "2025-01-21 17:00:32.430000",
         "1.1272845560627702",
         "0.8905285290440256",
         "1.1494254887186182",
         "0.67",
         "ankle",
         "right",
         "accel",
         "ssc"
        ],
        [
         "4",
         "5",
         "2025-01-21 17:00:39.310000",
         "1631",
         "success",
         "2025-01-21 17:00:39.700000",
         "2025-01-21 17:00:39.990000",
         "2025-01-21 17:00:40.110000",
         "1.277083899054251",
         "0.7251243497976908",
         "0.9533254970886728",
         "0.86",
         "ankle",
         "right",
         "accel",
         "ssc"
        ],
        [
         "5",
         "6",
         "2025-01-21 17:00:44.390000",
         "2139",
         "success",
         "2025-01-21 17:00:44.780000",
         "2025-01-21 17:00:44.920000",
         "2025-01-21 17:00:45.140000",
         "1.2032477965383155",
         "0.624377626230515",
         "1.1368631289887423",
         "0.81",
         "ankle",
         "right",
         "accel",
         "ssc"
        ],
        [
         "6",
         "7",
         "2025-01-21 17:00:53.960000",
         "3096",
         "success",
         "2025-01-21 17:00:54.350000",
         "2025-01-21 17:00:54.480000",
         "2025-01-21 17:00:54.730000",
         "1.1693753605105224",
         "0.4779128736214473",
         "1.5224934370959664",
         "0.83",
         "ankle",
         "right",
         "accel",
         "ssc"
        ],
        [
         "7",
         "8",
         "2025-01-21 17:00:54.790000",
         "3179",
         "success",
         "2025-01-21 17:00:55.180000",
         "2025-01-21 17:00:55.490000",
         "2025-01-21 17:00:55.570000",
         "1.5143759597885256",
         "0.4578136427746161",
         "1.0093819069514982",
         "0.84",
         "ankle",
         "right",
         "accel",
         "ssc"
        ],
        [
         "8",
         "9",
         "2025-01-21 17:00:57.710000",
         "3471",
         "success",
         "2025-01-21 17:00:58.100000",
         "2025-01-21 17:00:58.350000",
         "2025-01-21 17:00:58.430000",
         "1.1198683053226341",
         "0.681383326010133",
         "1.3954489826735061",
         "0.78",
         "ankle",
         "right",
         "accel",
         "ssc"
        ],
        [
         "9",
         "10",
         "2025-01-21 17:00:58.790000",
         "3579",
         "success",
         "2025-01-21 17:00:59.180000",
         "2025-01-21 17:00:59.270000",
         "2025-01-21 17:00:59.430000",
         "1.2448712289872665",
         "0.7704680762227626",
         "1.231877391371667",
         "0.7",
         "ankle",
         "right",
         "accel",
         "ssc"
        ],
        [
         "10",
         "11",
         "2025-01-21 17:01:00.490000",
         "3749",
         "success",
         "2025-01-21 17:01:00.880000",
         "2025-01-21 17:01:01.180000",
         "2025-01-21 17:01:01.240000",
         "1.1302870907213474",
         "0.5676268689771928",
         "0.6652899298409284",
         "0.81",
         "ankle",
         "right",
         "accel",
         "ssc"
        ],
        [
         "11",
         "12",
         "2025-01-21 17:01:02.140000",
         "3914",
         "success",
         "2025-01-21 17:01:02.530000",
         "2025-01-21 17:01:02.740000",
         "2025-01-21 17:01:02.880000",
         "1.2169709131057933",
         "0.9890343042832438",
         "1.1655061427983444",
         "0.8",
         "ankle",
         "right",
         "accel",
         "ssc"
        ],
        [
         "12",
         "13",
         "2025-01-21 17:05:34.670000",
         "31167",
         "success",
         "2025-01-21 17:05:35.060000",
         "2025-01-21 17:05:35.210000",
         "2025-01-21 17:05:35.290000",
         "1.9987546791325432",
         "0.4478174252734595",
         "0.6930881582517272",
         "0.68",
         "ankle",
         "right",
         "accel",
         "ssc"
        ],
        [
         "13",
         "14",
         "2025-01-21 17:05:42.510000",
         "31951",
         "success",
         "2025-01-21 17:05:42.900000",
         "2025-01-21 17:05:43.070000",
         "2025-01-21 17:05:43.130000",
         "2.301147840602953",
         "0.833353456452892",
         "1.0350243685106602",
         "0.68",
         "ankle",
         "right",
         "accel",
         "ssc"
        ],
        [
         "14",
         "15",
         "2025-01-21 17:06:01.150000",
         "33815",
         "success",
         "2025-01-21 17:06:01.540000",
         "2025-01-21 17:06:01.780000",
         "2025-01-21 17:06:01.900000",
         "2.0450838330615975",
         "0.7680012942352463",
         "1.6736291300784525",
         "0.81",
         "ankle",
         "right",
         "accel",
         "ssc"
        ],
        [
         "15",
         "16",
         "2025-01-21 17:06:03.300000",
         "34030",
         "success",
         "2025-01-21 17:06:03.690000",
         "2025-01-21 17:06:03.880000",
         "2025-01-21 17:06:03.960000",
         "1.2085260995919072",
         "0.7599309955811379",
         "1.139525853732497",
         "0.72",
         "ankle",
         "right",
         "accel",
         "ssc"
        ],
        [
         "16",
         "17",
         "2025-01-21 17:06:04.450000",
         "34145",
         "success",
         "2025-01-21 17:06:04.840000",
         "2025-01-21 17:06:04.900000",
         "2025-01-21 17:06:05.010000",
         "1.0348393767802924",
         "0.8502198913109112",
         "1.0607892317353789",
         "0.62",
         "ankle",
         "right",
         "accel",
         "ssc"
        ],
        [
         "17",
         "18",
         "2025-01-21 17:06:11.480000",
         "34848",
         "success",
         "2025-01-21 17:06:11.870000",
         "2025-01-21 17:06:11.960000",
         "2025-01-21 17:06:12.060000",
         "1.149830250361912",
         "0.8708210691528009",
         "1.005104131487725",
         "0.64",
         "ankle",
         "right",
         "accel",
         "ssc"
        ],
        [
         "18",
         "19",
         "2025-01-21 17:06:16.070000",
         "35307",
         "success",
         "2025-01-21 17:06:16.460000",
         "2025-01-21 17:06:16.600000",
         "2025-01-21 17:06:16.690000",
         "1.0980976565364728",
         "0.7971192842422823",
         "1.782388608113628",
         "0.68",
         "ankle",
         "right",
         "accel",
         "ssc"
        ],
        [
         "19",
         "20",
         "2025-01-21 17:06:18.490000",
         "35549",
         "success",
         "2025-01-21 17:06:18.880000",
         "2025-01-21 17:06:18.950000",
         "2025-01-21 17:06:19.060000",
         "1.2448092924598182",
         "0.6991455880862275",
         "1.397379166791381",
         "0.63",
         "ankle",
         "right",
         "accel",
         "ssc"
        ],
        [
         "20",
         "21",
         "2025-01-21 17:06:27.800000",
         "36480",
         "success",
         "2025-01-21 17:06:28.190000",
         "2025-01-21 17:06:28.460000",
         "2025-01-21 17:06:28.570000",
         "0.7140842817345967",
         "0.6287191187791443",
         "0.9583339214735656",
         "0.83",
         "ankle",
         "right",
         "accel",
         "ssc"
        ],
        [
         "21",
         "22",
         "2025-01-21 17:06:32.510000",
         "36951",
         "success",
         "2025-01-21 17:06:32.900000",
         "2025-01-21 17:06:33.020000",
         "2025-01-21 17:06:33.200000",
         "1.0888360866727866",
         "0.8008700344186496",
         "1.354432524225127",
         "0.75",
         "ankle",
         "right",
         "accel",
         "ssc"
        ],
        [
         "22",
         "23",
         "2025-01-21 17:06:37",
         "37400",
         "success",
         "2025-01-21 17:06:37.390000",
         "2025-01-21 17:06:37.700000",
         "2025-01-21 17:06:37.770000",
         "1.1940599731174848",
         "0.9261074059685132",
         "1.3517618486475564",
         "0.83",
         "ankle",
         "right",
         "accel",
         "ssc"
        ],
        [
         "23",
         "24",
         "2025-01-21 17:06:38.150000",
         "37515",
         "success",
         "2025-01-21 17:06:38.540000",
         "2025-01-21 17:06:38.620000",
         "2025-01-21 17:06:38.720000",
         "1.1670185406589424",
         "0.6830660434540345",
         "1.1418152224172797",
         "0.63",
         "ankle",
         "right",
         "accel",
         "ssc"
        ],
        [
         "24",
         "25",
         "2025-01-21 17:06:38.850000",
         "37585",
         "success",
         "2025-01-21 17:06:39.240000",
         "2025-01-21 17:06:39.380000",
         "2025-01-21 17:06:39.550000",
         "1.4434320904073852",
         "0.2758356256190557",
         "1.4660767871639282",
         "0.76",
         "ankle",
         "right",
         "accel",
         "ssc"
        ],
        [
         "25",
         "26",
         "2025-01-21 17:07:39.190000",
         "43619",
         "success",
         "2025-01-21 17:07:39.580000",
         "2025-01-21 17:07:39.770000",
         "2025-01-21 17:07:39.950000",
         "1.0657583140460147",
         "0.8768844866613572",
         "1.3099415495200917",
         "0.82",
         "ankle",
         "right",
         "accel",
         "ssc"
        ],
        [
         "26",
         "27",
         "2025-01-21 17:07:58.670000",
         "45567",
         "success",
         "2025-01-21 17:07:59.060000",
         "2025-01-21 17:07:59.120000",
         "2025-01-21 17:07:59.440000",
         "1.043580670251156",
         "0.753715892372849",
         "1.8431595185723644",
         "0.83",
         "ankle",
         "right",
         "accel",
         "ssc"
        ],
        [
         "27",
         "28",
         "2025-01-21 17:08:21.010000",
         "47801",
         "success",
         "2025-01-21 17:08:21.400000",
         "2025-01-21 17:08:21.470000",
         "2025-01-21 17:08:21.720000",
         "1.3163774901589969",
         "0.49850740059293464",
         "2.752090633646664",
         "0.77",
         "ankle",
         "right",
         "accel",
         "ssc"
        ],
        [
         "28",
         "29",
         "2025-01-21 17:08:23.990000",
         "48099",
         "success",
         "2025-01-21 17:08:24.380000",
         "2025-01-21 17:08:24.550000",
         "2025-01-21 17:08:24.820000",
         "1.255032578842105",
         "0.6988671243611739",
         "1.3463691574467567",
         "0.89",
         "ankle",
         "right",
         "accel",
         "ssc"
        ],
        [
         "29",
         "30",
         "2025-01-21 17:08:27.940000",
         "48494",
         "success",
         "2025-01-21 17:08:28.330000",
         "2025-01-21 17:08:28.410000",
         "2025-01-21 17:08:28.830000",
         "1.2439843432679556",
         "0.7650248464603542",
         "2.1366933930051175",
         "0.95",
         "ankle",
         "right",
         "accel",
         "ssc"
        ],
        [
         "30",
         "31",
         "2025-01-21 17:08:29.110000",
         "48611",
         "success",
         "2025-01-21 17:08:29.500000",
         "2025-01-21 17:08:29.570000",
         "2025-01-21 17:08:29.920000",
         "1.2585936783861549",
         "0.49196910626168744",
         "2.5484764579986985",
         "0.87",
         "ankle",
         "right",
         "accel",
         "ssc"
        ],
        [
         "31",
         "32",
         "2025-01-21 17:08:30.190000",
         "48719",
         "success",
         "2025-01-21 17:08:30.580000",
         "2025-01-21 17:08:30.660000",
         "2025-01-21 17:08:30.970000",
         "1.1312804357566186",
         "0.34699345249329844",
         "2.0310038096651803",
         "0.84",
         "ankle",
         "right",
         "accel",
         "ssc"
        ],
        [
         "32",
         "33",
         "2025-01-21 17:08:31.320000",
         "48832",
         "success",
         "2025-01-21 17:08:31.710000",
         "2025-01-21 17:08:31.790000",
         "2025-01-21 17:08:32.070000",
         "1.0284781282840836",
         "0.4233118319363401",
         "2.1296544943577778",
         "0.81",
         "ankle",
         "right",
         "accel",
         "ssc"
        ],
        [
         "33",
         "34",
         "2025-01-21 17:08:32.360000",
         "48936",
         "success",
         "2025-01-21 17:08:32.750000",
         "2025-01-21 17:08:32.900000",
         "2025-01-21 17:08:33.150000",
         "1.8180072025495213",
         "0.3880637877623405",
         "2.1842654681436717",
         "0.85",
         "ankle",
         "right",
         "accel",
         "ssc"
        ],
        [
         "34",
         "35",
         "2025-01-21 17:08:33.480000",
         "49048",
         "success",
         "2025-01-21 17:08:33.870000",
         "2025-01-21 17:08:34.040000",
         "2025-01-21 17:08:34.270000",
         "1.7887503730169843",
         "0.43368539454773125",
         "2.2501401952831794",
         "0.85",
         "ankle",
         "right",
         "accel",
         "ssc"
        ],
        [
         "35",
         "36",
         "2025-01-21 17:08:34.670000",
         "49167",
         "success",
         "2025-01-21 17:08:35.060000",
         "2025-01-21 17:08:35.150000",
         "2025-01-21 17:08:35.440000",
         "1.325845389130072",
         "0.4285866792413575",
         "2.2024956931832436",
         "0.83",
         "ankle",
         "right",
         "accel",
         "ssc"
        ],
        [
         "36",
         "37",
         "2025-01-21 17:08:35.740000",
         "49274",
         "success",
         "2025-01-21 17:08:36.130000",
         "2025-01-21 17:08:36.300000",
         "2025-01-21 17:08:36.540000",
         "1.690057772463166",
         "0.43835928241173233",
         "2.083194000485061",
         "0.86",
         "ankle",
         "right",
         "accel",
         "ssc"
        ],
        [
         "37",
         "38",
         "2025-01-21 17:08:36.970000",
         "49397",
         "success",
         "2025-01-21 17:08:37.360000",
         "2025-01-21 17:08:37.450000",
         "2025-01-21 17:08:37.670000",
         "1.3679009342829191",
         "0.41076087929054783",
         "2.1901238040564133",
         "0.76",
         "ankle",
         "right",
         "accel",
         "ssc"
        ],
        [
         "38",
         "39",
         "2025-01-21 17:08:38",
         "49500",
         "success",
         "2025-01-21 17:08:38.390000",
         "2025-01-21 17:08:38.560000",
         "2025-01-21 17:08:38.780000",
         "1.8305969139235652",
         "0.3981701078364368",
         "2.298487719926273",
         "0.84",
         "ankle",
         "right",
         "accel",
         "ssc"
        ],
        [
         "39",
         "40",
         "2025-01-21 17:08:39.150000",
         "49615",
         "success",
         "2025-01-21 17:08:39.540000",
         "2025-01-21 17:08:39.700000",
         "2025-01-21 17:08:39.930000",
         "1.7140798337354775",
         "0.365226597548905",
         "2.249001930313034",
         "0.84",
         "ankle",
         "right",
         "accel",
         "ssc"
        ],
        [
         "40",
         "41",
         "2025-01-21 17:08:40.320000",
         "49732",
         "success",
         "2025-01-21 17:08:40.710000",
         "2025-01-21 17:08:40.890000",
         "2025-01-21 17:08:41.140000",
         "2.023739302074302",
         "0.35233347251180575",
         "2.0344230332121023",
         "0.88",
         "ankle",
         "right",
         "accel",
         "ssc"
        ],
        [
         "41",
         "42",
         "2025-01-21 17:08:41.430000",
         "49843",
         "success",
         "2025-01-21 17:08:41.820000",
         "2025-01-21 17:08:41.990000",
         "2025-01-21 17:08:42.220000",
         "1.7521360760441422",
         "0.3897120206028007",
         "2.1802002736377495",
         "0.85",
         "ankle",
         "right",
         "accel",
         "ssc"
        ],
        [
         "42",
         "43",
         "2025-01-21 17:08:42.580000",
         "49958",
         "success",
         "2025-01-21 17:08:42.970000",
         "2025-01-21 17:08:43.120000",
         "2025-01-21 17:08:43.370000",
         "1.9221778874847244",
         "0.4456176582755349",
         "2.0413322909124765",
         "0.85",
         "ankle",
         "right",
         "accel",
         "ssc"
        ],
        [
         "43",
         "44",
         "2025-01-21 17:08:43.770000",
         "50077",
         "success",
         "2025-01-21 17:08:44.160000",
         "2025-01-21 17:08:44.260000",
         "2025-01-21 17:08:44.460000",
         "1.198708416697423",
         "0.35380503210864883",
         "2.215537540557754",
         "0.75",
         "ankle",
         "right",
         "accel",
         "ssc"
        ],
        [
         "44",
         "45",
         "2025-01-21 17:08:44.830000",
         "50183",
         "success",
         "2025-01-21 17:08:45.220000",
         "2025-01-21 17:08:45.380000",
         "2025-01-21 17:08:45.620000",
         "1.8533487463118241",
         "0.4025124238437976",
         "2.163732046956923",
         "0.85",
         "ankle",
         "right",
         "accel",
         "ssc"
        ],
        [
         "45",
         "46",
         "2025-01-21 17:08:46.050000",
         "50305",
         "success",
         "2025-01-21 17:08:46.440000",
         "2025-01-21 17:08:46.530000",
         "2025-01-21 17:08:46.760000",
         "1.2607987410375041",
         "0.39560855461519884",
         "2.2199017186716583",
         "0.77",
         "ankle",
         "right",
         "accel",
         "ssc"
        ],
        [
         "46",
         "47",
         "2025-01-21 17:08:47.150000",
         "50415",
         "success",
         "2025-01-21 17:08:47.540000",
         "2025-01-21 17:08:47.630000",
         "2025-01-21 17:08:47.870000",
         "1.3775545674112317",
         "0.4319773830254351",
         "1.9070196210836452",
         "0.78",
         "ankle",
         "right",
         "accel",
         "ssc"
        ],
        [
         "47",
         "48",
         "2025-01-21 17:08:48.270000",
         "50527",
         "success",
         "2025-01-21 17:08:48.660000",
         "2025-01-21 17:08:48.810000",
         "2025-01-21 17:08:49.090000",
         "1.5444626563884563",
         "0.45844355375082185",
         "1.8193125129041519",
         "0.88",
         "ankle",
         "right",
         "accel",
         "ssc"
        ],
        [
         "48",
         "49",
         "2025-01-21 17:08:49.590000",
         "50659",
         "success",
         "2025-01-21 17:08:49.980000",
         "2025-01-21 17:08:50.060000",
         "2025-01-21 17:08:50.300000",
         "1.3135119253340777",
         "0.40865001291066183",
         "1.9665652685493997",
         "0.77",
         "ankle",
         "right",
         "accel",
         "ssc"
        ],
        [
         "49",
         "50",
         "2025-01-21 17:08:50.760000",
         "50776",
         "success",
         "2025-01-21 17:08:51.150000",
         "2025-01-21 17:08:51.330000",
         "2025-01-21 17:08:51.610000",
         "1.1775172959608953",
         "0.6021913941885342",
         "1.1975174807247382",
         "0.91",
         "ankle",
         "right",
         "accel",
         "ssc"
        ]
       ],
       "shape": {
        "columns": 15,
        "rows": 41805
       }
      },
      "text/html": [
       "<div>\n",
       "<style scoped>\n",
       "    .dataframe tbody tr th:only-of-type {\n",
       "        vertical-align: middle;\n",
       "    }\n",
       "\n",
       "    .dataframe tbody tr th {\n",
       "        vertical-align: top;\n",
       "    }\n",
       "\n",
       "    .dataframe thead th {\n",
       "        text-align: right;\n",
       "    }\n",
       "</style>\n",
       "<table border=\"1\" class=\"dataframe\">\n",
       "  <thead>\n",
       "    <tr style=\"text-align: right;\">\n",
       "      <th></th>\n",
       "      <th>step_num</th>\n",
       "      <th>step_time</th>\n",
       "      <th>step_idx</th>\n",
       "      <th>step_state</th>\n",
       "      <th>swing_start_time</th>\n",
       "      <th>mid_swing_time</th>\n",
       "      <th>heel_strike_time</th>\n",
       "      <th>swing_start_accel</th>\n",
       "      <th>mid_swing_accel</th>\n",
       "      <th>heel_strike_accel</th>\n",
       "      <th>step_duration</th>\n",
       "      <th>loc</th>\n",
       "      <th>side</th>\n",
       "      <th>data_type</th>\n",
       "      <th>alg</th>\n",
       "    </tr>\n",
       "  </thead>\n",
       "  <tbody>\n",
       "    <tr>\n",
       "      <th>0</th>\n",
       "      <td>1</td>\n",
       "      <td>2025-01-21 17:00:24.810</td>\n",
       "      <td>181</td>\n",
       "      <td>success</td>\n",
       "      <td>2025-01-21 17:00:25.200</td>\n",
       "      <td>2025-01-21 17:00:25.330</td>\n",
       "      <td>2025-01-21 17:00:25.510</td>\n",
       "      <td>1.073708</td>\n",
       "      <td>0.515969</td>\n",
       "      <td>0.768308</td>\n",
       "      <td>0.76</td>\n",
       "      <td>ankle</td>\n",
       "      <td>right</td>\n",
       "      <td>accel</td>\n",
       "      <td>ssc</td>\n",
       "    </tr>\n",
       "    <tr>\n",
       "      <th>1</th>\n",
       "      <td>2</td>\n",
       "      <td>2025-01-21 17:00:25.880</td>\n",
       "      <td>288</td>\n",
       "      <td>success</td>\n",
       "      <td>2025-01-21 17:00:26.270</td>\n",
       "      <td>2025-01-21 17:00:26.420</td>\n",
       "      <td>2025-01-21 17:00:26.540</td>\n",
       "      <td>1.076404</td>\n",
       "      <td>0.911517</td>\n",
       "      <td>1.165045</td>\n",
       "      <td>0.72</td>\n",
       "      <td>ankle</td>\n",
       "      <td>right</td>\n",
       "      <td>accel</td>\n",
       "      <td>ssc</td>\n",
       "    </tr>\n",
       "    <tr>\n",
       "      <th>2</th>\n",
       "      <td>3</td>\n",
       "      <td>2025-01-21 17:00:26.620</td>\n",
       "      <td>362</td>\n",
       "      <td>success</td>\n",
       "      <td>2025-01-21 17:00:27.010</td>\n",
       "      <td>2025-01-21 17:00:27.250</td>\n",
       "      <td>2025-01-21 17:00:27.630</td>\n",
       "      <td>1.402488</td>\n",
       "      <td>1.018390</td>\n",
       "      <td>1.277481</td>\n",
       "      <td>1.07</td>\n",
       "      <td>ankle</td>\n",
       "      <td>right</td>\n",
       "      <td>accel</td>\n",
       "      <td>ssc</td>\n",
       "    </tr>\n",
       "    <tr>\n",
       "      <th>3</th>\n",
       "      <td>4</td>\n",
       "      <td>2025-01-21 17:00:31.820</td>\n",
       "      <td>882</td>\n",
       "      <td>success</td>\n",
       "      <td>2025-01-21 17:00:32.210</td>\n",
       "      <td>2025-01-21 17:00:32.350</td>\n",
       "      <td>2025-01-21 17:00:32.430</td>\n",
       "      <td>1.127285</td>\n",
       "      <td>0.890529</td>\n",
       "      <td>1.149425</td>\n",
       "      <td>0.67</td>\n",
       "      <td>ankle</td>\n",
       "      <td>right</td>\n",
       "      <td>accel</td>\n",
       "      <td>ssc</td>\n",
       "    </tr>\n",
       "    <tr>\n",
       "      <th>4</th>\n",
       "      <td>5</td>\n",
       "      <td>2025-01-21 17:00:39.310</td>\n",
       "      <td>1631</td>\n",
       "      <td>success</td>\n",
       "      <td>2025-01-21 17:00:39.700</td>\n",
       "      <td>2025-01-21 17:00:39.990</td>\n",
       "      <td>2025-01-21 17:00:40.110</td>\n",
       "      <td>1.277084</td>\n",
       "      <td>0.725124</td>\n",
       "      <td>0.953325</td>\n",
       "      <td>0.86</td>\n",
       "      <td>ankle</td>\n",
       "      <td>right</td>\n",
       "      <td>accel</td>\n",
       "      <td>ssc</td>\n",
       "    </tr>\n",
       "    <tr>\n",
       "      <th>...</th>\n",
       "      <td>...</td>\n",
       "      <td>...</td>\n",
       "      <td>...</td>\n",
       "      <td>...</td>\n",
       "      <td>...</td>\n",
       "      <td>...</td>\n",
       "      <td>...</td>\n",
       "      <td>...</td>\n",
       "      <td>...</td>\n",
       "      <td>...</td>\n",
       "      <td>...</td>\n",
       "      <td>...</td>\n",
       "      <td>...</td>\n",
       "      <td>...</td>\n",
       "      <td>...</td>\n",
       "    </tr>\n",
       "    <tr>\n",
       "      <th>41800</th>\n",
       "      <td>41801</td>\n",
       "      <td>2025-01-28 17:04:09.200</td>\n",
       "      <td>60502620</td>\n",
       "      <td>success</td>\n",
       "      <td>2025-01-28 17:04:09.590</td>\n",
       "      <td>2025-01-28 17:04:09.800</td>\n",
       "      <td>2025-01-28 17:04:10.090</td>\n",
       "      <td>1.306245</td>\n",
       "      <td>0.959373</td>\n",
       "      <td>1.201044</td>\n",
       "      <td>0.95</td>\n",
       "      <td>ankle</td>\n",
       "      <td>right</td>\n",
       "      <td>accel</td>\n",
       "      <td>ssc</td>\n",
       "    </tr>\n",
       "    <tr>\n",
       "      <th>41801</th>\n",
       "      <td>41802</td>\n",
       "      <td>2025-01-28 17:04:11.100</td>\n",
       "      <td>60502810</td>\n",
       "      <td>success</td>\n",
       "      <td>2025-01-28 17:04:11.490</td>\n",
       "      <td>2025-01-28 17:04:11.730</td>\n",
       "      <td>2025-01-28 17:04:11.880</td>\n",
       "      <td>1.060651</td>\n",
       "      <td>1.044533</td>\n",
       "      <td>1.266694</td>\n",
       "      <td>0.84</td>\n",
       "      <td>ankle</td>\n",
       "      <td>right</td>\n",
       "      <td>accel</td>\n",
       "      <td>ssc</td>\n",
       "    </tr>\n",
       "    <tr>\n",
       "      <th>41802</th>\n",
       "      <td>41803</td>\n",
       "      <td>2025-01-28 17:04:13.100</td>\n",
       "      <td>60503010</td>\n",
       "      <td>success</td>\n",
       "      <td>2025-01-28 17:04:13.490</td>\n",
       "      <td>2025-01-28 17:04:13.650</td>\n",
       "      <td>2025-01-28 17:04:13.800</td>\n",
       "      <td>1.204159</td>\n",
       "      <td>0.849806</td>\n",
       "      <td>1.087277</td>\n",
       "      <td>0.76</td>\n",
       "      <td>ankle</td>\n",
       "      <td>right</td>\n",
       "      <td>accel</td>\n",
       "      <td>ssc</td>\n",
       "    </tr>\n",
       "    <tr>\n",
       "      <th>41803</th>\n",
       "      <td>41804</td>\n",
       "      <td>2025-01-28 17:04:17.610</td>\n",
       "      <td>60503461</td>\n",
       "      <td>success</td>\n",
       "      <td>2025-01-28 17:04:18.000</td>\n",
       "      <td>2025-01-28 17:04:18.050</td>\n",
       "      <td>2025-01-28 17:04:18.330</td>\n",
       "      <td>0.834744</td>\n",
       "      <td>0.440100</td>\n",
       "      <td>1.285107</td>\n",
       "      <td>0.78</td>\n",
       "      <td>ankle</td>\n",
       "      <td>right</td>\n",
       "      <td>accel</td>\n",
       "      <td>ssc</td>\n",
       "    </tr>\n",
       "    <tr>\n",
       "      <th>41804</th>\n",
       "      <td>41805</td>\n",
       "      <td>2025-01-28 17:10:41.560</td>\n",
       "      <td>60541856</td>\n",
       "      <td>success</td>\n",
       "      <td>2025-01-28 17:10:41.950</td>\n",
       "      <td>2025-01-28 17:10:42.210</td>\n",
       "      <td>2025-01-28 17:10:42.370</td>\n",
       "      <td>1.338356</td>\n",
       "      <td>0.701710</td>\n",
       "      <td>0.965712</td>\n",
       "      <td>0.87</td>\n",
       "      <td>ankle</td>\n",
       "      <td>right</td>\n",
       "      <td>accel</td>\n",
       "      <td>ssc</td>\n",
       "    </tr>\n",
       "  </tbody>\n",
       "</table>\n",
       "<p>41805 rows × 15 columns</p>\n",
       "</div>"
      ],
      "text/plain": [
       "       step_num               step_time  step_idx step_state  \\\n",
       "0             1 2025-01-21 17:00:24.810       181    success   \n",
       "1             2 2025-01-21 17:00:25.880       288    success   \n",
       "2             3 2025-01-21 17:00:26.620       362    success   \n",
       "3             4 2025-01-21 17:00:31.820       882    success   \n",
       "4             5 2025-01-21 17:00:39.310      1631    success   \n",
       "...         ...                     ...       ...        ...   \n",
       "41800     41801 2025-01-28 17:04:09.200  60502620    success   \n",
       "41801     41802 2025-01-28 17:04:11.100  60502810    success   \n",
       "41802     41803 2025-01-28 17:04:13.100  60503010    success   \n",
       "41803     41804 2025-01-28 17:04:17.610  60503461    success   \n",
       "41804     41805 2025-01-28 17:10:41.560  60541856    success   \n",
       "\n",
       "             swing_start_time          mid_swing_time        heel_strike_time  \\\n",
       "0     2025-01-21 17:00:25.200 2025-01-21 17:00:25.330 2025-01-21 17:00:25.510   \n",
       "1     2025-01-21 17:00:26.270 2025-01-21 17:00:26.420 2025-01-21 17:00:26.540   \n",
       "2     2025-01-21 17:00:27.010 2025-01-21 17:00:27.250 2025-01-21 17:00:27.630   \n",
       "3     2025-01-21 17:00:32.210 2025-01-21 17:00:32.350 2025-01-21 17:00:32.430   \n",
       "4     2025-01-21 17:00:39.700 2025-01-21 17:00:39.990 2025-01-21 17:00:40.110   \n",
       "...                       ...                     ...                     ...   \n",
       "41800 2025-01-28 17:04:09.590 2025-01-28 17:04:09.800 2025-01-28 17:04:10.090   \n",
       "41801 2025-01-28 17:04:11.490 2025-01-28 17:04:11.730 2025-01-28 17:04:11.880   \n",
       "41802 2025-01-28 17:04:13.490 2025-01-28 17:04:13.650 2025-01-28 17:04:13.800   \n",
       "41803 2025-01-28 17:04:18.000 2025-01-28 17:04:18.050 2025-01-28 17:04:18.330   \n",
       "41804 2025-01-28 17:10:41.950 2025-01-28 17:10:42.210 2025-01-28 17:10:42.370   \n",
       "\n",
       "       swing_start_accel  mid_swing_accel  heel_strike_accel  step_duration  \\\n",
       "0               1.073708         0.515969           0.768308           0.76   \n",
       "1               1.076404         0.911517           1.165045           0.72   \n",
       "2               1.402488         1.018390           1.277481           1.07   \n",
       "3               1.127285         0.890529           1.149425           0.67   \n",
       "4               1.277084         0.725124           0.953325           0.86   \n",
       "...                  ...              ...                ...            ...   \n",
       "41800           1.306245         0.959373           1.201044           0.95   \n",
       "41801           1.060651         1.044533           1.266694           0.84   \n",
       "41802           1.204159         0.849806           1.087277           0.76   \n",
       "41803           0.834744         0.440100           1.285107           0.78   \n",
       "41804           1.338356         0.701710           0.965712           0.87   \n",
       "\n",
       "         loc   side data_type  alg  \n",
       "0      ankle  right     accel  ssc  \n",
       "1      ankle  right     accel  ssc  \n",
       "2      ankle  right     accel  ssc  \n",
       "3      ankle  right     accel  ssc  \n",
       "4      ankle  right     accel  ssc  \n",
       "...      ...    ...       ...  ...  \n",
       "41800  ankle  right     accel  ssc  \n",
       "41801  ankle  right     accel  ssc  \n",
       "41802  ankle  right     accel  ssc  \n",
       "41803  ankle  right     accel  ssc  \n",
       "41804  ankle  right     accel  ssc  \n",
       "\n",
       "[41805 rows x 15 columns]"
      ]
     },
     "execution_count": 22,
     "metadata": {},
     "output_type": "execute_result"
    }
   ],
   "source": [
    "steps"
   ]
  },
  {
   "cell_type": "code",
   "execution_count": 13,
   "metadata": {},
   "outputs": [
    {
     "data": {
      "application/vnd.microsoft.datawrangler.viewer.v0+json": {
       "columns": [
        {
         "name": "index",
         "rawType": "int64",
         "type": "integer"
        },
        {
         "name": "step_num",
         "rawType": "int64",
         "type": "integer"
        },
        {
         "name": "gait_bout_num",
         "rawType": "int64",
         "type": "integer"
        },
        {
         "name": "step_time",
         "rawType": "datetime64[ns]",
         "type": "datetime"
        },
        {
         "name": "step_idx",
         "rawType": "int64",
         "type": "integer"
        },
        {
         "name": "step_state",
         "rawType": "object",
         "type": "string"
        },
        {
         "name": "swing_start_time",
         "rawType": "datetime64[ns]",
         "type": "datetime"
        },
        {
         "name": "mid_swing_time",
         "rawType": "datetime64[ns]",
         "type": "datetime"
        },
        {
         "name": "heel_strike_time",
         "rawType": "datetime64[ns]",
         "type": "datetime"
        },
        {
         "name": "swing_start_accel",
         "rawType": "float64",
         "type": "float"
        },
        {
         "name": "mid_swing_accel",
         "rawType": "float64",
         "type": "float"
        },
        {
         "name": "heel_strike_accel",
         "rawType": "float64",
         "type": "float"
        },
        {
         "name": "step_duration",
         "rawType": "float64",
         "type": "float"
        },
        {
         "name": "loc",
         "rawType": "object",
         "type": "string"
        },
        {
         "name": "side",
         "rawType": "object",
         "type": "string"
        },
        {
         "name": "data_type",
         "rawType": "object",
         "type": "string"
        },
        {
         "name": "alg",
         "rawType": "object",
         "type": "string"
        }
       ],
       "conversionMethod": "pd.DataFrame",
       "ref": "f9ff0317-6f64-4760-9fb7-57ce03bf05b8",
       "rows": [
        [
         "0",
         "1",
         "0",
         "2025-02-05 14:21:19.750000",
         "86075",
         "success",
         "2025-02-05 14:21:20.140000",
         "2025-02-05 14:21:20.470000",
         "2025-02-05 14:21:20.630000",
         "1.294421574458267",
         "0.5473162594022284",
         "1.571903930468112",
         "0.94",
         "ankle",
         "right",
         "accel",
         "ssc"
        ],
        [
         "1",
         "2",
         "0",
         "2025-02-05 14:21:29.120000",
         "87012",
         "success",
         "2025-02-05 14:21:29.510000",
         "2025-02-05 14:21:29.700000",
         "2025-02-05 14:21:30",
         "1.47177650614555",
         "0.7983643341298774",
         "0.9850607742314661",
         "0.94",
         "ankle",
         "right",
         "accel",
         "ssc"
        ],
        [
         "2",
         "3",
         "0",
         "2025-02-05 14:21:33.960000",
         "87496",
         "success",
         "2025-02-05 14:21:34.350000",
         "2025-02-05 14:21:34.510000",
         "2025-02-05 14:21:34.590000",
         "1.3358807512387427",
         "1.0085636125051662",
         "1.3051078184626692",
         "0.69",
         "ankle",
         "right",
         "accel",
         "ssc"
        ],
        [
         "3",
         "4",
         "0",
         "2025-02-05 14:21:42.340000",
         "88334",
         "success",
         "2025-02-05 14:21:42.730000",
         "2025-02-05 14:21:42.820000",
         "2025-02-05 14:21:42.900000",
         "1.2608775797370828",
         "1.183769982429013",
         "1.3800522874824537",
         "0.62",
         "ankle",
         "right",
         "accel",
         "ssc"
        ],
        [
         "4",
         "5",
         "0",
         "2025-02-05 14:21:45.560000",
         "88656",
         "success",
         "2025-02-05 14:21:45.950000",
         "2025-02-05 14:21:46.080000",
         "2025-02-05 14:21:46.220000",
         "1.0512745238894903",
         "0.5943531417311667",
         "1.3179138425878236",
         "0.72",
         "ankle",
         "right",
         "accel",
         "ssc"
        ],
        [
         "5",
         "6",
         "0",
         "2025-02-05 14:22:00.270000",
         "90127",
         "success",
         "2025-02-05 14:22:00.660000",
         "2025-02-05 14:22:00.860000",
         "2025-02-05 14:22:00.940000",
         "2.498423013989092",
         "0.794140644223325",
         "0.9035921362788948",
         "0.73",
         "ankle",
         "right",
         "accel",
         "ssc"
        ],
        [
         "6",
         "7",
         "0",
         "2025-02-05 14:22:03.390000",
         "90439",
         "success",
         "2025-02-05 14:22:03.780000",
         "2025-02-05 14:22:03.910000",
         "2025-02-05 14:22:03.990000",
         "1.2333030980419526",
         "0.8712571439432499",
         "1.6048153951361506",
         "0.66",
         "ankle",
         "right",
         "accel",
         "ssc"
        ],
        [
         "7",
         "8",
         "0",
         "2025-02-05 14:22:23.830000",
         "92483",
         "success",
         "2025-02-05 14:22:24.220000",
         "2025-02-05 14:22:24.430000",
         "2025-02-05 14:22:24.570000",
         "1.4809299812851362",
         "0.42506681334843244",
         "1.944188754827634",
         "0.8",
         "ankle",
         "right",
         "accel",
         "ssc"
        ],
        [
         "8",
         "9",
         "0",
         "2025-02-05 14:22:30.600000",
         "93160",
         "success",
         "2025-02-05 14:22:30.990000",
         "2025-02-05 14:22:31.340000",
         "2025-02-05 14:22:31.410000",
         "1.12739308010658",
         "0.8940570832421781",
         "1.4232213206665882",
         "0.87",
         "ankle",
         "right",
         "accel",
         "ssc"
        ],
        [
         "9",
         "10",
         "0",
         "2025-02-05 14:22:33.180000",
         "93418",
         "success",
         "2025-02-05 14:22:33.570000",
         "2025-02-05 14:22:33.720000",
         "2025-02-05 14:22:33.800000",
         "1.465114619631343",
         "0.42562339173190955",
         "1.5918783421259242",
         "0.68",
         "ankle",
         "right",
         "accel",
         "ssc"
        ],
        [
         "10",
         "11",
         "0",
         "2025-02-05 14:22:33.870000",
         "93487",
         "success",
         "2025-02-05 14:22:34.260000",
         "2025-02-05 14:22:34.520000",
         "2025-02-05 14:22:34.580000",
         "1.193095862749065",
         "0.8156214435664545",
         "0.8827187139349014",
         "0.77",
         "ankle",
         "right",
         "accel",
         "ssc"
        ],
        [
         "11",
         "12",
         "0",
         "2025-02-05 14:22:38.920000",
         "93992",
         "success",
         "2025-02-05 14:22:39.310000",
         "2025-02-05 14:22:39.410000",
         "2025-02-05 14:22:39.760000",
         "1.2290010591358456",
         "0.6284755512066231",
         "1.1818214627709083",
         "0.9",
         "ankle",
         "right",
         "accel",
         "ssc"
        ],
        [
         "12",
         "13",
         "0",
         "2025-02-05 14:24:05.070000",
         "102607",
         "success",
         "2025-02-05 14:24:05.460000",
         "2025-02-05 14:24:05.580000",
         "2025-02-05 14:24:05.740000",
         "1.210502136666742",
         "0.5643201815713943",
         "1.923885467228352",
         "0.73",
         "ankle",
         "right",
         "accel",
         "ssc"
        ],
        [
         "13",
         "14",
         "0",
         "2025-02-05 14:31:52.960000",
         "149396",
         "success",
         "2025-02-05 14:31:53.350000",
         "2025-02-05 14:31:53.490000",
         "2025-02-05 14:31:53.590000",
         "1.270304482362753",
         "1.0163819670281269",
         "1.2555895027773758",
         "0.69",
         "ankle",
         "right",
         "accel",
         "ssc"
        ],
        [
         "14",
         "15",
         "0",
         "2025-02-05 14:32:28.710000",
         "152971",
         "success",
         "2025-02-05 14:32:29.100000",
         "2025-02-05 14:32:29.390000",
         "2025-02-05 14:32:29.490000",
         "1.0098970002793486",
         "0.9607492138527179",
         "1.7289551702181563",
         "0.84",
         "ankle",
         "right",
         "accel",
         "ssc"
        ],
        [
         "15",
         "16",
         "0",
         "2025-02-05 14:36:21.050000",
         "176205",
         "success",
         "2025-02-05 14:36:21.440000",
         "2025-02-05 14:36:21.500000",
         "2025-02-05 14:36:21.630000",
         "1.0237965486054261",
         "0.7474819014868268",
         "1.5206987672289092",
         "0.64",
         "ankle",
         "right",
         "accel",
         "ssc"
        ],
        [
         "16",
         "17",
         "0",
         "2025-02-05 14:39:06.570000",
         "192757",
         "success",
         "2025-02-05 14:39:06.960000",
         "2025-02-05 14:39:07.050000",
         "2025-02-05 14:39:07.240000",
         "1.2065015793619296",
         "0.594332432539188",
         "1.5374214657096323",
         "0.73",
         "ankle",
         "right",
         "accel",
         "ssc"
        ],
        [
         "17",
         "18",
         "0",
         "2025-02-05 14:39:09.310000",
         "193031",
         "success",
         "2025-02-05 14:39:09.700000",
         "2025-02-05 14:39:09.760000",
         "2025-02-05 14:39:09.940000",
         "1.0917327166805237",
         "0.7078762994015516",
         "2.312612776029844",
         "0.69",
         "ankle",
         "right",
         "accel",
         "ssc"
        ],
        [
         "18",
         "19",
         "0",
         "2025-02-05 14:39:12.390000",
         "193339",
         "success",
         "2025-02-05 14:39:12.780000",
         "2025-02-05 14:39:12.880000",
         "2025-02-05 14:39:12.940000",
         "1.4020585402132528",
         "0.8969233776183698",
         "1.0774476642474422",
         "0.61",
         "ankle",
         "right",
         "accel",
         "ssc"
        ],
        [
         "19",
         "20",
         "1",
         "2025-02-05 14:39:16.090000",
         "193709",
         "success",
         "2025-02-05 14:39:16.480000",
         "2025-02-05 14:39:16.580000",
         "2025-02-05 14:39:16.760000",
         "1.3319516608202415",
         "0.887055218060833",
         "1.6783733469899242",
         "0.73",
         "ankle",
         "right",
         "accel",
         "ssc"
        ],
        [
         "20",
         "21",
         "1",
         "2025-02-05 14:39:17.170000",
         "193817",
         "success",
         "2025-02-05 14:39:17.560000",
         "2025-02-05 14:39:17.640000",
         "2025-02-05 14:39:17.850000",
         "1.6133506711555055",
         "0.7379554825584177",
         "2.322420283087965",
         "0.74",
         "ankle",
         "right",
         "accel",
         "ssc"
        ],
        [
         "21",
         "22",
         "1",
         "2025-02-05 14:39:18.180000",
         "193918",
         "success",
         "2025-02-05 14:39:18.570000",
         "2025-02-05 14:39:18.650000",
         "2025-02-05 14:39:18.840000",
         "1.6889947397908947",
         "0.6675536791530995",
         "2.5538869274744096",
         "0.72",
         "ankle",
         "right",
         "accel",
         "ssc"
        ],
        [
         "22",
         "23",
         "1",
         "2025-02-05 14:39:19.140000",
         "194014",
         "success",
         "2025-02-05 14:39:19.530000",
         "2025-02-05 14:39:19.610000",
         "2025-02-05 14:39:19.790000",
         "1.6397491389101515",
         "0.6187866029770707",
         "2.5800942013075976",
         "0.71",
         "ankle",
         "right",
         "accel",
         "ssc"
        ],
        [
         "23",
         "24",
         "1",
         "2025-02-05 14:39:20.100000",
         "194110",
         "success",
         "2025-02-05 14:39:20.490000",
         "2025-02-05 14:39:20.550000",
         "2025-02-05 14:39:20.750000",
         "1.5065202653673468",
         "0.591891802062862",
         "2.6039956810813996",
         "0.71",
         "ankle",
         "right",
         "accel",
         "ssc"
        ],
        [
         "24",
         "25",
         "1",
         "2025-02-05 14:39:21.070000",
         "194207",
         "success",
         "2025-02-05 14:39:21.460000",
         "2025-02-05 14:39:21.530000",
         "2025-02-05 14:39:21.730000",
         "1.5920557925546628",
         "0.7274804968044757",
         "2.4836803512426995",
         "0.72",
         "ankle",
         "right",
         "accel",
         "ssc"
        ],
        [
         "25",
         "26",
         "1",
         "2025-02-05 14:39:22.030000",
         "194303",
         "success",
         "2025-02-05 14:39:22.420000",
         "2025-02-05 14:39:22.490000",
         "2025-02-05 14:39:22.680000",
         "1.6197460891466664",
         "0.5401079647289492",
         "2.450470936803102",
         "0.71",
         "ankle",
         "right",
         "accel",
         "ssc"
        ],
        [
         "26",
         "27",
         "1",
         "2025-02-05 14:39:22.980000",
         "194398",
         "success",
         "2025-02-05 14:39:23.370000",
         "2025-02-05 14:39:23.440000",
         "2025-02-05 14:39:23.640000",
         "1.5581657917575886",
         "0.6043529770769079",
         "2.577549567839688",
         "0.72",
         "ankle",
         "right",
         "accel",
         "ssc"
        ],
        [
         "27",
         "28",
         "1",
         "2025-02-05 14:39:23.950000",
         "194495",
         "success",
         "2025-02-05 14:39:24.340000",
         "2025-02-05 14:39:24.420000",
         "2025-02-05 14:39:24.610000",
         "1.5872776131966229",
         "0.6583937312014053",
         "2.600834666837326",
         "0.72",
         "ankle",
         "right",
         "accel",
         "ssc"
        ],
        [
         "28",
         "29",
         "1",
         "2025-02-05 14:39:24.900000",
         "194590",
         "success",
         "2025-02-05 14:39:25.290000",
         "2025-02-05 14:39:25.370000",
         "2025-02-05 14:39:25.560000",
         "1.649247007970632",
         "0.6651433916104414",
         "2.6530421396322352",
         "0.72",
         "ankle",
         "right",
         "accel",
         "ssc"
        ],
        [
         "29",
         "30",
         "1",
         "2025-02-05 14:39:25.850000",
         "194685",
         "success",
         "2025-02-05 14:39:26.240000",
         "2025-02-05 14:39:26.320000",
         "2025-02-05 14:39:26.500000",
         "1.6932119952670515",
         "0.6407733339871151",
         "2.5187274003736415",
         "0.71",
         "ankle",
         "right",
         "accel",
         "ssc"
        ],
        [
         "30",
         "31",
         "1",
         "2025-02-05 14:39:26.800000",
         "194780",
         "success",
         "2025-02-05 14:39:27.190000",
         "2025-02-05 14:39:27.260000",
         "2025-02-05 14:39:27.440000",
         "1.5174994569865765",
         "0.5569472510670614",
         "2.451925640072296",
         "0.7",
         "ankle",
         "right",
         "accel",
         "ssc"
        ],
        [
         "31",
         "32",
         "1",
         "2025-02-05 14:39:27.730000",
         "194873",
         "success",
         "2025-02-05 14:39:28.120000",
         "2025-02-05 14:39:28.200000",
         "2025-02-05 14:39:28.380000",
         "1.6082505678608197",
         "0.6130917570835139",
         "2.570803679739485",
         "0.71",
         "ankle",
         "right",
         "accel",
         "ssc"
        ],
        [
         "32",
         "33",
         "1",
         "2025-02-05 14:39:28.680000",
         "194968",
         "success",
         "2025-02-05 14:39:29.070000",
         "2025-02-05 14:39:29.150000",
         "2025-02-05 14:39:29.320000",
         "1.6630700577713313",
         "0.68221981564017",
         "2.612534158512814",
         "0.7",
         "ankle",
         "right",
         "accel",
         "ssc"
        ],
        [
         "33",
         "34",
         "1",
         "2025-02-05 14:39:29.620000",
         "195062",
         "success",
         "2025-02-05 14:39:30.010000",
         "2025-02-05 14:39:30.090000",
         "2025-02-05 14:39:30.270000",
         "1.6366786611795776",
         "0.5866662523572741",
         "2.6557979611346347",
         "0.71",
         "ankle",
         "right",
         "accel",
         "ssc"
        ],
        [
         "34",
         "35",
         "1",
         "2025-02-05 14:39:30.560000",
         "195156",
         "success",
         "2025-02-05 14:39:30.950000",
         "2025-02-05 14:39:31.030000",
         "2025-02-05 14:39:31.220000",
         "1.656012947450177",
         "0.5320845354493886",
         "2.575330547160184",
         "0.72",
         "ankle",
         "right",
         "accel",
         "ssc"
        ],
        [
         "35",
         "36",
         "1",
         "2025-02-05 14:39:31.520000",
         "195252",
         "success",
         "2025-02-05 14:39:31.910000",
         "2025-02-05 14:39:31.990000",
         "2025-02-05 14:39:32.180000",
         "1.6285264682238914",
         "0.658431945428815",
         "2.6288078554345122",
         "0.72",
         "ankle",
         "right",
         "accel",
         "ssc"
        ],
        [
         "36",
         "37",
         "1",
         "2025-02-05 14:39:32.490000",
         "195349",
         "success",
         "2025-02-05 14:39:32.880000",
         "2025-02-05 14:39:32.960000",
         "2025-02-05 14:39:33.150000",
         "1.5736604131725678",
         "0.6103187091966852",
         "2.5930664921193283",
         "0.72",
         "ankle",
         "right",
         "accel",
         "ssc"
        ],
        [
         "37",
         "38",
         "1",
         "2025-02-05 14:39:33.470000",
         "195447",
         "success",
         "2025-02-05 14:39:33.860000",
         "2025-02-05 14:39:33.940000",
         "2025-02-05 14:39:34.120000",
         "1.4887589360117985",
         "0.6145312415473816",
         "2.60073431097303",
         "0.71",
         "ankle",
         "right",
         "accel",
         "ssc"
        ],
        [
         "38",
         "39",
         "1",
         "2025-02-05 14:39:34.430000",
         "195543",
         "success",
         "2025-02-05 14:39:34.820000",
         "2025-02-05 14:39:34.900000",
         "2025-02-05 14:39:35.080000",
         "1.68142286277725",
         "0.6721557054017576",
         "2.531185713180439",
         "0.71",
         "ankle",
         "right",
         "accel",
         "ssc"
        ],
        [
         "39",
         "40",
         "1",
         "2025-02-05 14:39:35.400000",
         "195640",
         "success",
         "2025-02-05 14:39:35.790000",
         "2025-02-05 14:39:35.870000",
         "2025-02-05 14:39:36.050000",
         "1.5371737652911552",
         "0.5994485780544666",
         "2.599825938542309",
         "0.71",
         "ankle",
         "right",
         "accel",
         "ssc"
        ],
        [
         "40",
         "41",
         "1",
         "2025-02-05 14:39:37.430000",
         "195843",
         "success",
         "2025-02-05 14:39:37.820000",
         "2025-02-05 14:39:37.900000",
         "2025-02-05 14:39:38.080000",
         "1.4899330100551589",
         "0.6538433799476966",
         "2.4466540387849345",
         "0.71",
         "ankle",
         "right",
         "accel",
         "ssc"
        ],
        [
         "41",
         "42",
         "1",
         "2025-02-05 14:39:38.450000",
         "195945",
         "success",
         "2025-02-05 14:39:38.840000",
         "2025-02-05 14:39:38.910000",
         "2025-02-05 14:39:39.110000",
         "1.42241141046244",
         "0.582406401526744",
         "2.5509994836300134",
         "0.72",
         "ankle",
         "right",
         "accel",
         "ssc"
        ],
        [
         "42",
         "43",
         "1",
         "2025-02-05 14:39:39.460000",
         "196046",
         "success",
         "2025-02-05 14:39:39.850000",
         "2025-02-05 14:39:39.930000",
         "2025-02-05 14:39:40.130000",
         "1.4290369244483974",
         "0.4807927677862821",
         "2.480063962574609",
         "0.73",
         "ankle",
         "right",
         "accel",
         "ssc"
        ],
        [
         "43",
         "44",
         "1",
         "2025-02-05 14:39:40.470000",
         "196147",
         "success",
         "2025-02-05 14:39:40.860000",
         "2025-02-05 14:39:40.970000",
         "2025-02-05 14:39:41.150000",
         "1.3853195548350121",
         "0.6559697224451305",
         "1.7194416129432153",
         "0.74",
         "ankle",
         "right",
         "accel",
         "ssc"
        ],
        [
         "44",
         "45",
         "1",
         "2025-02-05 14:39:41.680000",
         "196268",
         "success",
         "2025-02-05 14:39:42.070000",
         "2025-02-05 14:39:42.150000",
         "2025-02-05 14:39:42.380000",
         "1.3634210846269643",
         "0.6224957636822465",
         "2.2195012870084363",
         "0.76",
         "ankle",
         "right",
         "accel",
         "ssc"
        ],
        [
         "45",
         "46",
         "1",
         "2025-02-05 14:39:42.790000",
         "196379",
         "success",
         "2025-02-05 14:39:43.180000",
         "2025-02-05 14:39:43.340000",
         "2025-02-05 14:39:43.540000",
         "1.4193484995935215",
         "0.6149136136912011",
         "2.0247256927716575",
         "0.81",
         "ankle",
         "right",
         "accel",
         "ssc"
        ],
        [
         "46",
         "47",
         "1",
         "2025-02-05 14:39:44.040000",
         "196504",
         "success",
         "2025-02-05 14:39:44.430000",
         "2025-02-05 14:39:44.510000",
         "2025-02-05 14:39:44.740000",
         "1.2372436625860326",
         "0.5787942205239176",
         "1.7003976082444547",
         "0.76",
         "ankle",
         "right",
         "accel",
         "ssc"
        ],
        [
         "47",
         "48",
         "1",
         "2025-02-05 14:39:45.280000",
         "196628",
         "success",
         "2025-02-05 14:39:45.670000",
         "2025-02-05 14:39:45.770000",
         "2025-02-05 14:39:45.940000",
         "1.185471987473359",
         "0.6251763389592165",
         "1.3752263884928175",
         "0.72",
         "ankle",
         "right",
         "accel",
         "ssc"
        ],
        [
         "48",
         "49",
         "1",
         "2025-02-05 14:39:46.730000",
         "196773",
         "success",
         "2025-02-05 14:39:47.120000",
         "2025-02-05 14:39:47.290000",
         "2025-02-05 14:39:47.510000",
         "1.179281742879251",
         "0.5262107902135796",
         "1.2366807270029576",
         "0.84",
         "ankle",
         "right",
         "accel",
         "ssc"
        ],
        [
         "49",
         "50",
         "1",
         "2025-02-05 14:39:48.180000",
         "196918",
         "success",
         "2025-02-05 14:39:48.570000",
         "2025-02-05 14:39:48.770000",
         "2025-02-05 14:39:49",
         "1.292376708210616",
         "0.6134056328719893",
         "1.971617862967395",
         "0.88",
         "ankle",
         "right",
         "accel",
         "ssc"
        ]
       ],
       "shape": {
        "columns": 16,
        "rows": 40507
       }
      },
      "text/html": [
       "<div>\n",
       "<style scoped>\n",
       "    .dataframe tbody tr th:only-of-type {\n",
       "        vertical-align: middle;\n",
       "    }\n",
       "\n",
       "    .dataframe tbody tr th {\n",
       "        vertical-align: top;\n",
       "    }\n",
       "\n",
       "    .dataframe thead th {\n",
       "        text-align: right;\n",
       "    }\n",
       "</style>\n",
       "<table border=\"1\" class=\"dataframe\">\n",
       "  <thead>\n",
       "    <tr style=\"text-align: right;\">\n",
       "      <th></th>\n",
       "      <th>step_num</th>\n",
       "      <th>gait_bout_num</th>\n",
       "      <th>step_time</th>\n",
       "      <th>step_idx</th>\n",
       "      <th>step_state</th>\n",
       "      <th>swing_start_time</th>\n",
       "      <th>mid_swing_time</th>\n",
       "      <th>heel_strike_time</th>\n",
       "      <th>swing_start_accel</th>\n",
       "      <th>mid_swing_accel</th>\n",
       "      <th>heel_strike_accel</th>\n",
       "      <th>step_duration</th>\n",
       "      <th>loc</th>\n",
       "      <th>side</th>\n",
       "      <th>data_type</th>\n",
       "      <th>alg</th>\n",
       "    </tr>\n",
       "  </thead>\n",
       "  <tbody>\n",
       "    <tr>\n",
       "      <th>0</th>\n",
       "      <td>1</td>\n",
       "      <td>0</td>\n",
       "      <td>2025-02-05 14:21:19.750</td>\n",
       "      <td>86075</td>\n",
       "      <td>success</td>\n",
       "      <td>2025-02-05 14:21:20.140</td>\n",
       "      <td>2025-02-05 14:21:20.470</td>\n",
       "      <td>2025-02-05 14:21:20.630</td>\n",
       "      <td>1.294422</td>\n",
       "      <td>0.547316</td>\n",
       "      <td>1.571904</td>\n",
       "      <td>0.94</td>\n",
       "      <td>ankle</td>\n",
       "      <td>right</td>\n",
       "      <td>accel</td>\n",
       "      <td>ssc</td>\n",
       "    </tr>\n",
       "    <tr>\n",
       "      <th>1</th>\n",
       "      <td>2</td>\n",
       "      <td>0</td>\n",
       "      <td>2025-02-05 14:21:29.120</td>\n",
       "      <td>87012</td>\n",
       "      <td>success</td>\n",
       "      <td>2025-02-05 14:21:29.510</td>\n",
       "      <td>2025-02-05 14:21:29.700</td>\n",
       "      <td>2025-02-05 14:21:30.000</td>\n",
       "      <td>1.471777</td>\n",
       "      <td>0.798364</td>\n",
       "      <td>0.985061</td>\n",
       "      <td>0.94</td>\n",
       "      <td>ankle</td>\n",
       "      <td>right</td>\n",
       "      <td>accel</td>\n",
       "      <td>ssc</td>\n",
       "    </tr>\n",
       "    <tr>\n",
       "      <th>2</th>\n",
       "      <td>3</td>\n",
       "      <td>0</td>\n",
       "      <td>2025-02-05 14:21:33.960</td>\n",
       "      <td>87496</td>\n",
       "      <td>success</td>\n",
       "      <td>2025-02-05 14:21:34.350</td>\n",
       "      <td>2025-02-05 14:21:34.510</td>\n",
       "      <td>2025-02-05 14:21:34.590</td>\n",
       "      <td>1.335881</td>\n",
       "      <td>1.008564</td>\n",
       "      <td>1.305108</td>\n",
       "      <td>0.69</td>\n",
       "      <td>ankle</td>\n",
       "      <td>right</td>\n",
       "      <td>accel</td>\n",
       "      <td>ssc</td>\n",
       "    </tr>\n",
       "    <tr>\n",
       "      <th>3</th>\n",
       "      <td>4</td>\n",
       "      <td>0</td>\n",
       "      <td>2025-02-05 14:21:42.340</td>\n",
       "      <td>88334</td>\n",
       "      <td>success</td>\n",
       "      <td>2025-02-05 14:21:42.730</td>\n",
       "      <td>2025-02-05 14:21:42.820</td>\n",
       "      <td>2025-02-05 14:21:42.900</td>\n",
       "      <td>1.260878</td>\n",
       "      <td>1.183770</td>\n",
       "      <td>1.380052</td>\n",
       "      <td>0.62</td>\n",
       "      <td>ankle</td>\n",
       "      <td>right</td>\n",
       "      <td>accel</td>\n",
       "      <td>ssc</td>\n",
       "    </tr>\n",
       "    <tr>\n",
       "      <th>4</th>\n",
       "      <td>5</td>\n",
       "      <td>0</td>\n",
       "      <td>2025-02-05 14:21:45.560</td>\n",
       "      <td>88656</td>\n",
       "      <td>success</td>\n",
       "      <td>2025-02-05 14:21:45.950</td>\n",
       "      <td>2025-02-05 14:21:46.080</td>\n",
       "      <td>2025-02-05 14:21:46.220</td>\n",
       "      <td>1.051275</td>\n",
       "      <td>0.594353</td>\n",
       "      <td>1.317914</td>\n",
       "      <td>0.72</td>\n",
       "      <td>ankle</td>\n",
       "      <td>right</td>\n",
       "      <td>accel</td>\n",
       "      <td>ssc</td>\n",
       "    </tr>\n",
       "    <tr>\n",
       "      <th>...</th>\n",
       "      <td>...</td>\n",
       "      <td>...</td>\n",
       "      <td>...</td>\n",
       "      <td>...</td>\n",
       "      <td>...</td>\n",
       "      <td>...</td>\n",
       "      <td>...</td>\n",
       "      <td>...</td>\n",
       "      <td>...</td>\n",
       "      <td>...</td>\n",
       "      <td>...</td>\n",
       "      <td>...</td>\n",
       "      <td>...</td>\n",
       "      <td>...</td>\n",
       "      <td>...</td>\n",
       "      <td>...</td>\n",
       "    </tr>\n",
       "    <tr>\n",
       "      <th>40502</th>\n",
       "      <td>40503</td>\n",
       "      <td>0</td>\n",
       "      <td>2025-02-11 14:01:39.890</td>\n",
       "      <td>51808089</td>\n",
       "      <td>success</td>\n",
       "      <td>2025-02-11 14:01:40.280</td>\n",
       "      <td>2025-02-11 14:01:40.340</td>\n",
       "      <td>2025-02-11 14:01:40.550</td>\n",
       "      <td>1.828026</td>\n",
       "      <td>1.650244</td>\n",
       "      <td>1.881163</td>\n",
       "      <td>0.72</td>\n",
       "      <td>ankle</td>\n",
       "      <td>right</td>\n",
       "      <td>accel</td>\n",
       "      <td>ssc</td>\n",
       "    </tr>\n",
       "    <tr>\n",
       "      <th>40503</th>\n",
       "      <td>40504</td>\n",
       "      <td>0</td>\n",
       "      <td>2025-02-11 14:01:53.220</td>\n",
       "      <td>51809422</td>\n",
       "      <td>success</td>\n",
       "      <td>2025-02-11 14:01:53.610</td>\n",
       "      <td>2025-02-11 14:01:53.830</td>\n",
       "      <td>2025-02-11 14:01:54.070</td>\n",
       "      <td>1.366886</td>\n",
       "      <td>0.877770</td>\n",
       "      <td>1.109384</td>\n",
       "      <td>0.91</td>\n",
       "      <td>ankle</td>\n",
       "      <td>right</td>\n",
       "      <td>accel</td>\n",
       "      <td>ssc</td>\n",
       "    </tr>\n",
       "    <tr>\n",
       "      <th>40504</th>\n",
       "      <td>40505</td>\n",
       "      <td>0</td>\n",
       "      <td>2025-02-11 14:01:55.020</td>\n",
       "      <td>51809602</td>\n",
       "      <td>success</td>\n",
       "      <td>2025-02-11 14:01:55.410</td>\n",
       "      <td>2025-02-11 14:01:55.590</td>\n",
       "      <td>2025-02-11 14:01:56.000</td>\n",
       "      <td>1.078727</td>\n",
       "      <td>0.593951</td>\n",
       "      <td>0.894187</td>\n",
       "      <td>1.04</td>\n",
       "      <td>ankle</td>\n",
       "      <td>right</td>\n",
       "      <td>accel</td>\n",
       "      <td>ssc</td>\n",
       "    </tr>\n",
       "    <tr>\n",
       "      <th>40505</th>\n",
       "      <td>40506</td>\n",
       "      <td>0</td>\n",
       "      <td>2025-02-11 14:01:57.690</td>\n",
       "      <td>51809869</td>\n",
       "      <td>success</td>\n",
       "      <td>2025-02-11 14:01:58.080</td>\n",
       "      <td>2025-02-11 14:01:58.370</td>\n",
       "      <td>2025-02-11 14:01:58.470</td>\n",
       "      <td>1.729335</td>\n",
       "      <td>0.274269</td>\n",
       "      <td>0.767876</td>\n",
       "      <td>0.84</td>\n",
       "      <td>ankle</td>\n",
       "      <td>right</td>\n",
       "      <td>accel</td>\n",
       "      <td>ssc</td>\n",
       "    </tr>\n",
       "    <tr>\n",
       "      <th>40506</th>\n",
       "      <td>40507</td>\n",
       "      <td>0</td>\n",
       "      <td>2025-02-11 14:02:00.840</td>\n",
       "      <td>51810184</td>\n",
       "      <td>success</td>\n",
       "      <td>2025-02-11 14:02:01.230</td>\n",
       "      <td>2025-02-11 14:02:01.320</td>\n",
       "      <td>2025-02-11 14:02:01.570</td>\n",
       "      <td>1.195151</td>\n",
       "      <td>0.477000</td>\n",
       "      <td>1.602672</td>\n",
       "      <td>0.79</td>\n",
       "      <td>ankle</td>\n",
       "      <td>right</td>\n",
       "      <td>accel</td>\n",
       "      <td>ssc</td>\n",
       "    </tr>\n",
       "  </tbody>\n",
       "</table>\n",
       "<p>40507 rows × 16 columns</p>\n",
       "</div>"
      ],
      "text/plain": [
       "       step_num  gait_bout_num               step_time  step_idx step_state  \\\n",
       "0             1              0 2025-02-05 14:21:19.750     86075    success   \n",
       "1             2              0 2025-02-05 14:21:29.120     87012    success   \n",
       "2             3              0 2025-02-05 14:21:33.960     87496    success   \n",
       "3             4              0 2025-02-05 14:21:42.340     88334    success   \n",
       "4             5              0 2025-02-05 14:21:45.560     88656    success   \n",
       "...         ...            ...                     ...       ...        ...   \n",
       "40502     40503              0 2025-02-11 14:01:39.890  51808089    success   \n",
       "40503     40504              0 2025-02-11 14:01:53.220  51809422    success   \n",
       "40504     40505              0 2025-02-11 14:01:55.020  51809602    success   \n",
       "40505     40506              0 2025-02-11 14:01:57.690  51809869    success   \n",
       "40506     40507              0 2025-02-11 14:02:00.840  51810184    success   \n",
       "\n",
       "             swing_start_time          mid_swing_time        heel_strike_time  \\\n",
       "0     2025-02-05 14:21:20.140 2025-02-05 14:21:20.470 2025-02-05 14:21:20.630   \n",
       "1     2025-02-05 14:21:29.510 2025-02-05 14:21:29.700 2025-02-05 14:21:30.000   \n",
       "2     2025-02-05 14:21:34.350 2025-02-05 14:21:34.510 2025-02-05 14:21:34.590   \n",
       "3     2025-02-05 14:21:42.730 2025-02-05 14:21:42.820 2025-02-05 14:21:42.900   \n",
       "4     2025-02-05 14:21:45.950 2025-02-05 14:21:46.080 2025-02-05 14:21:46.220   \n",
       "...                       ...                     ...                     ...   \n",
       "40502 2025-02-11 14:01:40.280 2025-02-11 14:01:40.340 2025-02-11 14:01:40.550   \n",
       "40503 2025-02-11 14:01:53.610 2025-02-11 14:01:53.830 2025-02-11 14:01:54.070   \n",
       "40504 2025-02-11 14:01:55.410 2025-02-11 14:01:55.590 2025-02-11 14:01:56.000   \n",
       "40505 2025-02-11 14:01:58.080 2025-02-11 14:01:58.370 2025-02-11 14:01:58.470   \n",
       "40506 2025-02-11 14:02:01.230 2025-02-11 14:02:01.320 2025-02-11 14:02:01.570   \n",
       "\n",
       "       swing_start_accel  mid_swing_accel  heel_strike_accel  step_duration  \\\n",
       "0               1.294422         0.547316           1.571904           0.94   \n",
       "1               1.471777         0.798364           0.985061           0.94   \n",
       "2               1.335881         1.008564           1.305108           0.69   \n",
       "3               1.260878         1.183770           1.380052           0.62   \n",
       "4               1.051275         0.594353           1.317914           0.72   \n",
       "...                  ...              ...                ...            ...   \n",
       "40502           1.828026         1.650244           1.881163           0.72   \n",
       "40503           1.366886         0.877770           1.109384           0.91   \n",
       "40504           1.078727         0.593951           0.894187           1.04   \n",
       "40505           1.729335         0.274269           0.767876           0.84   \n",
       "40506           1.195151         0.477000           1.602672           0.79   \n",
       "\n",
       "         loc   side data_type  alg  \n",
       "0      ankle  right     accel  ssc  \n",
       "1      ankle  right     accel  ssc  \n",
       "2      ankle  right     accel  ssc  \n",
       "3      ankle  right     accel  ssc  \n",
       "4      ankle  right     accel  ssc  \n",
       "...      ...    ...       ...  ...  \n",
       "40502  ankle  right     accel  ssc  \n",
       "40503  ankle  right     accel  ssc  \n",
       "40504  ankle  right     accel  ssc  \n",
       "40505  ankle  right     accel  ssc  \n",
       "40506  ankle  right     accel  ssc  \n",
       "\n",
       "[40507 rows x 16 columns]"
      ]
     },
     "execution_count": 13,
     "metadata": {},
     "output_type": "execute_result"
    }
   ],
   "source": [
    "steps2"
   ]
  },
  {
   "cell_type": "code",
   "execution_count": null,
   "metadata": {},
   "outputs": [
    {
     "name": "stdout",
     "output_type": "stream",
     "text": [
      "08623\n",
      "14219\n",
      "23483\n",
      "36644\n",
      "36920\n",
      "58319\n",
      "59794\n",
      "65381\n",
      "68503\n",
      "73496\n",
      "74003\n",
      "74913\n",
      "78936\n",
      "86693\n",
      "97060\n"
     ]
    }
   ],
   "source": [
    "from utils.compute_acc_metrics import compute_acc_SMV\n",
    "from gait import nimbal_gait\n",
    "\n",
    "ageit_path = \"/Users/augenpro/Documents/Age-IT/\"\n",
    "silver_layer_path = \"/Users/augenpro/Documents/Age-IT/data/Silver/\"\n",
    "bronze_layer_path = \"/Users/augenpro/Documents/Age-IT/data/Bronze/\"\n",
    "\n",
    "participants = sorted([p for p in os.listdir(silver_layer_path) if not p.startswith(\".\")]) # list of the participants\n",
    "timeline = [\"T0 (baseline)\", \"T1 (6 mesi)\", \"T2 (12 mesi)\"]\n",
    "visit = \"T0 (baseline)\"\n",
    "sensors = [\"GeneActivPolso\", \"GeneActivCaviglia\"]\n",
    "sensor = sensors[1] ##### Ankle\n",
    "\n",
    "GGIR_output_dir = \"output_icareit\"\n",
    "\n",
    "steps_daily = {}\n",
    "\n",
    "step_detect_type = 'accel'\n",
    "fs = 100\n",
    "start_time = 0\n",
    "location = \"ankle\"\n",
    "\n",
    "for participant in participants:\n",
    "\n",
    "    # print(f\"***** {participant} *****\")\n",
    "\n",
    "    ### Load the GENEActiv data (for debugging purposes only) ######\n",
    "    files = os.listdir(os.path.join(bronze_layer_path, participant, visit, sensor))\n",
    "    for f in files:\n",
    "        if f.endswith(\".parquet\"):\n",
    "            print(participant)"
   ]
  },
  {
   "cell_type": "code",
   "execution_count": 8,
   "metadata": {},
   "outputs": [
    {
     "data": {
      "text/plain": [
       "array([ 8667, 20603, 36765])"
      ]
     },
     "execution_count": 8,
     "metadata": {},
     "output_type": "execute_result"
    }
   ],
   "source": [
    "participant_to_remove = np.array([\"08667\", \"20603\", \"36765\"]).astype(int)\n",
    "participant_to_remove"
   ]
  },
  {
   "cell_type": "code",
   "execution_count": 70,
   "metadata": {},
   "outputs": [
    {
     "data": {
      "text/plain": [
       "8623"
      ]
     },
     "execution_count": 70,
     "metadata": {},
     "output_type": "execute_result"
    }
   ],
   "source": [
    "steps_daily_df[\"participant\"].iloc[0]"
   ]
  },
  {
   "cell_type": "code",
   "execution_count": 19,
   "metadata": {},
   "outputs": [
    {
     "data": {
      "application/vnd.microsoft.datawrangler.viewer.v0+json": {
       "columns": [
        {
         "name": "index",
         "rawType": "int64",
         "type": "integer"
        },
        {
         "name": "day_num",
         "rawType": "int64",
         "type": "integer"
        },
        {
         "name": "date",
         "rawType": "object",
         "type": "string"
        },
        {
         "name": "type",
         "rawType": "object",
         "type": "string"
        },
        {
         "name": "longest_bout_time",
         "rawType": "int64",
         "type": "integer"
        },
        {
         "name": "longest_bout_steps",
         "rawType": "int64",
         "type": "integer"
        },
        {
         "name": "bouts_over_3min",
         "rawType": "int64",
         "type": "integer"
        },
        {
         "name": "total_steps",
         "rawType": "int64",
         "type": "integer"
        },
        {
         "name": "participant",
         "rawType": "object",
         "type": "string"
        }
       ],
       "conversionMethod": "pd.DataFrame",
       "ref": "af35b74c-a44b-4742-9003-53a0cacb7296",
       "rows": [
        [
         "0",
         "1",
         "2025-01-28",
         "daily",
         "1607",
         "2069",
         "6",
         "9062",
         "8623"
        ],
        [
         "1",
         "2",
         "2025-01-29",
         "daily",
         "2150",
         "2949",
         "3",
         "6411",
         "8623"
        ],
        [
         "2",
         "3",
         "2025-01-30",
         "daily",
         "3007",
         "3986",
         "4",
         "8815",
         "8623"
        ],
        [
         "3",
         "4",
         "2025-01-31",
         "daily",
         "274",
         "242",
         "2",
         "983",
         "8623"
        ],
        [
         "4",
         "5",
         "2025-02-01",
         "daily",
         "1630",
         "2019",
         "8",
         "9641",
         "8623"
        ],
        [
         "5",
         "6",
         "2025-02-02",
         "daily",
         "1895",
         "2344",
         "5",
         "9444",
         "8623"
        ],
        [
         "6",
         "7",
         "2025-02-03",
         "daily",
         "1757",
         "2266",
         "6",
         "10000",
         "8623"
        ],
        [
         "7",
         "8",
         "2025-02-04",
         "daily",
         "212",
         "170",
         "1",
         "1207",
         "8623"
        ],
        [
         "16",
         "1",
         "2025-01-17",
         "daily",
         "226",
         "200",
         "3",
         "1979",
         "14219"
        ],
        [
         "17",
         "2",
         "2025-01-18",
         "daily",
         "218",
         "170",
         "2",
         "2734",
         "14219"
        ],
        [
         "18",
         "3",
         "2025-01-19",
         "daily",
         "30",
         "23",
         "0",
         "1730",
         "14219"
        ],
        [
         "19",
         "4",
         "2025-01-20",
         "daily",
         "333",
         "283",
         "8",
         "6098",
         "14219"
        ],
        [
         "20",
         "5",
         "2025-01-21",
         "daily",
         "351",
         "320",
         "4",
         "3511",
         "14219"
        ],
        [
         "21",
         "6",
         "2025-01-22",
         "daily",
         "299",
         "236",
         "2",
         "5162",
         "14219"
        ],
        [
         "22",
         "7",
         "2025-01-23",
         "daily",
         "318",
         "243",
         "1",
         "3023",
         "14219"
        ],
        [
         "23",
         "8",
         "2025-01-24",
         "daily",
         "396",
         "368",
         "1",
         "1271",
         "14219"
        ],
        [
         "32",
         "1",
         "2025-01-21",
         "daily",
         "286",
         "274",
         "2",
         "1982",
         "23483"
        ],
        [
         "33",
         "2",
         "2025-01-22",
         "daily",
         "72",
         "69",
         "0",
         "2403",
         "23483"
        ],
        [
         "34",
         "3",
         "2025-01-23",
         "daily",
         "88",
         "75",
         "0",
         "1994",
         "23483"
        ],
        [
         "35",
         "4",
         "2025-01-24",
         "daily",
         "334",
         "326",
         "4",
         "3270",
         "23483"
        ],
        [
         "36",
         "5",
         "2025-01-25",
         "daily",
         "452",
         "411",
         "3",
         "3505",
         "23483"
        ],
        [
         "37",
         "6",
         "2025-01-26",
         "daily",
         "55",
         "48",
         "0",
         "2424",
         "23483"
        ],
        [
         "38",
         "7",
         "2025-01-27",
         "daily",
         "70",
         "62",
         "0",
         "2116",
         "23483"
        ],
        [
         "39",
         "8",
         "2025-01-28",
         "daily",
         "115",
         "112",
         "0",
         "1210",
         "23483"
        ],
        [
         "40",
         "1",
         "2025-01-28",
         "daily",
         "247",
         "233",
         "4",
         "2537",
         "36644"
        ],
        [
         "41",
         "2",
         "2025-01-29",
         "daily",
         "3082",
         "3237",
         "3",
         "7970",
         "36644"
        ],
        [
         "42",
         "3",
         "2025-01-30",
         "daily",
         "352",
         "287",
         "2",
         "4317",
         "36644"
        ],
        [
         "43",
         "4",
         "2025-01-31",
         "daily",
         "151",
         "147",
         "0",
         "3554",
         "36644"
        ],
        [
         "44",
         "5",
         "2025-02-01",
         "daily",
         "181",
         "175",
         "1",
         "3774",
         "36644"
        ],
        [
         "45",
         "6",
         "2025-02-02",
         "daily",
         "166",
         "140",
         "0",
         "3357",
         "36644"
        ],
        [
         "46",
         "7",
         "2025-02-03",
         "daily",
         "109",
         "113",
         "0",
         "5056",
         "36644"
        ],
        [
         "47",
         "8",
         "2025-02-04",
         "daily",
         "226",
         "242",
         "1",
         "2319",
         "36644"
        ],
        [
         "56",
         "1",
         "2025-01-30",
         "daily",
         "322",
         "286",
         "2",
         "2282",
         "36920"
        ],
        [
         "57",
         "2",
         "2025-01-31",
         "daily",
         "130",
         "122",
         "0",
         "3574",
         "36920"
        ],
        [
         "58",
         "3",
         "2025-02-01",
         "daily",
         "58",
         "42",
         "0",
         "1560",
         "36920"
        ],
        [
         "59",
         "4",
         "2025-02-02",
         "daily",
         "55",
         "45",
         "0",
         "1626",
         "36920"
        ],
        [
         "60",
         "5",
         "2025-02-03",
         "daily",
         "107",
         "104",
         "0",
         "3704",
         "36920"
        ],
        [
         "61",
         "6",
         "2025-02-04",
         "daily",
         "105",
         "100",
         "0",
         "3062",
         "36920"
        ],
        [
         "62",
         "7",
         "2025-02-05",
         "daily",
         "128",
         "119",
         "0",
         "593",
         "36920"
        ],
        [
         "63",
         "1",
         "2025-01-30",
         "daily",
         "90",
         "76",
         "0",
         "1066",
         "59794"
        ],
        [
         "64",
         "2",
         "2025-01-31",
         "daily",
         "149",
         "135",
         "0",
         "2442",
         "59794"
        ],
        [
         "65",
         "3",
         "2025-02-01",
         "daily",
         "100",
         "91",
         "0",
         "1717",
         "59794"
        ],
        [
         "66",
         "4",
         "2025-02-02",
         "daily",
         "28",
         "24",
         "0",
         "778",
         "59794"
        ],
        [
         "67",
         "5",
         "2025-02-03",
         "daily",
         "27",
         "27",
         "0",
         "1488",
         "59794"
        ],
        [
         "68",
         "6",
         "2025-02-04",
         "daily",
         "185",
         "149",
         "1",
         "1951",
         "59794"
        ],
        [
         "69",
         "7",
         "2025-02-05",
         "daily",
         "37",
         "35",
         "0",
         "541",
         "59794"
        ],
        [
         "70",
         "1",
         "2025-01-30",
         "daily",
         "269",
         "250",
         "1",
         "2378",
         "68503"
        ],
        [
         "71",
         "2",
         "2025-01-31",
         "daily",
         "39",
         "34",
         "0",
         "1920",
         "68503"
        ],
        [
         "72",
         "3",
         "2025-02-01",
         "daily",
         "170",
         "154",
         "0",
         "2231",
         "68503"
        ],
        [
         "73",
         "4",
         "2025-02-02",
         "daily",
         "39",
         "29",
         "0",
         "1984",
         "68503"
        ]
       ],
       "shape": {
        "columns": 8,
        "rows": 108
       }
      },
      "text/html": [
       "<div>\n",
       "<style scoped>\n",
       "    .dataframe tbody tr th:only-of-type {\n",
       "        vertical-align: middle;\n",
       "    }\n",
       "\n",
       "    .dataframe tbody tr th {\n",
       "        vertical-align: top;\n",
       "    }\n",
       "\n",
       "    .dataframe thead th {\n",
       "        text-align: right;\n",
       "    }\n",
       "</style>\n",
       "<table border=\"1\" class=\"dataframe\">\n",
       "  <thead>\n",
       "    <tr style=\"text-align: right;\">\n",
       "      <th></th>\n",
       "      <th>day_num</th>\n",
       "      <th>date</th>\n",
       "      <th>type</th>\n",
       "      <th>longest_bout_time</th>\n",
       "      <th>longest_bout_steps</th>\n",
       "      <th>bouts_over_3min</th>\n",
       "      <th>total_steps</th>\n",
       "      <th>participant</th>\n",
       "    </tr>\n",
       "  </thead>\n",
       "  <tbody>\n",
       "    <tr>\n",
       "      <th>0</th>\n",
       "      <td>1</td>\n",
       "      <td>2025-01-28</td>\n",
       "      <td>daily</td>\n",
       "      <td>1607</td>\n",
       "      <td>2069</td>\n",
       "      <td>6</td>\n",
       "      <td>9062</td>\n",
       "      <td>8623</td>\n",
       "    </tr>\n",
       "    <tr>\n",
       "      <th>1</th>\n",
       "      <td>2</td>\n",
       "      <td>2025-01-29</td>\n",
       "      <td>daily</td>\n",
       "      <td>2150</td>\n",
       "      <td>2949</td>\n",
       "      <td>3</td>\n",
       "      <td>6411</td>\n",
       "      <td>8623</td>\n",
       "    </tr>\n",
       "    <tr>\n",
       "      <th>2</th>\n",
       "      <td>3</td>\n",
       "      <td>2025-01-30</td>\n",
       "      <td>daily</td>\n",
       "      <td>3007</td>\n",
       "      <td>3986</td>\n",
       "      <td>4</td>\n",
       "      <td>8815</td>\n",
       "      <td>8623</td>\n",
       "    </tr>\n",
       "    <tr>\n",
       "      <th>3</th>\n",
       "      <td>4</td>\n",
       "      <td>2025-01-31</td>\n",
       "      <td>daily</td>\n",
       "      <td>274</td>\n",
       "      <td>242</td>\n",
       "      <td>2</td>\n",
       "      <td>983</td>\n",
       "      <td>8623</td>\n",
       "    </tr>\n",
       "    <tr>\n",
       "      <th>4</th>\n",
       "      <td>5</td>\n",
       "      <td>2025-02-01</td>\n",
       "      <td>daily</td>\n",
       "      <td>1630</td>\n",
       "      <td>2019</td>\n",
       "      <td>8</td>\n",
       "      <td>9641</td>\n",
       "      <td>8623</td>\n",
       "    </tr>\n",
       "    <tr>\n",
       "      <th>...</th>\n",
       "      <td>...</td>\n",
       "      <td>...</td>\n",
       "      <td>...</td>\n",
       "      <td>...</td>\n",
       "      <td>...</td>\n",
       "      <td>...</td>\n",
       "      <td>...</td>\n",
       "      <td>...</td>\n",
       "    </tr>\n",
       "    <tr>\n",
       "      <th>127</th>\n",
       "      <td>4</td>\n",
       "      <td>2025-01-17</td>\n",
       "      <td>daily</td>\n",
       "      <td>222</td>\n",
       "      <td>223</td>\n",
       "      <td>1</td>\n",
       "      <td>2808</td>\n",
       "      <td>58319</td>\n",
       "    </tr>\n",
       "    <tr>\n",
       "      <th>128</th>\n",
       "      <td>5</td>\n",
       "      <td>2025-01-18</td>\n",
       "      <td>daily</td>\n",
       "      <td>270</td>\n",
       "      <td>255</td>\n",
       "      <td>2</td>\n",
       "      <td>2998</td>\n",
       "      <td>58319</td>\n",
       "    </tr>\n",
       "    <tr>\n",
       "      <th>129</th>\n",
       "      <td>6</td>\n",
       "      <td>2025-01-19</td>\n",
       "      <td>daily</td>\n",
       "      <td>151</td>\n",
       "      <td>124</td>\n",
       "      <td>0</td>\n",
       "      <td>2514</td>\n",
       "      <td>58319</td>\n",
       "    </tr>\n",
       "    <tr>\n",
       "      <th>130</th>\n",
       "      <td>7</td>\n",
       "      <td>2025-01-20</td>\n",
       "      <td>daily</td>\n",
       "      <td>115</td>\n",
       "      <td>108</td>\n",
       "      <td>0</td>\n",
       "      <td>2636</td>\n",
       "      <td>58319</td>\n",
       "    </tr>\n",
       "    <tr>\n",
       "      <th>131</th>\n",
       "      <td>8</td>\n",
       "      <td>2025-01-21</td>\n",
       "      <td>daily</td>\n",
       "      <td>131</td>\n",
       "      <td>108</td>\n",
       "      <td>0</td>\n",
       "      <td>1272</td>\n",
       "      <td>58319</td>\n",
       "    </tr>\n",
       "  </tbody>\n",
       "</table>\n",
       "<p>108 rows × 8 columns</p>\n",
       "</div>"
      ],
      "text/plain": [
       "     day_num        date   type  longest_bout_time  longest_bout_steps  \\\n",
       "0          1  2025-01-28  daily               1607                2069   \n",
       "1          2  2025-01-29  daily               2150                2949   \n",
       "2          3  2025-01-30  daily               3007                3986   \n",
       "3          4  2025-01-31  daily                274                 242   \n",
       "4          5  2025-02-01  daily               1630                2019   \n",
       "..       ...         ...    ...                ...                 ...   \n",
       "127        4  2025-01-17  daily                222                 223   \n",
       "128        5  2025-01-18  daily                270                 255   \n",
       "129        6  2025-01-19  daily                151                 124   \n",
       "130        7  2025-01-20  daily                115                 108   \n",
       "131        8  2025-01-21  daily                131                 108   \n",
       "\n",
       "     bouts_over_3min  total_steps participant  \n",
       "0                  6         9062        8623  \n",
       "1                  3         6411        8623  \n",
       "2                  4         8815        8623  \n",
       "3                  2          983        8623  \n",
       "4                  8         9641        8623  \n",
       "..               ...          ...         ...  \n",
       "127                1         2808       58319  \n",
       "128                2         2998       58319  \n",
       "129                0         2514       58319  \n",
       "130                0         2636       58319  \n",
       "131                0         1272       58319  \n",
       "\n",
       "[108 rows x 8 columns]"
      ]
     },
     "execution_count": 19,
     "metadata": {},
     "output_type": "execute_result"
    }
   ],
   "source": [
    "# Save to csv\n",
    "# steps_daily_df.to_csv(\"/Users/augenpro/Documents/Age-IT/steps_daily.csv\", index = False)\n",
    "\n",
    "steps_daily_df = pd.read_csv(\"/Users/augenpro/Documents/Age-IT/steps_daily.csv\")\n",
    "steps_daily_df\n",
    "\n",
    "# Remove participants with no data\n",
    "\n",
    "steps_daily_df = steps_daily_df[~steps_daily_df[\"participant\"].isin(participant_to_remove)]\n",
    "\n",
    "steps_daily_df[\"participant\"] = steps_daily_df[\"participant\"].apply(lambda x: str(x))\n",
    "\n",
    "steps_daily_df"
   ]
  },
  {
   "cell_type": "code",
   "execution_count": 10,
   "metadata": {},
   "outputs": [
    {
     "data": {
      "text/plain": [
       "array([ 8623, 14219, 23483, 36644, 36920, 59794, 68503, 73496, 74003,\n",
       "       74913, 78936, 86693, 97060, 58319])"
      ]
     },
     "execution_count": 10,
     "metadata": {},
     "output_type": "execute_result"
    }
   ],
   "source": [
    "steps_daily_df[\"participant\"].unique()"
   ]
  },
  {
   "cell_type": "code",
   "execution_count": null,
   "metadata": {},
   "outputs": [],
   "source": [
    "cols = steps_daily_df.columns.tolist()\n",
    "cols = cols[-1:] + cols[:-1]\n",
    "steps_daily_df = steps_daily_df[cols].round(2)\n",
    "\n",
    "steps_daily_df.rename(columns = {\"day_num\": \"day\", \"date\": \"calendar_date\"}, inplace = True)\n",
    "steps_daily_df.drop(columns=[\"type\"], inplace = True)\n",
    "\n",
    "steps_daily_df.to_csv(save_path + \"/gait_summary_DAILY.csv\", index = False)"
   ]
  },
  {
   "cell_type": "code",
   "execution_count": 12,
   "metadata": {},
   "outputs": [
    {
     "data": {
      "application/vnd.microsoft.datawrangler.viewer.v0+json": {
       "columns": [
        {
         "name": "participant",
         "rawType": "int64",
         "type": "integer"
        },
        {
         "name": "longest_bout_time",
         "rawType": "float64",
         "type": "float"
        },
        {
         "name": "longest_bout_steps",
         "rawType": "float64",
         "type": "float"
        },
        {
         "name": "bouts_over_3min",
         "rawType": "float64",
         "type": "float"
        },
        {
         "name": "total_steps",
         "rawType": "float64",
         "type": "float"
        }
       ],
       "conversionMethod": "pd.DataFrame",
       "ref": "17efcaee-6713-48c7-98a7-ab9624d83c36",
       "rows": [
        [
         "8623",
         "1566.5",
         "2005.62",
         "4.38",
         "6945.38"
        ],
        [
         "14219",
         "271.38",
         "230.38",
         "2.62",
         "3188.5"
        ],
        [
         "23483",
         "184.0",
         "172.12",
         "1.12",
         "2363.0"
        ],
        [
         "36644",
         "564.25",
         "571.75",
         "1.38",
         "4110.5"
        ],
        [
         "36920",
         "129.29",
         "116.86",
         "0.29",
         "2343.0"
        ],
        [
         "58319",
         "175.75",
         "165.25",
         "0.75",
         "2477.38"
        ],
        [
         "59794",
         "88.0",
         "76.71",
         "0.14",
         "1426.14"
        ],
        [
         "68503",
         "136.0",
         "126.71",
         "0.29",
         "2051.0"
        ],
        [
         "73496",
         "102.62",
         "90.12",
         "0.25",
         "2073.25"
        ],
        [
         "74003",
         "122.75",
         "101.75",
         "0.12",
         "2764.5"
        ],
        [
         "74913",
         "183.62",
         "152.88",
         "0.38",
         "2063.25"
        ],
        [
         "78936",
         "86.0",
         "73.29",
         "0.14",
         "1738.29"
        ],
        [
         "86693",
         "158.75",
         "126.75",
         "0.5",
         "1752.62"
        ],
        [
         "97060",
         "306.25",
         "276.12",
         "0.5",
         "3103.12"
        ]
       ],
       "shape": {
        "columns": 4,
        "rows": 14
       }
      },
      "text/html": [
       "<div>\n",
       "<style scoped>\n",
       "    .dataframe tbody tr th:only-of-type {\n",
       "        vertical-align: middle;\n",
       "    }\n",
       "\n",
       "    .dataframe tbody tr th {\n",
       "        vertical-align: top;\n",
       "    }\n",
       "\n",
       "    .dataframe thead th {\n",
       "        text-align: right;\n",
       "    }\n",
       "</style>\n",
       "<table border=\"1\" class=\"dataframe\">\n",
       "  <thead>\n",
       "    <tr style=\"text-align: right;\">\n",
       "      <th></th>\n",
       "      <th>longest_bout_time</th>\n",
       "      <th>longest_bout_steps</th>\n",
       "      <th>bouts_over_3min</th>\n",
       "      <th>total_steps</th>\n",
       "    </tr>\n",
       "    <tr>\n",
       "      <th>participant</th>\n",
       "      <th></th>\n",
       "      <th></th>\n",
       "      <th></th>\n",
       "      <th></th>\n",
       "    </tr>\n",
       "  </thead>\n",
       "  <tbody>\n",
       "    <tr>\n",
       "      <th>8623</th>\n",
       "      <td>1566.50</td>\n",
       "      <td>2005.62</td>\n",
       "      <td>4.38</td>\n",
       "      <td>6945.38</td>\n",
       "    </tr>\n",
       "    <tr>\n",
       "      <th>14219</th>\n",
       "      <td>271.38</td>\n",
       "      <td>230.38</td>\n",
       "      <td>2.62</td>\n",
       "      <td>3188.50</td>\n",
       "    </tr>\n",
       "    <tr>\n",
       "      <th>23483</th>\n",
       "      <td>184.00</td>\n",
       "      <td>172.12</td>\n",
       "      <td>1.12</td>\n",
       "      <td>2363.00</td>\n",
       "    </tr>\n",
       "    <tr>\n",
       "      <th>36644</th>\n",
       "      <td>564.25</td>\n",
       "      <td>571.75</td>\n",
       "      <td>1.38</td>\n",
       "      <td>4110.50</td>\n",
       "    </tr>\n",
       "    <tr>\n",
       "      <th>36920</th>\n",
       "      <td>129.29</td>\n",
       "      <td>116.86</td>\n",
       "      <td>0.29</td>\n",
       "      <td>2343.00</td>\n",
       "    </tr>\n",
       "    <tr>\n",
       "      <th>58319</th>\n",
       "      <td>175.75</td>\n",
       "      <td>165.25</td>\n",
       "      <td>0.75</td>\n",
       "      <td>2477.38</td>\n",
       "    </tr>\n",
       "    <tr>\n",
       "      <th>59794</th>\n",
       "      <td>88.00</td>\n",
       "      <td>76.71</td>\n",
       "      <td>0.14</td>\n",
       "      <td>1426.14</td>\n",
       "    </tr>\n",
       "    <tr>\n",
       "      <th>68503</th>\n",
       "      <td>136.00</td>\n",
       "      <td>126.71</td>\n",
       "      <td>0.29</td>\n",
       "      <td>2051.00</td>\n",
       "    </tr>\n",
       "    <tr>\n",
       "      <th>73496</th>\n",
       "      <td>102.62</td>\n",
       "      <td>90.12</td>\n",
       "      <td>0.25</td>\n",
       "      <td>2073.25</td>\n",
       "    </tr>\n",
       "    <tr>\n",
       "      <th>74003</th>\n",
       "      <td>122.75</td>\n",
       "      <td>101.75</td>\n",
       "      <td>0.12</td>\n",
       "      <td>2764.50</td>\n",
       "    </tr>\n",
       "    <tr>\n",
       "      <th>74913</th>\n",
       "      <td>183.62</td>\n",
       "      <td>152.88</td>\n",
       "      <td>0.38</td>\n",
       "      <td>2063.25</td>\n",
       "    </tr>\n",
       "    <tr>\n",
       "      <th>78936</th>\n",
       "      <td>86.00</td>\n",
       "      <td>73.29</td>\n",
       "      <td>0.14</td>\n",
       "      <td>1738.29</td>\n",
       "    </tr>\n",
       "    <tr>\n",
       "      <th>86693</th>\n",
       "      <td>158.75</td>\n",
       "      <td>126.75</td>\n",
       "      <td>0.50</td>\n",
       "      <td>1752.62</td>\n",
       "    </tr>\n",
       "    <tr>\n",
       "      <th>97060</th>\n",
       "      <td>306.25</td>\n",
       "      <td>276.12</td>\n",
       "      <td>0.50</td>\n",
       "      <td>3103.12</td>\n",
       "    </tr>\n",
       "  </tbody>\n",
       "</table>\n",
       "</div>"
      ],
      "text/plain": [
       "             longest_bout_time  longest_bout_steps  bouts_over_3min  \\\n",
       "participant                                                           \n",
       "8623                   1566.50             2005.62             4.38   \n",
       "14219                   271.38              230.38             2.62   \n",
       "23483                   184.00              172.12             1.12   \n",
       "36644                   564.25              571.75             1.38   \n",
       "36920                   129.29              116.86             0.29   \n",
       "58319                   175.75              165.25             0.75   \n",
       "59794                    88.00               76.71             0.14   \n",
       "68503                   136.00              126.71             0.29   \n",
       "73496                   102.62               90.12             0.25   \n",
       "74003                   122.75              101.75             0.12   \n",
       "74913                   183.62              152.88             0.38   \n",
       "78936                    86.00               73.29             0.14   \n",
       "86693                   158.75              126.75             0.50   \n",
       "97060                   306.25              276.12             0.50   \n",
       "\n",
       "             total_steps  \n",
       "participant               \n",
       "8623             6945.38  \n",
       "14219            3188.50  \n",
       "23483            2363.00  \n",
       "36644            4110.50  \n",
       "36920            2343.00  \n",
       "58319            2477.38  \n",
       "59794            1426.14  \n",
       "68503            2051.00  \n",
       "73496            2073.25  \n",
       "74003            2764.50  \n",
       "74913            2063.25  \n",
       "78936            1738.29  \n",
       "86693            1752.62  \n",
       "97060            3103.12  "
      ]
     },
     "execution_count": 12,
     "metadata": {},
     "output_type": "execute_result"
    }
   ],
   "source": [
    "steps_daily_df.drop(columns=[\"calendar_date\", \"day\"], inplace = True)\n",
    "steps_daily_total = steps_daily_df.groupby(\"participant\").mean().round(2)\n",
    "steps_daily_total"
   ]
  },
  {
   "cell_type": "code",
   "execution_count": 18,
   "metadata": {},
   "outputs": [
    {
     "data": {
      "text/plain": [
       "Index(['08623', '14219', '23483', '36644', '36920', '58319', '59794', '65381',\n",
       "       '68503', '73496', '74913', '78936', '86693', '97060'],\n",
       "      dtype='object', name='participant')"
      ]
     },
     "execution_count": 18,
     "metadata": {},
     "output_type": "execute_result"
    }
   ],
   "source": [
    "sleep_summary_total.index"
   ]
  },
  {
   "cell_type": "code",
   "execution_count": 14,
   "metadata": {},
   "outputs": [],
   "source": [
    "save_path = \"/Users/augenpro/Documents/Age-IT/risultati_preliminari/\"\n",
    "\n",
    "total = pd.concat([sleep_summary_total.round(2), circadian_summary, PA_summary_total, steps_daily_total], axis = 1)\n",
    "total.to_csv(save_path + \"total_summary_new.csv\")"
   ]
  },
  {
   "cell_type": "code",
   "execution_count": null,
   "metadata": {},
   "outputs": [
    {
     "ename": "KeyError",
     "evalue": "'Column not found: calendar_date'",
     "output_type": "error",
     "traceback": [
      "\u001b[0;31m---------------------------------------------------------------------------\u001b[0m",
      "\u001b[0;31mKeyError\u001b[0m                                  Traceback (most recent call last)",
      "Cell \u001b[0;32mIn[47], line 1\u001b[0m\n\u001b[0;32m----> 1\u001b[0m steps_daily_df[\u001b[38;5;124m\"\u001b[39m\u001b[38;5;124mn_nights\u001b[39m\u001b[38;5;124m\"\u001b[39m] \u001b[38;5;241m=\u001b[39m \u001b[43msteps_daily_df\u001b[49m\u001b[38;5;241;43m.\u001b[39;49m\u001b[43mgroupby\u001b[49m\u001b[43m(\u001b[49m\u001b[38;5;124;43m\"\u001b[39;49m\u001b[38;5;124;43mparticipant\u001b[39;49m\u001b[38;5;124;43m\"\u001b[39;49m\u001b[43m)\u001b[49m\u001b[43m[\u001b[49m\u001b[38;5;124;43m\"\u001b[39;49m\u001b[38;5;124;43mcalendar_date\u001b[39;49m\u001b[38;5;124;43m\"\u001b[39;49m\u001b[43m]\u001b[49m\u001b[38;5;241m.\u001b[39mtransform(\u001b[38;5;124m\"\u001b[39m\u001b[38;5;124mcount\u001b[39m\u001b[38;5;124m\"\u001b[39m)\u001b[38;5;241m.\u001b[39mastype(\u001b[38;5;28mint\u001b[39m)\n\u001b[1;32m      2\u001b[0m steps_daily_df_total \u001b[38;5;241m=\u001b[39m steps_daily_df\u001b[38;5;241m.\u001b[39mdrop(columns\u001b[38;5;241m=\u001b[39m[\u001b[38;5;124m\"\u001b[39m\u001b[38;5;124mcalendar_date\u001b[39m\u001b[38;5;124m\"\u001b[39m, \u001b[38;5;124m\"\u001b[39m\u001b[38;5;124mnight\u001b[39m\u001b[38;5;124m\"\u001b[39m])\u001b[38;5;241m.\u001b[39mgroupby(\u001b[38;5;124m\"\u001b[39m\u001b[38;5;124mparticipant\u001b[39m\u001b[38;5;124m\"\u001b[39m)\u001b[38;5;241m.\u001b[39mmean()\n\u001b[1;32m      3\u001b[0m \u001b[38;5;66;03m# Make \"n_nights\" the first column\u001b[39;00m\n",
      "File \u001b[0;32m/opt/anaconda3/envs/DARE/lib/python3.12/site-packages/pandas/core/groupby/generic.py:1951\u001b[0m, in \u001b[0;36mDataFrameGroupBy.__getitem__\u001b[0;34m(self, key)\u001b[0m\n\u001b[1;32m   1944\u001b[0m \u001b[38;5;28;01mif\u001b[39;00m \u001b[38;5;28misinstance\u001b[39m(key, \u001b[38;5;28mtuple\u001b[39m) \u001b[38;5;129;01mand\u001b[39;00m \u001b[38;5;28mlen\u001b[39m(key) \u001b[38;5;241m>\u001b[39m \u001b[38;5;241m1\u001b[39m:\n\u001b[1;32m   1945\u001b[0m     \u001b[38;5;66;03m# if len == 1, then it becomes a SeriesGroupBy and this is actually\u001b[39;00m\n\u001b[1;32m   1946\u001b[0m     \u001b[38;5;66;03m# valid syntax, so don't raise\u001b[39;00m\n\u001b[1;32m   1947\u001b[0m     \u001b[38;5;28;01mraise\u001b[39;00m \u001b[38;5;167;01mValueError\u001b[39;00m(\n\u001b[1;32m   1948\u001b[0m         \u001b[38;5;124m\"\u001b[39m\u001b[38;5;124mCannot subset columns with a tuple with more than one element. \u001b[39m\u001b[38;5;124m\"\u001b[39m\n\u001b[1;32m   1949\u001b[0m         \u001b[38;5;124m\"\u001b[39m\u001b[38;5;124mUse a list instead.\u001b[39m\u001b[38;5;124m\"\u001b[39m\n\u001b[1;32m   1950\u001b[0m     )\n\u001b[0;32m-> 1951\u001b[0m \u001b[38;5;28;01mreturn\u001b[39;00m \u001b[38;5;28;43msuper\u001b[39;49m\u001b[43m(\u001b[49m\u001b[43m)\u001b[49m\u001b[38;5;241;43m.\u001b[39;49m\u001b[38;5;21;43m__getitem__\u001b[39;49m\u001b[43m(\u001b[49m\u001b[43mkey\u001b[49m\u001b[43m)\u001b[49m\n",
      "File \u001b[0;32m/opt/anaconda3/envs/DARE/lib/python3.12/site-packages/pandas/core/base.py:244\u001b[0m, in \u001b[0;36mSelectionMixin.__getitem__\u001b[0;34m(self, key)\u001b[0m\n\u001b[1;32m    242\u001b[0m \u001b[38;5;28;01melse\u001b[39;00m:\n\u001b[1;32m    243\u001b[0m     \u001b[38;5;28;01mif\u001b[39;00m key \u001b[38;5;129;01mnot\u001b[39;00m \u001b[38;5;129;01min\u001b[39;00m \u001b[38;5;28mself\u001b[39m\u001b[38;5;241m.\u001b[39mobj:\n\u001b[0;32m--> 244\u001b[0m         \u001b[38;5;28;01mraise\u001b[39;00m \u001b[38;5;167;01mKeyError\u001b[39;00m(\u001b[38;5;124mf\u001b[39m\u001b[38;5;124m\"\u001b[39m\u001b[38;5;124mColumn not found: \u001b[39m\u001b[38;5;132;01m{\u001b[39;00mkey\u001b[38;5;132;01m}\u001b[39;00m\u001b[38;5;124m\"\u001b[39m)\n\u001b[1;32m    245\u001b[0m     ndim \u001b[38;5;241m=\u001b[39m \u001b[38;5;28mself\u001b[39m\u001b[38;5;241m.\u001b[39mobj[key]\u001b[38;5;241m.\u001b[39mndim\n\u001b[1;32m    246\u001b[0m     \u001b[38;5;28;01mreturn\u001b[39;00m \u001b[38;5;28mself\u001b[39m\u001b[38;5;241m.\u001b[39m_gotitem(key, ndim\u001b[38;5;241m=\u001b[39mndim)\n",
      "\u001b[0;31mKeyError\u001b[0m: 'Column not found: calendar_date'"
     ]
    }
   ],
   "source": [
    "steps_daily_df[\"n_days\"] = steps_daily_df.groupby(\"participant\")[\"date\"].transform(\"count\").astype(int)\n",
    "steps_daily_df_total = steps_daily_df.drop(columns=[\"calendar_date\", \"night\"]).groupby(\"participant\").mean()\n",
    "# Make \"n_nights\" the first column\n",
    "cols = steps_daily_df_total.columns.tolist()\n",
    "cols = cols[-1:] + cols[:-1]\n",
    "steps_daily_df_total = steps_daily_df_total[cols]"
   ]
  },
  {
   "cell_type": "code",
   "execution_count": 40,
   "metadata": {},
   "outputs": [
    {
     "ename": "InvalidIndexError",
     "evalue": "Reindexing only valid with uniquely valued Index objects",
     "output_type": "error",
     "traceback": [
      "\u001b[0;31m---------------------------------------------------------------------------\u001b[0m",
      "\u001b[0;31mInvalidIndexError\u001b[0m                         Traceback (most recent call last)",
      "Cell \u001b[0;32mIn[40], line 5\u001b[0m\n\u001b[1;32m      2\u001b[0m steps_daily_df\u001b[38;5;241m.\u001b[39mdrop(columns \u001b[38;5;241m=\u001b[39m [\u001b[38;5;124m\"\u001b[39m\u001b[38;5;124mparticipant\u001b[39m\u001b[38;5;124m\"\u001b[39m], inplace \u001b[38;5;241m=\u001b[39m \u001b[38;5;28;01mTrue\u001b[39;00m)\n\u001b[1;32m      4\u001b[0m \u001b[38;5;66;03m# Merge with total\u001b[39;00m\n\u001b[0;32m----> 5\u001b[0m total \u001b[38;5;241m=\u001b[39m \u001b[43mpd\u001b[49m\u001b[38;5;241;43m.\u001b[39;49m\u001b[43mconcat\u001b[49m\u001b[43m(\u001b[49m\u001b[43m[\u001b[49m\u001b[43mtotal\u001b[49m\u001b[43m,\u001b[49m\u001b[43m \u001b[49m\u001b[43msteps_daily_df\u001b[49m\u001b[43m]\u001b[49m\u001b[43m,\u001b[49m\u001b[43m \u001b[49m\u001b[43maxis\u001b[49m\u001b[43m \u001b[49m\u001b[38;5;241;43m=\u001b[39;49m\u001b[43m \u001b[49m\u001b[38;5;241;43m1\u001b[39;49m\u001b[43m)\u001b[49m\n",
      "File \u001b[0;32m/opt/anaconda3/envs/DARE/lib/python3.12/site-packages/pandas/core/reshape/concat.py:395\u001b[0m, in \u001b[0;36mconcat\u001b[0;34m(objs, axis, join, ignore_index, keys, levels, names, verify_integrity, sort, copy)\u001b[0m\n\u001b[1;32m    380\u001b[0m     copy \u001b[38;5;241m=\u001b[39m \u001b[38;5;28;01mFalse\u001b[39;00m\n\u001b[1;32m    382\u001b[0m op \u001b[38;5;241m=\u001b[39m _Concatenator(\n\u001b[1;32m    383\u001b[0m     objs,\n\u001b[1;32m    384\u001b[0m     axis\u001b[38;5;241m=\u001b[39maxis,\n\u001b[0;32m   (...)\u001b[0m\n\u001b[1;32m    392\u001b[0m     sort\u001b[38;5;241m=\u001b[39msort,\n\u001b[1;32m    393\u001b[0m )\n\u001b[0;32m--> 395\u001b[0m \u001b[38;5;28;01mreturn\u001b[39;00m \u001b[43mop\u001b[49m\u001b[38;5;241;43m.\u001b[39;49m\u001b[43mget_result\u001b[49m\u001b[43m(\u001b[49m\u001b[43m)\u001b[49m\n",
      "File \u001b[0;32m/opt/anaconda3/envs/DARE/lib/python3.12/site-packages/pandas/core/reshape/concat.py:680\u001b[0m, in \u001b[0;36m_Concatenator.get_result\u001b[0;34m(self)\u001b[0m\n\u001b[1;32m    678\u001b[0m         obj_labels \u001b[38;5;241m=\u001b[39m obj\u001b[38;5;241m.\u001b[39maxes[\u001b[38;5;241m1\u001b[39m \u001b[38;5;241m-\u001b[39m ax]\n\u001b[1;32m    679\u001b[0m         \u001b[38;5;28;01mif\u001b[39;00m \u001b[38;5;129;01mnot\u001b[39;00m new_labels\u001b[38;5;241m.\u001b[39mequals(obj_labels):\n\u001b[0;32m--> 680\u001b[0m             indexers[ax] \u001b[38;5;241m=\u001b[39m \u001b[43mobj_labels\u001b[49m\u001b[38;5;241;43m.\u001b[39;49m\u001b[43mget_indexer\u001b[49m\u001b[43m(\u001b[49m\u001b[43mnew_labels\u001b[49m\u001b[43m)\u001b[49m\n\u001b[1;32m    682\u001b[0m     mgrs_indexers\u001b[38;5;241m.\u001b[39mappend((obj\u001b[38;5;241m.\u001b[39m_mgr, indexers))\n\u001b[1;32m    684\u001b[0m new_data \u001b[38;5;241m=\u001b[39m concatenate_managers(\n\u001b[1;32m    685\u001b[0m     mgrs_indexers, \u001b[38;5;28mself\u001b[39m\u001b[38;5;241m.\u001b[39mnew_axes, concat_axis\u001b[38;5;241m=\u001b[39m\u001b[38;5;28mself\u001b[39m\u001b[38;5;241m.\u001b[39mbm_axis, copy\u001b[38;5;241m=\u001b[39m\u001b[38;5;28mself\u001b[39m\u001b[38;5;241m.\u001b[39mcopy\n\u001b[1;32m    686\u001b[0m )\n",
      "File \u001b[0;32m/opt/anaconda3/envs/DARE/lib/python3.12/site-packages/pandas/core/indexes/base.py:3885\u001b[0m, in \u001b[0;36mIndex.get_indexer\u001b[0;34m(self, target, method, limit, tolerance)\u001b[0m\n\u001b[1;32m   3882\u001b[0m \u001b[38;5;28mself\u001b[39m\u001b[38;5;241m.\u001b[39m_check_indexing_method(method, limit, tolerance)\n\u001b[1;32m   3884\u001b[0m \u001b[38;5;28;01mif\u001b[39;00m \u001b[38;5;129;01mnot\u001b[39;00m \u001b[38;5;28mself\u001b[39m\u001b[38;5;241m.\u001b[39m_index_as_unique:\n\u001b[0;32m-> 3885\u001b[0m     \u001b[38;5;28;01mraise\u001b[39;00m InvalidIndexError(\u001b[38;5;28mself\u001b[39m\u001b[38;5;241m.\u001b[39m_requires_unique_msg)\n\u001b[1;32m   3887\u001b[0m \u001b[38;5;28;01mif\u001b[39;00m \u001b[38;5;28mlen\u001b[39m(target) \u001b[38;5;241m==\u001b[39m \u001b[38;5;241m0\u001b[39m:\n\u001b[1;32m   3888\u001b[0m     \u001b[38;5;28;01mreturn\u001b[39;00m np\u001b[38;5;241m.\u001b[39marray([], dtype\u001b[38;5;241m=\u001b[39mnp\u001b[38;5;241m.\u001b[39mintp)\n",
      "\u001b[0;31mInvalidIndexError\u001b[0m: Reindexing only valid with uniquely valued Index objects"
     ]
    }
   ],
   "source": [
    "steps_daily_df.index = steps_daily_df[\"participant\"]\n",
    "steps_daily_df.drop(columns = [\"participant\"], inplace = True)\n",
    "\n",
    "# Merge with total\n",
    "total = pd.concat([total, steps_daily_df], axis = 1)"
   ]
  },
  {
   "cell_type": "code",
   "execution_count": 19,
   "metadata": {},
   "outputs": [
    {
     "data": {
      "text/plain": [
       "[<matplotlib.lines.Line2D at 0x33165caa0>]"
      ]
     },
     "execution_count": 19,
     "metadata": {},
     "output_type": "execute_result"
    }
   ],
   "source": [
    "from utils.compute_acc_metrics import compute_acc_SMV\n",
    "acc_gen[\"acc_SMV\"] = compute_acc_SMV(acc_gen)\n",
    "\n",
    "plt.figure(figsize = (19,11))\n",
    "plt.plot(acc_gen[\"acc_SMV\"].resample(\"0.1s\").mean())"
   ]
  },
  {
   "cell_type": "code",
   "execution_count": null,
   "metadata": {},
   "outputs": [],
   "source": [
    "steps2, bouts = gait.define_bouts(steps=steps, freq=fs, start_time=acc_gen.index[0], max_break=3, min_steps=6,\n",
    "                                    remove_unbouted=False)\n",
    "# daily steps\n",
    "daily_steps = gait.gait_stats(bouts, stat_type='daily', single_leg=False)"
   ]
  },
  {
   "cell_type": "code",
   "execution_count": 29,
   "metadata": {},
   "outputs": [],
   "source": [
    "plt.figure(figsize = (19,11))\n",
    "plt.plot(acc_gen[\"acc_SMV\"].resample(\"0.1s\").mean())\n",
    "for i, bout in bouts.iterrows():\n",
    "    # if bout[\"end_time\"] - bout[\"start_time\"] > pd.Timedelta(\"1 min\"):\n",
    "    plt.axvspan(bout[\"start_time\"], bout[\"end_time\"], color = \"blue\", alpha = 0.3)"
   ]
  },
  {
   "cell_type": "code",
   "execution_count": null,
   "metadata": {},
   "outputs": [
    {
     "data": {
      "application/vnd.microsoft.datawrangler.viewer.v0+json": {
       "columns": [
        {
         "name": "index",
         "rawType": "int64",
         "type": "integer"
        },
        {
         "name": "day_num",
         "rawType": "object",
         "type": "unknown"
        },
        {
         "name": "date",
         "rawType": "object",
         "type": "unknown"
        },
        {
         "name": "type",
         "rawType": "object",
         "type": "string"
        },
        {
         "name": "longest_bout_time",
         "rawType": "object",
         "type": "unknown"
        },
        {
         "name": "longest_bout_steps",
         "rawType": "object",
         "type": "unknown"
        },
        {
         "name": "bouts_over_3min",
         "rawType": "object",
         "type": "unknown"
        },
        {
         "name": "total_steps",
         "rawType": "object",
         "type": "unknown"
        }
       ],
       "conversionMethod": "pd.DataFrame",
       "ref": "f71334a3-8c6e-4cff-ace2-b63a9faf165c",
       "rows": [
        [
         "0",
         "1",
         "2025-01-28",
         "daily",
         "1607",
         "2069",
         "6",
         "9062"
        ],
        [
         "1",
         "2",
         "2025-01-29",
         "daily",
         "2150",
         "2949",
         "3",
         "6411"
        ],
        [
         "2",
         "3",
         "2025-01-30",
         "daily",
         "3007",
         "3986",
         "4",
         "8815"
        ],
        [
         "3",
         "4",
         "2025-01-31",
         "daily",
         "274",
         "242",
         "2",
         "983"
        ],
        [
         "4",
         "5",
         "2025-02-01",
         "daily",
         "1630",
         "2019",
         "8",
         "9641"
        ],
        [
         "5",
         "6",
         "2025-02-02",
         "daily",
         "1895",
         "2344",
         "5",
         "9444"
        ],
        [
         "6",
         "7",
         "2025-02-03",
         "daily",
         "1757",
         "2266",
         "6",
         "10000"
        ],
        [
         "7",
         "8",
         "2025-02-04",
         "daily",
         "212",
         "170",
         "1",
         "1207"
        ]
       ],
       "shape": {
        "columns": 7,
        "rows": 8
       }
      },
      "text/html": [
       "<div>\n",
       "<style scoped>\n",
       "    .dataframe tbody tr th:only-of-type {\n",
       "        vertical-align: middle;\n",
       "    }\n",
       "\n",
       "    .dataframe tbody tr th {\n",
       "        vertical-align: top;\n",
       "    }\n",
       "\n",
       "    .dataframe thead th {\n",
       "        text-align: right;\n",
       "    }\n",
       "</style>\n",
       "<table border=\"1\" class=\"dataframe\">\n",
       "  <thead>\n",
       "    <tr style=\"text-align: right;\">\n",
       "      <th></th>\n",
       "      <th>day_num</th>\n",
       "      <th>date</th>\n",
       "      <th>type</th>\n",
       "      <th>longest_bout_time</th>\n",
       "      <th>longest_bout_steps</th>\n",
       "      <th>bouts_over_3min</th>\n",
       "      <th>total_steps</th>\n",
       "    </tr>\n",
       "  </thead>\n",
       "  <tbody>\n",
       "    <tr>\n",
       "      <th>0</th>\n",
       "      <td>1</td>\n",
       "      <td>2025-01-28</td>\n",
       "      <td>daily</td>\n",
       "      <td>1607</td>\n",
       "      <td>2069</td>\n",
       "      <td>6</td>\n",
       "      <td>9062</td>\n",
       "    </tr>\n",
       "    <tr>\n",
       "      <th>1</th>\n",
       "      <td>2</td>\n",
       "      <td>2025-01-29</td>\n",
       "      <td>daily</td>\n",
       "      <td>2150</td>\n",
       "      <td>2949</td>\n",
       "      <td>3</td>\n",
       "      <td>6411</td>\n",
       "    </tr>\n",
       "    <tr>\n",
       "      <th>2</th>\n",
       "      <td>3</td>\n",
       "      <td>2025-01-30</td>\n",
       "      <td>daily</td>\n",
       "      <td>3007</td>\n",
       "      <td>3986</td>\n",
       "      <td>4</td>\n",
       "      <td>8815</td>\n",
       "    </tr>\n",
       "    <tr>\n",
       "      <th>3</th>\n",
       "      <td>4</td>\n",
       "      <td>2025-01-31</td>\n",
       "      <td>daily</td>\n",
       "      <td>274</td>\n",
       "      <td>242</td>\n",
       "      <td>2</td>\n",
       "      <td>983</td>\n",
       "    </tr>\n",
       "    <tr>\n",
       "      <th>4</th>\n",
       "      <td>5</td>\n",
       "      <td>2025-02-01</td>\n",
       "      <td>daily</td>\n",
       "      <td>1630</td>\n",
       "      <td>2019</td>\n",
       "      <td>8</td>\n",
       "      <td>9641</td>\n",
       "    </tr>\n",
       "    <tr>\n",
       "      <th>5</th>\n",
       "      <td>6</td>\n",
       "      <td>2025-02-02</td>\n",
       "      <td>daily</td>\n",
       "      <td>1895</td>\n",
       "      <td>2344</td>\n",
       "      <td>5</td>\n",
       "      <td>9444</td>\n",
       "    </tr>\n",
       "    <tr>\n",
       "      <th>6</th>\n",
       "      <td>7</td>\n",
       "      <td>2025-02-03</td>\n",
       "      <td>daily</td>\n",
       "      <td>1757</td>\n",
       "      <td>2266</td>\n",
       "      <td>6</td>\n",
       "      <td>10000</td>\n",
       "    </tr>\n",
       "    <tr>\n",
       "      <th>7</th>\n",
       "      <td>8</td>\n",
       "      <td>2025-02-04</td>\n",
       "      <td>daily</td>\n",
       "      <td>212</td>\n",
       "      <td>170</td>\n",
       "      <td>1</td>\n",
       "      <td>1207</td>\n",
       "    </tr>\n",
       "  </tbody>\n",
       "</table>\n",
       "</div>"
      ],
      "text/plain": [
       "  day_num        date   type longest_bout_time longest_bout_steps  \\\n",
       "0       1  2025-01-28  daily              1607               2069   \n",
       "1       2  2025-01-29  daily              2150               2949   \n",
       "2       3  2025-01-30  daily              3007               3986   \n",
       "3       4  2025-01-31  daily               274                242   \n",
       "4       5  2025-02-01  daily              1630               2019   \n",
       "5       6  2025-02-02  daily              1895               2344   \n",
       "6       7  2025-02-03  daily              1757               2266   \n",
       "7       8  2025-02-04  daily               212                170   \n",
       "\n",
       "  bouts_over_3min total_steps  \n",
       "0               6        9062  \n",
       "1               3        6411  \n",
       "2               4        8815  \n",
       "3               2         983  \n",
       "4               8        9641  \n",
       "5               5        9444  \n",
       "6               6       10000  \n",
       "7               1        1207  "
      ]
     },
     "execution_count": 30,
     "metadata": {},
     "output_type": "execute_result"
    }
   ],
   "source": [
    "wscwcmwmvcwmevkmqv\n",
    "\n",
    "\n",
    "eee"
   ]
  },
  {
   "cell_type": "code",
   "execution_count": null,
   "metadata": {},
   "outputs": [],
   "source": []
  }
 ],
 "metadata": {
  "kernelspec": {
   "display_name": "DARE",
   "language": "python",
   "name": "python3"
  },
  "language_info": {
   "codemirror_mode": {
    "name": "ipython",
    "version": 3
   },
   "file_extension": ".py",
   "mimetype": "text/x-python",
   "name": "python",
   "nbconvert_exporter": "python",
   "pygments_lexer": "ipython3",
   "version": "3.12.2"
  }
 },
 "nbformat": 4,
 "nbformat_minor": 2
}
