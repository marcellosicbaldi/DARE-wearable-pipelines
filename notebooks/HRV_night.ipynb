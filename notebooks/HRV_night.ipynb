{
 "cells": [
  {
   "cell_type": "markdown",
   "metadata": {},
   "source": [
    "# Extract night HRV"
   ]
  },
  {
   "cell_type": "code",
   "execution_count": 1,
   "metadata": {},
   "outputs": [],
   "source": [
    "import numpy as np\n",
    "import pandas as pd\n",
    "import os\n",
    "import glob\n",
    "\n",
    "import matplotlib.pyplot as plt\n",
    "import matplotlib as mpl\n",
    "\n",
    "mpl.rcParams['lines.linewidth'] = 0.91\n",
    "plt.style.use('seaborn-v0_8-whitegrid')\n",
    "# %matplotlib qt"
   ]
  },
  {
   "cell_type": "markdown",
   "metadata": {},
   "source": [
    "### Load processed data (from procees_empatica.ipynb)"
   ]
  },
  {
   "cell_type": "code",
   "execution_count": 2,
   "metadata": {},
   "outputs": [],
   "source": [
    "processed_data_path = \"/Users/augenpro/Documents/Empatica/data_sara/data/GGIR_input/\"\n",
    "\n",
    "ppg_df = pd.read_parquet(processed_data_path + \"ppg.parquet\")\n",
    "temp_df = pd.read_parquet(processed_data_path + \"temp.parquet\")\n",
    "acc_df = pd.read_parquet(processed_data_path + \"acc.parquet\")\n",
    "nights = np.load(processed_data_path + \"SPT_window_GGIR.npy\", allow_pickle=True)"
   ]
  },
  {
   "cell_type": "code",
   "execution_count": 3,
   "metadata": {},
   "outputs": [],
   "source": [
    "from utils.compute_acc_metrics import compute_acc_SMV\n",
    "from sleep.detect_acc_bursts import *\n",
    "from heart_rate.ppg_beat_detection import MSPTDfast\n",
    "from heart_rate.kubios import signal_fixpeaks\n",
    "from heart_rate.heart_rate_fragmentation import compute_HRF"
   ]
  },
  {
   "cell_type": "markdown",
   "metadata": {},
   "source": [
    "**RMSSD** is calculated on 5-minute windows as extensively done in the literature (e.g., https://pmc.ncbi.nlm.nih.gov/articles/PMC10566244/). Usually, consecutive windows are used, but since my computation is quite fast I am now opting for an overlap of 4 minutes (step of 1 min) between windows to increase the granularity. Moreover, in this way, I do not lose the last part of my quite portion (I loose at max 1 min). This choice can be discussed (PS I tried with 1s step and results seem interesing....)\n",
    "\n",
    "**SDNN** I don't remember what Silvani said it's better to do (I think 5 min windows also for this)\n",
    "\n",
    "For **heart rate fragmentation**, the longer the window the better (https://physionet.org/content/heart-rate-fragmentation-code/1.0.0/)\n",
    "\n"
   ]
  },
  {
   "cell_type": "code",
   "execution_count": 4,
   "metadata": {},
   "outputs": [],
   "source": [
    "threshold_bursts = 35/1000 # threshold for detecting bursts in mg (validated)\n",
    "window_length = pd.Timedelta(\"5 min\")  # window length\n",
    "window_step = pd.Timedelta(\"1 min\")  # window step\n",
    "\n",
    "HRV = []  # Reset HRV storage\n",
    "\n",
    "ibi_quiet_all = []\n",
    "\n",
    "for i, (start_sleep, end_sleep) in enumerate(nights):  # for each night\n",
    "\n",
    "    acc_night = compute_acc_SMV(acc_df.loc[start_sleep:end_sleep])\n",
    "    ppg_night = ppg_df.loc[start_sleep:end_sleep]\n",
    "\n",
    "    # Detect wrist accelerometer bursts\n",
    "    bursts = detect_bursts(acc_night, sampling_rate=64, alfa=threshold_bursts)\n",
    "\n",
    "    # Extract quiet periods (no movement of the wrist)\n",
    "    quiet_periods = pd.DataFrame()\n",
    "    quiet_periods[\"start\"] = bursts[\"end\"].iloc[:-1].reset_index(drop=True)\n",
    "    quiet_periods[\"end\"] = bursts[\"start\"].iloc[1:].reset_index(drop=True)\n",
    "\n",
    "    for _, quiet_period in quiet_periods.iterrows():  # for each quiet period\n",
    "\n",
    "        duration_quiet_period = quiet_period[\"end\"] - quiet_period[\"start\"]\n",
    "\n",
    "        if duration_quiet_period < window_length:  # If the whole period is shorter than 5 min, skip it\n",
    "            continue\n",
    "            \n",
    "        acc_quiet = acc_night.loc[quiet_period[\"start\"]:quiet_period[\"end\"]]\n",
    "        ppg_quiet = ppg_night.loc[quiet_period[\"start\"]:quiet_period[\"end\"]]\n",
    "\n",
    "         # Extract systolic peaks from the quiet PPG signal\n",
    "        _, peaks = MSPTDfast(ppg_quiet[\"ppg\"].values, sampling_rate=64)\n",
    "        t_peaks = ppg_quiet.index.to_series().values[peaks]\n",
    "        ibi = np.diff(t_peaks).astype('timedelta64[ns]').astype('float64') / 1e9  # seconds\n",
    "        ibi = np.insert(ibi, 0, np.mean(ibi[1:10]), axis=0)  # Set first value as mean of next 10\n",
    "        ibi = pd.Series(ibi, index=t_peaks)\n",
    "\n",
    "        # Kubios artifact correction\n",
    "        artifacts, env_diff_corrected = signal_fixpeaks(ibi.values, 64, iterative=False)\n",
    "        artifacts_all = np.concatenate((artifacts[\"ectopic\"], artifacts[\"missed\"], artifacts[\"extra\"], artifacts[\"longshort\"]))\n",
    "        ibi[ibi.index[artifacts_all.astype(int)]] = np.nan\n",
    "        ibi_clean = ibi.interpolate(method=\"linear\")\n",
    "\n",
    "        # Generate overlapping windows of 5 minutes with 30-second overlap\n",
    "        current_start = quiet_period[\"start\"]\n",
    "        \n",
    "        # For each window\n",
    "        while current_start + window_length <= quiet_period[\"end\"]:\n",
    "\n",
    "            current_end = current_start + window_length\n",
    "\n",
    "            ibi_window = ibi_clean.loc[current_start:current_end]\n",
    "\n",
    "            # HRV Features\n",
    "            ppi = ibi_window.values * 1000  # Convert to ms\n",
    "            diff_ppi = np.diff(ppi)\n",
    "\n",
    "            rmssd = np.sqrt(np.mean(diff_ppi**2))  # RMSSD\n",
    "            sdnn = np.std(ppi, ddof=1)  # SDNN\n",
    "            PIP = compute_HRF(ppi)  # Custom HRF computation\n",
    "\n",
    "            HRV.append({\n",
    "                \"day\": i+1,\n",
    "                \"time\": current_start + window_length / 2,\n",
    "                \"rmssd\": rmssd, \n",
    "                \"sdnn\": sdnn, \n",
    "                \"PIP\": PIP\n",
    "            })\n",
    "\n",
    "            current_start += window_step  # Move to next overlapping window\n",
    "\n",
    "        ibi_quiet_all.append(ibi_clean)\n",
    "\n",
    "HRV_df = pd.DataFrame(HRV)\n",
    "ibi_quiet_df = pd.concat(ibi_quiet_all)"
   ]
  },
  {
   "cell_type": "code",
   "execution_count": null,
   "metadata": {},
   "outputs": [],
   "source": [
    "from visualization.plot_HRV import plot_HRV\n",
    "\n",
    "# Decide whether to plot in notebook or in a separate window\n",
    "from bokeh.plotting import output_notebook\n",
    "output_notebook()\n",
    "\n",
    "plot_HRV(ibi_quiet_df, HRV_df)"
   ]
  }
 ],
 "metadata": {
  "kernelspec": {
   "display_name": "DARE",
   "language": "python",
   "name": "python3"
  },
  "language_info": {
   "codemirror_mode": {
    "name": "ipython",
    "version": 3
   },
   "file_extension": ".py",
   "mimetype": "text/x-python",
   "name": "python",
   "nbconvert_exporter": "python",
   "pygments_lexer": "ipython3",
   "version": "3.12.2"
  }
 },
 "nbformat": 4,
 "nbformat_minor": 2
}
