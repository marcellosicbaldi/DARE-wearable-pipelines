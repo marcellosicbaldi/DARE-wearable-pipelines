{
 "cells": [
  {
   "cell_type": "markdown",
   "metadata": {
    "application/vnd.databricks.v1+cell": {
     "cellMetadata": {},
     "inputWidgets": {},
     "nuid": "b34a6719-ad8a-4706-8029-4d3fc42f126d",
     "showTitle": false,
     "tableResultSettingsMap": {},
     "title": ""
    }
   },
   "source": [
    "# Creating structure in silver and gold layer"
   ]
  },
  {
   "cell_type": "markdown",
   "metadata": {
    "application/vnd.databricks.v1+cell": {
     "cellMetadata": {},
     "inputWidgets": {},
     "nuid": "1317009c-9328-4cc9-afa2-b3bc4219b9de",
     "showTitle": false,
     "tableResultSettingsMap": {},
     "title": ""
    }
   },
   "source": [
    "## Silver Layer"
   ]
  },
  {
   "cell_type": "code",
   "execution_count": 0,
   "metadata": {
    "application/vnd.databricks.v1+cell": {
     "cellMetadata": {
      "byteLimit": 2048000,
      "rowLimit": 10000
     },
     "inputWidgets": {},
     "nuid": "7c0986c0-b38a-4d85-9ece-ed3221984d7b",
     "showTitle": false,
     "tableResultSettingsMap": {},
     "title": ""
    }
   },
   "outputs": [],
   "source": [
    "import os\n",
    "\n",
    "silver_layer_path = \"/dbfs/mnt/storageageittest/sensori-silver/\"\n",
    "\n",
    "# Create the same folder structure for the Silver data\n",
    "data_path = \"/dbfs/mnt/storageageittest/sensori-bronze/\" # path to the folder containing the subjects\n",
    "\n",
    "participants = sorted([p for p in os.listdir(data_path) if not p.startswith(\".\")]) # list of the participants\n",
    "timeline = [\"T0 (baseline)\", \"T1 (6 mesi)\", \"T2 (12 mesi)\"]\n",
    "\n",
    "for participant in participants:\n",
    "    for visit in timeline:\n",
    "        path = os.path.join(silver_layer_path, participant, visit)\n",
    "        os.makedirs(path, exist_ok=True)\n",
    "        os.makedirs(os.path.join(path, \"GeneActivPolso\"), exist_ok=True)\n",
    "        os.makedirs(os.path.join(path, \"GeneActivCaviglia\"), exist_ok=True)\n",
    "        os.makedirs(os.path.join(path, \"RootiRx\"), exist_ok=True)\n",
    "        os.makedirs(os.path.join(path, \"VeritySense\"), exist_ok=True)\n",
    "        os.makedirs(os.path.join(path, \"Diario\"), exist_ok=True)"
   ]
  },
  {
   "cell_type": "markdown",
   "metadata": {
    "application/vnd.databricks.v1+cell": {
     "cellMetadata": {},
     "inputWidgets": {},
     "nuid": "1990980f-81d3-4440-856f-89f76221f803",
     "showTitle": false,
     "tableResultSettingsMap": {},
     "title": ""
    }
   },
   "source": [
    "## Gold Layer"
   ]
  },
  {
   "cell_type": "code",
   "execution_count": 0,
   "metadata": {
    "application/vnd.databricks.v1+cell": {
     "cellMetadata": {},
     "inputWidgets": {},
     "nuid": "fe62af5a-1b2f-4b0c-9bee-b9f7c5b3a9c7",
     "showTitle": false,
     "tableResultSettingsMap": {},
     "title": ""
    }
   },
   "outputs": [],
   "source": [
    "import os\n",
    "\n",
    "silver_layer_path = \"/dbfs/mnt/storageageittest/sensori-gold/\"\n",
    "\n",
    "# Create the same folder structure for the Silver data\n",
    "data_path = \"/dbfs/mnt/storageageittest/sensori-bronze/\" # path to the folder containing the subjects\n",
    "\n",
    "participants = sorted([p for p in os.listdir(data_path) if not p.startswith(\".\")]) # list of the participants\n",
    "timeline = [\"T0 (baseline)\", \"T1 (6 mesi)\", \"T2 (12 mesi)\"]\n",
    "\n",
    "for participant in participants:\n",
    "    for visit in timeline:\n",
    "        path = os.path.join(silver_layer_path, participant, visit)\n",
    "        os.makedirs(path, exist_ok=True)\n",
    "        os.makedirs(os.path.join(path, \"GeneActivPolso\"), exist_ok=True)\n",
    "        os.makedirs(os.path.join(path, \"GeneActivCaviglia\"), exist_ok=True)\n",
    "        os.makedirs(os.path.join(path, \"RootiRx\"), exist_ok=True)\n",
    "        os.makedirs(os.path.join(path, \"VeritySense\"), exist_ok=True)\n",
    "        os.makedirs(os.path.join(path, \"Diario\"), exist_ok=True)"
   ]
  }
 ],
 "metadata": {
  "application/vnd.databricks.v1+notebook": {
   "computePreferences": null,
   "dashboards": [],
   "environmentMetadata": {
    "base_environment": "",
    "environment_version": "2"
   },
   "language": "python",
   "notebookMetadata": {
    "pythonIndentUnit": 4
   },
   "notebookName": "CreateLayerStructure",
   "widgets": {}
  },
  "language_info": {
   "name": "python"
  }
 },
 "nbformat": 4,
 "nbformat_minor": 0
}
