{
 "cells": [
  {
   "cell_type": "code",
   "execution_count": 0,
   "metadata": {
    "application/vnd.databricks.v1+cell": {
     "cellMetadata": {
      "byteLimit": 2048000,
      "rowLimit": 10000
     },
     "inputWidgets": {},
     "nuid": "de508c18-55fe-4266-92d1-5ac9067700dd",
     "showTitle": false,
     "tableResultSettingsMap": {},
     "title": ""
    }
   },
   "outputs": [],
   "source": [
    "%pip install bokeh"
   ]
  },
  {
   "cell_type": "code",
   "execution_count": 0,
   "metadata": {
    "application/vnd.databricks.v1+cell": {
     "cellMetadata": {
      "byteLimit": 2048000,
      "rowLimit": 10000
     },
     "inputWidgets": {},
     "nuid": "9c3de48f-c2cc-4da3-b8b5-ea4a2ab37529",
     "showTitle": false,
     "tableResultSettingsMap": {},
     "title": ""
    }
   },
   "outputs": [],
   "source": [
    "from utils.compute_acc_metrics import compute_acc_SMV\n",
    "import pandas as pd\n",
    "ankle = pd.read_parquet(\"/dbfs/mnt/storageageittest/sensori-silver/08623/T0 (baseline)/GeneActivCaviglia/08623_right ankle_104451_2025-02-04 12-33-36_preprocessed.parquet\")\n",
    "wrist = pd.read_parquet(\"/dbfs/mnt/storageageittest/sensori-silver/08623/T0 (baseline)/GeneActivPolso/08623_left wrist_104324_2025-02-04 12-33-36_preprocessed.parquet\")\n",
    "ankle[\"acc_SMV\"] = compute_acc_SMV(ankle)"
   ]
  },
  {
   "cell_type": "code",
   "execution_count": 0,
   "metadata": {
    "application/vnd.databricks.v1+cell": {
     "cellMetadata": {
      "byteLimit": 2048000,
      "rowLimit": 10000
     },
     "inputWidgets": {},
     "nuid": "9dd3a6ec-2a34-418a-91a3-a8ea7ef5ec24",
     "showTitle": false,
     "tableResultSettingsMap": {},
     "title": ""
    }
   },
   "outputs": [],
   "source": [
    "from bokeh.plotting import figure, show, output_notebook\n",
    "from bokeh.models import DatetimeTickFormatter\n",
    "from bokeh.io import push_notebook\n",
    "\n",
    "output_notebook()\n",
    "\n",
    "ankle_plot = ankle[\"acc_SMV\"].resample(\"10 s\").mean()\n",
    "\n",
    "p1 = figure(x_axis_type=\"datetime\", title=\"Ankle Acceleration SMV\", width=1200, height=500, )\n",
    "p1.line(ankle_plot.index, ankle_plot, line_width=2)\n",
    "\n",
    "p1.xaxis.axis_label = 'Datetime'\n",
    "p1.yaxis.axis_label = 'Acceleration SMV'\n",
    "p1.xaxis.formatter = DatetimeTickFormatter(days=\"%d %b %Y\")\n",
    "\n",
    "from bokeh.layouts import column\n",
    "\n",
    "# Assuming 'temperature' is a column in the 'ankle' DataFrame\n",
    "temperature_plot = ankle[\"temperature\"].rolling(\"1 min\").mean().resample(\"1 min\").mean()\n",
    "temperature__wrist_plot = wrist[\"temperature\"].rolling(\"1 min\").mean().resample(\"1 min\").mean()\n",
    "\n",
    "p2 = figure(x_axis_type=\"datetime\", title=\"Temperature\", width=1200, height=500, x_range=p1.x_range)\n",
    "p2.line(temperature_plot.index, temperature_plot, line_width=2, color=\"red\")\n",
    "p2.line(temperature__wrist_plot.index, temperature__wrist_plot, line_width=2, color=\"green\")\n",
    "\n",
    "p2.xaxis.axis_label = 'Datetime'\n",
    "p2.yaxis.axis_label = 'Temperature'\n",
    "p2.xaxis.formatter = DatetimeTickFormatter(days=\"%d %b %Y\")\n",
    "\n",
    "layout = column(p1, p2)\n",
    "\n",
    "from bokeh.embed import file_html\n",
    "from bokeh.resources import CDN\n",
    "\n",
    "html_plot = file_html(layout, CDN)\n",
    "\n",
    "displayHTML(html_plot)"
   ]
  }
 ],
 "metadata": {
  "application/vnd.databricks.v1+notebook": {
   "computePreferences": null,
   "dashboards": [],
   "environmentMetadata": {
    "base_environment": "",
    "environment_version": "2"
   },
   "language": "python",
   "notebookMetadata": {
    "pythonIndentUnit": 4
   },
   "notebookName": "Visualization",
   "widgets": {}
  },
  "language_info": {
   "name": "python"
  }
 },
 "nbformat": 4,
 "nbformat_minor": 0
}
