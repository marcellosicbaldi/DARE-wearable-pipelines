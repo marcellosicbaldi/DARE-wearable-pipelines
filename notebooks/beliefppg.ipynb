{
 "cells": [
  {
   "cell_type": "code",
   "execution_count": 46,
   "metadata": {},
   "outputs": [],
   "source": [
    "import numpy as np\n",
    "import pandas as pd\n",
    "import os\n",
    "import glob\n",
    "\n",
    "import matplotlib.pyplot as plt\n",
    "import matplotlib as mpl\n",
    "\n",
    "mpl.rcParams['lines.linewidth'] = 0.91\n",
    "plt.style.use('seaborn-v0_8-whitegrid')\n",
    "%matplotlib qt\n",
    "\n",
    "from bokeh.plotting import figure, show\n",
    "from bokeh.io import output_notebook\n",
    "from bokeh.models import ColumnDataSource, HoverTool, Slider, Select\n",
    "from bokeh.layouts import gridplot\n",
    "from bokeh.models import Range1d\n",
    "from bokeh.io import export_png\n",
    "from bokeh.models import DatetimeTickFormatter"
   ]
  },
  {
   "cell_type": "code",
   "execution_count": 47,
   "metadata": {},
   "outputs": [],
   "source": [
    "import sys\n",
    "sys.path.append(\"../\")\n",
    "parquet_path = \"/Users/augenpro/Documents/Empatica/data_sara/data/GGIR_input/\"\n",
    "\n",
    "start_end_sleep = np.load(parquet_path + \"SPT_window_GGIR.npy\", allow_pickle=True)\n",
    "ppg_df = pd.read_parquet(parquet_path + \"ppg.parquet\")\n",
    "temp_df = pd.read_parquet(parquet_path + \"temp.parquet\")\n",
    "acc_df = pd.read_parquet(parquet_path + \"acc.parquet\")"
   ]
  },
  {
   "cell_type": "code",
   "execution_count": 49,
   "metadata": {},
   "outputs": [
    {
     "data": {
      "text/plain": [
       "[<matplotlib.lines.Line2D at 0x16a959eb0>]"
      ]
     },
     "execution_count": 49,
     "metadata": {},
     "output_type": "execute_result"
    }
   ],
   "source": [
    "plt.figure()\n",
    "plt.subplot(2, 1, 1)\n",
    "plt.plot(ppg_df.resample(\"0.1s\").mean())\n",
    "plt.subplot(2, 1, 2, sharex=plt.subplot(2, 1, 1))\n",
    "plt.plot(acc_df[\"x\"].resample(\"0.1s\").mean())"
   ]
  },
  {
   "cell_type": "code",
   "execution_count": 50,
   "metadata": {},
   "outputs": [],
   "source": [
    "t_empty_end = acc_df.index[acc_df.index.to_series().diff().dt.total_seconds() > 1]\n",
    "t_empty_start = acc_df.index[np.where(acc_df.index.to_series().diff().dt.total_seconds() > 1)[0]-1]\n",
    "t_empty = pd.DataFrame({\"start\": t_empty_start, \"end\": t_empty_end})\n",
    "\n",
    "good_portions = pd.DataFrame(columns=[\"start\", \"end\"])\n",
    "good_portions[\"start\"] = t_empty[\"end\"].iloc[:-1].reset_index(drop=True)\n",
    "good_portions[\"end\"] = t_empty[\"start\"].iloc[1:].reset_index(drop=True)\n",
    "start_first_empty = t_empty[\"start\"].iloc[0]\n",
    "end_last_empty = t_empty[\"end\"].iloc[-1]"
   ]
  },
  {
   "cell_type": "code",
   "execution_count": 51,
   "metadata": {},
   "outputs": [
    {
     "data": {
      "text/html": [
       "<div>\n",
       "<style scoped>\n",
       "    .dataframe tbody tr th:only-of-type {\n",
       "        vertical-align: middle;\n",
       "    }\n",
       "\n",
       "    .dataframe tbody tr th {\n",
       "        vertical-align: top;\n",
       "    }\n",
       "\n",
       "    .dataframe thead th {\n",
       "        text-align: right;\n",
       "    }\n",
       "</style>\n",
       "<table border=\"1\" class=\"dataframe\">\n",
       "  <thead>\n",
       "    <tr style=\"text-align: right;\">\n",
       "      <th></th>\n",
       "      <th>start</th>\n",
       "      <th>end</th>\n",
       "    </tr>\n",
       "  </thead>\n",
       "  <tbody>\n",
       "    <tr>\n",
       "      <th>0</th>\n",
       "      <td>2024-05-22 11:51:53.928571939</td>\n",
       "      <td>2024-05-22 19:02:59.113926888</td>\n",
       "    </tr>\n",
       "    <tr>\n",
       "      <th>1</th>\n",
       "      <td>2024-05-22 23:16:04.882085085</td>\n",
       "      <td>2024-05-24 01:18:31.741228104</td>\n",
       "    </tr>\n",
       "    <tr>\n",
       "      <th>2</th>\n",
       "      <td>2024-05-24 01:18:34.757554054</td>\n",
       "      <td>2024-05-24 13:23:37.572904110</td>\n",
       "    </tr>\n",
       "    <tr>\n",
       "      <th>3</th>\n",
       "      <td>2024-05-25 13:34:23.823178053</td>\n",
       "      <td>2024-05-25 13:34:24.791928053</td>\n",
       "    </tr>\n",
       "    <tr>\n",
       "      <th>4</th>\n",
       "      <td>2024-05-25 21:43:35.232223988</td>\n",
       "      <td>2024-05-25 23:43:41.216660023</td>\n",
       "    </tr>\n",
       "    <tr>\n",
       "      <th>5</th>\n",
       "      <td>2024-05-25 23:43:44.732162952</td>\n",
       "      <td>2024-05-26 16:17:04.713589907</td>\n",
       "    </tr>\n",
       "  </tbody>\n",
       "</table>\n",
       "</div>"
      ],
      "text/plain": [
       "                          start                           end\n",
       "0 2024-05-22 11:51:53.928571939 2024-05-22 19:02:59.113926888\n",
       "1 2024-05-22 23:16:04.882085085 2024-05-24 01:18:31.741228104\n",
       "2 2024-05-24 01:18:34.757554054 2024-05-24 13:23:37.572904110\n",
       "3 2024-05-25 13:34:23.823178053 2024-05-25 13:34:24.791928053\n",
       "4 2024-05-25 21:43:35.232223988 2024-05-25 23:43:41.216660023\n",
       "5 2024-05-25 23:43:44.732162952 2024-05-26 16:17:04.713589907"
      ]
     },
     "execution_count": 51,
     "metadata": {},
     "output_type": "execute_result"
    }
   ],
   "source": [
    "good_portions"
   ]
  },
  {
   "cell_type": "code",
   "execution_count": 52,
   "metadata": {},
   "outputs": [],
   "source": [
    "# I need to divide it into portions when the device was in empty\n",
    "\n",
    "t_empty_end = acc_df.index[acc_df.index.to_series().diff().dt.total_seconds() > 1]\n",
    "t_empty_start = acc_df.index[np.where(acc_df.index.to_series().diff().dt.total_seconds() > 1)[0]-1]\n",
    "t_empty = pd.DataFrame({\"start\": t_empty_start, \"end\": t_empty_end})\n",
    "\n",
    "good_portions = pd.DataFrame(columns=[\"start\", \"end\"])\n",
    "good_portions[\"start\"] = t_empty[\"end\"].iloc[:-1].reset_index(drop=True)\n",
    "good_portions[\"end\"] = t_empty[\"start\"].iloc[1:].reset_index(drop=True)\n",
    "start_first_empty = t_empty[\"start\"].iloc[0]\n",
    "end_last_empty = t_empty[\"end\"].iloc[-1]\n",
    "\n",
    "# Segment the data into portions when the device was not in empty and perform nonwear detection\n",
    "acc_df_portions = [acc_df[:start_first_empty]]\n",
    "ppg_df_portions = [ppg_df[:start_first_empty]]\n",
    "\n",
    "for i, row in good_portions.iterrows():\n",
    "\n",
    "    if row[\"end\"] - row[\"start\"] < pd.Timedelta(\"10 min\"): # if the portion is less than 10 minutes, skip it\n",
    "        continue\n",
    "\n",
    "    acc_df_portions.append(acc_df[row[\"start\"]:row[\"end\"]])\n",
    "    ppg_df_portions.append(ppg_df[row[\"start\"]:row[\"end\"]])\n",
    "\n",
    "acc_df_portions.append(acc_df[end_last_empty:])\n",
    "ppg_df_portions.append(ppg_df[end_last_empty:])"
   ]
  },
  {
   "cell_type": "code",
   "execution_count": 53,
   "metadata": {},
   "outputs": [],
   "source": [
    "from heart_rate.beliefppg.inference.inference import infer_hr"
   ]
  },
  {
   "cell_type": "code",
   "execution_count": 54,
   "metadata": {},
   "outputs": [],
   "source": [
    "for i, (acc_df_portion, ppg_df_portion) in enumerate(zip(acc_df_portions, ppg_df_portions)):\n",
    "    plt.figure(figsize=(10, 5))\n",
    "    plt.plot(ppg_df_portion.resample(\"0.1s\").mean(), label=f\"portion {i}\")\n",
    "    plt.plot(acc_df_portion[\"x\"].resample(\"0.1s\").mean(), label=f\"portion {i}\")"
   ]
  },
  {
   "cell_type": "code",
   "execution_count": 56,
   "metadata": {},
   "outputs": [
    {
     "name": "stdout",
     "output_type": "stream",
     "text": [
      "660/660 [==============================] - 59s 89ms/step\n"
     ]
    },
    {
     "name": "stderr",
     "output_type": "stream",
     "text": [
      "2025-02-13 11:49:30.038977: I tensorflow/core/framework/local_rendezvous.cc:405] Local rendezvous is aborting with status: OUT_OF_RANGE: End of sequence\n"
     ]
    },
    {
     "name": "stdout",
     "output_type": "stream",
     "text": [
      "102/102 [==============================] - 8s 74ms/step\n",
      "368/368 [==============================] - 28s 75ms/step\n",
      "171/171 [==============================] - 14s 77ms/step\n",
      "30/30 [==============================] - 3s 71ms/step\n",
      "234/234 [==============================] - 18s 76ms/step\n",
      "267/267 [==============================] - 21s 75ms/step\n"
     ]
    }
   ],
   "source": [
    "hr_all = []\n",
    "time_hr_all = []\n",
    "for acc, ppg in zip(acc_df_portions, ppg_df_portions): ##### Each portion has the same shape between ACC and PPG lesgooo\n",
    "   time = acc.index # same as ppg.index\n",
    "   hr, idxs = infer_hr(ppg=ppg.values.reshape(-1,1), ppg_freq=64, acc=acc.values, acc_freq=64)\n",
    "   hr_all.append(hr)\n",
    "   time_hr_all.append(time[idxs])"
   ]
  },
  {
   "cell_type": "code",
   "execution_count": 57,
   "metadata": {},
   "outputs": [
    {
     "data": {
      "text/plain": [
       "((233108,), (233108,))"
      ]
     },
     "execution_count": 57,
     "metadata": {},
     "output_type": "execute_result"
    }
   ],
   "source": [
    "hr_belief = np.concatenate(hr_all)\n",
    "t_hr_belief = np.concatenate(time_hr_all)\n",
    "\n",
    "hr_belief.shape, t_hr_belief.shape"
   ]
  },
  {
   "cell_type": "code",
   "execution_count": 58,
   "metadata": {},
   "outputs": [
    {
     "data": {
      "text/plain": [
       "array(['2024-05-20T13:02:56.531980990', '2024-05-20T13:02:58.531980990',\n",
       "       '2024-05-20T13:03:00.531980990', ...,\n",
       "       '2024-05-27T11:08:31.328845978', '2024-05-27T11:08:33.328845978',\n",
       "       '2024-05-27T11:08:35.328845978'], dtype='datetime64[ns]')"
      ]
     },
     "execution_count": 58,
     "metadata": {},
     "output_type": "execute_result"
    }
   ],
   "source": [
    "t_hr_belief"
   ]
  },
  {
   "cell_type": "code",
   "execution_count": 59,
   "metadata": {},
   "outputs": [
    {
     "data": {
      "text/plain": [
       "[<matplotlib.lines.Line2D at 0x178c05f40>]"
      ]
     },
     "execution_count": 59,
     "metadata": {},
     "output_type": "execute_result"
    }
   ],
   "source": [
    "hr_belief_df = pd.Series(hr_belief, index=t_hr_belief)\n",
    "plt.figure()\n",
    "plt.plot(hr_belief_df)"
   ]
  },
  {
   "cell_type": "code",
   "execution_count": 60,
   "metadata": {},
   "outputs": [],
   "source": [
    "hr_belief_df.to_pickle(parquet_path + \"hr_belief.pkl\")"
   ]
  },
  {
   "cell_type": "code",
   "execution_count": 1,
   "metadata": {},
   "outputs": [],
   "source": [
    "import pandas as pd\n",
    "\n",
    "parquet_path = \"/Users/augenpro/Documents/Empatica/data_sara/data/GGIR_input/\"\n",
    "hr = pd.read_pickle(parquet_path + \"hr_belief.pkl\")"
   ]
  },
  {
   "cell_type": "code",
   "execution_count": 3,
   "metadata": {},
   "outputs": [],
   "source": [
    "hr.to_csv(parquet_path + \"hr_belief.csv\")"
   ]
  },
  {
   "cell_type": "code",
   "execution_count": null,
   "metadata": {},
   "outputs": [],
   "source": []
  }
 ],
 "metadata": {
  "kernelspec": {
   "display_name": "DL",
   "language": "python",
   "name": "python3"
  },
  "language_info": {
   "codemirror_mode": {
    "name": "ipython",
    "version": 3
   },
   "file_extension": ".py",
   "mimetype": "text/x-python",
   "name": "python",
   "nbconvert_exporter": "python",
   "pygments_lexer": "ipython3",
   "version": "3.12.2"
  }
 },
 "nbformat": 4,
 "nbformat_minor": 2
}
