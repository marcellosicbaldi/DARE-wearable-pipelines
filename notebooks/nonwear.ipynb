{
 "cells": [
  {
   "cell_type": "code",
   "execution_count": 1,
   "metadata": {},
   "outputs": [],
   "source": [
    "import numpy as np\n",
    "import pandas as pd\n",
    "import matplotlib as mpl\n",
    "import matplotlib.pyplot as plt\n",
    "import os\n",
    "import glob\n",
    "\n",
    "%matplotlib inline\n",
    "#%matplotlib qt\n",
    "mpl.rcParams['lines.linewidth'] = 0.91\n",
    "plt.style.use('seaborn-v0_8-whitegrid')\n",
    "%matplotlib qt\n",
    "\n",
    "from avro.datafile import DataFileReader\n",
    "from avro.io import DatumReader"
   ]
  },
  {
   "cell_type": "code",
   "execution_count": 2,
   "metadata": {},
   "outputs": [
    {
     "name": "stdout",
     "output_type": "stream",
     "text": [
      "Processing day: 2024-05-20\n",
      "Processing day: 2024-05-21\n",
      "Processing day: 2024-05-22\n",
      "Processing day: 2024-05-23\n",
      "Processing day: 2024-05-24\n",
      "Processing day: 2024-05-25\n",
      "Processing day: 2024-05-26\n",
      "Processing day: 2024-05-27\n",
      "Processing day: day_1\n"
     ]
    },
    {
     "ename": "KeyboardInterrupt",
     "evalue": "",
     "output_type": "error",
     "traceback": [
      "\u001b[0;31m---------------------------------------------------------------------------\u001b[0m",
      "\u001b[0;31mKeyboardInterrupt\u001b[0m                         Traceback (most recent call last)",
      "Cell \u001b[0;32mIn[2], line 23\u001b[0m\n\u001b[1;32m     21\u001b[0m \u001b[38;5;66;03m# Load data (assuming timestamps are already in the index)\u001b[39;00m\n\u001b[1;32m     22\u001b[0m ppg \u001b[38;5;241m=\u001b[39m pd\u001b[38;5;241m.\u001b[39mread_parquet(save_data_path \u001b[38;5;241m+\u001b[39m day \u001b[38;5;241m+\u001b[39m \u001b[38;5;124m\"\u001b[39m\u001b[38;5;124m/ppg.parquet\u001b[39m\u001b[38;5;124m\"\u001b[39m)\u001b[38;5;241m.\u001b[39msort_index()\n\u001b[0;32m---> 23\u001b[0m acc \u001b[38;5;241m=\u001b[39m \u001b[43mpd\u001b[49m\u001b[38;5;241;43m.\u001b[39;49m\u001b[43mread_parquet\u001b[49m\u001b[43m(\u001b[49m\u001b[43msave_data_path\u001b[49m\u001b[43m \u001b[49m\u001b[38;5;241;43m+\u001b[39;49m\u001b[43m \u001b[49m\u001b[43mday\u001b[49m\u001b[43m \u001b[49m\u001b[38;5;241;43m+\u001b[39;49m\u001b[43m \u001b[49m\u001b[38;5;124;43m\"\u001b[39;49m\u001b[38;5;124;43m/acc.parquet\u001b[39;49m\u001b[38;5;124;43m\"\u001b[39;49m\u001b[43m)\u001b[49m\u001b[38;5;241;43m.\u001b[39;49m\u001b[43msort_index\u001b[49m\u001b[43m(\u001b[49m\u001b[43m)\u001b[49m\n\u001b[1;32m     24\u001b[0m sys_peaks \u001b[38;5;241m=\u001b[39m pd\u001b[38;5;241m.\u001b[39mread_parquet(save_data_path \u001b[38;5;241m+\u001b[39m day \u001b[38;5;241m+\u001b[39m \u001b[38;5;124m\"\u001b[39m\u001b[38;5;124m/sys_peaks.parquet\u001b[39m\u001b[38;5;124m\"\u001b[39m)\n\u001b[1;32m     25\u001b[0m sys_peaks\u001b[38;5;241m.\u001b[39mindex \u001b[38;5;241m=\u001b[39m pd\u001b[38;5;241m.\u001b[39mto_datetime(sys_peaks[\u001b[38;5;124m\"\u001b[39m\u001b[38;5;124mSysPeakTime\u001b[39m\u001b[38;5;124m\"\u001b[39m]\u001b[38;5;241m.\u001b[39mastype(\u001b[38;5;28mstr\u001b[39m))\n",
      "File \u001b[0;32m~/miniconda3/envs/DARE/lib/python3.12/site-packages/pandas/core/frame.py:7379\u001b[0m, in \u001b[0;36mDataFrame.sort_index\u001b[0;34m(self, axis, level, ascending, inplace, kind, na_position, sort_remaining, ignore_index, key)\u001b[0m\n\u001b[1;32m   7282\u001b[0m \u001b[38;5;28;01mdef\u001b[39;00m \u001b[38;5;21msort_index\u001b[39m(\n\u001b[1;32m   7283\u001b[0m     \u001b[38;5;28mself\u001b[39m,\n\u001b[1;32m   7284\u001b[0m     \u001b[38;5;241m*\u001b[39m,\n\u001b[0;32m   (...)\u001b[0m\n\u001b[1;32m   7293\u001b[0m     key: IndexKeyFunc \u001b[38;5;241m|\u001b[39m \u001b[38;5;28;01mNone\u001b[39;00m \u001b[38;5;241m=\u001b[39m \u001b[38;5;28;01mNone\u001b[39;00m,\n\u001b[1;32m   7294\u001b[0m ) \u001b[38;5;241m-\u001b[39m\u001b[38;5;241m>\u001b[39m DataFrame \u001b[38;5;241m|\u001b[39m \u001b[38;5;28;01mNone\u001b[39;00m:\n\u001b[1;32m   7295\u001b[0m \u001b[38;5;250m    \u001b[39m\u001b[38;5;124;03m\"\"\"\u001b[39;00m\n\u001b[1;32m   7296\u001b[0m \u001b[38;5;124;03m    Sort object by labels (along an axis).\u001b[39;00m\n\u001b[1;32m   7297\u001b[0m \n\u001b[0;32m   (...)\u001b[0m\n\u001b[1;32m   7377\u001b[0m \u001b[38;5;124;03m    d  4\u001b[39;00m\n\u001b[1;32m   7378\u001b[0m \u001b[38;5;124;03m    \"\"\"\u001b[39;00m\n\u001b[0;32m-> 7379\u001b[0m     \u001b[38;5;28;01mreturn\u001b[39;00m \u001b[38;5;28;43msuper\u001b[39;49m\u001b[43m(\u001b[49m\u001b[43m)\u001b[49m\u001b[38;5;241;43m.\u001b[39;49m\u001b[43msort_index\u001b[49m\u001b[43m(\u001b[49m\n\u001b[1;32m   7380\u001b[0m \u001b[43m        \u001b[49m\u001b[43maxis\u001b[49m\u001b[38;5;241;43m=\u001b[39;49m\u001b[43maxis\u001b[49m\u001b[43m,\u001b[49m\n\u001b[1;32m   7381\u001b[0m \u001b[43m        \u001b[49m\u001b[43mlevel\u001b[49m\u001b[38;5;241;43m=\u001b[39;49m\u001b[43mlevel\u001b[49m\u001b[43m,\u001b[49m\n\u001b[1;32m   7382\u001b[0m \u001b[43m        \u001b[49m\u001b[43mascending\u001b[49m\u001b[38;5;241;43m=\u001b[39;49m\u001b[43mascending\u001b[49m\u001b[43m,\u001b[49m\n\u001b[1;32m   7383\u001b[0m \u001b[43m        \u001b[49m\u001b[43minplace\u001b[49m\u001b[38;5;241;43m=\u001b[39;49m\u001b[43minplace\u001b[49m\u001b[43m,\u001b[49m\n\u001b[1;32m   7384\u001b[0m \u001b[43m        \u001b[49m\u001b[43mkind\u001b[49m\u001b[38;5;241;43m=\u001b[39;49m\u001b[43mkind\u001b[49m\u001b[43m,\u001b[49m\n\u001b[1;32m   7385\u001b[0m \u001b[43m        \u001b[49m\u001b[43mna_position\u001b[49m\u001b[38;5;241;43m=\u001b[39;49m\u001b[43mna_position\u001b[49m\u001b[43m,\u001b[49m\n\u001b[1;32m   7386\u001b[0m \u001b[43m        \u001b[49m\u001b[43msort_remaining\u001b[49m\u001b[38;5;241;43m=\u001b[39;49m\u001b[43msort_remaining\u001b[49m\u001b[43m,\u001b[49m\n\u001b[1;32m   7387\u001b[0m \u001b[43m        \u001b[49m\u001b[43mignore_index\u001b[49m\u001b[38;5;241;43m=\u001b[39;49m\u001b[43mignore_index\u001b[49m\u001b[43m,\u001b[49m\n\u001b[1;32m   7388\u001b[0m \u001b[43m        \u001b[49m\u001b[43mkey\u001b[49m\u001b[38;5;241;43m=\u001b[39;49m\u001b[43mkey\u001b[49m\u001b[43m,\u001b[49m\n\u001b[1;32m   7389\u001b[0m \u001b[43m    \u001b[49m\u001b[43m)\u001b[49m\n",
      "File \u001b[0;32m~/miniconda3/envs/DARE/lib/python3.12/site-packages/pandas/core/generic.py:5317\u001b[0m, in \u001b[0;36mNDFrame.sort_index\u001b[0;34m(self, axis, level, ascending, inplace, kind, na_position, sort_remaining, ignore_index, key)\u001b[0m\n\u001b[1;32m   5315\u001b[0m     result \u001b[38;5;241m=\u001b[39m \u001b[38;5;28mself\u001b[39m\n\u001b[1;32m   5316\u001b[0m \u001b[38;5;28;01melse\u001b[39;00m:\n\u001b[0;32m-> 5317\u001b[0m     result \u001b[38;5;241m=\u001b[39m \u001b[38;5;28;43mself\u001b[39;49m\u001b[38;5;241;43m.\u001b[39;49m\u001b[43mcopy\u001b[49m\u001b[43m(\u001b[49m\u001b[43mdeep\u001b[49m\u001b[38;5;241;43m=\u001b[39;49m\u001b[38;5;28;43;01mNone\u001b[39;49;00m\u001b[43m)\u001b[49m\n\u001b[1;32m   5319\u001b[0m \u001b[38;5;28;01mif\u001b[39;00m ignore_index:\n\u001b[1;32m   5320\u001b[0m     result\u001b[38;5;241m.\u001b[39mindex \u001b[38;5;241m=\u001b[39m default_index(\u001b[38;5;28mlen\u001b[39m(\u001b[38;5;28mself\u001b[39m))\n",
      "File \u001b[0;32m~/miniconda3/envs/DARE/lib/python3.12/site-packages/pandas/core/generic.py:6811\u001b[0m, in \u001b[0;36mNDFrame.copy\u001b[0;34m(self, deep)\u001b[0m\n\u001b[1;32m   6662\u001b[0m \u001b[38;5;129m@final\u001b[39m\n\u001b[1;32m   6663\u001b[0m \u001b[38;5;28;01mdef\u001b[39;00m \u001b[38;5;21mcopy\u001b[39m(\u001b[38;5;28mself\u001b[39m, deep: bool_t \u001b[38;5;241m|\u001b[39m \u001b[38;5;28;01mNone\u001b[39;00m \u001b[38;5;241m=\u001b[39m \u001b[38;5;28;01mTrue\u001b[39;00m) \u001b[38;5;241m-\u001b[39m\u001b[38;5;241m>\u001b[39m Self:\n\u001b[1;32m   6664\u001b[0m \u001b[38;5;250m    \u001b[39m\u001b[38;5;124;03m\"\"\"\u001b[39;00m\n\u001b[1;32m   6665\u001b[0m \u001b[38;5;124;03m    Make a copy of this object's indices and data.\u001b[39;00m\n\u001b[1;32m   6666\u001b[0m \n\u001b[0;32m   (...)\u001b[0m\n\u001b[1;32m   6809\u001b[0m \u001b[38;5;124;03m    dtype: int64\u001b[39;00m\n\u001b[1;32m   6810\u001b[0m \u001b[38;5;124;03m    \"\"\"\u001b[39;00m\n\u001b[0;32m-> 6811\u001b[0m     data \u001b[38;5;241m=\u001b[39m \u001b[38;5;28;43mself\u001b[39;49m\u001b[38;5;241;43m.\u001b[39;49m\u001b[43m_mgr\u001b[49m\u001b[38;5;241;43m.\u001b[39;49m\u001b[43mcopy\u001b[49m\u001b[43m(\u001b[49m\u001b[43mdeep\u001b[49m\u001b[38;5;241;43m=\u001b[39;49m\u001b[43mdeep\u001b[49m\u001b[43m)\u001b[49m\n\u001b[1;32m   6812\u001b[0m     \u001b[38;5;28mself\u001b[39m\u001b[38;5;241m.\u001b[39m_clear_item_cache()\n\u001b[1;32m   6813\u001b[0m     \u001b[38;5;28;01mreturn\u001b[39;00m \u001b[38;5;28mself\u001b[39m\u001b[38;5;241m.\u001b[39m_constructor_from_mgr(data, axes\u001b[38;5;241m=\u001b[39mdata\u001b[38;5;241m.\u001b[39maxes)\u001b[38;5;241m.\u001b[39m__finalize__(\n\u001b[1;32m   6814\u001b[0m         \u001b[38;5;28mself\u001b[39m, method\u001b[38;5;241m=\u001b[39m\u001b[38;5;124m\"\u001b[39m\u001b[38;5;124mcopy\u001b[39m\u001b[38;5;124m\"\u001b[39m\n\u001b[1;32m   6815\u001b[0m     )\n",
      "File \u001b[0;32m~/miniconda3/envs/DARE/lib/python3.12/site-packages/pandas/core/internals/managers.py:593\u001b[0m, in \u001b[0;36mBaseBlockManager.copy\u001b[0;34m(self, deep)\u001b[0m\n\u001b[1;32m    590\u001b[0m     \u001b[38;5;28;01melse\u001b[39;00m:\n\u001b[1;32m    591\u001b[0m         new_axes \u001b[38;5;241m=\u001b[39m \u001b[38;5;28mlist\u001b[39m(\u001b[38;5;28mself\u001b[39m\u001b[38;5;241m.\u001b[39maxes)\n\u001b[0;32m--> 593\u001b[0m res \u001b[38;5;241m=\u001b[39m \u001b[38;5;28;43mself\u001b[39;49m\u001b[38;5;241;43m.\u001b[39;49m\u001b[43mapply\u001b[49m\u001b[43m(\u001b[49m\u001b[38;5;124;43m\"\u001b[39;49m\u001b[38;5;124;43mcopy\u001b[39;49m\u001b[38;5;124;43m\"\u001b[39;49m\u001b[43m,\u001b[49m\u001b[43m \u001b[49m\u001b[43mdeep\u001b[49m\u001b[38;5;241;43m=\u001b[39;49m\u001b[43mdeep\u001b[49m\u001b[43m)\u001b[49m\n\u001b[1;32m    594\u001b[0m res\u001b[38;5;241m.\u001b[39maxes \u001b[38;5;241m=\u001b[39m new_axes\n\u001b[1;32m    596\u001b[0m \u001b[38;5;28;01mif\u001b[39;00m \u001b[38;5;28mself\u001b[39m\u001b[38;5;241m.\u001b[39mndim \u001b[38;5;241m>\u001b[39m \u001b[38;5;241m1\u001b[39m:\n\u001b[1;32m    597\u001b[0m     \u001b[38;5;66;03m# Avoid needing to re-compute these\u001b[39;00m\n",
      "File \u001b[0;32m~/miniconda3/envs/DARE/lib/python3.12/site-packages/pandas/core/internals/managers.py:363\u001b[0m, in \u001b[0;36mBaseBlockManager.apply\u001b[0;34m(self, f, align_keys, **kwargs)\u001b[0m\n\u001b[1;32m    361\u001b[0m         applied \u001b[38;5;241m=\u001b[39m b\u001b[38;5;241m.\u001b[39mapply(f, \u001b[38;5;241m*\u001b[39m\u001b[38;5;241m*\u001b[39mkwargs)\n\u001b[1;32m    362\u001b[0m     \u001b[38;5;28;01melse\u001b[39;00m:\n\u001b[0;32m--> 363\u001b[0m         applied \u001b[38;5;241m=\u001b[39m \u001b[38;5;28;43mgetattr\u001b[39;49m\u001b[43m(\u001b[49m\u001b[43mb\u001b[49m\u001b[43m,\u001b[49m\u001b[43m \u001b[49m\u001b[43mf\u001b[49m\u001b[43m)\u001b[49m\u001b[43m(\u001b[49m\u001b[38;5;241;43m*\u001b[39;49m\u001b[38;5;241;43m*\u001b[39;49m\u001b[43mkwargs\u001b[49m\u001b[43m)\u001b[49m\n\u001b[1;32m    364\u001b[0m     result_blocks \u001b[38;5;241m=\u001b[39m extend_blocks(applied, result_blocks)\n\u001b[1;32m    366\u001b[0m out \u001b[38;5;241m=\u001b[39m \u001b[38;5;28mtype\u001b[39m(\u001b[38;5;28mself\u001b[39m)\u001b[38;5;241m.\u001b[39mfrom_blocks(result_blocks, \u001b[38;5;28mself\u001b[39m\u001b[38;5;241m.\u001b[39maxes)\n",
      "File \u001b[0;32m~/miniconda3/envs/DARE/lib/python3.12/site-packages/pandas/core/internals/blocks.py:796\u001b[0m, in \u001b[0;36mBlock.copy\u001b[0;34m(self, deep)\u001b[0m\n\u001b[1;32m    794\u001b[0m refs: BlockValuesRefs \u001b[38;5;241m|\u001b[39m \u001b[38;5;28;01mNone\u001b[39;00m\n\u001b[1;32m    795\u001b[0m \u001b[38;5;28;01mif\u001b[39;00m deep:\n\u001b[0;32m--> 796\u001b[0m     values \u001b[38;5;241m=\u001b[39m \u001b[43mvalues\u001b[49m\u001b[38;5;241;43m.\u001b[39;49m\u001b[43mcopy\u001b[49m\u001b[43m(\u001b[49m\u001b[43m)\u001b[49m\n\u001b[1;32m    797\u001b[0m     refs \u001b[38;5;241m=\u001b[39m \u001b[38;5;28;01mNone\u001b[39;00m\n\u001b[1;32m    798\u001b[0m \u001b[38;5;28;01melse\u001b[39;00m:\n",
      "\u001b[0;31mKeyboardInterrupt\u001b[0m: "
     ]
    }
   ],
   "source": [
    "import numpy as np\n",
    "import pandas as pd\n",
    "import os\n",
    "\n",
    "# Define path\n",
    "save_data_path = \"/Users/marcellosicbaldi/Library/CloudStorage/OneDrive-AlmaMaterStudiorumUniversitàdiBologna/tesi_Sara/Empatica/data/parquet/\"\n",
    "\n",
    "# Define subject and device\n",
    "sub_ID = \"00007\"\n",
    "device_ID = \"3YK3J151VJ\"\n",
    "\n",
    "# Get all days (excluding hidden files)\n",
    "days = sorted([day for day in os.listdir(save_data_path) if day[0] != \".\"])\n",
    "\n",
    "# List to store processed data per day\n",
    "day_data = []\n",
    "\n",
    "for i, day in enumerate(days):\n",
    "    print(f\"Processing day: {day}\")\n",
    "\n",
    "    # Load data (assuming timestamps are already in the index)\n",
    "    ppg = pd.read_parquet(save_data_path + day + \"/ppg.parquet\").sort_index()\n",
    "    acc = pd.read_parquet(save_data_path + day + \"/acc.parquet\").sort_index()\n",
    "    sys_peaks = pd.read_parquet(save_data_path + day + \"/sys_peaks.parquet\")\n",
    "    sys_peaks.index = pd.to_datetime(sys_peaks[\"SysPeakTime\"].astype(str))\n",
    "    temp = pd.read_parquet(save_data_path + day + \"/temp.parquet\").sort_index()\n",
    "\n",
    "    # Find the first timestamp for this day's data\n",
    "    start_time = min(ppg.index.min(), acc.index.min(), sys_peaks[\"SysPeakTime\"].min(), temp.index.min())\n",
    "\n",
    "    # Define end time for this segment (24-hour window from start)\n",
    "    end_time = start_time + pd.Timedelta(hours=24)\n",
    "\n",
    "    # Append to list for processing\n",
    "    day_data.append({'start': start_time, 'end': end_time, 'day': day, \n",
    "                     'ppg': ppg, 'acc': acc, 'sys_peaks': sys_peaks, 'temp': temp})"
   ]
  },
  {
   "cell_type": "code",
   "execution_count": 3,
   "metadata": {},
   "outputs": [
    {
     "name": "stdout",
     "output_type": "stream",
     "text": [
      "Day 2024-05-20 - Start: 2024-05-20 13:02:55.523192, End: 2024-05-21 13:02:55.523192, PPG samples: 2998976, ACC samples: 2999168, SYS_Peaks samples: 52188\n",
      "Day 2024-05-21 - Start: 2024-05-21 02:03:49.754983750, End: 2024-05-22 02:03:49.754983750, PPG samples: 5529303, ACC samples: 5529111, SYS_Peaks samples: 95325\n",
      "Day 2024-05-22 - Start: 2024-05-22 02:05:41.135601500, End: 2024-05-23 02:05:41.135601500, PPG samples: 4556562, ACC samples: 4556690, SYS_Peaks samples: 76882\n",
      "Day 2024-05-23 - Start: 2024-05-23 02:16:15.441449750, End: 2024-05-24 02:16:15.441449750, PPG samples: 5529132, ACC samples: 5529132, SYS_Peaks samples: 97243\n",
      "Day 2024-05-24 - Start: 2024-05-24 02:18:41.385549500, End: 2024-05-25 02:18:41.385549500, PPG samples: 5529189, ACC samples: 5529203, SYS_Peaks samples: 83471\n",
      "Day 2024-05-25 - Start: 2024-05-25 02:21:49.608278500, End: 2024-05-26 02:21:49.608278500, PPG samples: 3620480, ACC samples: 3621088, SYS_Peaks samples: 53169\n",
      "Day 2024-05-26 - Start: 2024-05-26 02:13:50.864583, End: 2024-05-27 02:13:50.864583, PPG samples: 5528738, ACC samples: 5528652, SYS_Peaks samples: 99743\n",
      "Day 2024-05-27 - Start: 2024-05-27 02:17:55.248441500, End: 2024-05-27 11:08:56.666828, PPG samples: 2038784, ACC samples: 2038816, SYS_Peaks samples: 35819\n"
     ]
    }
   ],
   "source": [
    "# Adjust last day's end time to cover till the final available timestamp\n",
    "day_data[-1]['end'] = max(day_data[-1]['ppg'].index.max(),\n",
    "                          day_data[-1]['acc'].index.max(),\n",
    "                          day_data[-1]['sys_peaks'].values.max(),\n",
    "                          day_data[-1]['temp'].index.max())\n",
    "\n",
    "# Process and align data into 24-hour segments\n",
    "aligned_days = []\n",
    "for i, data in enumerate(day_data):\n",
    "    start, end = pd.to_datetime(data['start']), pd.to_datetime(data['end'])\n",
    "\n",
    "    # Filter data using index (since timestamps are already in the index)\n",
    "    ppg_filtered = data['ppg'].loc[start:end]\n",
    "    acc_filtered = data['acc'].loc[start:end]\n",
    "    sys_peaks_filtered = data['sys_peaks'].loc[start:end]\n",
    "    temp_filtered = data['temp'].loc[start:end]\n",
    "\n",
    "    aligned_days.append({'start': start, 'end': end, 'day': data['day'], \n",
    "                         'ppg': ppg_filtered, 'acc': acc_filtered, 'sys_peaks': sys_peaks_filtered,\n",
    "                         'temp': temp_filtered})\n",
    "\n",
    "# Print results\n",
    "for d in aligned_days:\n",
    "    print(f\"Day {d['day']} - Start: {d['start']}, End: {d['end']}, \"\n",
    "          f\"PPG samples: {len(d['ppg'])}, ACC samples: {len(d['acc'])}, SYS_Peaks samples: {len(d['sys_peaks'])}\")"
   ]
  },
  {
   "cell_type": "code",
   "execution_count": 6,
   "metadata": {},
   "outputs": [
    {
     "data": {
      "text/html": [
       "<div>\n",
       "<style scoped>\n",
       "    .dataframe tbody tr th:only-of-type {\n",
       "        vertical-align: middle;\n",
       "    }\n",
       "\n",
       "    .dataframe tbody tr th {\n",
       "        vertical-align: top;\n",
       "    }\n",
       "\n",
       "    .dataframe thead th {\n",
       "        text-align: right;\n",
       "    }\n",
       "</style>\n",
       "<table border=\"1\" class=\"dataframe\">\n",
       "  <thead>\n",
       "    <tr style=\"text-align: right;\">\n",
       "      <th></th>\n",
       "      <th>ppg</th>\n",
       "    </tr>\n",
       "  </thead>\n",
       "  <tbody>\n",
       "    <tr>\n",
       "      <th>2024-05-20 13:02:55.531981</th>\n",
       "      <td>0.000000</td>\n",
       "    </tr>\n",
       "    <tr>\n",
       "      <th>2024-05-20 13:02:55.547606</th>\n",
       "      <td>0.000008</td>\n",
       "    </tr>\n",
       "    <tr>\n",
       "      <th>2024-05-20 13:02:55.563231</th>\n",
       "      <td>0.000052</td>\n",
       "    </tr>\n",
       "    <tr>\n",
       "      <th>2024-05-20 13:02:55.578856</th>\n",
       "      <td>0.000184</td>\n",
       "    </tr>\n",
       "    <tr>\n",
       "      <th>2024-05-20 13:02:55.594481</th>\n",
       "      <td>0.000457</td>\n",
       "    </tr>\n",
       "    <tr>\n",
       "      <th>...</th>\n",
       "      <td>...</td>\n",
       "    </tr>\n",
       "    <tr>\n",
       "      <th>2024-05-21 02:03:54.339079</th>\n",
       "      <td>0.051028</td>\n",
       "    </tr>\n",
       "    <tr>\n",
       "      <th>2024-05-21 02:03:54.354704</th>\n",
       "      <td>0.046407</td>\n",
       "    </tr>\n",
       "    <tr>\n",
       "      <th>2024-05-21 02:03:54.370329</th>\n",
       "      <td>0.041619</td>\n",
       "    </tr>\n",
       "    <tr>\n",
       "      <th>2024-05-21 02:03:54.385954</th>\n",
       "      <td>0.036553</td>\n",
       "    </tr>\n",
       "    <tr>\n",
       "      <th>2024-05-21 02:03:54.401579</th>\n",
       "      <td>0.030989</td>\n",
       "    </tr>\n",
       "  </tbody>\n",
       "</table>\n",
       "<p>2998976 rows × 1 columns</p>\n",
       "</div>"
      ],
      "text/plain": [
       "                                 ppg\n",
       "2024-05-20 13:02:55.531981  0.000000\n",
       "2024-05-20 13:02:55.547606  0.000008\n",
       "2024-05-20 13:02:55.563231  0.000052\n",
       "2024-05-20 13:02:55.578856  0.000184\n",
       "2024-05-20 13:02:55.594481  0.000457\n",
       "...                              ...\n",
       "2024-05-21 02:03:54.339079  0.051028\n",
       "2024-05-21 02:03:54.354704  0.046407\n",
       "2024-05-21 02:03:54.370329  0.041619\n",
       "2024-05-21 02:03:54.385954  0.036553\n",
       "2024-05-21 02:03:54.401579  0.030989\n",
       "\n",
       "[2998976 rows x 1 columns]"
      ]
     },
     "execution_count": 6,
     "metadata": {},
     "output_type": "execute_result"
    }
   ],
   "source": [
    "aligned_days[0][\"ppg\"]"
   ]
  },
  {
   "cell_type": "code",
   "execution_count": 5,
   "metadata": {},
   "outputs": [],
   "source": [
    "# Save days\n",
    "for i, d in enumerate(aligned_days):\n",
    "    os.makedirs(save_data_path + \"day_\" + str(i+1), exist_ok=True)\n",
    "    # d['ppg'].to_parquet(save_data_path + \"day_\" + str(i+1) + \"/ppg.parquet\")\n",
    "    # d['acc'].to_parquet(save_data_path + \"day_\" + str(i+1) + \"/acc.parquet\")\n",
    "    # d['sys_peaks'].to_parquet(save_data_path + \"day_\" + str(i+1) + \"/sys_peaks.parquet\")\n",
    "    d['temp'].to_parquet(save_data_path + \"day_\" + str(i+1) + \"/temp.parquet\")"
   ]
  },
  {
   "cell_type": "code",
   "execution_count": null,
   "metadata": {},
   "outputs": [],
   "source": []
  }
 ],
 "metadata": {
  "kernelspec": {
   "display_name": "DARE",
   "language": "python",
   "name": "python3"
  },
  "language_info": {
   "codemirror_mode": {
    "name": "ipython",
    "version": 3
   },
   "file_extension": ".py",
   "mimetype": "text/x-python",
   "name": "python",
   "nbconvert_exporter": "python",
   "pygments_lexer": "ipython3",
   "version": "3.12.2"
  }
 },
 "nbformat": 4,
 "nbformat_minor": 2
}
