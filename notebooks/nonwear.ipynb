{
 "cells": [
  {
   "cell_type": "code",
   "execution_count": 2,
   "metadata": {},
   "outputs": [],
   "source": [
    "import numpy as np\n",
    "import pandas as pd\n",
    "import matplotlib as mpl\n",
    "import matplotlib.pyplot as plt\n",
    "import os\n",
    "import glob\n",
    "\n",
    "%matplotlib inline\n",
    "#%matplotlib qt\n",
    "mpl.rcParams['lines.linewidth'] = 0.91\n",
    "plt.style.use('seaborn-v0_8-whitegrid')\n",
    "%matplotlib qt\n",
    "\n",
    "from avro.datafile import DataFileReader\n",
    "from avro.io import DatumReader"
   ]
  },
  {
   "cell_type": "code",
   "execution_count": 5,
   "metadata": {},
   "outputs": [
    {
     "name": "stdout",
     "output_type": "stream",
     "text": [
      "Processing day: 2024-05-20\n",
      "Processing day: 2024-05-21\n",
      "Processing day: 2024-05-22\n",
      "Processing day: 2024-05-23\n",
      "Processing day: 2024-05-24\n",
      "Processing day: 2024-05-25\n",
      "Processing day: 2024-05-26\n",
      "Processing day: 2024-05-27\n"
     ]
    }
   ],
   "source": [
    "import numpy as np\n",
    "import pandas as pd\n",
    "import os\n",
    "\n",
    "# Define path\n",
<<<<<<< Updated upstream
    "save_data_path = \"/Users/marcellosicbaldi/parquet/\"\n",
    "\n",
    "# Define subject and device\n",
    "sub_ID = \"00007\"\n",
    "device_ID = \"3YK3J151VJ\"\n",
    "\n",
    "# Get all days (excluding hidden files)\n",
    "days = sorted([day for day in os.listdir(save_data_path) if day[0] != \".\"])\n",
    "\n",
    "acc_data = pd.DataFrame()\n",
    "temp_data = pd.DataFrame()\n",
    "\n",
    "for i, day in enumerate(days):\n",
    "    print(f\"Processing day: {day}\")\n",
    "\n",
    "    # Load data (assuming timestamps are already in the index)\n",
    "    acc = pd.read_parquet(save_data_path + day + \"/acc.parquet\").sort_index()\n",
    "    temp = pd.read_parquet(save_data_path + day + \"/temp.parquet\").sort_index()\n",
    "\n",
    "    # Concatenate data\n",
    "    acc_data = pd.concat([acc_data, acc])\n",
    "    temp_data = pd.concat([temp_data, temp])"
   ]
  },
  {
   "cell_type": "code",
   "execution_count": 4,
   "metadata": {},
   "outputs": [
    {
     "data": {
      "text/plain": [
       "(Timestamp('2024-05-20 13:02:55.538817'),\n",
       " Timestamp('2024-05-27 11:08:56.666828'),\n",
       " Timestamp('2024-05-20 13:02:56.523192'),\n",
       " Timestamp('2024-05-27 11:08:55.170890'))"
      ]
     },
     "execution_count": 4,
     "metadata": {},
     "output_type": "execute_result"
    }
   ],
   "source": [
    "acc_data.index[0], acc_data.index[-1], temp_data.index[0], temp_data.index[-1]"
   ]
  },
  {
   "cell_type": "code",
   "execution_count": 5,
   "metadata": {},
   "outputs": [
    {
     "data": {
      "text/html": [
       "<div>\n",
       "<style scoped>\n",
       "    .dataframe tbody tr th:only-of-type {\n",
       "        vertical-align: middle;\n",
       "    }\n",
       "\n",
       "    .dataframe tbody tr th {\n",
       "        vertical-align: top;\n",
       "    }\n",
       "\n",
       "    .dataframe thead th {\n",
       "        text-align: right;\n",
       "    }\n",
       "</style>\n",
       "<table border=\"1\" class=\"dataframe\">\n",
       "  <thead>\n",
       "    <tr style=\"text-align: right;\">\n",
       "      <th></th>\n",
       "      <th>x</th>\n",
       "      <th>y</th>\n",
       "      <th>z</th>\n",
       "    </tr>\n",
       "  </thead>\n",
       "  <tbody>\n",
       "    <tr>\n",
       "      <th>2024-05-20 13:02:55.538817</th>\n",
       "      <td>-68.359375</td>\n",
       "      <td>408.691406</td>\n",
       "      <td>931.152344</td>\n",
       "    </tr>\n",
       "    <tr>\n",
       "      <th>2024-05-20 13:02:55.554442</th>\n",
       "      <td>-68.359375</td>\n",
       "      <td>403.320312</td>\n",
       "      <td>930.175781</td>\n",
       "    </tr>\n",
       "    <tr>\n",
       "      <th>2024-05-20 13:02:55.570067</th>\n",
       "      <td>-71.289062</td>\n",
       "      <td>397.949219</td>\n",
       "      <td>919.433594</td>\n",
       "    </tr>\n",
       "    <tr>\n",
       "      <th>2024-05-20 13:02:55.585692</th>\n",
       "      <td>-69.824219</td>\n",
       "      <td>400.878906</td>\n",
       "      <td>925.781250</td>\n",
       "    </tr>\n",
       "    <tr>\n",
       "      <th>2024-05-20 13:02:55.601317</th>\n",
       "      <td>-64.453125</td>\n",
       "      <td>409.667969</td>\n",
       "      <td>923.339844</td>\n",
       "    </tr>\n",
       "  </tbody>\n",
       "</table>\n",
       "</div>"
      ],
      "text/plain": [
       "                                    x           y           z\n",
       "2024-05-20 13:02:55.538817 -68.359375  408.691406  931.152344\n",
       "2024-05-20 13:02:55.554442 -68.359375  403.320312  930.175781\n",
       "2024-05-20 13:02:55.570067 -71.289062  397.949219  919.433594\n",
       "2024-05-20 13:02:55.585692 -69.824219  400.878906  925.781250\n",
       "2024-05-20 13:02:55.601317 -64.453125  409.667969  923.339844"
      ]
     },
     "execution_count": 5,
     "metadata": {},
     "output_type": "execute_result"
    }
   ],
   "source": [
    "acc_data.head() * 1000"
   ]
  },
  {
   "cell_type": "code",
   "execution_count": 18,
   "metadata": {},
   "outputs": [
    {
     "data": {
      "text/plain": [
       "np.int64(2217)"
      ]
     },
     "execution_count": 18,
     "metadata": {},
     "output_type": "execute_result"
    }
   ],
   "source": [
    "np.isnan(acc_data.resample(\"1 min\").mean().values).sum()"
   ]
  },
  {
   "cell_type": "code",
   "execution_count": 19,
   "metadata": {},
   "outputs": [
    {
     "data": {
      "text/plain": [
       "x    0\n",
       "y    0\n",
       "z    0\n",
       "dtype: int64"
      ]
     },
     "execution_count": 19,
     "metadata": {},
     "output_type": "execute_result"
    },
    {
     "name": "stderr",
     "output_type": "stream",
     "text": [
      "2025-02-03 12:53:00.956 python[8330:206167] HIToolbox: received notification of WindowServer event port death.\n",
      "2025-02-03 12:53:00.956 python[8330:206167] port matched the WindowServer port created in BindCGSToRunLoop\n",
      "2025-02-03 12:53:01.104 python[8330:206167] +[NSXPCSharedListener endpointForReply:withListenerName:replyErrorCode:]: an error occurred while attempting to obtain endpoint for listener 'ClientCallsAuxiliary': Connection interrupted\n"
     ]
    }
   ],
   "source": [
    "acc_data.isna().sum()"
   ]
  },
  {
   "cell_type": "code",
   "execution_count": 17,
   "metadata": {},
   "outputs": [
    {
     "data": {
      "text/plain": [
       "[<matplotlib.lines.Line2D at 0x13aac3200>,\n",
       " <matplotlib.lines.Line2D at 0x13aac2bd0>,\n",
       " <matplotlib.lines.Line2D at 0x13aac3800>]"
      ]
     },
     "execution_count": 17,
     "metadata": {},
     "output_type": "execute_result"
    }
   ],
   "source": [
    "plt.figure()\n",
    "plt.plot(acc_data.resample(\"1 min\").mean().values)"
   ]
  },
  {
   "cell_type": "code",
   "execution_count": 10,
   "metadata": {},
   "outputs": [
    {
     "data": {
      "text/plain": [
       "np.float64(0.9999988888901232)"
      ]
     },
     "execution_count": 10,
     "metadata": {},
     "output_type": "execute_result"
    }
   ],
   "source": [
    "1/np.mean(np.diff(temp_data.index[:10]) / np.timedelta64(1, 's'))"
   ]
  },
  {
   "cell_type": "code",
   "execution_count": 11,
   "metadata": {},
   "outputs": [],
   "source": [
    "import sys\n",
    "\n",
    "sys.path.append(os.path.abspath(\"..\"))"
   ]
  },
  {
   "cell_type": "code",
   "execution_count": 15,
   "metadata": {},
   "outputs": [
    {
     "data": {
      "text/plain": [
       "array([34.7578125, 34.7421875, 34.7421875, 34.7578125, 34.7578125,\n",
       "       34.765625 , 34.75     , 34.75     , 34.765625 , 34.7734375])"
      ]
     },
     "execution_count": 15,
     "metadata": {},
     "output_type": "execute_result"
    }
   ],
   "source": [
    "temp[\"temp\"].values[:10]"
   ]
  },
  {
   "cell_type": "code",
   "execution_count": 12,
   "metadata": {},
   "outputs": [],
   "source": [
    "from nonwear.DETACH import nimbaldetach\n",
    "# * 1000 to convert to mg\n",
    "start_stop_nw, _ = nimbaldetach(acc_data['x'].values, acc_data['y'].values, acc_data['z'].values, temp[\"temp\"].values, accel_freq=64, temperature_freq=1, quiet=True)"
   ]
  },
  {
   "cell_type": "code",
   "execution_count": 13,
   "metadata": {},
   "outputs": [
    {
     "data": {
      "text/html": [
       "<div>\n",
       "<style scoped>\n",
       "    .dataframe tbody tr th:only-of-type {\n",
       "        vertical-align: middle;\n",
       "    }\n",
       "\n",
       "    .dataframe tbody tr th {\n",
       "        vertical-align: top;\n",
       "    }\n",
       "\n",
       "    .dataframe thead th {\n",
       "        text-align: right;\n",
       "    }\n",
       "</style>\n",
       "<table border=\"1\" class=\"dataframe\">\n",
       "  <thead>\n",
       "    <tr style=\"text-align: right;\">\n",
       "      <th></th>\n",
       "      <th>Start Datapoint</th>\n",
       "      <th>End Datapoint</th>\n",
       "    </tr>\n",
       "  </thead>\n",
       "  <tbody>\n",
       "  </tbody>\n",
       "</table>\n",
       "</div>"
      ],
      "text/plain": [
       "Empty DataFrame\n",
       "Columns: [Start Datapoint, End Datapoint]\n",
       "Index: []"
      ]
     },
     "execution_count": 13,
     "metadata": {},
     "output_type": "execute_result"
    }
   ],
   "source": [
    "start_stop_nw"
   ]
  },
  {
   "cell_type": "code",
   "execution_count": null,
   "metadata": {},
   "outputs": [],
   "source": []
  },
  {
   "cell_type": "code",
   "execution_count": null,
   "metadata": {},
   "outputs": [],
   "source": []
  },
  {
   "cell_type": "code",
   "execution_count": null,
   "metadata": {},
   "outputs": [],
   "source": []
  },
  {
   "cell_type": "code",
   "execution_count": null,
   "metadata": {},
   "outputs": [],
   "source": []
  },
  {
   "cell_type": "code",
   "execution_count": null,
   "metadata": {},
   "outputs": [],
   "source": []
  },
  {
   "cell_type": "code",
   "execution_count": null,
   "metadata": {},
   "outputs": [],
   "source": []
  },
  {
   "cell_type": "code",
   "execution_count": null,
   "metadata": {},
   "outputs": [],
   "source": []
  },
  {
   "cell_type": "code",
   "execution_count": null,
   "metadata": {},
   "outputs": [],
   "source": []
  },
  {
   "cell_type": "code",
   "execution_count": null,
   "metadata": {},
   "outputs": [],
   "source": [
    "import numpy as np\n",
    "import pandas as pd\n",
    "import os\n",
    "\n",
    "# Define path\n",
    "save_data_path = \"/Users/marcellosicbaldi/Library/CloudStorage/OneDrive-AlmaMaterStudiorumUniversitàdiBologna/tesi_Sara/Empatica/data/parquet/\"\n",
=======
    "save_data_path = \"/Users/augenpro/Documents/Empatica/data_sara/data/parquet/\"\n",
>>>>>>> Stashed changes
    "\n",
    "# Define subject and device\n",
    "sub_ID = \"00007\"\n",
    "device_ID = \"3YK3J151VJ\"\n",
    "\n",
    "# Get all days (excluding hidden files)\n",
    "days = sorted([day for day in os.listdir(save_data_path) if day[0] != \".\"])\n",
    "\n",
    "# List to store processed data per day\n",
    "day_data = []\n",
    "\n",
    "for i, day in enumerate(days):\n",
    "    print(f\"Processing day: {day}\")\n",
    "\n",
    "    # Load data (assuming timestamps are already in the index)\n",
    "    ppg = pd.read_parquet(save_data_path + day + \"/ppg.parquet\").sort_index()\n",
    "    acc = pd.read_parquet(save_data_path + day + \"/acc.parquet\").sort_index()\n",
    "    sys_peaks = pd.read_parquet(save_data_path + day + \"/sys_peaks.parquet\")\n",
    "    sys_peaks.index = pd.to_datetime(sys_peaks[\"SysPeakTime\"].astype(str))\n",
    "    temp = pd.read_parquet(save_data_path + day + \"/temp.parquet\").sort_index()\n",
    "\n",
    "    # Find the first timestamp for this day's data\n",
    "    start_time = min(ppg.index.min(), acc.index.min(), sys_peaks[\"SysPeakTime\"].min(), temp.index.min())\n",
    "\n",
    "    # Define end time for this segment (24-hour window from start)\n",
    "    end_time = start_time + pd.Timedelta(hours=24)\n",
    "\n",
    "    # Append to list for processing\n",
    "    day_data.append({'start': start_time, 'end': end_time, 'day': day, \n",
    "                     'ppg': ppg, 'acc': acc, 'sys_peaks': sys_peaks, 'temp': temp})"
   ]
  },
  {
   "cell_type": "code",
   "execution_count": 3,
   "metadata": {},
   "outputs": [
    {
     "name": "stdout",
     "output_type": "stream",
     "text": [
      "Day 2024-05-20 - Start: 2024-05-20 13:02:55.523192, End: 2024-05-21 13:02:55.523192, PPG samples: 2998976, ACC samples: 2999168, SYS_Peaks samples: 52188\n",
      "Day 2024-05-21 - Start: 2024-05-21 02:03:49.754983750, End: 2024-05-22 02:03:49.754983750, PPG samples: 5529303, ACC samples: 5529111, SYS_Peaks samples: 95325\n",
      "Day 2024-05-22 - Start: 2024-05-22 02:05:41.135601500, End: 2024-05-23 02:05:41.135601500, PPG samples: 4556562, ACC samples: 4556690, SYS_Peaks samples: 76882\n",
      "Day 2024-05-23 - Start: 2024-05-23 02:16:15.441449750, End: 2024-05-24 02:16:15.441449750, PPG samples: 5529132, ACC samples: 5529132, SYS_Peaks samples: 97243\n",
      "Day 2024-05-24 - Start: 2024-05-24 02:18:41.385549500, End: 2024-05-25 02:18:41.385549500, PPG samples: 5529189, ACC samples: 5529203, SYS_Peaks samples: 83471\n",
      "Day 2024-05-25 - Start: 2024-05-25 02:21:49.608278500, End: 2024-05-26 02:21:49.608278500, PPG samples: 3620480, ACC samples: 3621088, SYS_Peaks samples: 53169\n",
      "Day 2024-05-26 - Start: 2024-05-26 02:13:50.864583, End: 2024-05-27 02:13:50.864583, PPG samples: 5528738, ACC samples: 5528652, SYS_Peaks samples: 99743\n",
      "Day 2024-05-27 - Start: 2024-05-27 02:17:55.248441500, End: 2024-05-27 11:08:56.666828, PPG samples: 2038784, ACC samples: 2038816, SYS_Peaks samples: 35819\n"
     ]
    }
   ],
   "source": [
    "# Adjust last day's end time to cover till the final available timestamp\n",
    "day_data[-1]['end'] = max(day_data[-1]['ppg'].index.max(),\n",
    "                          day_data[-1]['acc'].index.max(),\n",
    "                          day_data[-1]['sys_peaks'].values.max(),\n",
    "                          day_data[-1]['temp'].index.max())\n",
    "\n",
    "# Process and align data into 24-hour segments\n",
    "aligned_days = []\n",
    "for i, data in enumerate(day_data):\n",
    "    start, end = pd.to_datetime(data['start']), pd.to_datetime(data['end'])\n",
    "\n",
    "    # Filter data using index (since timestamps are already in the index)\n",
    "    ppg_filtered = data['ppg'].loc[start:end]\n",
    "    acc_filtered = data['acc'].loc[start:end]\n",
    "    sys_peaks_filtered = data['sys_peaks'].loc[start:end]\n",
    "    temp_filtered = data['temp'].loc[start:end]\n",
    "\n",
    "    aligned_days.append({'start': start, 'end': end, 'day': data['day'], \n",
    "                         'ppg': ppg_filtered, 'acc': acc_filtered, 'sys_peaks': sys_peaks_filtered,\n",
    "                         'temp': temp_filtered})\n",
    "\n",
    "# Print results\n",
    "for d in aligned_days:\n",
    "    print(f\"Day {d['day']} - Start: {d['start']}, End: {d['end']}, \"\n",
    "          f\"PPG samples: {len(d['ppg'])}, ACC samples: {len(d['acc'])}, SYS_Peaks samples: {len(d['sys_peaks'])}\")"
   ]
  },
  {
   "cell_type": "code",
   "execution_count": 6,
   "metadata": {},
   "outputs": [
    {
     "data": {
      "text/html": [
       "<div>\n",
       "<style scoped>\n",
       "    .dataframe tbody tr th:only-of-type {\n",
       "        vertical-align: middle;\n",
       "    }\n",
       "\n",
       "    .dataframe tbody tr th {\n",
       "        vertical-align: top;\n",
       "    }\n",
       "\n",
       "    .dataframe thead th {\n",
       "        text-align: right;\n",
       "    }\n",
       "</style>\n",
       "<table border=\"1\" class=\"dataframe\">\n",
       "  <thead>\n",
       "    <tr style=\"text-align: right;\">\n",
       "      <th></th>\n",
       "      <th>ppg</th>\n",
       "    </tr>\n",
       "  </thead>\n",
       "  <tbody>\n",
       "    <tr>\n",
       "      <th>2024-05-20 13:02:55.531981</th>\n",
       "      <td>0.000000</td>\n",
       "    </tr>\n",
       "    <tr>\n",
       "      <th>2024-05-20 13:02:55.547606</th>\n",
       "      <td>0.000008</td>\n",
       "    </tr>\n",
       "    <tr>\n",
       "      <th>2024-05-20 13:02:55.563231</th>\n",
       "      <td>0.000052</td>\n",
       "    </tr>\n",
       "    <tr>\n",
       "      <th>2024-05-20 13:02:55.578856</th>\n",
       "      <td>0.000184</td>\n",
       "    </tr>\n",
       "    <tr>\n",
       "      <th>2024-05-20 13:02:55.594481</th>\n",
       "      <td>0.000457</td>\n",
       "    </tr>\n",
       "    <tr>\n",
       "      <th>...</th>\n",
       "      <td>...</td>\n",
       "    </tr>\n",
       "    <tr>\n",
       "      <th>2024-05-21 02:03:54.339079</th>\n",
       "      <td>0.051028</td>\n",
       "    </tr>\n",
       "    <tr>\n",
       "      <th>2024-05-21 02:03:54.354704</th>\n",
       "      <td>0.046407</td>\n",
       "    </tr>\n",
       "    <tr>\n",
       "      <th>2024-05-21 02:03:54.370329</th>\n",
       "      <td>0.041619</td>\n",
       "    </tr>\n",
       "    <tr>\n",
       "      <th>2024-05-21 02:03:54.385954</th>\n",
       "      <td>0.036553</td>\n",
       "    </tr>\n",
       "    <tr>\n",
       "      <th>2024-05-21 02:03:54.401579</th>\n",
       "      <td>0.030989</td>\n",
       "    </tr>\n",
       "  </tbody>\n",
       "</table>\n",
       "<p>2998976 rows × 1 columns</p>\n",
       "</div>"
      ],
      "text/plain": [
       "                                 ppg\n",
       "2024-05-20 13:02:55.531981  0.000000\n",
       "2024-05-20 13:02:55.547606  0.000008\n",
       "2024-05-20 13:02:55.563231  0.000052\n",
       "2024-05-20 13:02:55.578856  0.000184\n",
       "2024-05-20 13:02:55.594481  0.000457\n",
       "...                              ...\n",
       "2024-05-21 02:03:54.339079  0.051028\n",
       "2024-05-21 02:03:54.354704  0.046407\n",
       "2024-05-21 02:03:54.370329  0.041619\n",
       "2024-05-21 02:03:54.385954  0.036553\n",
       "2024-05-21 02:03:54.401579  0.030989\n",
       "\n",
       "[2998976 rows x 1 columns]"
      ]
     },
     "execution_count": 6,
     "metadata": {},
     "output_type": "execute_result"
    }
   ],
   "source": [
    "aligned_days[0][\"ppg\"]"
   ]
  },
  {
   "cell_type": "code",
   "execution_count": 5,
   "metadata": {},
   "outputs": [],
   "source": [
    "# Save days\n",
    "for i, d in enumerate(aligned_days):\n",
    "    os.makedirs(save_data_path + \"day_\" + str(i+1), exist_ok=True)\n",
    "    # d['ppg'].to_parquet(save_data_path + \"day_\" + str(i+1) + \"/ppg.parquet\")\n",
    "    # d['acc'].to_parquet(save_data_path + \"day_\" + str(i+1) + \"/acc.parquet\")\n",
    "    # d['sys_peaks'].to_parquet(save_data_path + \"day_\" + str(i+1) + \"/sys_peaks.parquet\")\n",
    "    d['temp'].to_parquet(save_data_path + \"day_\" + str(i+1) + \"/temp.parquet\")"
   ]
  },
  {
   "cell_type": "code",
   "execution_count": null,
   "metadata": {},
   "outputs": [],
   "source": []
  }
 ],
 "metadata": {
  "kernelspec": {
   "display_name": "DARE",
   "language": "python",
   "name": "python3"
  },
  "language_info": {
   "codemirror_mode": {
    "name": "ipython",
    "version": 3
   },
   "file_extension": ".py",
   "mimetype": "text/x-python",
   "name": "python",
   "nbconvert_exporter": "python",
   "pygments_lexer": "ipython3",
   "version": "3.12.2"
  }
 },
 "nbformat": 4,
 "nbformat_minor": 2
}
