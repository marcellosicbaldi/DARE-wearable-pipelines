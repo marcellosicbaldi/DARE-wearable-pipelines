{
 "cells": [
  {
   "cell_type": "code",
   "execution_count": 3,
   "metadata": {},
   "outputs": [
    {
     "name": "stdout",
     "output_type": "stream",
     "text": [
      "08667\n"
     ]
    },
    {
     "name": "stderr",
     "output_type": "stream",
     "text": [
      "/opt/anaconda3/envs/scikit-digital-health/lib/python3.12/site-packages/skdh/io/base.py:111: UserWarning: Timestamps are local but naive, and no time-zone information is available. This may mean that if a DST change occurs during the recording period, the times will be offset by an hour\n",
      "  warn(\n",
      "/opt/anaconda3/envs/scikit-digital-health/lib/python3.12/site-packages/skdh/io/base.py:111: UserWarning: Timestamps are local but naive, and no time-zone information is available. This may mean that if a DST change occurs during the recording period, the times will be offset by an hour\n",
      "  warn(\n"
     ]
    },
    {
     "name": "stdout",
     "output_type": "stream",
     "text": [
      "20603\n"
     ]
    },
    {
     "name": "stderr",
     "output_type": "stream",
     "text": [
      "/opt/anaconda3/envs/scikit-digital-health/lib/python3.12/site-packages/skdh/io/base.py:111: UserWarning: Timestamps are local but naive, and no time-zone information is available. This may mean that if a DST change occurs during the recording period, the times will be offset by an hour\n",
      "  warn(\n",
      "/opt/anaconda3/envs/scikit-digital-health/lib/python3.12/site-packages/skdh/io/base.py:111: UserWarning: Timestamps are local but naive, and no time-zone information is available. This may mean that if a DST change occurs during the recording period, the times will be offset by an hour\n",
      "  warn(\n"
     ]
    },
    {
     "name": "stdout",
     "output_type": "stream",
     "text": [
      "36765\n"
     ]
    },
    {
     "name": "stderr",
     "output_type": "stream",
     "text": [
      "/opt/anaconda3/envs/scikit-digital-health/lib/python3.12/site-packages/skdh/io/base.py:111: UserWarning: Timestamps are local but naive, and no time-zone information is available. This may mean that if a DST change occurs during the recording period, the times will be offset by an hour\n",
      "  warn(\n",
      "/opt/anaconda3/envs/scikit-digital-health/lib/python3.12/site-packages/skdh/io/base.py:111: UserWarning: Timestamps are local but naive, and no time-zone information is available. This may mean that if a DST change occurs during the recording period, the times will be offset by an hour\n",
      "  warn(\n"
     ]
    }
   ],
   "source": [
    "\"\"\"\n",
    "Read .bin files coming from GENEActiv devices and save them as a pd.DataFrame in parquet format.\n",
    "\n",
    "This module is based on the code from the scikit-digital-health python package (https://github.com/pfizer-opensource/scikit-digital-health)\n",
    "\n",
    "IMP: scikit-digital-health create conflicts with versions needed for other packages. To solve this:\n",
    "1. I tried to just copy the code can be copied and modified it to work as a standalone module -- however, scikit-digital-health \n",
    "    uses a lot of other modules (also implemented in .c) and it is not clear how to separate them without breaking the code.\n",
    "2. Solution for now: he scikit-digital-health package is installed in a separate conda environment and the code is run from there.\n",
    "\n",
    "\"\"\"\n",
    "\n",
    "import numpy as np\n",
    "import pandas as pd\n",
    "import os\n",
    "from skdh.io import ReadBin\n",
    "\n",
    "def bin2parquet(file_path):\n",
    "    \"\"\"\n",
    "    Read a .bin file from a GENEActiv device.\n",
    "    \"\"\"\n",
    "    reader = ReadBin()\n",
    "    data = reader.predict(file = file_path)\n",
    "    data_for_df = np.concatenate((data[\"accel\"], data[\"temperature\"].reshape(-1, 1), data[\"light\"].reshape(-1, 1)), axis = 1)\n",
    "    acc_df = pd.DataFrame(data_for_df, \n",
    "                          columns = [\"x\", \"y\", \"z\", \"temperature\", \"light\"],\n",
    "                          index = pd.to_datetime(data[\"time\"], unit = \"s\"))\n",
    "    # save as parquet\n",
    "    acc_df.to_parquet(file_path.replace(\".bin\", \".parquet\"))\n",
    "\n",
    "if __name__ == \"__main__\":\n",
    "    data_path = \"/Users/augenpro/Documents/Age-IT/data/Bronze/\" # path to the folder containing the subjects\n",
    "    # participants = sorted([p for p in os.listdir(data_path) if not p.startswith(\".\")]) # list of the participants\n",
    "    participants = [\"08667\", \"20603\", \"36765\"]\n",
    "    visit = \"T0 (baseline)\" # T0 (baseline), T1 (follow-up @ 6 months), T2 (follow-up @ 12 months)\n",
    "\n",
    "    sensors = [\"GeneActivPolso\", \"GeneActivCaviglia\"]\n",
    "\n",
    "    for participant in participants:\n",
    "        print(participant)\n",
    "        for sensor in sensors:\n",
    "            path = os.path.join(data_path, participant, visit, sensor)\n",
    "            files = os.listdir(os.path.join(data_path, participant, visit, sensor))\n",
    "            # if there are already parquet files, skip\n",
    "            # if any([f.endswith(\".parquet\") for f in files]):\n",
    "            #     continue\n",
    "            for f in files:\n",
    "                if f.endswith(\".bin\"):\n",
    "                    reader = ReadBin()\n",
    "                    data = reader.predict(file = os.path.join(path, f))\n",
    "                    bin2parquet(os.path.join(path, f))"
   ]
  },
  {
   "cell_type": "code",
   "execution_count": null,
   "metadata": {},
   "outputs": [
    {
     "data": {
      "text/plain": [
       "((59925000, 3), (59925000,))"
      ]
     },
     "execution_count": 13,
     "metadata": {},
     "output_type": "execute_result"
    }
   ],
   "source": [
    "acc_df = pd.DataFrame([data[\"accel\"], data[\"\"]"
   ]
  },
  {
   "cell_type": "code",
   "execution_count": 17,
   "metadata": {},
   "outputs": [
    {
     "ename": "ValueError",
     "evalue": "all the input arrays must have same number of dimensions, but the array at index 0 has 2 dimension(s) and the array at index 1 has 1 dimension(s)",
     "output_type": "error",
     "traceback": [
      "\u001b[0;31m---------------------------------------------------------------------------\u001b[0m",
      "\u001b[0;31mValueError\u001b[0m                                Traceback (most recent call last)",
      "Cell \u001b[0;32mIn[17], line 1\u001b[0m\n\u001b[0;32m----> 1\u001b[0m \u001b[43mnp\u001b[49m\u001b[38;5;241;43m.\u001b[39;49m\u001b[43mconcatenate\u001b[49m\u001b[43m(\u001b[49m\u001b[43m(\u001b[49m\u001b[43mdata\u001b[49m\u001b[43m[\u001b[49m\u001b[38;5;124;43m\"\u001b[39;49m\u001b[38;5;124;43maccel\u001b[39;49m\u001b[38;5;124;43m\"\u001b[39;49m\u001b[43m]\u001b[49m\u001b[43m,\u001b[49m\u001b[43m \u001b[49m\u001b[43mdata\u001b[49m\u001b[43m[\u001b[49m\u001b[38;5;124;43m\"\u001b[39;49m\u001b[38;5;124;43mtemperature\u001b[39;49m\u001b[38;5;124;43m\"\u001b[39;49m\u001b[43m]\u001b[49m\u001b[43m,\u001b[49m\u001b[43m \u001b[49m\u001b[43mdata\u001b[49m\u001b[43m[\u001b[49m\u001b[38;5;124;43m\"\u001b[39;49m\u001b[38;5;124;43mlight\u001b[39;49m\u001b[38;5;124;43m\"\u001b[39;49m\u001b[43m]\u001b[49m\u001b[43m)\u001b[49m\u001b[43m)\u001b[49m\u001b[38;5;241m.\u001b[39mshape\n",
      "\u001b[0;31mValueError\u001b[0m: all the input arrays must have same number of dimensions, but the array at index 0 has 2 dimension(s) and the array at index 1 has 1 dimension(s)"
     ]
    }
   ],
   "source": [
    "np.concatenate((data[\"accel\"], data[\"temperature\"], data[\"light\"])).shape"
   ]
  },
  {
   "cell_type": "code",
   "execution_count": 18,
   "metadata": {},
   "outputs": [
    {
     "data": {
      "text/plain": [
       "((59925000, 3), (59925000,), (59925000,))"
      ]
     },
     "execution_count": 18,
     "metadata": {},
     "output_type": "execute_result"
    }
   ],
   "source": [
    "data[\"accel\"].shape, data[\"temperature\"].shape, data[\"light\"].shape"
   ]
  },
  {
   "cell_type": "code",
   "execution_count": 21,
   "metadata": {},
   "outputs": [
    {
     "data": {
      "text/plain": [
       "(59925000, 5)"
      ]
     },
     "execution_count": 21,
     "metadata": {},
     "output_type": "execute_result"
    }
   ],
   "source": [
    "np.concatenate((data[\"accel\"], data[\"temperature\"].reshape(-1, 1), data[\"light\"].reshape(-1, 1)), axis = 1).shape"
   ]
  },
  {
   "cell_type": "code",
   "execution_count": null,
   "metadata": {},
   "outputs": [],
   "source": []
  }
 ],
 "metadata": {
  "kernelspec": {
   "display_name": "scikit-digital-health",
   "language": "python",
   "name": "python3"
  },
  "language_info": {
   "codemirror_mode": {
    "name": "ipython",
    "version": 3
   },
   "file_extension": ".py",
   "mimetype": "text/x-python",
   "name": "python",
   "nbconvert_exporter": "python",
   "pygments_lexer": "ipython3",
   "version": "3.12.2"
  }
 },
 "nbformat": 4,
 "nbformat_minor": 2
}
