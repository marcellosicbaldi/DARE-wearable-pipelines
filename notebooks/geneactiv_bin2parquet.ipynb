{
 "cells": [
  {
   "cell_type": "code",
   "execution_count": 0,
   "metadata": {
    "application/vnd.databricks.v1+cell": {
     "cellMetadata": {},
     "inputWidgets": {},
     "nuid": "ab0b9f34-3be4-4b98-a769-05c3e2d809a5",
     "showTitle": false,
     "tableResultSettingsMap": {},
     "title": ""
    }
   },
   "outputs": [],
   "source": [
    "\"\"\"\n",
    "Read .bin files coming from GENEActiv devices and save them as a pd.DataFrame in parquet format.\n",
    "\n",
    "This module is based on the code from the scikit-digital-health python package (https://github.com/pfizer-opensource/scikit-digital-health)\n",
    "\n",
    "IMP: scikit-digital-health create conflicts with versions needed for other packages. To solve this:\n",
    "1. I tried to just copy the code can be copied and modified it to work as a standalone module -- however, scikit-digital-health \n",
    "    uses a lot of other modules (also implemented in .c) and it is not clear how to separate them without breaking the code.\n",
    "2. Solution for now: he scikit-digital-health package is installed in a separate conda environment and the code is run from there.\n",
    "\n",
    "\"\"\"\n",
    "prova\n",
    "\n",
    "\"\"\"\n",
    "IMP: Sometimes there is an unexpected behaviour. It is not clear why but the accelerometer data is not read correctly, and if it happens it happens\n",
    "for all the recordings of all participants. \n",
    "If the message \"Not enough still periods found for calibration\" is printed, it means that the accelerometer data is not read correctly.\n",
    "It doesn't make any sense - just restarting the PC and running the same code again solves the problem.\n",
    "\"\"\"\n",
    "\n",
    "import numpy as np\n",
    "import pandas as pd\n",
    "import os\n",
    "from skdh.io import ReadBin\n",
    "from skdh.preprocessing import CalibrateAccelerometer\n",
    "\n",
    "import sys\n",
    "sys.path.append(\"../\")\n",
    "from nonwear.DETACH import nimbaldetach\n",
    "\n",
    "def bin2parquet(file_path, save_path, calibrate = True):\n",
    "    \"\"\"\n",
    "    Read a .bin file from a GENEActiv device.\n",
    "    \"\"\"\n",
    "\n",
    "    reader = ReadBin()\n",
    "    data = reader.predict(file = file_path)\n",
    "    # data_for_df = np.concatenate((data[\"accel\"], data[\"temperature\"].reshape(-1, 1), data[\"light\"].reshape(-1, 1)), axis = 1)\n",
    "    # acc_df = pd.DataFrame(data_for_df, \n",
    "    #                       columns = [\"x\", \"y\", \"z\", \"temperature\", \"light\"],\n",
    "    #                       index = pd.to_datetime(data[\"time\"], unit = \"s\"))\n",
    "    # # save as parquet\n",
    "    # acc_df.to_parquet(file_path.replace(\".bin\", \".parquet\"))\n",
    "\n",
    "    if (data[\"accel\"].shape[0] > 72*60*60*100) & calibrate: # if the data is longer than 72 hours\n",
    "        calibrator = CalibrateAccelerometer()\n",
    "        print(\"Calibrating accelerometer...\")\n",
    "        try:\n",
    "            acc_cal = calibrator.predict(time = data[\"time\"], accel = data[\"accel\"], temperature = data[\"temperature\"])\n",
    "        except KeyError:\n",
    "            print(\"Not enough data to calibrate accelerometer.\")\n",
    "            return\n",
    "        \n",
    "        start_stop_nw, _ = nimbaldetach(data[\"accel\"][:, 0], data[\"accel\"][:, 1], data[\"accel\"][:, 2], data[\"temperature\"],\n",
    "                                         accel_freq=100, temperature_freq=100, quiet=True)\n",
    "\n",
    "        data_for_df = np.concatenate((acc_cal[\"accel\"], data[\"temperature\"].reshape(-1, 1), data[\"light\"].reshape(-1, 1)), axis = 1)\n",
    "        data_cal_df = pd.DataFrame(data_for_df,\n",
    "                                   columns = [\"x\", \"y\", \"z\", \"temperature\", \"light\"],\n",
    "                                   index = pd.to_datetime(data[\"time\"], unit = \"s\"))\n",
    "        \n",
    "        # Remove non-wear periods\n",
    "        for i, row in start_stop_nw.iterrows():\n",
    "            datetime_start_nw = data_cal_df.index[row[\"Start Datapoint\"]]\n",
    "            datetime_end_nw = data_cal_df.index[row[\"End Datapoint\"]]\n",
    "            data_cal_df.loc[datetime_start_nw:datetime_end_nw] = np.nan\n",
    "\n",
    "        data_cal_df.to_parquet(save_path.replace(\".bin\", \"_preprocessed.parquet\"))\n",
    "\n",
    "    else: # do not calibrate\n",
    "        start_stop_nw, _ = nimbaldetach(data[\"accel\"][:, 0], data[\"accel\"][:, 1], data[\"accel\"][:, 2], data[\"temperature\"],\n",
    "                                         accel_freq=100, temperature_freq=100, quiet=True)\n",
    "        data_for_df = np.concatenate((data[\"accel\"], data[\"temperature\"].reshape(-1, 1), data[\"light\"].reshape(-1, 1)), axis = 1)\n",
    "        acc_df = pd.DataFrame(data_for_df, \n",
    "                              columns = [\"x\", \"y\", \"z\", \"temperature\", \"light\"],\n",
    "                              index = pd.to_datetime(data[\"time\"], unit = \"s\"))\n",
    "        \n",
    "        # Remove non-wear periods\n",
    "        for i, row in start_stop_nw.iterrows():\n",
    "            datetime_start_nw = data_cal_df.index[row[\"Start Datapoint\"]]\n",
    "            datetime_end_nw = data_cal_df.index[row[\"End Datapoint\"]]\n",
    "            data_cal_df.loc[datetime_start_nw:datetime_end_nw] = np.nan\n",
    "\n",
    "        data_cal_df.to_parquet(save_path.replace(\".bin\", \".parquet\"))\n",
    "\n",
    "\n",
    "if __name__ == \"__main__\":\n",
    "    data_path = \"/Users/augenpro/Documents/Age-IT/data/Bronze/\" # path to the folder containing the subjects\n",
    "    silver_path = \"/Users/augenpro/Documents/Age-IT/data/Silver/\"\n",
    "    participants = sorted([p for p in os.listdir(data_path) if not p.startswith(\".\")]) # list of the participants\n",
    "    participants = participants[6:]\n",
    "    # participants = [\"08667\", \"20603\", \"36765\"]\n",
    "    visit = \"T0 (baseline)\" # T0 (baseline), T1 (follow-up @ 6 months), T2 (follow-up @ 12 months)\n",
    "\n",
    "    sensors = [\"GeneActivPolso\", \"GeneActivCaviglia\"]\n",
    "\n",
    "    for participant in participants:\n",
    "        print(participant)\n",
    "        for sensor in sensors:\n",
    "            path = os.path.join(data_path, participant, visit, sensor)\n",
    "            save_path = os.path.join(silver_path, participant, visit, sensor)\n",
    "            files = os.listdir(os.path.join(data_path, participant, visit, sensor))\n",
    "            # if there are already parquet files, skip\n",
    "            # if any([f.endswith(\".parquet\") for f in files]):\n",
    "            #     continue\n",
    "            for f in files:\n",
    "                if f.endswith(\".bin\"):\n",
    "                    try:\n",
    "                        bin2parquet(os.path.join(path, f), os.path.join(save_path, f), calibrate = True)\n",
    "                    except Exception as e:\n",
    "                        print(f\"Error with {f}: {e}\")\n",
    "                        continue"
   ]
  },
  {
   "cell_type": "code",
   "execution_count": 0,
   "metadata": {
    "application/vnd.databricks.v1+cell": {
     "cellMetadata": {},
     "inputWidgets": {},
     "nuid": "eaadcb6e-2af8-4ef9-95d4-dd414d91d5e0",
     "showTitle": false,
     "tableResultSettingsMap": {},
     "title": ""
    }
   },
   "outputs": [],
   "source": [
    "\"\"\"\n",
    "Read .bin files coming from GENEActiv devices and save them as a pd.DataFrame in parquet format.\n",
    "\n",
    "This module is based on the code from the scikit-digital-health python package (https://github.com/pfizer-opensource/scikit-digital-health)\n",
    "\n",
    "IMP: scikit-digital-health create conflicts with versions needed for other packages. To solve this:\n",
    "1. I tried to just copy the code can be copied and modified it to work as a standalone module -- however, scikit-digital-health \n",
    "    uses a lot of other modules (also implemented in .c) and it is not clear how to separate them without breaking the code.\n",
    "2. Solution for now: he scikit-digital-health package is installed in a separate conda environment and the code is run from there.\n",
    "\n",
    "\"\"\"\n",
    "\n",
    "import numpy as np\n",
    "import pandas as pd\n",
    "import os\n",
    "from skdh.io import ReadBin\n",
    "from skdh.preprocessing import CalibrateAccelerometer\n",
    "\n",
    "def bin2parquet(file_path, calibrate = False):\n",
    "    \"\"\"\n",
    "    Read a .bin file from a GENEActiv device.\n",
    "    \"\"\"\n",
    "    reader = ReadBin()\n",
    "    data = reader.predict(file = file_path)\n",
    "    data_for_df = np.concatenate((data[\"accel\"], data[\"temperature\"].reshape(-1, 1), data[\"light\"].reshape(-1, 1)), axis = 1)\n",
    "    acc_df = pd.DataFrame(data_for_df, \n",
    "                          columns = [\"x\", \"y\", \"z\", \"temperature\", \"light\"],\n",
    "                          index = pd.to_datetime(data[\"time\"], unit = \"s\"))\n",
    "    # save as parquet\n",
    "    acc_df.to_parquet(file_path.replace(\".bin\", \".parquet\"))\n",
    "\n",
    "    calibrator = CalibrateAccelerometer()\n",
    "\n",
    "    if calibrate:\n",
    "        print(\"Calibrating accelerometer...\")\n",
    "        acc_cal = calibrator.predict(time = data[\"time\"], accel = data[\"accel\"], temperature = data[\"temperature\"])\n",
    "        data_for_df = np.concatenate((acc_cal[\"accel\"], data[\"temperature\"].reshape(-1, 1), data[\"light\"].reshape(-1, 1)), axis = 1)\n",
    "        data_cal_df = pd.DataFrame(data_for_df,\n",
    "                                   columns = [\"x\", \"y\", \"z\", \"temperature\", \"light\"],\n",
    "                                   index = pd.to_datetime(data[\"time\"], unit = \"s\"))\n",
    "        data_cal_df.to_parquet(file_path.replace(\".bin\", \"_calibrated.parquet\"))\n",
    "\n",
    "if __name__ == \"__main__\":\n",
    "    data_path = \"/Users/augenpro/Documents/Age-IT/data/Bronze/\" # path to the folder containing the subjects\n",
    "    # participants = sorted([p for p in os.listdir(data_path) if not p.startswith(\".\")]) # list of the participants\n",
    "    participants = [\"08667\"]\n",
    "    visit = \"T0 (baseline)\" # T0 (baseline), T1 (follow-up @ 6 months), T2 (follow-up @ 12 months)\n",
    "\n",
    "    sensors = [\"GeneActivPolso\", \"GeneActivCaviglia\"]\n",
    "\n",
    "    for participant in participants:\n",
    "        print(participant)\n",
    "        for sensor in sensors:\n",
    "            path = os.path.join(data_path, participant, visit, sensor)\n",
    "            files = os.listdir(os.path.join(data_path, participant, visit, sensor))\n",
    "            # if there are already parquet files, skip\n",
    "            # if any([f.endswith(\".parquet\") for f in files]):\n",
    "            #     continue\n",
    "            for f in files:\n",
    "                if f.endswith(\".bin\"):\n",
    "                    bin2parquet(os.path.join(path, f), calibrate = False)\n",
    "\n",
    "            break\n",
    "        break"
   ]
  },
  {
   "cell_type": "code",
   "execution_count": 0,
   "metadata": {
    "application/vnd.databricks.v1+cell": {
     "cellMetadata": {},
     "inputWidgets": {},
     "nuid": "f713d66d-293c-465e-ad59-ee5a9d32b68f",
     "showTitle": false,
     "tableResultSettingsMap": {},
     "title": ""
    }
   },
   "outputs": [],
   "source": [
    "participants"
   ]
  },
  {
   "cell_type": "code",
   "execution_count": 0,
   "metadata": {
    "application/vnd.databricks.v1+cell": {
     "cellMetadata": {},
     "inputWidgets": {},
     "nuid": "bdc54bd4-73d2-4c63-870c-69368d37fa35",
     "showTitle": false,
     "tableResultSettingsMap": {},
     "title": ""
    }
   },
   "outputs": [],
   "source": [
    "\n",
    "# acc = pd.read_parquet(\"/Users/augenpro/Documents/Age-IT/data/Bronze/08667/T0 (baseline)/GeneActivPolso/08667_left wrist_105524_2025-02-11 14-06-32.parquet\")\n",
    "import pandas as pd\n",
    "acc_cal = pd.read_parquet(\"/Users/augenpro/Documents/Age-IT/data/Silver/36644/T0 (baseline)/GeneActivCaviglia/36644_right ankle_106296_2025-02-04 18-17-15_preprocessed.parquet\")\n",
    "acc_cal.head()"
   ]
  },
  {
   "cell_type": "code",
   "execution_count": 0,
   "metadata": {
    "application/vnd.databricks.v1+cell": {
     "cellMetadata": {},
     "inputWidgets": {},
     "nuid": "43d03a81-e7f3-4de7-9e84-950e5858df38",
     "showTitle": false,
     "tableResultSettingsMap": {},
     "title": ""
    }
   },
   "outputs": [],
   "source": [
    "acc_cal.head()"
   ]
  },
  {
   "cell_type": "code",
   "execution_count": 0,
   "metadata": {
    "application/vnd.databricks.v1+cell": {
     "cellMetadata": {},
     "inputWidgets": {},
     "nuid": "dbe043bd-7eec-420d-a80f-3de485ce9cc5",
     "showTitle": false,
     "tableResultSettingsMap": {},
     "title": ""
    }
   },
   "outputs": [],
   "source": [
    "import matplotlib.pyplot as plt\n",
    "%matplotlib qt\n",
    "\n",
    "def compute_acc_SMV(acc_df):\n",
    "    return np.sqrt(acc_df.iloc[:,0]**2 + acc_df.iloc[:,1]**2 + acc_df.iloc[:,2]**2)\n",
    "\n",
    "acc_SMV = compute_acc_SMV(acc)\n",
    "acc_cal_SMV = compute_acc_SMV(acc_cal)\n",
    "\n",
    "plt.figure(figsize = (15, 5))\n",
    "plt.plot(acc_SMV, label = \"Raw\")\n",
    "plt.plot(acc_cal_SMV, label = \"Calibrated\")\n",
    "plt.legend(loc = \"upper right\")"
   ]
  },
  {
   "cell_type": "code",
   "execution_count": 0,
   "metadata": {
    "application/vnd.databricks.v1+cell": {
     "cellMetadata": {},
     "inputWidgets": {},
     "nuid": "aa77dd16-0557-4ed2-bc13-2848342faf0b",
     "showTitle": false,
     "tableResultSettingsMap": {},
     "title": ""
    }
   },
   "outputs": [],
   "source": [
    "plt.close()"
   ]
  },
  {
   "cell_type": "code",
   "execution_count": 0,
   "metadata": {
    "application/vnd.databricks.v1+cell": {
     "cellMetadata": {},
     "inputWidgets": {},
     "nuid": "c196fdf3-78d8-4f3d-894b-30317e5a9946",
     "showTitle": false,
     "tableResultSettingsMap": {},
     "title": ""
    }
   },
   "outputs": [],
   "source": []
  }
 ],
 "metadata": {
  "application/vnd.databricks.v1+notebook": {
   "computePreferences": null,
   "dashboards": [],
   "environmentMetadata": null,
   "language": "python",
   "notebookMetadata": {
    "pythonIndentUnit": 4
   },
   "notebookName": "geneactiv_bin2parquet",
   "widgets": {}
  },
  "kernelspec": {
   "display_name": "scikit-digital-health",
   "language": "python",
   "name": "python3"
  },
  "language_info": {
   "name": "python"
  }
 },
 "nbformat": 4,
 "nbformat_minor": 0
}
