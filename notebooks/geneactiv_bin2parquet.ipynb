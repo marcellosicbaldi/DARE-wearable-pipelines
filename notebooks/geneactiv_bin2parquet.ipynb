{
 "cells": [
  {
   "cell_type": "code",
   "execution_count": 12,
   "metadata": {},
   "outputs": [
    {
     "name": "stdout",
     "output_type": "stream",
     "text": [
      "08623\n"
     ]
    },
    {
     "name": "stderr",
     "output_type": "stream",
     "text": [
      "/opt/anaconda3/envs/scikit-digital-health/lib/python3.12/site-packages/skdh/io/base.py:111: UserWarning: Timestamps are local but naive, and no time-zone information is available. This may mean that if a DST change occurs during the recording period, the times will be offset by an hour\n",
      "  warn(\n",
      "/opt/anaconda3/envs/scikit-digital-health/lib/python3.12/site-packages/skdh/io/base.py:111: UserWarning: Timestamps are local but naive, and no time-zone information is available. This may mean that if a DST change occurs during the recording period, the times will be offset by an hour\n",
      "  warn(\n"
     ]
    },
    {
     "name": "stdout",
     "output_type": "stream",
     "text": [
      "08667\n",
      "14219\n"
     ]
    },
    {
     "name": "stderr",
     "output_type": "stream",
     "text": [
      "/opt/anaconda3/envs/scikit-digital-health/lib/python3.12/site-packages/skdh/io/base.py:111: UserWarning: Timestamps are local but naive, and no time-zone information is available. This may mean that if a DST change occurs during the recording period, the times will be offset by an hour\n",
      "  warn(\n",
      "/opt/anaconda3/envs/scikit-digital-health/lib/python3.12/site-packages/skdh/io/base.py:111: UserWarning: Timestamps are local but naive, and no time-zone information is available. This may mean that if a DST change occurs during the recording period, the times will be offset by an hour\n",
      "  warn(\n"
     ]
    },
    {
     "name": "stdout",
     "output_type": "stream",
     "text": [
      "20603\n",
      "23483\n"
     ]
    },
    {
     "name": "stderr",
     "output_type": "stream",
     "text": [
      "/opt/anaconda3/envs/scikit-digital-health/lib/python3.12/site-packages/skdh/io/base.py:111: UserWarning: Timestamps are local but naive, and no time-zone information is available. This may mean that if a DST change occurs during the recording period, the times will be offset by an hour\n",
      "  warn(\n",
      "/opt/anaconda3/envs/scikit-digital-health/lib/python3.12/site-packages/skdh/io/base.py:111: UserWarning: Timestamps are local but naive, and no time-zone information is available. This may mean that if a DST change occurs during the recording period, the times will be offset by an hour\n",
      "  warn(\n"
     ]
    },
    {
     "name": "stdout",
     "output_type": "stream",
     "text": [
      "36644\n"
     ]
    },
    {
     "name": "stderr",
     "output_type": "stream",
     "text": [
      "/opt/anaconda3/envs/scikit-digital-health/lib/python3.12/site-packages/skdh/io/base.py:111: UserWarning: Timestamps are local but naive, and no time-zone information is available. This may mean that if a DST change occurs during the recording period, the times will be offset by an hour\n",
      "  warn(\n",
      "/opt/anaconda3/envs/scikit-digital-health/lib/python3.12/site-packages/skdh/io/base.py:111: UserWarning: Timestamps are local but naive, and no time-zone information is available. This may mean that if a DST change occurs during the recording period, the times will be offset by an hour\n",
      "  warn(\n"
     ]
    },
    {
     "name": "stdout",
     "output_type": "stream",
     "text": [
      "36765\n",
      "36920\n"
     ]
    },
    {
     "name": "stderr",
     "output_type": "stream",
     "text": [
      "/opt/anaconda3/envs/scikit-digital-health/lib/python3.12/site-packages/skdh/io/base.py:111: UserWarning: Timestamps are local but naive, and no time-zone information is available. This may mean that if a DST change occurs during the recording period, the times will be offset by an hour\n",
      "  warn(\n",
      "/opt/anaconda3/envs/scikit-digital-health/lib/python3.12/site-packages/skdh/io/base.py:111: UserWarning: Timestamps are local but naive, and no time-zone information is available. This may mean that if a DST change occurs during the recording period, the times will be offset by an hour\n",
      "  warn(\n"
     ]
    },
    {
     "name": "stdout",
     "output_type": "stream",
     "text": [
      "58319\n"
     ]
    },
    {
     "name": "stderr",
     "output_type": "stream",
     "text": [
      "/opt/anaconda3/envs/scikit-digital-health/lib/python3.12/site-packages/skdh/io/base.py:111: UserWarning: Timestamps are local but naive, and no time-zone information is available. This may mean that if a DST change occurs during the recording period, the times will be offset by an hour\n",
      "  warn(\n",
      "/opt/anaconda3/envs/scikit-digital-health/lib/python3.12/site-packages/skdh/io/base.py:111: UserWarning: Timestamps are local but naive, and no time-zone information is available. This may mean that if a DST change occurs during the recording period, the times will be offset by an hour\n",
      "  warn(\n"
     ]
    },
    {
     "name": "stdout",
     "output_type": "stream",
     "text": [
      "59794\n"
     ]
    },
    {
     "name": "stderr",
     "output_type": "stream",
     "text": [
      "/opt/anaconda3/envs/scikit-digital-health/lib/python3.12/site-packages/skdh/io/base.py:111: UserWarning: Timestamps are local but naive, and no time-zone information is available. This may mean that if a DST change occurs during the recording period, the times will be offset by an hour\n",
      "  warn(\n",
      "/opt/anaconda3/envs/scikit-digital-health/lib/python3.12/site-packages/skdh/io/base.py:111: UserWarning: Timestamps are local but naive, and no time-zone information is available. This may mean that if a DST change occurs during the recording period, the times will be offset by an hour\n",
      "  warn(\n"
     ]
    },
    {
     "name": "stdout",
     "output_type": "stream",
     "text": [
      "65381\n"
     ]
    },
    {
     "name": "stderr",
     "output_type": "stream",
     "text": [
      "/opt/anaconda3/envs/scikit-digital-health/lib/python3.12/site-packages/skdh/io/base.py:111: UserWarning: Timestamps are local but naive, and no time-zone information is available. This may mean that if a DST change occurs during the recording period, the times will be offset by an hour\n",
      "  warn(\n",
      "/opt/anaconda3/envs/scikit-digital-health/lib/python3.12/site-packages/skdh/io/base.py:111: UserWarning: Timestamps are local but naive, and no time-zone information is available. This may mean that if a DST change occurs during the recording period, the times will be offset by an hour\n",
      "  warn(\n"
     ]
    },
    {
     "name": "stdout",
     "output_type": "stream",
     "text": [
      "68503\n"
     ]
    },
    {
     "name": "stderr",
     "output_type": "stream",
     "text": [
      "/opt/anaconda3/envs/scikit-digital-health/lib/python3.12/site-packages/skdh/io/base.py:111: UserWarning: Timestamps are local but naive, and no time-zone information is available. This may mean that if a DST change occurs during the recording period, the times will be offset by an hour\n",
      "  warn(\n",
      "/opt/anaconda3/envs/scikit-digital-health/lib/python3.12/site-packages/skdh/io/base.py:111: UserWarning: Timestamps are local but naive, and no time-zone information is available. This may mean that if a DST change occurs during the recording period, the times will be offset by an hour\n",
      "  warn(\n"
     ]
    },
    {
     "name": "stdout",
     "output_type": "stream",
     "text": [
      "73496\n"
     ]
    },
    {
     "name": "stderr",
     "output_type": "stream",
     "text": [
      "/opt/anaconda3/envs/scikit-digital-health/lib/python3.12/site-packages/skdh/io/base.py:111: UserWarning: Timestamps are local but naive, and no time-zone information is available. This may mean that if a DST change occurs during the recording period, the times will be offset by an hour\n",
      "  warn(\n",
      "/opt/anaconda3/envs/scikit-digital-health/lib/python3.12/site-packages/skdh/io/base.py:111: UserWarning: Timestamps are local but naive, and no time-zone information is available. This may mean that if a DST change occurs during the recording period, the times will be offset by an hour\n",
      "  warn(\n"
     ]
    },
    {
     "name": "stdout",
     "output_type": "stream",
     "text": [
      "74003\n"
     ]
    },
    {
     "name": "stderr",
     "output_type": "stream",
     "text": [
      "/opt/anaconda3/envs/scikit-digital-health/lib/python3.12/site-packages/skdh/io/base.py:111: UserWarning: Timestamps are local but naive, and no time-zone information is available. This may mean that if a DST change occurs during the recording period, the times will be offset by an hour\n",
      "  warn(\n",
      "/opt/anaconda3/envs/scikit-digital-health/lib/python3.12/site-packages/skdh/io/base.py:111: UserWarning: Timestamps are local but naive, and no time-zone information is available. This may mean that if a DST change occurs during the recording period, the times will be offset by an hour\n",
      "  warn(\n"
     ]
    },
    {
     "name": "stdout",
     "output_type": "stream",
     "text": [
      "74913\n"
     ]
    },
    {
     "name": "stderr",
     "output_type": "stream",
     "text": [
      "/opt/anaconda3/envs/scikit-digital-health/lib/python3.12/site-packages/skdh/io/base.py:111: UserWarning: Timestamps are local but naive, and no time-zone information is available. This may mean that if a DST change occurs during the recording period, the times will be offset by an hour\n",
      "  warn(\n",
      "/opt/anaconda3/envs/scikit-digital-health/lib/python3.12/site-packages/skdh/io/base.py:111: UserWarning: Timestamps are local but naive, and no time-zone information is available. This may mean that if a DST change occurs during the recording period, the times will be offset by an hour\n",
      "  warn(\n"
     ]
    },
    {
     "name": "stdout",
     "output_type": "stream",
     "text": [
      "78936\n"
     ]
    },
    {
     "name": "stderr",
     "output_type": "stream",
     "text": [
      "/opt/anaconda3/envs/scikit-digital-health/lib/python3.12/site-packages/skdh/io/base.py:111: UserWarning: Timestamps are local but naive, and no time-zone information is available. This may mean that if a DST change occurs during the recording period, the times will be offset by an hour\n",
      "  warn(\n",
      "/opt/anaconda3/envs/scikit-digital-health/lib/python3.12/site-packages/skdh/io/base.py:111: UserWarning: Timestamps are local but naive, and no time-zone information is available. This may mean that if a DST change occurs during the recording period, the times will be offset by an hour\n",
      "  warn(\n"
     ]
    },
    {
     "name": "stdout",
     "output_type": "stream",
     "text": [
      "86693\n"
     ]
    },
    {
     "name": "stderr",
     "output_type": "stream",
     "text": [
      "/opt/anaconda3/envs/scikit-digital-health/lib/python3.12/site-packages/skdh/io/base.py:111: UserWarning: Timestamps are local but naive, and no time-zone information is available. This may mean that if a DST change occurs during the recording period, the times will be offset by an hour\n",
      "  warn(\n",
      "/opt/anaconda3/envs/scikit-digital-health/lib/python3.12/site-packages/skdh/io/base.py:111: UserWarning: Timestamps are local but naive, and no time-zone information is available. This may mean that if a DST change occurs during the recording period, the times will be offset by an hour\n",
      "  warn(\n"
     ]
    },
    {
     "name": "stdout",
     "output_type": "stream",
     "text": [
      "97060\n"
     ]
    },
    {
     "name": "stderr",
     "output_type": "stream",
     "text": [
      "/opt/anaconda3/envs/scikit-digital-health/lib/python3.12/site-packages/skdh/io/base.py:111: UserWarning: Timestamps are local but naive, and no time-zone information is available. This may mean that if a DST change occurs during the recording period, the times will be offset by an hour\n",
      "  warn(\n",
      "/opt/anaconda3/envs/scikit-digital-health/lib/python3.12/site-packages/skdh/io/base.py:111: UserWarning: Timestamps are local but naive, and no time-zone information is available. This may mean that if a DST change occurs during the recording period, the times will be offset by an hour\n",
      "  warn(\n"
     ]
    }
   ],
   "source": [
    "\"\"\"\n",
    "Read .bin files coming from GENEActiv devices and save them as a pd.DataFrame in parquet format.\n",
    "\n",
    "This module is based on the code from the scikit-digital-health python package (https://github.com/pfizer-opensource/scikit-digital-health)\n",
    "\n",
    "IMP: scikit-digital-health create conflicts with versions needed for other packages. To solve this:\n",
    "1. I tried to just copy the code can be copied and modified it to work as a standalone module -- however, scikit-digital-health \n",
    "    uses a lot of other modules (also implemented in .c) and it is not clear how to separate them without breaking the code.\n",
    "2. Solution for now: he scikit-digital-health package is installed in a separate conda environment and the code is run from there.\n",
    "\n",
    "\"\"\"\n",
    "\n",
    "import numpy as np\n",
    "import pandas as pd\n",
    "import os\n",
    "from skdh.io import ReadBin\n",
    "\n",
    "def bin2parquet(file_path):\n",
    "    \"\"\"\n",
    "    Read a .bin file from a GENEActiv device.\n",
    "    \"\"\"\n",
    "    reader = ReadBin()\n",
    "    data = reader.predict(file = file_path)\n",
    "    acc_df = pd.DataFrame(data[\"accel\"], \n",
    "                          columns = [\"x\", \"y\", \"z\"],\n",
    "                          index = pd.to_datetime(data[\"time\"], unit = \"s\"))\n",
    "    # save as parquet\n",
    "    acc_df.to_parquet(file_path.replace(\".bin\", \".parquet\"))\n",
    "\n",
    "if __name__ == \"__main__\":\n",
    "    data_path = \"/Users/augenpro/Documents/Age-IT\" # path to the folder containing the subjects\n",
    "    participants = sorted([p for p in os.listdir(data_path) if not p.startswith(\".\")]) # list of the participants\n",
    "    visit = \"T0 (baseline)\" # T0 (baseline), T1 (follow-up @ 6 months), T2 (follow-up @ 12 months)\n",
    "\n",
    "    sensors = [\"GeneActivPolso\", \"GeneActivCaviglia\"]\n",
    "\n",
    "    for participant in participants:\n",
    "        print(participant)\n",
    "        for sensor in sensors:\n",
    "            path = os.path.join(data_path, participant, visit, sensor)\n",
    "            files = os.listdir(os.path.join(data_path, participant, visit, sensor))\n",
    "            # if there are already parquet files, skip\n",
    "            if any([f.endswith(\".parquet\") for f in files]):\n",
    "                continue\n",
    "            for f in files:\n",
    "                if f.endswith(\".bin\"):\n",
    "                    bin2parquet(os.path.join(path, f))"
   ]
  }
 ],
 "metadata": {
  "kernelspec": {
   "display_name": "scikit-digital-health",
   "language": "python",
   "name": "python3"
  },
  "language_info": {
   "codemirror_mode": {
    "name": "ipython",
    "version": 3
   },
   "file_extension": ".py",
   "mimetype": "text/x-python",
   "name": "python",
   "nbconvert_exporter": "python",
   "pygments_lexer": "ipython3",
   "version": "3.12.2"
  }
 },
 "nbformat": 4,
 "nbformat_minor": 2
}
