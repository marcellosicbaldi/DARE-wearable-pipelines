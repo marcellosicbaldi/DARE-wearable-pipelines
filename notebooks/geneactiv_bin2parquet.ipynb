{
 "cells": [
  {
   "cell_type": "code",
   "execution_count": 0,
   "metadata": {
    "application/vnd.databricks.v1+cell": {
     "cellMetadata": {
      "byteLimit": 2048000,
      "rowLimit": 10000
     },
     "inputWidgets": {},
     "nuid": "d7678ddf-1fd9-4475-9808-b70c16d3dae9",
     "showTitle": false,
     "tableResultSettingsMap": {},
     "title": ""
    }
   },
   "outputs": [],
   "source": [
    "%pip install scikit-digital-health"
   ]
  },
  {
   "cell_type": "code",
   "execution_count": 0,
   "metadata": {
    "application/vnd.databricks.v1+cell": {
     "cellMetadata": {
      "byteLimit": 2048000,
      "rowLimit": 10000
     },
     "inputWidgets": {},
     "nuid": "32ae1487-3fd3-46c6-8d05-5ce615ea1e7d",
     "showTitle": false,
     "tableResultSettingsMap": {},
     "title": ""
    }
   },
   "outputs": [],
   "source": [
    "import mlflow\n",
    "mlflow.autolog(disable=True)"
   ]
  },
  {
   "cell_type": "code",
   "execution_count": 0,
   "metadata": {
    "application/vnd.databricks.v1+cell": {
     "cellMetadata": {
      "byteLimit": 2048000,
      "rowLimit": 10000
     },
     "inputWidgets": {},
     "nuid": "ab0b9f34-3be4-4b98-a769-05c3e2d809a5",
     "showTitle": false,
     "tableResultSettingsMap": {},
     "title": ""
    }
   },
   "outputs": [],
   "source": [
    "\"\"\"\n",
    "Read .bin files coming from GENEActiv devices and save them as a pd.DataFrame in parquet format.\n",
    "\n",
    "This module is based on the code from the scikit-digital-health python package (https://github.com/pfizer-opensource/scikit-digital-health)\n",
    "\n",
    "IMP: scikit-digital-health create conflicts with versions needed for other packages. Scikit-digital-health  uses a lot of other modules (also implemented in .c) and it is not clear how to separate them without breaking the code.\n",
    "Solution: the scikit-digital-health package is installed as a notebook-scoped library only for this notebook. \n",
    "\n",
    "\"\"\"\n",
    "\n",
    "\"\"\"\n",
    "IMP: Sometimes there is an unexpected behaviour. It is not clear why but the accelerometer data is not read correctly, and if it happens it happens for all the recordings of all participants. \n",
    "If the message \"Not enough still periods found for calibration\" is printed, it means that the accelerometer data is not read correctly.\n",
    "It doesn't make any sense - just restarting the PC and running the same code again solves the problem.\n",
    "\"\"\"\n",
    "\n",
    "import numpy as np\n",
    "import pandas as pd\n",
    "import os\n",
    "from skdh.io import ReadBin\n",
    "from skdh.preprocessing import CalibrateAccelerometer\n",
    "\n",
    "from nonwear.DETACH import nimbaldetach\n",
    "\n",
    "def bin2parquet(file_path, save_path, calibrate = True):\n",
    "    \"\"\"\n",
    "    Read a .bin file from a GENEActiv device.\n",
    "    \"\"\"\n",
    "\n",
    "    reader = ReadBin()\n",
    "    data = reader.predict(file = file_path)\n",
    "    # data_for_df = np.concatenate((data[\"accel\"], data[\"temperature\"].reshape(-1, 1), data[\"light\"].reshape(-1, 1)), axis = 1)\n",
    "    # acc_df = pd.DataFrame(data_for_df, \n",
    "    #                       columns = [\"x\", \"y\", \"z\", \"temperature\", \"light\"],\n",
    "    #                       index = pd.to_datetime(data[\"time\"], unit = \"s\"))\n",
    "    # # save as parquet\n",
    "    # acc_df.to_parquet(save_path.replace(\".bin\", \".parquet\"))\n",
    "\n",
    "    if (data[\"accel\"].shape[0] > 72*60*60*100) & calibrate: # if the data is longer than 72 hours\n",
    "        calibrator = CalibrateAccelerometer()\n",
    "        print(\"Calibrating accelerometer...\")\n",
    "        try:\n",
    "            acc_cal = calibrator.predict(time = data[\"time\"], accel = data[\"accel\"], temperature = data[\"temperature\"])\n",
    "        except KeyError:\n",
    "            print(\"Not enough data to calibrate accelerometer.\")\n",
    "            return\n",
    "        \n",
    "        start_stop_nw, _ = nimbaldetach(data[\"accel\"][:, 0], data[\"accel\"][:, 1], data[\"accel\"][:, 2], data[\"temperature\"],\n",
    "                                         accel_freq=100, temperature_freq=100, quiet=True)\n",
    "\n",
    "        data_for_df = np.concatenate((acc_cal[\"accel\"], data[\"temperature\"].reshape(-1, 1), data[\"light\"].reshape(-1, 1)), axis = 1)\n",
    "        data_cal_df = pd.DataFrame(data_for_df,\n",
    "                                   columns = [\"x\", \"y\", \"z\", \"temperature\", \"light\"],\n",
    "                                   index = pd.to_datetime(data[\"time\"], unit = \"s\"))\n",
    "        \n",
    "        # Remove non-wear periods\n",
    "        for i, row in start_stop_nw.iterrows():\n",
    "            datetime_start_nw = data_cal_df.index[row[\"Start Datapoint\"]]\n",
    "            datetime_end_nw = data_cal_df.index[row[\"End Datapoint\"]]\n",
    "            data_cal_df.loc[datetime_start_nw:datetime_end_nw] = np.nan\n",
    "\n",
    "        data_cal_df.to_parquet(save_path.replace(\".bin\", \"_preprocessed.parquet\"))\n",
    "\n",
    "    else: # do not calibrate\n",
    "        start_stop_nw, _ = nimbaldetach(data[\"accel\"][:, 0], data[\"accel\"][:, 1], data[\"accel\"][:, 2], data[\"temperature\"],\n",
    "                                         accel_freq=100, temperature_freq=100, quiet=True)\n",
    "        data_for_df = np.concatenate((data[\"accel\"], data[\"temperature\"].reshape(-1, 1), data[\"light\"].reshape(-1, 1)), axis = 1)\n",
    "        acc_df = pd.DataFrame(data_for_df, \n",
    "                              columns = [\"x\", \"y\", \"z\", \"temperature\", \"light\"],\n",
    "                              index = pd.to_datetime(data[\"time\"], unit = \"s\"))\n",
    "        \n",
    "        # Remove non-wear periods\n",
    "        for i, row in start_stop_nw.iterrows():\n",
    "            datetime_start_nw = data_cal_df.index[row[\"Start Datapoint\"]]\n",
    "            datetime_end_nw = data_cal_df.index[row[\"End Datapoint\"]]\n",
    "            data_cal_df.loc[datetime_start_nw:datetime_end_nw] = np.nan\n",
    "\n",
    "        data_cal_df.to_parquet(save_path.replace(\".bin\", \".parquet\"))\n",
    "\n",
    "if __name__ == \"__main__\":\n",
    "    data_path = \"/dbfs/mnt/storageageittest/sensori-bronze/\" # path to the bronze layer containing the subjects\n",
    "    silver_path = \"/dbfs/mnt/storageageittest/sensori-silver/\" # path to the silver layer\n",
    "    participants = sorted([p for p in os.listdir(data_path) if not p.startswith(\".\")]) # list of the participants\n",
    "    participants = participants[:1]\n",
    "\n",
    "    visit = \"T0 (baseline)\" # T0 (baseline), T1 (follow-up @ 6 months), T2 (follow-up @ 12 months)\n",
    "\n",
    "    sensors = [\"GeneActivPolso\", \"GeneActivCaviglia\"]\n",
    "\n",
    "    for participant in participants:\n",
    "        print(participant)\n",
    "        for sensor in sensors:\n",
    "            path = os.path.join(data_path, participant, visit, sensor)\n",
    "            save_path = os.path.join(silver_path, participant, visit, sensor)\n",
    "            files = os.listdir(os.path.join(data_path, participant, visit, sensor))\n",
    "            # if there are already parquet files, skip\n",
    "            # if any([f.endswith(\".parquet\") for f in files]):\n",
    "            #     continue\n",
    "            for f in files:\n",
    "                if f.endswith(\".bin\"):\n",
    "                    try:\n",
    "                        bin2parquet(os.path.join(path, f), os.path.join(save_path, f), calibrate = True)\n",
    "                    except Exception as e:\n",
    "                        print(f\"Error with {f}: {e}\")\n",
    "                        continue"
   ]
  }
 ],
 "metadata": {
  "application/vnd.databricks.v1+notebook": {
   "computePreferences": null,
   "dashboards": [],
   "environmentMetadata": null,
   "language": "python",
   "notebookMetadata": {
    "pythonIndentUnit": 4
   },
   "notebookName": "geneactiv_bin2parquet",
   "widgets": {}
  },
  "kernelspec": {
   "display_name": "scikit-digital-health",
   "language": "python",
   "name": "python3"
  },
  "language_info": {
   "name": "python"
  }
 },
 "nbformat": 4,
 "nbformat_minor": 0
}
