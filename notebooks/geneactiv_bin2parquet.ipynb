{
 "cells": [
  {
   "cell_type": "code",
   "execution_count": 1,
   "metadata": {},
   "outputs": [
    {
     "data": {
      "text/plain": [
       "['36765',\n",
       " '36920',\n",
       " '58319',\n",
       " '59794',\n",
       " '65381',\n",
       " '68503',\n",
       " '73496',\n",
       " '74003',\n",
       " '74913',\n",
       " '78936',\n",
       " '86693',\n",
       " '97060']"
      ]
     },
     "execution_count": 1,
     "metadata": {},
     "output_type": "execute_result"
    }
   ],
   "source": [
    "import os\n",
    "\n",
    "data_path = \"/Users/augenpro/Documents/Age-IT/data/Bronze/\" # path to the folder containing the subjects\n",
    "silver_path = \"/Users/augenpro/Documents/Age-IT/data/Silver/\"\n",
    "participants = sorted([p for p in os.listdir(data_path) if not p.startswith(\".\")]) # list of the participants\n",
    "\n",
    "participants[6:]"
   ]
  },
  {
   "cell_type": "code",
   "execution_count": 3,
   "metadata": {},
   "outputs": [
    {
     "name": "stdout",
     "output_type": "stream",
     "text": [
      "36765\n"
     ]
    },
    {
     "name": "stderr",
     "output_type": "stream",
     "text": [
      "/opt/anaconda3/envs/scikit-digital-health/lib/python3.12/site-packages/skdh/io/base.py:111: UserWarning: Timestamps are local but naive, and no time-zone information is available. This may mean that if a DST change occurs during the recording period, the times will be offset by an hour\n",
      "  warn(\n"
     ]
    },
    {
     "name": "stdout",
     "output_type": "stream",
     "text": [
      "Calibrating accelerometer...\n"
     ]
    },
    {
     "ename": "",
     "evalue": "",
     "output_type": "error",
     "traceback": [
      "\u001b[1;31mThe Kernel crashed while executing code in the current cell or a previous cell. \n",
      "\u001b[1;31mPlease review the code in the cell(s) to identify a possible cause of the failure. \n",
      "\u001b[1;31mClick <a href='https://aka.ms/vscodeJupyterKernelCrash'>here</a> for more info. \n",
      "\u001b[1;31mView Jupyter <a href='command:jupyter.viewOutput'>log</a> for further details."
     ]
    }
   ],
   "source": [
    "\"\"\"\n",
    "Read .bin files coming from GENEActiv devices and save them as a pd.DataFrame in parquet format.\n",
    "\n",
    "This module is based on the code from the scikit-digital-health python package (https://github.com/pfizer-opensource/scikit-digital-health)\n",
    "\n",
    "IMP: scikit-digital-health create conflicts with versions needed for other packages. To solve this:\n",
    "1. I tried to just copy the code can be copied and modified it to work as a standalone module -- however, scikit-digital-health \n",
    "    uses a lot of other modules (also implemented in .c) and it is not clear how to separate them without breaking the code.\n",
    "2. Solution for now: he scikit-digital-health package is installed in a separate conda environment and the code is run from there.\n",
    "\n",
    "\"\"\"\n",
    "\n",
    "\n",
    "\"\"\"\n",
    "IMP: Sometimes there is an unexpected behaviour. It is not clear why but the accelerometer data is not read correctly, and if it happens it happens\n",
    "for all the recordings of all participants. \n",
    "If the message \"Not enough still periods found for calibration\" is printed, it means that the accelerometer data is not read correctly.\n",
    "It doesn't make any sense - just restarting the PC and running the same code again solves the problem.\n",
    "\"\"\"\n",
    "\n",
    "import numpy as np\n",
    "import pandas as pd\n",
    "import os\n",
    "from skdh.io import ReadBin\n",
    "from skdh.preprocessing import CalibrateAccelerometer\n",
    "\n",
    "import sys\n",
    "sys.path.append(\"../\")\n",
    "from nonwear.DETACH import nimbaldetach\n",
    "\n",
    "def bin2parquet(file_path, save_path, calibrate = True):\n",
    "    \"\"\"\n",
    "    Read a .bin file from a GENEActiv device.\n",
    "    \"\"\"\n",
    "\n",
    "    reader = ReadBin()\n",
    "    data = reader.predict(file = file_path)\n",
    "    # data_for_df = np.concatenate((data[\"accel\"], data[\"temperature\"].reshape(-1, 1), data[\"light\"].reshape(-1, 1)), axis = 1)\n",
    "    # acc_df = pd.DataFrame(data_for_df, \n",
    "    #                       columns = [\"x\", \"y\", \"z\", \"temperature\", \"light\"],\n",
    "    #                       index = pd.to_datetime(data[\"time\"], unit = \"s\"))\n",
    "    # # save as parquet\n",
    "    # acc_df.to_parquet(file_path.replace(\".bin\", \".parquet\"))\n",
    "\n",
    "    if (data[\"accel\"].shape[0] > 72*60*60*100) & calibrate: # if the data is longer than 72 hours\n",
    "        calibrator = CalibrateAccelerometer()\n",
    "        print(\"Calibrating accelerometer...\")\n",
    "        try:\n",
    "            acc_cal = calibrator.predict(time = data[\"time\"], accel = data[\"accel\"], temperature = data[\"temperature\"])\n",
    "        except KeyError:\n",
    "            print(\"Not enough data to calibrate accelerometer.\")\n",
    "            return\n",
    "        \n",
    "        start_stop_nw, _ = nimbaldetach(data[\"accel\"][:, 0], data[\"accel\"][:, 1], data[\"accel\"][:, 2], data[\"temperature\"],\n",
    "                                         accel_freq=100, temperature_freq=100, quiet=True)\n",
    "\n",
    "        data_for_df = np.concatenate((acc_cal[\"accel\"], data[\"temperature\"].reshape(-1, 1), data[\"light\"].reshape(-1, 1)), axis = 1)\n",
    "        data_cal_df = pd.DataFrame(data_for_df,\n",
    "                                   columns = [\"x\", \"y\", \"z\", \"temperature\", \"light\"],\n",
    "                                   index = pd.to_datetime(data[\"time\"], unit = \"s\"))\n",
    "        \n",
    "        # Remove non-wear periods\n",
    "        for i, row in start_stop_nw.iterrows():\n",
    "            datetime_start_nw = data_cal_df.index[row[\"Start Datapoint\"]]\n",
    "            datetime_end_nw = data_cal_df.index[row[\"End Datapoint\"]]\n",
    "            data_cal_df.loc[datetime_start_nw:datetime_end_nw] = np.nan\n",
    "\n",
    "        data_cal_df.to_parquet(save_path.replace(\".bin\", \"_preprocessed.parquet\"))\n",
    "\n",
    "    else: # do not calibrate\n",
    "        start_stop_nw, _ = nimbaldetach(data[\"accel\"][:, 0], data[\"accel\"][:, 1], data[\"accel\"][:, 2], data[\"temperature\"],\n",
    "                                         accel_freq=100, temperature_freq=100, quiet=True)\n",
    "        data_for_df = np.concatenate((data[\"accel\"], data[\"temperature\"].reshape(-1, 1), data[\"light\"].reshape(-1, 1)), axis = 1)\n",
    "        acc_df = pd.DataFrame(data_for_df, \n",
    "                              columns = [\"x\", \"y\", \"z\", \"temperature\", \"light\"],\n",
    "                              index = pd.to_datetime(data[\"time\"], unit = \"s\"))\n",
    "        \n",
    "        # Remove non-wear periods\n",
    "        for i, row in start_stop_nw.iterrows():\n",
    "            datetime_start_nw = data_cal_df.index[row[\"Start Datapoint\"]]\n",
    "            datetime_end_nw = data_cal_df.index[row[\"End Datapoint\"]]\n",
    "            data_cal_df.loc[datetime_start_nw:datetime_end_nw] = np.nan\n",
    "\n",
    "        data_cal_df.to_parquet(save_path.replace(\".bin\", \".parquet\"))\n",
    "\n",
    "\n",
    "if __name__ == \"__main__\":\n",
    "    data_path = \"/Users/augenpro/Documents/Age-IT/data/Bronze/\" # path to the folder containing the subjects\n",
    "    silver_path = \"/Users/augenpro/Documents/Age-IT/data/Silver/\"\n",
    "    participants = sorted([p for p in os.listdir(data_path) if not p.startswith(\".\")]) # list of the participants\n",
    "    participants = participants[6:]\n",
    "    # participants = [\"08667\", \"20603\", \"36765\"]\n",
    "    visit = \"T0 (baseline)\" # T0 (baseline), T1 (follow-up @ 6 months), T2 (follow-up @ 12 months)\n",
    "\n",
    "    sensors = [\"GeneActivPolso\", \"GeneActivCaviglia\"]\n",
    "\n",
    "    for participant in participants:\n",
    "        print(participant)\n",
    "        for sensor in sensors:\n",
    "            path = os.path.join(data_path, participant, visit, sensor)\n",
    "            save_path = os.path.join(silver_path, participant, visit, sensor)\n",
    "            files = os.listdir(os.path.join(data_path, participant, visit, sensor))\n",
    "            # if there are already parquet files, skip\n",
    "            # if any([f.endswith(\".parquet\") for f in files]):\n",
    "            #     continue\n",
    "            for f in files:\n",
    "                if f.endswith(\".bin\"):\n",
    "                    try:\n",
    "                        bin2parquet(os.path.join(path, f), os.path.join(save_path, f), calibrate = True)\n",
    "                    except Exception as e:\n",
    "                        print(f\"Error with {f}: {e}\")\n",
    "                        continue"
   ]
  },
  {
   "cell_type": "code",
   "execution_count": null,
   "metadata": {},
   "outputs": [
    {
     "name": "stdout",
     "output_type": "stream",
     "text": [
      "08667\n"
     ]
    },
    {
     "name": "stderr",
     "output_type": "stream",
     "text": [
      "/opt/anaconda3/envs/scikit-digital-health/lib/python3.12/site-packages/skdh/io/base.py:111: UserWarning: Timestamps are local but naive, and no time-zone information is available. This may mean that if a DST change occurs during the recording period, the times will be offset by an hour\n",
      "  warn(\n"
     ]
    },
    {
     "name": "stdout",
     "output_type": "stream",
     "text": [
      "Calibrating accelerometer...\n"
     ]
    }
   ],
   "source": [
    "\"\"\"\n",
    "Read .bin files coming from GENEActiv devices and save them as a pd.DataFrame in parquet format.\n",
    "\n",
    "This module is based on the code from the scikit-digital-health python package (https://github.com/pfizer-opensource/scikit-digital-health)\n",
    "\n",
    "IMP: scikit-digital-health create conflicts with versions needed for other packages. To solve this:\n",
    "1. I tried to just copy the code can be copied and modified it to work as a standalone module -- however, scikit-digital-health \n",
    "    uses a lot of other modules (also implemented in .c) and it is not clear how to separate them without breaking the code.\n",
    "2. Solution for now: he scikit-digital-health package is installed in a separate conda environment and the code is run from there.\n",
    "\n",
    "\"\"\"\n",
    "\n",
    "import numpy as np\n",
    "import pandas as pd\n",
    "import os\n",
    "from skdh.io import ReadBin\n",
    "from skdh.preprocessing import CalibrateAccelerometer\n",
    "\n",
    "def bin2parquet(file_path, calibrate = False):\n",
    "    \"\"\"\n",
    "    Read a .bin file from a GENEActiv device.\n",
    "    \"\"\"\n",
    "    reader = ReadBin()\n",
    "    data = reader.predict(file = file_path)\n",
    "    data_for_df = np.concatenate((data[\"accel\"], data[\"temperature\"].reshape(-1, 1), data[\"light\"].reshape(-1, 1)), axis = 1)\n",
    "    acc_df = pd.DataFrame(data_for_df, \n",
    "                          columns = [\"x\", \"y\", \"z\", \"temperature\", \"light\"],\n",
    "                          index = pd.to_datetime(data[\"time\"], unit = \"s\"))\n",
    "    # save as parquet\n",
    "    acc_df.to_parquet(file_path.replace(\".bin\", \".parquet\"))\n",
    "\n",
    "    calibrator = CalibrateAccelerometer()\n",
    "\n",
    "    if calibrate:\n",
    "        print(\"Calibrating accelerometer...\")\n",
    "        acc_cal = calibrator.predict(time = data[\"time\"], accel = data[\"accel\"], temperature = data[\"temperature\"])\n",
    "        data_for_df = np.concatenate((acc_cal[\"accel\"], data[\"temperature\"].reshape(-1, 1), data[\"light\"].reshape(-1, 1)), axis = 1)\n",
    "        data_cal_df = pd.DataFrame(data_for_df,\n",
    "                                   columns = [\"x\", \"y\", \"z\", \"temperature\", \"light\"],\n",
    "                                   index = pd.to_datetime(data[\"time\"], unit = \"s\"))\n",
    "        data_cal_df.to_parquet(file_path.replace(\".bin\", \"_calibrated.parquet\"))\n",
    "\n",
    "if __name__ == \"__main__\":\n",
    "    data_path = \"/Users/augenpro/Documents/Age-IT/data/Bronze/\" # path to the folder containing the subjects\n",
    "    # participants = sorted([p for p in os.listdir(data_path) if not p.startswith(\".\")]) # list of the participants\n",
    "    participants = [\"08667\"]\n",
    "    visit = \"T0 (baseline)\" # T0 (baseline), T1 (follow-up @ 6 months), T2 (follow-up @ 12 months)\n",
    "\n",
    "    sensors = [\"GeneActivPolso\", \"GeneActivCaviglia\"]\n",
    "\n",
    "    for participant in participants:\n",
    "        print(participant)\n",
    "        for sensor in sensors:\n",
    "            path = os.path.join(data_path, participant, visit, sensor)\n",
    "            files = os.listdir(os.path.join(data_path, participant, visit, sensor))\n",
    "            # if there are already parquet files, skip\n",
    "            # if any([f.endswith(\".parquet\") for f in files]):\n",
    "            #     continue\n",
    "            for f in files:\n",
    "                if f.endswith(\".bin\"):\n",
    "                    bin2parquet(os.path.join(path, f), calibrate = False)\n",
    "\n",
    "            break\n",
    "        break"
   ]
  },
  {
   "cell_type": "code",
   "execution_count": 2,
   "metadata": {},
   "outputs": [
    {
     "data": {
      "text/plain": [
       "['08623',\n",
       " '08667',\n",
       " '14219',\n",
       " '20603',\n",
       " '23483',\n",
       " '36644',\n",
       " '36765',\n",
       " '36920',\n",
       " '58319',\n",
       " '59794',\n",
       " '65381',\n",
       " '68503',\n",
       " '73496',\n",
       " '74003',\n",
       " '74913',\n",
       " '78936',\n",
       " '86693',\n",
       " '97060']"
      ]
     },
     "execution_count": 2,
     "metadata": {},
     "output_type": "execute_result"
    }
   ],
   "source": [
    "participants"
   ]
  },
  {
   "cell_type": "code",
   "execution_count": 10,
   "metadata": {},
   "outputs": [
    {
     "data": {
      "application/vnd.microsoft.datawrangler.viewer.v0+json": {
       "columns": [
        {
         "name": "index",
         "rawType": "datetime64[ns]",
         "type": "datetime"
        },
        {
         "name": "x",
         "rawType": "float64",
         "type": "float"
        },
        {
         "name": "y",
         "rawType": "float64",
         "type": "float"
        },
        {
         "name": "z",
         "rawType": "float64",
         "type": "float"
        },
        {
         "name": "temperature",
         "rawType": "float64",
         "type": "float"
        },
        {
         "name": "light",
         "rawType": "float64",
         "type": "float"
        }
       ],
       "conversionMethod": "pd.DataFrame",
       "ref": "2dd8060a-9144-4e49-a04f-44a4f7aff747",
       "rows": [
        [
         "2025-01-28 13:10:40",
         "-0.00864719068842765",
         "0.002249444684637619",
         "-1.0020297384407348",
         "33.5",
         "439.0"
        ],
        [
         "2025-01-28 13:10:40.009999990",
         "-0.012499305184377226",
         "0.006136405461911123",
         "-1.0020297384407348",
         "33.5",
         "439.0"
        ],
        [
         "2025-01-28 13:10:40.019999981",
         "-0.02020353417627637",
         "-0.0016375160926358867",
         "-0.9903962691364872",
         "33.5",
         "439.0"
        ],
        [
         "2025-01-28 13:10:40.029999971",
         "-0.016351419680326797",
         "0.006136405461911123",
         "-1.0020297384407348",
         "33.5",
         "439.0"
        ],
        [
         "2025-01-28 13:10:40.039999962",
         "-0.004795076192478076",
         "-0.0016375160926358867",
         "-0.9903962691364872",
         "33.5",
         "439.0"
        ]
       ],
       "shape": {
        "columns": 5,
        "rows": 5
       }
      },
      "text/html": [
       "<div>\n",
       "<style scoped>\n",
       "    .dataframe tbody tr th:only-of-type {\n",
       "        vertical-align: middle;\n",
       "    }\n",
       "\n",
       "    .dataframe tbody tr th {\n",
       "        vertical-align: top;\n",
       "    }\n",
       "\n",
       "    .dataframe thead th {\n",
       "        text-align: right;\n",
       "    }\n",
       "</style>\n",
       "<table border=\"1\" class=\"dataframe\">\n",
       "  <thead>\n",
       "    <tr style=\"text-align: right;\">\n",
       "      <th></th>\n",
       "      <th>x</th>\n",
       "      <th>y</th>\n",
       "      <th>z</th>\n",
       "      <th>temperature</th>\n",
       "      <th>light</th>\n",
       "    </tr>\n",
       "  </thead>\n",
       "  <tbody>\n",
       "    <tr>\n",
       "      <th>2025-01-28 13:10:40.000000000</th>\n",
       "      <td>-0.008647</td>\n",
       "      <td>0.002249</td>\n",
       "      <td>-1.002030</td>\n",
       "      <td>33.5</td>\n",
       "      <td>439.0</td>\n",
       "    </tr>\n",
       "    <tr>\n",
       "      <th>2025-01-28 13:10:40.009999990</th>\n",
       "      <td>-0.012499</td>\n",
       "      <td>0.006136</td>\n",
       "      <td>-1.002030</td>\n",
       "      <td>33.5</td>\n",
       "      <td>439.0</td>\n",
       "    </tr>\n",
       "    <tr>\n",
       "      <th>2025-01-28 13:10:40.019999981</th>\n",
       "      <td>-0.020204</td>\n",
       "      <td>-0.001638</td>\n",
       "      <td>-0.990396</td>\n",
       "      <td>33.5</td>\n",
       "      <td>439.0</td>\n",
       "    </tr>\n",
       "    <tr>\n",
       "      <th>2025-01-28 13:10:40.029999971</th>\n",
       "      <td>-0.016351</td>\n",
       "      <td>0.006136</td>\n",
       "      <td>-1.002030</td>\n",
       "      <td>33.5</td>\n",
       "      <td>439.0</td>\n",
       "    </tr>\n",
       "    <tr>\n",
       "      <th>2025-01-28 13:10:40.039999962</th>\n",
       "      <td>-0.004795</td>\n",
       "      <td>-0.001638</td>\n",
       "      <td>-0.990396</td>\n",
       "      <td>33.5</td>\n",
       "      <td>439.0</td>\n",
       "    </tr>\n",
       "  </tbody>\n",
       "</table>\n",
       "</div>"
      ],
      "text/plain": [
       "                                      x         y         z  temperature  \\\n",
       "2025-01-28 13:10:40.000000000 -0.008647  0.002249 -1.002030         33.5   \n",
       "2025-01-28 13:10:40.009999990 -0.012499  0.006136 -1.002030         33.5   \n",
       "2025-01-28 13:10:40.019999981 -0.020204 -0.001638 -0.990396         33.5   \n",
       "2025-01-28 13:10:40.029999971 -0.016351  0.006136 -1.002030         33.5   \n",
       "2025-01-28 13:10:40.039999962 -0.004795 -0.001638 -0.990396         33.5   \n",
       "\n",
       "                               light  \n",
       "2025-01-28 13:10:40.000000000  439.0  \n",
       "2025-01-28 13:10:40.009999990  439.0  \n",
       "2025-01-28 13:10:40.019999981  439.0  \n",
       "2025-01-28 13:10:40.029999971  439.0  \n",
       "2025-01-28 13:10:40.039999962  439.0  "
      ]
     },
     "execution_count": 10,
     "metadata": {},
     "output_type": "execute_result"
    }
   ],
   "source": [
    "\n",
    "# acc = pd.read_parquet(\"/Users/augenpro/Documents/Age-IT/data/Bronze/08667/T0 (baseline)/GeneActivPolso/08667_left wrist_105524_2025-02-11 14-06-32.parquet\")\n",
    "import pandas as pd\n",
    "acc_cal = pd.read_parquet(\"/Users/augenpro/Documents/Age-IT/data/Silver/36644/T0 (baseline)/GeneActivCaviglia/36644_right ankle_106296_2025-02-04 18-17-15_preprocessed.parquet\")\n",
    "acc_cal.head()"
   ]
  },
  {
   "cell_type": "code",
   "execution_count": 4,
   "metadata": {},
   "outputs": [
    {
     "data": {
      "application/vnd.microsoft.datawrangler.viewer.v0+json": {
       "columns": [
        {
         "name": "index",
         "rawType": "datetime64[ns]",
         "type": "datetime"
        },
        {
         "name": "x",
         "rawType": "float64",
         "type": "float"
        },
        {
         "name": "y",
         "rawType": "float64",
         "type": "float"
        },
        {
         "name": "z",
         "rawType": "float64",
         "type": "float"
        },
        {
         "name": "temperature",
         "rawType": "float64",
         "type": "float"
        },
        {
         "name": "light",
         "rawType": "float64",
         "type": "float"
        }
       ],
       "conversionMethod": "pd.DataFrame",
       "ref": "45cc1184-7e7f-40ec-a7a1-226ed4332ca4",
       "rows": [
        [
         "2025-02-05 14:06:21",
         "0.0011166318688147076",
         "-1.0099999169002112",
         "-0.1363539370739359",
         "24.5",
         "212.0"
        ],
        [
         "2025-02-05 14:06:21.009999990",
         "0.017058900545147502",
         "-0.9901994910639499",
         "-0.12049552931392486",
         "24.5",
         "212.0"
        ],
        [
         "2025-02-05 14:06:21.019999981",
         "0.009087766206981106",
         "-0.9941595762312021",
         "-0.12049552931392486",
         "24.5",
         "212.0"
        ],
        [
         "2025-02-05 14:06:21.029999971",
         "0.009087766206981106",
         "-0.9981196613984545",
         "-0.12446013125392763",
         "24.5",
         "212.0"
        ],
        [
         "2025-02-05 14:06:21.039999962",
         "0.013073333376064304",
         "-0.9981196613984545",
         "-0.13238933513393314",
         "24.5",
         "212.0"
        ]
       ],
       "shape": {
        "columns": 5,
        "rows": 5
       }
      },
      "text/html": [
       "<div>\n",
       "<style scoped>\n",
       "    .dataframe tbody tr th:only-of-type {\n",
       "        vertical-align: middle;\n",
       "    }\n",
       "\n",
       "    .dataframe tbody tr th {\n",
       "        vertical-align: top;\n",
       "    }\n",
       "\n",
       "    .dataframe thead th {\n",
       "        text-align: right;\n",
       "    }\n",
       "</style>\n",
       "<table border=\"1\" class=\"dataframe\">\n",
       "  <thead>\n",
       "    <tr style=\"text-align: right;\">\n",
       "      <th></th>\n",
       "      <th>x</th>\n",
       "      <th>y</th>\n",
       "      <th>z</th>\n",
       "      <th>temperature</th>\n",
       "      <th>light</th>\n",
       "    </tr>\n",
       "  </thead>\n",
       "  <tbody>\n",
       "    <tr>\n",
       "      <th>2025-02-05 14:06:21.000000000</th>\n",
       "      <td>0.001117</td>\n",
       "      <td>-1.010000</td>\n",
       "      <td>-0.136354</td>\n",
       "      <td>24.5</td>\n",
       "      <td>212.0</td>\n",
       "    </tr>\n",
       "    <tr>\n",
       "      <th>2025-02-05 14:06:21.009999990</th>\n",
       "      <td>0.017059</td>\n",
       "      <td>-0.990199</td>\n",
       "      <td>-0.120496</td>\n",
       "      <td>24.5</td>\n",
       "      <td>212.0</td>\n",
       "    </tr>\n",
       "    <tr>\n",
       "      <th>2025-02-05 14:06:21.019999981</th>\n",
       "      <td>0.009088</td>\n",
       "      <td>-0.994160</td>\n",
       "      <td>-0.120496</td>\n",
       "      <td>24.5</td>\n",
       "      <td>212.0</td>\n",
       "    </tr>\n",
       "    <tr>\n",
       "      <th>2025-02-05 14:06:21.029999971</th>\n",
       "      <td>0.009088</td>\n",
       "      <td>-0.998120</td>\n",
       "      <td>-0.124460</td>\n",
       "      <td>24.5</td>\n",
       "      <td>212.0</td>\n",
       "    </tr>\n",
       "    <tr>\n",
       "      <th>2025-02-05 14:06:21.039999962</th>\n",
       "      <td>0.013073</td>\n",
       "      <td>-0.998120</td>\n",
       "      <td>-0.132389</td>\n",
       "      <td>24.5</td>\n",
       "      <td>212.0</td>\n",
       "    </tr>\n",
       "  </tbody>\n",
       "</table>\n",
       "</div>"
      ],
      "text/plain": [
       "                                      x         y         z  temperature  \\\n",
       "2025-02-05 14:06:21.000000000  0.001117 -1.010000 -0.136354         24.5   \n",
       "2025-02-05 14:06:21.009999990  0.017059 -0.990199 -0.120496         24.5   \n",
       "2025-02-05 14:06:21.019999981  0.009088 -0.994160 -0.120496         24.5   \n",
       "2025-02-05 14:06:21.029999971  0.009088 -0.998120 -0.124460         24.5   \n",
       "2025-02-05 14:06:21.039999962  0.013073 -0.998120 -0.132389         24.5   \n",
       "\n",
       "                               light  \n",
       "2025-02-05 14:06:21.000000000  212.0  \n",
       "2025-02-05 14:06:21.009999990  212.0  \n",
       "2025-02-05 14:06:21.019999981  212.0  \n",
       "2025-02-05 14:06:21.029999971  212.0  \n",
       "2025-02-05 14:06:21.039999962  212.0  "
      ]
     },
     "execution_count": 4,
     "metadata": {},
     "output_type": "execute_result"
    }
   ],
   "source": [
    "acc_cal.head()"
   ]
  },
  {
   "cell_type": "code",
   "execution_count": 9,
   "metadata": {},
   "outputs": [
    {
     "data": {
      "text/plain": [
       "<matplotlib.legend.Legend at 0x13e6bf200>"
      ]
     },
     "execution_count": 9,
     "metadata": {},
     "output_type": "execute_result"
    }
   ],
   "source": [
    "import matplotlib.pyplot as plt\n",
    "%matplotlib qt\n",
    "\n",
    "def compute_acc_SMV(acc_df):\n",
    "    return np.sqrt(acc_df.iloc[:,0]**2 + acc_df.iloc[:,1]**2 + acc_df.iloc[:,2]**2)\n",
    "\n",
    "acc_SMV = compute_acc_SMV(acc)\n",
    "acc_cal_SMV = compute_acc_SMV(acc_cal)\n",
    "\n",
    "plt.figure(figsize = (15, 5))\n",
    "plt.plot(acc_SMV, label = \"Raw\")\n",
    "plt.plot(acc_cal_SMV, label = \"Calibrated\")\n",
    "plt.legend(loc = \"upper right\")"
   ]
  },
  {
   "cell_type": "code",
   "execution_count": 6,
   "metadata": {},
   "outputs": [],
   "source": [
    "plt.close()"
   ]
  },
  {
   "cell_type": "code",
   "execution_count": null,
   "metadata": {},
   "outputs": [],
   "source": []
  }
 ],
 "metadata": {
  "kernelspec": {
   "display_name": "scikit-digital-health",
   "language": "python",
   "name": "python3"
  },
  "language_info": {
   "codemirror_mode": {
    "name": "ipython",
    "version": 3
   },
   "file_extension": ".py",
   "mimetype": "text/x-python",
   "name": "python",
   "nbconvert_exporter": "python",
   "pygments_lexer": "ipython3",
   "version": "3.12.2"
  }
 },
 "nbformat": 4,
 "nbformat_minor": 2
}
